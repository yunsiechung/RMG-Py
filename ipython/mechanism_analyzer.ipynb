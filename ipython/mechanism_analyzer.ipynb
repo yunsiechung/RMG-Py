{
 "cells": [
  {
   "cell_type": "markdown",
   "metadata": {},
   "source": [
    "# Kinetic Mechanism Pathway Analyzer\n",
    "\n",
    "This analyzer is designed to provide a better user experience and improved analyzing capacity (e.g., large mechanisms) compared with Chemkin mechanism analyzer. This analyzer takes reaction ROP file (e.g. Chemkin ckcsv file), builds a reaction network, helps answer\n",
    "\n",
    "- if the mechanism has certain pathway (from start species to end species)\n",
    "\n",
    "- what is the biggest flux from/towards a certain species\n",
    "\n",
    "When using this script, please pay attention to the sections marked with **[user input]** which require user to specify certain input parameters."
   ]
  },
  {
   "cell_type": "code",
   "execution_count": 1,
   "metadata": {
    "collapsed": true
   },
   "outputs": [],
   "source": [
    "from rmgpy.rmg.model import CoreEdgeReactionModel\n",
    "from rmgpy.chemkin import loadChemkinFile\n",
    "import os"
   ]
  },
  {
   "cell_type": "markdown",
   "metadata": {},
   "source": [
    "## [user input] Prepare files\n",
    "\n",
    "Please add \n",
    "\n",
    "- annotated chemkin files (mechanism and species dictionary) and \n",
    "\n",
    "- chemkin simulation ckcsv file \n",
    "\n",
    "to a folder with name stored in `mech` variable in the next cell."
   ]
  },
  {
   "cell_type": "code",
   "execution_count": 2,
   "metadata": {
    "collapsed": true
   },
   "outputs": [],
   "source": [
    "mech = 'minimal'"
   ]
  },
  {
   "cell_type": "code",
   "execution_count": 3,
   "metadata": {
    "collapsed": false
   },
   "outputs": [],
   "source": [
    "mechPath = os.path.join('./', 'data', 'pathway_analysis', mech)\n",
    "chemkinPath= os.path.join(mechPath, 'chem.inp')\n",
    "dictionaryPath = os.path.join(mechPath, 'species_dictionary.txt')\n",
    "ckcsvPath= mechPath + '/CKSoln.ckcsv'\n",
    "\n",
    "model = CoreEdgeReactionModel()\n",
    "model.core.species, model.core.reactions = loadChemkinFile(chemkinPath,dictionaryPath)"
   ]
  },
  {
   "cell_type": "code",
   "execution_count": 4,
   "metadata": {
    "collapsed": false
   },
   "outputs": [],
   "source": [
    "# generate paris for reactions that don't have flux pairs\n",
    "for rxn in model.core.reactions:\n",
    "    if not rxn.pairs: rxn.generatePairs()"
   ]
  },
  {
   "cell_type": "markdown",
   "metadata": {},
   "source": [
    "## Create reaction network"
   ]
  },
  {
   "cell_type": "code",
   "execution_count": 5,
   "metadata": {
    "collapsed": false
   },
   "outputs": [],
   "source": [
    "import networkx as nx\n",
    "import matplotlib.pyplot as plt\n",
    "from rmgpy.tools.extractInfoFromckcsv import getConcentrationDictFromCKCSV, getROPFromCKCSV, getFluxGraphEdgesDict\n",
    "from rmgpy.chemkin import getSpeciesIdentifier\n",
    "from IPython.display import display\n",
    "import numpy as np\n",
    "from rmgpy.rmg.pdep import PDepReaction\n",
    "%matplotlib inline"
   ]
  },
  {
   "cell_type": "markdown",
   "metadata": {},
   "source": [
    "### step1: prepare a dict for graph edges"
   ]
  },
  {
   "cell_type": "code",
   "execution_count": 6,
   "metadata": {
    "collapsed": false
   },
   "outputs": [],
   "source": [
    "firstColDict, spc_mf_dict = getConcentrationDictFromCKCSV(ckcsvPath)\n",
    "first_col_dict, spc_total_rop_dict, spc_rop_dict = getROPFromCKCSV(ckcsvPath)\n",
    "\n",
    "graph_edges_dict = getFluxGraphEdgesDict(spc_rop_dict, model.core.reactions)\n",
    "\n",
    "graph_edges_dict_simple = {}\n",
    "for pair in graph_edges_dict:\n",
    "    node1 = getSpeciesIdentifier(pair[0])\n",
    "    node2 = getSpeciesIdentifier(pair[1])\n",
    "    graph_edges_dict_simple[(node1, node2)] = graph_edges_dict[pair]"
   ]
  },
  {
   "cell_type": "markdown",
   "metadata": {
    "collapsed": true
   },
   "source": [
    "### [user input] step2: pick a time to analyze pathways\n",
    "\n",
    "Please specify \n",
    "\n",
    "- the time point you want to investigate\n",
    "\n",
    "- the chemkin name of your initial species/reactant"
   ]
  },
  {
   "cell_type": "code",
   "execution_count": 7,
   "metadata": {
    "collapsed": false
   },
   "outputs": [
    {
     "name": "stdout",
     "output_type": "stream",
     "text": [
      "Investiageted time point is 0.003731082 secs\n",
      "At this moment, the reactant's mole fraction is 0.2634996.\n"
     ]
    }
   ],
   "source": [
    "time_investigated = 0.000001 # hour\n",
    "reactant_name = 'ethane(1)'\n",
    "timepoint_index = (np.abs(firstColDict['Time_(sec)']-time_investigated*3600)).argmin()\n",
    "print \"Investiageted time point is {0} secs\".format(firstColDict['Time_(sec)'][timepoint_index])\n",
    "print \"At this moment, the reactant's mole fraction is {}.\".format(spc_mf_dict[reactant_name][timepoint_index])\n",
    "\n",
    "# create DiGraph for this moment\n",
    "G = nx.DiGraph()\n",
    "for pair in graph_edges_dict:\n",
    "    node1 = getSpeciesIdentifier(pair[0])\n",
    "    node2 = getSpeciesIdentifier(pair[1])\n",
    "    e_rawdata = graph_edges_dict[pair]\n",
    "    total_flux = 0\n",
    "    for rxn in e_rawdata:\n",
    "        total_flux += e_rawdata[rxn][timepoint_index]\n",
    "    if total_flux >= 0:\n",
    "        G.add_edge(node2, node1, {\"total_flux\":total_flux}) # in G, positive means production of node1\n",
    "    else: \n",
    "        G.add_edge(node1, node2, {\"total_flux\":-total_flux}) # in G, negative means consumption of node1      "
   ]
  },
  {
   "cell_type": "markdown",
   "metadata": {},
   "source": [
    "## [user input] Functionality 1: find paths between two species\n",
    "\n",
    "Pleae specify\n",
    "\n",
    "- source species\n",
    "\n",
    "- target species"
   ]
  },
  {
   "cell_type": "code",
   "execution_count": 8,
   "metadata": {
    "collapsed": true
   },
   "outputs": [],
   "source": [
    "src_species = 'ethane(1)'\n",
    "tgt_species = 'C#C(25)'"
   ]
  },
  {
   "cell_type": "markdown",
   "metadata": {},
   "source": [
    "## output1: sort out all the paths and most significant one"
   ]
  },
  {
   "cell_type": "code",
   "execution_count": 9,
   "metadata": {
    "collapsed": false
   },
   "outputs": [],
   "source": [
    "paths = list(nx.all_simple_paths(G, source=src_species, target=tgt_species, cutoff=5))"
   ]
  },
  {
   "cell_type": "code",
   "execution_count": 10,
   "metadata": {
    "collapsed": false
   },
   "outputs": [
    {
     "name": "stdout",
     "output_type": "stream",
     "text": [
      "================================================\n",
      "Path index \t Flux \t\t Path steps\n",
      "\n",
      "Path #0: \t 0.000003 \t ['ethane(1)', 'C2H5(3)', 'H(4)', 'C2H4(8)', 'C2H3(13)', 'C#C(25)']\n",
      "Path #1: \t 0.000168 \t ['ethane(1)', 'C2H5(3)', 'C2H4(8)', 'C2H3(13)', 'C#C(25)']\n",
      "\n",
      "============================================\n",
      "\t Most Significant Path \n",
      "============================================\n",
      "Path index \t Flux\n",
      "Path #1: \t 0.000168 \n"
     ]
    }
   ],
   "source": [
    "path_fluxes = []\n",
    "print '================================================'\n",
    "print 'Path index \\t Flux \\t\\t Path steps'\n",
    "print ''\n",
    "\n",
    "for i, path in enumerate(paths):\n",
    "    \n",
    "    path_steps = len(path) - 1\n",
    "    fluxes = [G[path[step]][path[step+1]]['total_flux'] for step in range(path_steps) ]\n",
    "    path_fluxes.append(min(fluxes))\n",
    "    print 'Path #{0}: \\t {1:.6f} \\t {2}'.format(i, min(fluxes), path)\n",
    "sorted_path_fluxes = sorted(path_fluxes)\n",
    "\n",
    "print ''\n",
    "print '============================================'\n",
    "print '\\t Most Significant Path '\n",
    "print '============================================'\n",
    "print 'Path index \\t Flux'\n",
    "print 'Path #{0}: \\t {1:.6f} '.format(path_fluxes.index(sorted_path_fluxes[-1]), sorted_path_fluxes[-1])"
   ]
  },
  {
   "cell_type": "markdown",
   "metadata": {},
   "source": [
    "### [user input] output2: visualize the path of interest\n",
    "\n",
    "Please specify\n",
    "\n",
    "- the path index you want to visualize"
   ]
  },
  {
   "cell_type": "code",
   "execution_count": 18,
   "metadata": {
    "collapsed": false
   },
   "outputs": [
    {
     "name": "stdout",
     "output_type": "stream",
     "text": [
      "\n",
      "\t Pathway Report \n",
      "======================================\n",
      "The pathway you are intested in has 6 steps.\n",
      "\n",
      "Step1 \t\t\t\t Flux\n",
      "******************************************\n",
      "ethane(1) --> C2H5(3) \t\t 0.0005349806659\n",
      "******************************************\n",
      "\n",
      "Example reaction: rxn#3\n",
      "\n",
      "C[CH2](3) + [H](4) <=> ethane(1)\n"
     ]
    },
    {
     "data": {
      "image/png": "[encoded data removed]",
      "text/plain": [
       "Reaction(index=3, reactants=[Species(index=3, label=\"C[CH2]\", thermo=NASA(polynomials=[NASAPolynomial(coeffs=[3.8219,-0.00343436,5.09286e-05,-6.20252e-08,2.37092e-11,13066,7.61622], Tmin=(100,'K'), Tmax=(900.3,'K')), NASAPolynomial(coeffs=[5.15605,0.00943151,-1.81963e-06,2.21236e-10,-1.43515e-14,12064.1,-2.9101], Tmin=(900.3,'K'), Tmax=(5000,'K'))], Tmin=(100,'K'), Tmax=(5000,'K'), comment=\"\"\"Thermo group additivity estimation: group(Cs-CsHHH) + gauche(Cs(CsRRR)) + other(R) + group(Cs-CsHHH) + gauche(Cs(CsRRR)) + other(R) + radical(CCJ)\"\"\"), molecule=[Molecule(SMILES=\"C[CH2]\")]), Species(index=4, label=\"[H]\", thermo=NASA(polynomials=[NASAPolynomial(coeffs=[2.5,-1.91243e-12,2.45329e-15,-1.02377e-18,1.31369e-22,25474.2,-0.444973], Tmin=(100,'K'), Tmax=(4563.27,'K')), NASAPolynomial(coeffs=[2.50167,-1.43051e-06,4.6025e-10,-6.57826e-14,3.52412e-18,25472.7,-0.455578], Tmin=(4563.27,'K'), Tmax=(5000,'K'))], Tmin=(100,'K'), Tmax=(5000,'K'), comment=\"\"\"Thermo library: primaryThermoLibrary\"\"\"), molecule=[Molecule(SMILES=\"[H]\")])], products=[Species(index=1, label=\"ethane\", thermo=NASA(polynomials=[NASAPolynomial(coeffs=[3.78033,-0.00324263,5.52381e-05,-6.38581e-08,2.28637e-11,-11620.3,5.21034], Tmin=(100,'K'), Tmax=(954.51,'K')), NASAPolynomial(coeffs=[4.58983,0.0141508,-4.75962e-06,8.60294e-10,-6.21717e-14,-12721.8,-3.61739], Tmin=(954.51,'K'), Tmax=(5000,'K'))], Tmin=(100,'K'), Tmax=(5000,'K'), comment=\"\"\"Thermo group additivity estimation: group(Cs-CsHHH) + gauche(Cs(CsRRR)) + other(R) + group(Cs-CsHHH) + gauche(Cs(CsRRR)) + other(R)\"\"\"), molecule=[Molecule(SMILES=\"CC\")])], kinetics=Arrhenius(A=(1e+14,'cm^3/(mol*s)'), n=0, Ea=(0,'kcal/mol'), T0=(1,'K'), comment=\"\"\"Exact match found for rate rule [C_rad/H2/Cs;H_rad]\"\"\"), pairs=[(Species(index=3, label=\"C[CH2]\", thermo=NASA(polynomials=[NASAPolynomial(coeffs=[3.8219,-0.00343436,5.09286e-05,-6.20252e-08,2.37092e-11,13066,7.61622], Tmin=(100,'K'), Tmax=(900.3,'K')), NASAPolynomial(coeffs=[5.15605,0.00943151,-1.81963e-06,2.21236e-10,-1.43515e-14,12064.1,-2.9101], Tmin=(900.3,'K'), Tmax=(5000,'K'))], Tmin=(100,'K'), Tmax=(5000,'K'), comment=\"\"\"Thermo group additivity estimation: group(Cs-CsHHH) + gauche(Cs(CsRRR)) + other(R) + group(Cs-CsHHH) + gauche(Cs(CsRRR)) + other(R) + radical(CCJ)\"\"\"), molecule=[Molecule(SMILES=\"C[CH2]\")]), Species(index=1, label=\"ethane\", thermo=NASA(polynomials=[NASAPolynomial(coeffs=[3.78033,-0.00324263,5.52381e-05,-6.38581e-08,2.28637e-11,-11620.3,5.21034], Tmin=(100,'K'), Tmax=(954.51,'K')), NASAPolynomial(coeffs=[4.58983,0.0141508,-4.75962e-06,8.60294e-10,-6.21717e-14,-12721.8,-3.61739], Tmin=(954.51,'K'), Tmax=(5000,'K'))], Tmin=(100,'K'), Tmax=(5000,'K'), comment=\"\"\"Thermo group additivity estimation: group(Cs-CsHHH) + gauche(Cs(CsRRR)) + other(R) + group(Cs-CsHHH) + gauche(Cs(CsRRR)) + other(R)\"\"\"), molecule=[Molecule(SMILES=\"CC\")])), (Species(index=4, label=\"[H]\", thermo=NASA(polynomials=[NASAPolynomial(coeffs=[2.5,-1.91243e-12,2.45329e-15,-1.02377e-18,1.31369e-22,25474.2,-0.444973], Tmin=(100,'K'), Tmax=(4563.27,'K')), NASAPolynomial(coeffs=[2.50167,-1.43051e-06,4.6025e-10,-6.57826e-14,3.52412e-18,25472.7,-0.455578], Tmin=(4563.27,'K'), Tmax=(5000,'K'))], Tmin=(100,'K'), Tmax=(5000,'K'), comment=\"\"\"Thermo library: primaryThermoLibrary\"\"\"), molecule=[Molecule(SMILES=\"[H]\")]), Species(index=1, label=\"ethane\", thermo=NASA(polynomials=[NASAPolynomial(coeffs=[3.78033,-0.00324263,5.52381e-05,-6.38581e-08,2.28637e-11,-11620.3,5.21034], Tmin=(100,'K'), Tmax=(954.51,'K')), NASAPolynomial(coeffs=[4.58983,0.0141508,-4.75962e-06,8.60294e-10,-6.21717e-14,-12721.8,-3.61739], Tmin=(954.51,'K'), Tmax=(5000,'K'))], Tmin=(100,'K'), Tmax=(5000,'K'), comment=\"\"\"Thermo group additivity estimation: group(Cs-CsHHH) + gauche(Cs(CsRRR)) + other(R) + group(Cs-CsHHH) + gauche(Cs(CsRRR)) + other(R)\"\"\"), molecule=[Molecule(SMILES=\"CC\")]))])"
      ]
     },
     "metadata": {},
     "output_type": "display_data"
    },
    {
     "name": "stdout",
     "output_type": "stream",
     "text": [
      "Example H_Abstraction: rxn#2 (1/3 H_Abs): \n",
      "\n",
      "[CH3](2) + ethane(1) <=> C[CH2](3) + C(6)\n"
     ]
    },
    {
     "data": {
      "image/png": "[encoded data removed]",
      "text/plain": [
       "Reaction(index=2, reactants=[Species(index=2, label=\"[CH3]\", thermo=NASA(polynomials=[NASAPolynomial(coeffs=[3.91547,0.00184154,3.48744e-06,-3.3275e-09,8.49964e-13,16285.6,0.351739], Tmin=(100,'K'), Tmax=(1337.62,'K')), NASAPolynomial(coeffs=[3.54145,0.00476788,-1.82149e-06,3.28878e-10,-2.22547e-14,16224,1.6604], Tmin=(1337.62,'K'), Tmax=(5000,'K'))], Tmin=(100,'K'), Tmax=(5000,'K'), comment=\"\"\"Thermo library: primaryThermoLibrary + radical(CH3)\"\"\"), molecule=[Molecule(SMILES=\"[CH3]\")]), Species(index=1, label=\"ethane\", thermo=NASA(polynomials=[NASAPolynomial(coeffs=[3.78033,-0.00324263,5.52381e-05,-6.38581e-08,2.28637e-11,-11620.3,5.21034], Tmin=(100,'K'), Tmax=(954.51,'K')), NASAPolynomial(coeffs=[4.58983,0.0141508,-4.75962e-06,8.60294e-10,-6.21717e-14,-12721.8,-3.61739], Tmin=(954.51,'K'), Tmax=(5000,'K'))], Tmin=(100,'K'), Tmax=(5000,'K'), comment=\"\"\"Thermo group additivity estimation: group(Cs-CsHHH) + gauche(Cs(CsRRR)) + other(R) + group(Cs-CsHHH) + gauche(Cs(CsRRR)) + other(R)\"\"\"), molecule=[Molecule(SMILES=\"CC\")])], products=[Species(index=3, label=\"C[CH2]\", thermo=NASA(polynomials=[NASAPolynomial(coeffs=[3.8219,-0.00343436,5.09286e-05,-6.20252e-08,2.37092e-11,13066,7.61622], Tmin=(100,'K'), Tmax=(900.3,'K')), NASAPolynomial(coeffs=[5.15605,0.00943151,-1.81963e-06,2.21236e-10,-1.43515e-14,12064.1,-2.9101], Tmin=(900.3,'K'), Tmax=(5000,'K'))], Tmin=(100,'K'), Tmax=(5000,'K'), comment=\"\"\"Thermo group additivity estimation: group(Cs-CsHHH) + gauche(Cs(CsRRR)) + other(R) + group(Cs-CsHHH) + gauche(Cs(CsRRR)) + other(R) + radical(CCJ)\"\"\"), molecule=[Molecule(SMILES=\"C[CH2]\")]), Species(index=6, label=\"C\", thermo=NASA(polynomials=[NASAPolynomial(coeffs=[4.20541,-0.00535556,2.51123e-05,-2.13762e-08,5.97522e-12,-10161.9,-0.921275], Tmin=(100,'K'), Tmax=(1084.12,'K')), NASAPolynomial(coeffs=[0.908272,0.0114541,-4.57173e-06,8.2919e-10,-5.66314e-14,-9719.98,13.9931], Tmin=(1084.12,'K'), Tmax=(5000,'K'))], Tmin=(100,'K'), Tmax=(5000,'K'), comment=\"\"\"Thermo library: primaryThermoLibrary\"\"\"), molecule=[Molecule(SMILES=\"C\")])], kinetics=Arrhenius(A=(2.94e-05,'cm^3/(mol*s)'), n=5.135, Ea=(7.89,'kcal/mol'), T0=(1,'K'), comment=\"\"\"Estimated using average of templates [C/H3/Cs;C_methyl] + [C/H3/Cs\\H3;Cs_rad] for rate rule [C/H3/Cs\\H3;C_methyl]\n",
       "Multiplied by reaction path degeneracy 6\"\"\"), pairs=[(Species(index=1, label=\"ethane\", thermo=NASA(polynomials=[NASAPolynomial(coeffs=[3.78033,-0.00324263,5.52381e-05,-6.38581e-08,2.28637e-11,-11620.3,5.21034], Tmin=(100,'K'), Tmax=(954.51,'K')), NASAPolynomial(coeffs=[4.58983,0.0141508,-4.75962e-06,8.60294e-10,-6.21717e-14,-12721.8,-3.61739], Tmin=(954.51,'K'), Tmax=(5000,'K'))], Tmin=(100,'K'), Tmax=(5000,'K'), comment=\"\"\"Thermo group additivity estimation: group(Cs-CsHHH) + gauche(Cs(CsRRR)) + other(R) + group(Cs-CsHHH) + gauche(Cs(CsRRR)) + other(R)\"\"\"), molecule=[Molecule(SMILES=\"CC\")]), Species(index=3, label=\"C[CH2]\", thermo=NASA(polynomials=[NASAPolynomial(coeffs=[3.8219,-0.00343436,5.09286e-05,-6.20252e-08,2.37092e-11,13066,7.61622], Tmin=(100,'K'), Tmax=(900.3,'K')), NASAPolynomial(coeffs=[5.15605,0.00943151,-1.81963e-06,2.21236e-10,-1.43515e-14,12064.1,-2.9101], Tmin=(900.3,'K'), Tmax=(5000,'K'))], Tmin=(100,'K'), Tmax=(5000,'K'), comment=\"\"\"Thermo group additivity estimation: group(Cs-CsHHH) + gauche(Cs(CsRRR)) + other(R) + group(Cs-CsHHH) + gauche(Cs(CsRRR)) + other(R) + radical(CCJ)\"\"\"), molecule=[Molecule(SMILES=\"C[CH2]\")])), (Species(index=2, label=\"[CH3]\", thermo=NASA(polynomials=[NASAPolynomial(coeffs=[3.91547,0.00184154,3.48744e-06,-3.3275e-09,8.49964e-13,16285.6,0.351739], Tmin=(100,'K'), Tmax=(1337.62,'K')), NASAPolynomial(coeffs=[3.54145,0.00476788,-1.82149e-06,3.28878e-10,-2.22547e-14,16224,1.6604], Tmin=(1337.62,'K'), Tmax=(5000,'K'))], Tmin=(100,'K'), Tmax=(5000,'K'), comment=\"\"\"Thermo library: primaryThermoLibrary + radical(CH3)\"\"\"), molecule=[Molecule(SMILES=\"[CH3]\")]), Species(index=6, label=\"C\", thermo=NASA(polynomials=[NASAPolynomial(coeffs=[4.20541,-0.00535556,2.51123e-05,-2.13762e-08,5.97522e-12,-10161.9,-0.921275], Tmin=(100,'K'), Tmax=(1084.12,'K')), NASAPolynomial(coeffs=[0.908272,0.0114541,-4.57173e-06,8.2919e-10,-5.66314e-14,-9719.98,13.9931], Tmin=(1084.12,'K'), Tmax=(5000,'K'))], Tmin=(100,'K'), Tmax=(5000,'K'), comment=\"\"\"Thermo library: primaryThermoLibrary\"\"\"), molecule=[Molecule(SMILES=\"C\")]))])"
      ]
     },
     "metadata": {},
     "output_type": "display_data"
    },
    {
     "name": "stdout",
     "output_type": "stream",
     "text": [
      "Example Disproportionation: rxn#7 (1/2 Disp): \n",
      "\n",
      "C[CH2](3) + C[CH2](3) <=> C=C(8) + ethane(1)\n"
     ]
    },
    {
     "data": {
      "image/png": "[encoded data removed]",
      "text/plain": [
       "Reaction(index=7, reactants=[Species(index=3, label=\"C[CH2]\", thermo=NASA(polynomials=[NASAPolynomial(coeffs=[3.8219,-0.00343436,5.09286e-05,-6.20252e-08,2.37092e-11,13066,7.61622], Tmin=(100,'K'), Tmax=(900.3,'K')), NASAPolynomial(coeffs=[5.15605,0.00943151,-1.81963e-06,2.21236e-10,-1.43515e-14,12064.1,-2.9101], Tmin=(900.3,'K'), Tmax=(5000,'K'))], Tmin=(100,'K'), Tmax=(5000,'K'), comment=\"\"\"Thermo group additivity estimation: group(Cs-CsHHH) + gauche(Cs(CsRRR)) + other(R) + group(Cs-CsHHH) + gauche(Cs(CsRRR)) + other(R) + radical(CCJ)\"\"\"), molecule=[Molecule(SMILES=\"C[CH2]\")]), Species(index=3, label=\"C[CH2]\", thermo=NASA(polynomials=[NASAPolynomial(coeffs=[3.8219,-0.00343436,5.09286e-05,-6.20252e-08,2.37092e-11,13066,7.61622], Tmin=(100,'K'), Tmax=(900.3,'K')), NASAPolynomial(coeffs=[5.15605,0.00943151,-1.81963e-06,2.21236e-10,-1.43515e-14,12064.1,-2.9101], Tmin=(900.3,'K'), Tmax=(5000,'K'))], Tmin=(100,'K'), Tmax=(5000,'K'), comment=\"\"\"Thermo group additivity estimation: group(Cs-CsHHH) + gauche(Cs(CsRRR)) + other(R) + group(Cs-CsHHH) + gauche(Cs(CsRRR)) + other(R) + radical(CCJ)\"\"\"), molecule=[Molecule(SMILES=\"C[CH2]\")])], products=[Species(index=8, label=\"C=C\", thermo=NASA(polynomials=[NASAPolynomial(coeffs=[3.97974,-0.00757559,5.52973e-05,-6.36221e-08,2.31767e-11,5077.46,4.04623], Tmin=(100,'K'), Tmax=(940.45,'K')), NASAPolynomial(coeffs=[5.203,0.00782442,-2.12683e-06,3.7969e-10,-2.9467e-14,3936.28,-6.62412], Tmin=(940.45,'K'), Tmax=(5000,'K'))], Tmin=(100,'K'), Tmax=(5000,'K'), comment=\"\"\"Thermo group additivity estimation: group(Cds-CdsHH) + gauche(CsOsCdSs) + other(R) + group(Cds-CdsHH) + gauche(CsOsCdSs) + other(R)\"\"\"), molecule=[Molecule(SMILES=\"C=C\")]), Species(index=1, label=\"ethane\", thermo=NASA(polynomials=[NASAPolynomial(coeffs=[3.78033,-0.00324263,5.52381e-05,-6.38581e-08,2.28637e-11,-11620.3,5.21034], Tmin=(100,'K'), Tmax=(954.51,'K')), NASAPolynomial(coeffs=[4.58983,0.0141508,-4.75962e-06,8.60294e-10,-6.21717e-14,-12721.8,-3.61739], Tmin=(954.51,'K'), Tmax=(5000,'K'))], Tmin=(100,'K'), Tmax=(5000,'K'), comment=\"\"\"Thermo group additivity estimation: group(Cs-CsHHH) + gauche(Cs(CsRRR)) + other(R) + group(Cs-CsHHH) + gauche(Cs(CsRRR)) + other(R)\"\"\"), molecule=[Molecule(SMILES=\"CC\")])], kinetics=Arrhenius(A=(6.9e+13,'cm^3/(mol*s)'), n=-0.35, Ea=(0,'kcal/mol'), T0=(1,'K'), comment=\"\"\"Exact match found for rate rule [C_rad/H2/Cs;Cmethyl_Csrad]\n",
       "Multiplied by reaction path degeneracy 3\"\"\"), pairs=[(Species(index=3, label=\"C[CH2]\", thermo=NASA(polynomials=[NASAPolynomial(coeffs=[3.8219,-0.00343436,5.09286e-05,-6.20252e-08,2.37092e-11,13066,7.61622], Tmin=(100,'K'), Tmax=(900.3,'K')), NASAPolynomial(coeffs=[5.15605,0.00943151,-1.81963e-06,2.21236e-10,-1.43515e-14,12064.1,-2.9101], Tmin=(900.3,'K'), Tmax=(5000,'K'))], Tmin=(100,'K'), Tmax=(5000,'K'), comment=\"\"\"Thermo group additivity estimation: group(Cs-CsHHH) + gauche(Cs(CsRRR)) + other(R) + group(Cs-CsHHH) + gauche(Cs(CsRRR)) + other(R) + radical(CCJ)\"\"\"), molecule=[Molecule(SMILES=\"C[CH2]\")]), Species(index=1, label=\"ethane\", thermo=NASA(polynomials=[NASAPolynomial(coeffs=[3.78033,-0.00324263,5.52381e-05,-6.38581e-08,2.28637e-11,-11620.3,5.21034], Tmin=(100,'K'), Tmax=(954.51,'K')), NASAPolynomial(coeffs=[4.58983,0.0141508,-4.75962e-06,8.60294e-10,-6.21717e-14,-12721.8,-3.61739], Tmin=(954.51,'K'), Tmax=(5000,'K'))], Tmin=(100,'K'), Tmax=(5000,'K'), comment=\"\"\"Thermo group additivity estimation: group(Cs-CsHHH) + gauche(Cs(CsRRR)) + other(R) + group(Cs-CsHHH) + gauche(Cs(CsRRR)) + other(R)\"\"\"), molecule=[Molecule(SMILES=\"CC\")])), (Species(index=3, label=\"C[CH2]\", thermo=NASA(polynomials=[NASAPolynomial(coeffs=[3.8219,-0.00343436,5.09286e-05,-6.20252e-08,2.37092e-11,13066,7.61622], Tmin=(100,'K'), Tmax=(900.3,'K')), NASAPolynomial(coeffs=[5.15605,0.00943151,-1.81963e-06,2.21236e-10,-1.43515e-14,12064.1,-2.9101], Tmin=(900.3,'K'), Tmax=(5000,'K'))], Tmin=(100,'K'), Tmax=(5000,'K'), comment=\"\"\"Thermo group additivity estimation: group(Cs-CsHHH) + gauche(Cs(CsRRR)) + other(R) + group(Cs-CsHHH) + gauche(Cs(CsRRR)) + other(R) + radical(CCJ)\"\"\"), molecule=[Molecule(SMILES=\"C[CH2]\")]), Species(index=8, label=\"C=C\", thermo=NASA(polynomials=[NASAPolynomial(coeffs=[3.97974,-0.00757559,5.52973e-05,-6.36221e-08,2.31767e-11,5077.46,4.04623], Tmin=(100,'K'), Tmax=(940.45,'K')), NASAPolynomial(coeffs=[5.203,0.00782442,-2.12683e-06,3.7969e-10,-2.9467e-14,3936.28,-6.62412], Tmin=(940.45,'K'), Tmax=(5000,'K'))], Tmin=(100,'K'), Tmax=(5000,'K'), comment=\"\"\"Thermo group additivity estimation: group(Cds-CdsHH) + gauche(CsOsCdSs) + other(R) + group(Cds-CdsHH) + gauche(CsOsCdSs) + other(R)\"\"\"), molecule=[Molecule(SMILES=\"C=C\")]))])"
      ]
     },
     "metadata": {},
     "output_type": "display_data"
    },
    {
     "name": "stdout",
     "output_type": "stream",
     "text": [
      "\n",
      "Step2 \t\t\t\t Flux\n",
      "******************************************\n",
      "C2H5(3) --> H(4) \t\t 0.0005009196\n",
      "******************************************\n",
      "\n",
      "Example reaction: rxn#5\n",
      "\n",
      "C=C(8) + [H](4) <=> C[CH2](3)\n"
     ]
    },
    {
     "data": {
      "image/png": "[encoded data removed]",
      "text/plain": [
       "Reaction(index=5, reactants=[Species(index=8, label=\"C=C\", thermo=NASA(polynomials=[NASAPolynomial(coeffs=[3.97974,-0.00757559,5.52973e-05,-6.36221e-08,2.31767e-11,5077.46,4.04623], Tmin=(100,'K'), Tmax=(940.45,'K')), NASAPolynomial(coeffs=[5.203,0.00782442,-2.12683e-06,3.7969e-10,-2.9467e-14,3936.28,-6.62412], Tmin=(940.45,'K'), Tmax=(5000,'K'))], Tmin=(100,'K'), Tmax=(5000,'K'), comment=\"\"\"Thermo group additivity estimation: group(Cds-CdsHH) + gauche(CsOsCdSs) + other(R) + group(Cds-CdsHH) + gauche(CsOsCdSs) + other(R)\"\"\"), molecule=[Molecule(SMILES=\"C=C\")]), Species(index=4, label=\"[H]\", thermo=NASA(polynomials=[NASAPolynomial(coeffs=[2.5,-1.91243e-12,2.45329e-15,-1.02377e-18,1.31369e-22,25474.2,-0.444973], Tmin=(100,'K'), Tmax=(4563.27,'K')), NASAPolynomial(coeffs=[2.50167,-1.43051e-06,4.6025e-10,-6.57826e-14,3.52412e-18,25472.7,-0.455578], Tmin=(4563.27,'K'), Tmax=(5000,'K'))], Tmin=(100,'K'), Tmax=(5000,'K'), comment=\"\"\"Thermo library: primaryThermoLibrary\"\"\"), molecule=[Molecule(SMILES=\"[H]\")])], products=[Species(index=3, label=\"C[CH2]\", thermo=NASA(polynomials=[NASAPolynomial(coeffs=[3.8219,-0.00343436,5.09286e-05,-6.20252e-08,2.37092e-11,13066,7.61622], Tmin=(100,'K'), Tmax=(900.3,'K')), NASAPolynomial(coeffs=[5.15605,0.00943151,-1.81963e-06,2.21236e-10,-1.43515e-14,12064.1,-2.9101], Tmin=(900.3,'K'), Tmax=(5000,'K'))], Tmin=(100,'K'), Tmax=(5000,'K'), comment=\"\"\"Thermo group additivity estimation: group(Cs-CsHHH) + gauche(Cs(CsRRR)) + other(R) + group(Cs-CsHHH) + gauche(Cs(CsRRR)) + other(R) + radical(CCJ)\"\"\"), molecule=[Molecule(SMILES=\"C[CH2]\")])], kinetics=Arrhenius(A=(4.62e+08,'cm^3/(mol*s)'), n=1.64, Ea=(1.01,'kcal/mol'), T0=(1,'K'), comment=\"\"\"Exact match found for rate rule [Cds-HH_Cds-HH;HJ]\n",
       "Multiplied by reaction path degeneracy 2\"\"\"), pairs=[(Species(index=8, label=\"C=C\", thermo=NASA(polynomials=[NASAPolynomial(coeffs=[3.97974,-0.00757559,5.52973e-05,-6.36221e-08,2.31767e-11,5077.46,4.04623], Tmin=(100,'K'), Tmax=(940.45,'K')), NASAPolynomial(coeffs=[5.203,0.00782442,-2.12683e-06,3.7969e-10,-2.9467e-14,3936.28,-6.62412], Tmin=(940.45,'K'), Tmax=(5000,'K'))], Tmin=(100,'K'), Tmax=(5000,'K'), comment=\"\"\"Thermo group additivity estimation: group(Cds-CdsHH) + gauche(CsOsCdSs) + other(R) + group(Cds-CdsHH) + gauche(CsOsCdSs) + other(R)\"\"\"), molecule=[Molecule(SMILES=\"C=C\")]), Species(index=3, label=\"C[CH2]\", thermo=NASA(polynomials=[NASAPolynomial(coeffs=[3.8219,-0.00343436,5.09286e-05,-6.20252e-08,2.37092e-11,13066,7.61622], Tmin=(100,'K'), Tmax=(900.3,'K')), NASAPolynomial(coeffs=[5.15605,0.00943151,-1.81963e-06,2.21236e-10,-1.43515e-14,12064.1,-2.9101], Tmin=(900.3,'K'), Tmax=(5000,'K'))], Tmin=(100,'K'), Tmax=(5000,'K'), comment=\"\"\"Thermo group additivity estimation: group(Cs-CsHHH) + gauche(Cs(CsRRR)) + other(R) + group(Cs-CsHHH) + gauche(Cs(CsRRR)) + other(R) + radical(CCJ)\"\"\"), molecule=[Molecule(SMILES=\"C[CH2]\")])), (Species(index=4, label=\"[H]\", thermo=NASA(polynomials=[NASAPolynomial(coeffs=[2.5,-1.91243e-12,2.45329e-15,-1.02377e-18,1.31369e-22,25474.2,-0.444973], Tmin=(100,'K'), Tmax=(4563.27,'K')), NASAPolynomial(coeffs=[2.50167,-1.43051e-06,4.6025e-10,-6.57826e-14,3.52412e-18,25472.7,-0.455578], Tmin=(4563.27,'K'), Tmax=(5000,'K'))], Tmin=(100,'K'), Tmax=(5000,'K'), comment=\"\"\"Thermo library: primaryThermoLibrary\"\"\"), molecule=[Molecule(SMILES=\"[H]\")]), Species(index=3, label=\"C[CH2]\", thermo=NASA(polynomials=[NASAPolynomial(coeffs=[3.8219,-0.00343436,5.09286e-05,-6.20252e-08,2.37092e-11,13066,7.61622], Tmin=(100,'K'), Tmax=(900.3,'K')), NASAPolynomial(coeffs=[5.15605,0.00943151,-1.81963e-06,2.21236e-10,-1.43515e-14,12064.1,-2.9101], Tmin=(900.3,'K'), Tmax=(5000,'K'))], Tmin=(100,'K'), Tmax=(5000,'K'), comment=\"\"\"Thermo group additivity estimation: group(Cs-CsHHH) + gauche(Cs(CsRRR)) + other(R) + group(Cs-CsHHH) + gauche(Cs(CsRRR)) + other(R) + radical(CCJ)\"\"\"), molecule=[Molecule(SMILES=\"C[CH2]\")]))])"
      ]
     },
     "metadata": {},
     "output_type": "display_data"
    },
    {
     "name": "stdout",
     "output_type": "stream",
     "text": [
      "\n",
      "Step3 \t\t\t\t Flux\n",
      "******************************************\n",
      "H(4) --> C2H4(8) \t\t 3.402726e-06\n",
      "******************************************\n",
      "\n",
      "Example reaction: rxn#13\n",
      "\n",
      "[CH]=C(13) + [H](4) <=> C=C(8)\n"
     ]
    },
    {
     "data": {
      "image/png": "[encoded data removed]",
      "text/plain": [
       "Reaction(index=13, reactants=[Species(index=13, label=\"[CH]=C\", thermo=NASA(polynomials=[NASAPolynomial(coeffs=[3.90668,-0.00406204,3.86766e-05,-4.62957e-08,1.72892e-11,34797.2,6.098], Tmin=(100,'K'), Tmax=(931.97,'K')), NASAPolynomial(coeffs=[5.44806,0.0049834,-1.08811e-06,1.79815e-10,-1.45078e-14,33829.7,-4.87859], Tmin=(931.97,'K'), Tmax=(5000,'K'))], Tmin=(100,'K'), Tmax=(5000,'K'), comment=\"\"\"Thermo group additivity estimation: group(Cds-CdsHH) + gauche(CsOsCdSs) + other(R) + group(Cds-CdsHH) + gauche(CsOsCdSs) + other(R) + radical(Cds_P)\"\"\"), molecule=[Molecule(SMILES=\"[CH]=C\")]), Species(index=4, label=\"[H]\", thermo=NASA(polynomials=[NASAPolynomial(coeffs=[2.5,-1.91243e-12,2.45329e-15,-1.02377e-18,1.31369e-22,25474.2,-0.444973], Tmin=(100,'K'), Tmax=(4563.27,'K')), NASAPolynomial(coeffs=[2.50167,-1.43051e-06,4.6025e-10,-6.57826e-14,3.52412e-18,25472.7,-0.455578], Tmin=(4563.27,'K'), Tmax=(5000,'K'))], Tmin=(100,'K'), Tmax=(5000,'K'), comment=\"\"\"Thermo library: primaryThermoLibrary\"\"\"), molecule=[Molecule(SMILES=\"[H]\")])], products=[Species(index=8, label=\"C=C\", thermo=NASA(polynomials=[NASAPolynomial(coeffs=[3.97974,-0.00757559,5.52973e-05,-6.36221e-08,2.31767e-11,5077.46,4.04623], Tmin=(100,'K'), Tmax=(940.45,'K')), NASAPolynomial(coeffs=[5.203,0.00782442,-2.12683e-06,3.7969e-10,-2.9467e-14,3936.28,-6.62412], Tmin=(940.45,'K'), Tmax=(5000,'K'))], Tmin=(100,'K'), Tmax=(5000,'K'), comment=\"\"\"Thermo group additivity estimation: group(Cds-CdsHH) + gauche(CsOsCdSs) + other(R) + group(Cds-CdsHH) + gauche(CsOsCdSs) + other(R)\"\"\"), molecule=[Molecule(SMILES=\"C=C\")])], kinetics=Arrhenius(A=(1.21e+14,'cm^3/(mol*s)'), n=0, Ea=(0,'kcal/mol'), T0=(1,'K'), comment=\"\"\"Exact match found for rate rule [Cd_pri_rad;H_rad]\"\"\"), pairs=[(Species(index=13, label=\"[CH]=C\", thermo=NASA(polynomials=[NASAPolynomial(coeffs=[3.90668,-0.00406204,3.86766e-05,-4.62957e-08,1.72892e-11,34797.2,6.098], Tmin=(100,'K'), Tmax=(931.97,'K')), NASAPolynomial(coeffs=[5.44806,0.0049834,-1.08811e-06,1.79815e-10,-1.45078e-14,33829.7,-4.87859], Tmin=(931.97,'K'), Tmax=(5000,'K'))], Tmin=(100,'K'), Tmax=(5000,'K'), comment=\"\"\"Thermo group additivity estimation: group(Cds-CdsHH) + gauche(CsOsCdSs) + other(R) + group(Cds-CdsHH) + gauche(CsOsCdSs) + other(R) + radical(Cds_P)\"\"\"), molecule=[Molecule(SMILES=\"[CH]=C\")]), Species(index=8, label=\"C=C\", thermo=NASA(polynomials=[NASAPolynomial(coeffs=[3.97974,-0.00757559,5.52973e-05,-6.36221e-08,2.31767e-11,5077.46,4.04623], Tmin=(100,'K'), Tmax=(940.45,'K')), NASAPolynomial(coeffs=[5.203,0.00782442,-2.12683e-06,3.7969e-10,-2.9467e-14,3936.28,-6.62412], Tmin=(940.45,'K'), Tmax=(5000,'K'))], Tmin=(100,'K'), Tmax=(5000,'K'), comment=\"\"\"Thermo group additivity estimation: group(Cds-CdsHH) + gauche(CsOsCdSs) + other(R) + group(Cds-CdsHH) + gauche(CsOsCdSs) + other(R)\"\"\"), molecule=[Molecule(SMILES=\"C=C\")])), (Species(index=4, label=\"[H]\", thermo=NASA(polynomials=[NASAPolynomial(coeffs=[2.5,-1.91243e-12,2.45329e-15,-1.02377e-18,1.31369e-22,25474.2,-0.444973], Tmin=(100,'K'), Tmax=(4563.27,'K')), NASAPolynomial(coeffs=[2.50167,-1.43051e-06,4.6025e-10,-6.57826e-14,3.52412e-18,25472.7,-0.455578], Tmin=(4563.27,'K'), Tmax=(5000,'K'))], Tmin=(100,'K'), Tmax=(5000,'K'), comment=\"\"\"Thermo library: primaryThermoLibrary\"\"\"), molecule=[Molecule(SMILES=\"[H]\")]), Species(index=8, label=\"C=C\", thermo=NASA(polynomials=[NASAPolynomial(coeffs=[3.97974,-0.00757559,5.52973e-05,-6.36221e-08,2.31767e-11,5077.46,4.04623], Tmin=(100,'K'), Tmax=(940.45,'K')), NASAPolynomial(coeffs=[5.203,0.00782442,-2.12683e-06,3.7969e-10,-2.9467e-14,3936.28,-6.62412], Tmin=(940.45,'K'), Tmax=(5000,'K'))], Tmin=(100,'K'), Tmax=(5000,'K'), comment=\"\"\"Thermo group additivity estimation: group(Cds-CdsHH) + gauche(CsOsCdSs) + other(R) + group(Cds-CdsHH) + gauche(CsOsCdSs) + other(R)\"\"\"), molecule=[Molecule(SMILES=\"C=C\")]))])"
      ]
     },
     "metadata": {},
     "output_type": "display_data"
    },
    {
     "name": "stdout",
     "output_type": "stream",
     "text": [
      "\n",
      "Step4 \t\t\t\t Flux\n",
      "******************************************\n",
      "C2H4(8) --> C2H3(13) \t\t 0.0001682719323\n",
      "******************************************\n",
      "\n",
      "Example reaction: rxn#13\n",
      "\n",
      "[CH]=C(13) + [H](4) <=> C=C(8)\n"
     ]
    },
    {
     "data": {
      "image/png": "[encoded data removed]",
      "text/plain": [
       "Reaction(index=13, reactants=[Species(index=13, label=\"[CH]=C\", thermo=NASA(polynomials=[NASAPolynomial(coeffs=[3.90668,-0.00406204,3.86766e-05,-4.62957e-08,1.72892e-11,34797.2,6.098], Tmin=(100,'K'), Tmax=(931.97,'K')), NASAPolynomial(coeffs=[5.44806,0.0049834,-1.08811e-06,1.79815e-10,-1.45078e-14,33829.7,-4.87859], Tmin=(931.97,'K'), Tmax=(5000,'K'))], Tmin=(100,'K'), Tmax=(5000,'K'), comment=\"\"\"Thermo group additivity estimation: group(Cds-CdsHH) + gauche(CsOsCdSs) + other(R) + group(Cds-CdsHH) + gauche(CsOsCdSs) + other(R) + radical(Cds_P)\"\"\"), molecule=[Molecule(SMILES=\"[CH]=C\")]), Species(index=4, label=\"[H]\", thermo=NASA(polynomials=[NASAPolynomial(coeffs=[2.5,-1.91243e-12,2.45329e-15,-1.02377e-18,1.31369e-22,25474.2,-0.444973], Tmin=(100,'K'), Tmax=(4563.27,'K')), NASAPolynomial(coeffs=[2.50167,-1.43051e-06,4.6025e-10,-6.57826e-14,3.52412e-18,25472.7,-0.455578], Tmin=(4563.27,'K'), Tmax=(5000,'K'))], Tmin=(100,'K'), Tmax=(5000,'K'), comment=\"\"\"Thermo library: primaryThermoLibrary\"\"\"), molecule=[Molecule(SMILES=\"[H]\")])], products=[Species(index=8, label=\"C=C\", thermo=NASA(polynomials=[NASAPolynomial(coeffs=[3.97974,-0.00757559,5.52973e-05,-6.36221e-08,2.31767e-11,5077.46,4.04623], Tmin=(100,'K'), Tmax=(940.45,'K')), NASAPolynomial(coeffs=[5.203,0.00782442,-2.12683e-06,3.7969e-10,-2.9467e-14,3936.28,-6.62412], Tmin=(940.45,'K'), Tmax=(5000,'K'))], Tmin=(100,'K'), Tmax=(5000,'K'), comment=\"\"\"Thermo group additivity estimation: group(Cds-CdsHH) + gauche(CsOsCdSs) + other(R) + group(Cds-CdsHH) + gauche(CsOsCdSs) + other(R)\"\"\"), molecule=[Molecule(SMILES=\"C=C\")])], kinetics=Arrhenius(A=(1.21e+14,'cm^3/(mol*s)'), n=0, Ea=(0,'kcal/mol'), T0=(1,'K'), comment=\"\"\"Exact match found for rate rule [Cd_pri_rad;H_rad]\"\"\"), pairs=[(Species(index=13, label=\"[CH]=C\", thermo=NASA(polynomials=[NASAPolynomial(coeffs=[3.90668,-0.00406204,3.86766e-05,-4.62957e-08,1.72892e-11,34797.2,6.098], Tmin=(100,'K'), Tmax=(931.97,'K')), NASAPolynomial(coeffs=[5.44806,0.0049834,-1.08811e-06,1.79815e-10,-1.45078e-14,33829.7,-4.87859], Tmin=(931.97,'K'), Tmax=(5000,'K'))], Tmin=(100,'K'), Tmax=(5000,'K'), comment=\"\"\"Thermo group additivity estimation: group(Cds-CdsHH) + gauche(CsOsCdSs) + other(R) + group(Cds-CdsHH) + gauche(CsOsCdSs) + other(R) + radical(Cds_P)\"\"\"), molecule=[Molecule(SMILES=\"[CH]=C\")]), Species(index=8, label=\"C=C\", thermo=NASA(polynomials=[NASAPolynomial(coeffs=[3.97974,-0.00757559,5.52973e-05,-6.36221e-08,2.31767e-11,5077.46,4.04623], Tmin=(100,'K'), Tmax=(940.45,'K')), NASAPolynomial(coeffs=[5.203,0.00782442,-2.12683e-06,3.7969e-10,-2.9467e-14,3936.28,-6.62412], Tmin=(940.45,'K'), Tmax=(5000,'K'))], Tmin=(100,'K'), Tmax=(5000,'K'), comment=\"\"\"Thermo group additivity estimation: group(Cds-CdsHH) + gauche(CsOsCdSs) + other(R) + group(Cds-CdsHH) + gauche(CsOsCdSs) + other(R)\"\"\"), molecule=[Molecule(SMILES=\"C=C\")])), (Species(index=4, label=\"[H]\", thermo=NASA(polynomials=[NASAPolynomial(coeffs=[2.5,-1.91243e-12,2.45329e-15,-1.02377e-18,1.31369e-22,25474.2,-0.444973], Tmin=(100,'K'), Tmax=(4563.27,'K')), NASAPolynomial(coeffs=[2.50167,-1.43051e-06,4.6025e-10,-6.57826e-14,3.52412e-18,25472.7,-0.455578], Tmin=(4563.27,'K'), Tmax=(5000,'K'))], Tmin=(100,'K'), Tmax=(5000,'K'), comment=\"\"\"Thermo library: primaryThermoLibrary\"\"\"), molecule=[Molecule(SMILES=\"[H]\")]), Species(index=8, label=\"C=C\", thermo=NASA(polynomials=[NASAPolynomial(coeffs=[3.97974,-0.00757559,5.52973e-05,-6.36221e-08,2.31767e-11,5077.46,4.04623], Tmin=(100,'K'), Tmax=(940.45,'K')), NASAPolynomial(coeffs=[5.203,0.00782442,-2.12683e-06,3.7969e-10,-2.9467e-14,3936.28,-6.62412], Tmin=(940.45,'K'), Tmax=(5000,'K'))], Tmin=(100,'K'), Tmax=(5000,'K'), comment=\"\"\"Thermo group additivity estimation: group(Cds-CdsHH) + gauche(CsOsCdSs) + other(R) + group(Cds-CdsHH) + gauche(CsOsCdSs) + other(R)\"\"\"), molecule=[Molecule(SMILES=\"C=C\")]))])"
      ]
     },
     "metadata": {},
     "output_type": "display_data"
    },
    {
     "name": "stdout",
     "output_type": "stream",
     "text": [
      "Example H_Abstraction: rxn#14 (1/3 H_Abs): \n",
      "\n",
      "[CH]=C(13) + C(6) <=> C=C(8) + [CH3](2)\n"
     ]
    },
    {
     "data": {
      "image/png": "[encoded data removed]",
      "text/plain": [
       "Reaction(index=14, reactants=[Species(index=13, label=\"[CH]=C\", thermo=NASA(polynomials=[NASAPolynomial(coeffs=[3.90668,-0.00406204,3.86766e-05,-4.62957e-08,1.72892e-11,34797.2,6.098], Tmin=(100,'K'), Tmax=(931.97,'K')), NASAPolynomial(coeffs=[5.44806,0.0049834,-1.08811e-06,1.79815e-10,-1.45078e-14,33829.7,-4.87859], Tmin=(931.97,'K'), Tmax=(5000,'K'))], Tmin=(100,'K'), Tmax=(5000,'K'), comment=\"\"\"Thermo group additivity estimation: group(Cds-CdsHH) + gauche(CsOsCdSs) + other(R) + group(Cds-CdsHH) + gauche(CsOsCdSs) + other(R) + radical(Cds_P)\"\"\"), molecule=[Molecule(SMILES=\"[CH]=C\")]), Species(index=6, label=\"C\", thermo=NASA(polynomials=[NASAPolynomial(coeffs=[4.20541,-0.00535556,2.51123e-05,-2.13762e-08,5.97522e-12,-10161.9,-0.921275], Tmin=(100,'K'), Tmax=(1084.12,'K')), NASAPolynomial(coeffs=[0.908272,0.0114541,-4.57173e-06,8.2919e-10,-5.66314e-14,-9719.98,13.9931], Tmin=(1084.12,'K'), Tmax=(5000,'K'))], Tmin=(100,'K'), Tmax=(5000,'K'), comment=\"\"\"Thermo library: primaryThermoLibrary\"\"\"), molecule=[Molecule(SMILES=\"C\")])], products=[Species(index=8, label=\"C=C\", thermo=NASA(polynomials=[NASAPolynomial(coeffs=[3.97974,-0.00757559,5.52973e-05,-6.36221e-08,2.31767e-11,5077.46,4.04623], Tmin=(100,'K'), Tmax=(940.45,'K')), NASAPolynomial(coeffs=[5.203,0.00782442,-2.12683e-06,3.7969e-10,-2.9467e-14,3936.28,-6.62412], Tmin=(940.45,'K'), Tmax=(5000,'K'))], Tmin=(100,'K'), Tmax=(5000,'K'), comment=\"\"\"Thermo group additivity estimation: group(Cds-CdsHH) + gauche(CsOsCdSs) + other(R) + group(Cds-CdsHH) + gauche(CsOsCdSs) + other(R)\"\"\"), molecule=[Molecule(SMILES=\"C=C\")]), Species(index=2, label=\"[CH3]\", thermo=NASA(polynomials=[NASAPolynomial(coeffs=[3.91547,0.00184154,3.48744e-06,-3.3275e-09,8.49964e-13,16285.6,0.351739], Tmin=(100,'K'), Tmax=(1337.62,'K')), NASAPolynomial(coeffs=[3.54145,0.00476788,-1.82149e-06,3.28878e-10,-2.22547e-14,16224,1.6604], Tmin=(1337.62,'K'), Tmax=(5000,'K'))], Tmin=(100,'K'), Tmax=(5000,'K'), comment=\"\"\"Thermo library: primaryThermoLibrary + radical(CH3)\"\"\"), molecule=[Molecule(SMILES=\"[CH3]\")])], kinetics=Arrhenius(A=(0.05137,'cm^3/(mol*s)'), n=4.133, Ea=(3.682,'kcal/mol'), T0=(1,'K'), comment=\"\"\"Estimated using average of templates [Cs_H;Cd_Cd\\H2_pri_rad] + [C_methane;Cd_pri_rad] for rate rule [C_methane;Cd_Cd\\H2_pri_rad]\n",
       "Multiplied by reaction path degeneracy 4\"\"\"), pairs=[(Species(index=6, label=\"C\", thermo=NASA(polynomials=[NASAPolynomial(coeffs=[4.20541,-0.00535556,2.51123e-05,-2.13762e-08,5.97522e-12,-10161.9,-0.921275], Tmin=(100,'K'), Tmax=(1084.12,'K')), NASAPolynomial(coeffs=[0.908272,0.0114541,-4.57173e-06,8.2919e-10,-5.66314e-14,-9719.98,13.9931], Tmin=(1084.12,'K'), Tmax=(5000,'K'))], Tmin=(100,'K'), Tmax=(5000,'K'), comment=\"\"\"Thermo library: primaryThermoLibrary\"\"\"), molecule=[Molecule(SMILES=\"C\")]), Species(index=2, label=\"[CH3]\", thermo=NASA(polynomials=[NASAPolynomial(coeffs=[3.91547,0.00184154,3.48744e-06,-3.3275e-09,8.49964e-13,16285.6,0.351739], Tmin=(100,'K'), Tmax=(1337.62,'K')), NASAPolynomial(coeffs=[3.54145,0.00476788,-1.82149e-06,3.28878e-10,-2.22547e-14,16224,1.6604], Tmin=(1337.62,'K'), Tmax=(5000,'K'))], Tmin=(100,'K'), Tmax=(5000,'K'), comment=\"\"\"Thermo library: primaryThermoLibrary + radical(CH3)\"\"\"), molecule=[Molecule(SMILES=\"[CH3]\")])), (Species(index=13, label=\"[CH]=C\", thermo=NASA(polynomials=[NASAPolynomial(coeffs=[3.90668,-0.00406204,3.86766e-05,-4.62957e-08,1.72892e-11,34797.2,6.098], Tmin=(100,'K'), Tmax=(931.97,'K')), NASAPolynomial(coeffs=[5.44806,0.0049834,-1.08811e-06,1.79815e-10,-1.45078e-14,33829.7,-4.87859], Tmin=(931.97,'K'), Tmax=(5000,'K'))], Tmin=(100,'K'), Tmax=(5000,'K'), comment=\"\"\"Thermo group additivity estimation: group(Cds-CdsHH) + gauche(CsOsCdSs) + other(R) + group(Cds-CdsHH) + gauche(CsOsCdSs) + other(R) + radical(Cds_P)\"\"\"), molecule=[Molecule(SMILES=\"[CH]=C\")]), Species(index=8, label=\"C=C\", thermo=NASA(polynomials=[NASAPolynomial(coeffs=[3.97974,-0.00757559,5.52973e-05,-6.36221e-08,2.31767e-11,5077.46,4.04623], Tmin=(100,'K'), Tmax=(940.45,'K')), NASAPolynomial(coeffs=[5.203,0.00782442,-2.12683e-06,3.7969e-10,-2.9467e-14,3936.28,-6.62412], Tmin=(940.45,'K'), Tmax=(5000,'K'))], Tmin=(100,'K'), Tmax=(5000,'K'), comment=\"\"\"Thermo group additivity estimation: group(Cds-CdsHH) + gauche(CsOsCdSs) + other(R) + group(Cds-CdsHH) + gauche(CsOsCdSs) + other(R)\"\"\"), molecule=[Molecule(SMILES=\"C=C\")]))])"
      ]
     },
     "metadata": {},
     "output_type": "display_data"
    },
    {
     "name": "stdout",
     "output_type": "stream",
     "text": [
      "Example Disproportionation: rxn#17 (1/2 Disp): \n",
      "\n",
      "[CH]=C(13) + C[CH2](3) <=> C=C(8) + C=C(8)\n"
     ]
    },
    {
     "data": {
      "image/png": "[encoded data removed]",
      "text/plain": [
       "Reaction(index=17, reactants=[Species(index=13, label=\"[CH]=C\", thermo=NASA(polynomials=[NASAPolynomial(coeffs=[3.90668,-0.00406204,3.86766e-05,-4.62957e-08,1.72892e-11,34797.2,6.098], Tmin=(100,'K'), Tmax=(931.97,'K')), NASAPolynomial(coeffs=[5.44806,0.0049834,-1.08811e-06,1.79815e-10,-1.45078e-14,33829.7,-4.87859], Tmin=(931.97,'K'), Tmax=(5000,'K'))], Tmin=(100,'K'), Tmax=(5000,'K'), comment=\"\"\"Thermo group additivity estimation: group(Cds-CdsHH) + gauche(CsOsCdSs) + other(R) + group(Cds-CdsHH) + gauche(CsOsCdSs) + other(R) + radical(Cds_P)\"\"\"), molecule=[Molecule(SMILES=\"[CH]=C\")]), Species(index=3, label=\"C[CH2]\", thermo=NASA(polynomials=[NASAPolynomial(coeffs=[3.8219,-0.00343436,5.09286e-05,-6.20252e-08,2.37092e-11,13066,7.61622], Tmin=(100,'K'), Tmax=(900.3,'K')), NASAPolynomial(coeffs=[5.15605,0.00943151,-1.81963e-06,2.21236e-10,-1.43515e-14,12064.1,-2.9101], Tmin=(900.3,'K'), Tmax=(5000,'K'))], Tmin=(100,'K'), Tmax=(5000,'K'), comment=\"\"\"Thermo group additivity estimation: group(Cs-CsHHH) + gauche(Cs(CsRRR)) + other(R) + group(Cs-CsHHH) + gauche(Cs(CsRRR)) + other(R) + radical(CCJ)\"\"\"), molecule=[Molecule(SMILES=\"C[CH2]\")])], products=[Species(index=8, label=\"C=C\", thermo=NASA(polynomials=[NASAPolynomial(coeffs=[3.97974,-0.00757559,5.52973e-05,-6.36221e-08,2.31767e-11,5077.46,4.04623], Tmin=(100,'K'), Tmax=(940.45,'K')), NASAPolynomial(coeffs=[5.203,0.00782442,-2.12683e-06,3.7969e-10,-2.9467e-14,3936.28,-6.62412], Tmin=(940.45,'K'), Tmax=(5000,'K'))], Tmin=(100,'K'), Tmax=(5000,'K'), comment=\"\"\"Thermo group additivity estimation: group(Cds-CdsHH) + gauche(CsOsCdSs) + other(R) + group(Cds-CdsHH) + gauche(CsOsCdSs) + other(R)\"\"\"), molecule=[Molecule(SMILES=\"C=C\")]), Species(index=8, label=\"C=C\", thermo=NASA(polynomials=[NASAPolynomial(coeffs=[3.97974,-0.00757559,5.52973e-05,-6.36221e-08,2.31767e-11,5077.46,4.04623], Tmin=(100,'K'), Tmax=(940.45,'K')), NASAPolynomial(coeffs=[5.203,0.00782442,-2.12683e-06,3.7969e-10,-2.9467e-14,3936.28,-6.62412], Tmin=(940.45,'K'), Tmax=(5000,'K'))], Tmin=(100,'K'), Tmax=(5000,'K'), comment=\"\"\"Thermo group additivity estimation: group(Cds-CdsHH) + gauche(CsOsCdSs) + other(R) + group(Cds-CdsHH) + gauche(CsOsCdSs) + other(R)\"\"\"), molecule=[Molecule(SMILES=\"C=C\")])], kinetics=Arrhenius(A=(4.56e+14,'cm^3/(mol*s)'), n=-0.7, Ea=(0,'kcal/mol'), T0=(1,'K'), comment=\"\"\"Exact match found for rate rule [Cd_pri_rad;Cmethyl_Csrad]\n",
       "Multiplied by reaction path degeneracy 3\"\"\"), pairs=[(Species(index=13, label=\"[CH]=C\", thermo=NASA(polynomials=[NASAPolynomial(coeffs=[3.90668,-0.00406204,3.86766e-05,-4.62957e-08,1.72892e-11,34797.2,6.098], Tmin=(100,'K'), Tmax=(931.97,'K')), NASAPolynomial(coeffs=[5.44806,0.0049834,-1.08811e-06,1.79815e-10,-1.45078e-14,33829.7,-4.87859], Tmin=(931.97,'K'), Tmax=(5000,'K'))], Tmin=(100,'K'), Tmax=(5000,'K'), comment=\"\"\"Thermo group additivity estimation: group(Cds-CdsHH) + gauche(CsOsCdSs) + other(R) + group(Cds-CdsHH) + gauche(CsOsCdSs) + other(R) + radical(Cds_P)\"\"\"), molecule=[Molecule(SMILES=\"[CH]=C\")]), Species(index=8, label=\"C=C\", thermo=NASA(polynomials=[NASAPolynomial(coeffs=[3.97974,-0.00757559,5.52973e-05,-6.36221e-08,2.31767e-11,5077.46,4.04623], Tmin=(100,'K'), Tmax=(940.45,'K')), NASAPolynomial(coeffs=[5.203,0.00782442,-2.12683e-06,3.7969e-10,-2.9467e-14,3936.28,-6.62412], Tmin=(940.45,'K'), Tmax=(5000,'K'))], Tmin=(100,'K'), Tmax=(5000,'K'), comment=\"\"\"Thermo group additivity estimation: group(Cds-CdsHH) + gauche(CsOsCdSs) + other(R) + group(Cds-CdsHH) + gauche(CsOsCdSs) + other(R)\"\"\"), molecule=[Molecule(SMILES=\"C=C\")])), (Species(index=3, label=\"C[CH2]\", thermo=NASA(polynomials=[NASAPolynomial(coeffs=[3.8219,-0.00343436,5.09286e-05,-6.20252e-08,2.37092e-11,13066,7.61622], Tmin=(100,'K'), Tmax=(900.3,'K')), NASAPolynomial(coeffs=[5.15605,0.00943151,-1.81963e-06,2.21236e-10,-1.43515e-14,12064.1,-2.9101], Tmin=(900.3,'K'), Tmax=(5000,'K'))], Tmin=(100,'K'), Tmax=(5000,'K'), comment=\"\"\"Thermo group additivity estimation: group(Cs-CsHHH) + gauche(Cs(CsRRR)) + other(R) + group(Cs-CsHHH) + gauche(Cs(CsRRR)) + other(R) + radical(CCJ)\"\"\"), molecule=[Molecule(SMILES=\"C[CH2]\")]), Species(index=8, label=\"C=C\", thermo=NASA(polynomials=[NASAPolynomial(coeffs=[3.97974,-0.00757559,5.52973e-05,-6.36221e-08,2.31767e-11,5077.46,4.04623], Tmin=(100,'K'), Tmax=(940.45,'K')), NASAPolynomial(coeffs=[5.203,0.00782442,-2.12683e-06,3.7969e-10,-2.9467e-14,3936.28,-6.62412], Tmin=(940.45,'K'), Tmax=(5000,'K'))], Tmin=(100,'K'), Tmax=(5000,'K'), comment=\"\"\"Thermo group additivity estimation: group(Cds-CdsHH) + gauche(CsOsCdSs) + other(R) + group(Cds-CdsHH) + gauche(CsOsCdSs) + other(R)\"\"\"), molecule=[Molecule(SMILES=\"C=C\")]))])"
      ]
     },
     "metadata": {},
     "output_type": "display_data"
    },
    {
     "name": "stdout",
     "output_type": "stream",
     "text": [
      "\n",
      "Step5 \t\t\t\t Flux\n",
      "******************************************\n",
      "C2H3(13) --> C#C(25) \t\t 0.0001685005362\n",
      "******************************************\n",
      "\n",
      "Example reaction: rxn#18\n",
      "\n",
      "C#C(25) + [H](4) <=> [CH]=C(13)\n"
     ]
    },
    {
     "data": {
      "image/png": "[encoded data removed]",
      "text/plain": [
       "Reaction(index=18, reactants=[Species(index=25, label=\"C#C\", thermo=NASA(polynomials=[NASAPolynomial(coeffs=[3.03575,0.00771231,2.53525e-06,-1.08138e-08,5.50779e-12,25852.6,4.54459], Tmin=(100,'K'), Tmax=(888.62,'K')), NASAPolynomial(coeffs=[5.76203,0.00237162,-1.496e-07,-2.19113e-11,2.21744e-15,25094.5,-9.82599], Tmin=(888.62,'K'), Tmax=(5000,'K'))], Tmin=(100,'K'), Tmax=(5000,'K'), comment=\"\"\"Thermo group additivity estimation: group(Ct-CtH) + other(R) + group(Ct-CtH) + other(R)\"\"\"), molecule=[Molecule(SMILES=\"C#C\")]), Species(index=4, label=\"[H]\", thermo=NASA(polynomials=[NASAPolynomial(coeffs=[2.5,-1.91243e-12,2.45329e-15,-1.02377e-18,1.31369e-22,25474.2,-0.444973], Tmin=(100,'K'), Tmax=(4563.27,'K')), NASAPolynomial(coeffs=[2.50167,-1.43051e-06,4.6025e-10,-6.57826e-14,3.52412e-18,25472.7,-0.455578], Tmin=(4563.27,'K'), Tmax=(5000,'K'))], Tmin=(100,'K'), Tmax=(5000,'K'), comment=\"\"\"Thermo library: primaryThermoLibrary\"\"\"), molecule=[Molecule(SMILES=\"[H]\")])], products=[Species(index=13, label=\"[CH]=C\", thermo=NASA(polynomials=[NASAPolynomial(coeffs=[3.90668,-0.00406204,3.86766e-05,-4.62957e-08,1.72892e-11,34797.2,6.098], Tmin=(100,'K'), Tmax=(931.97,'K')), NASAPolynomial(coeffs=[5.44806,0.0049834,-1.08811e-06,1.79815e-10,-1.45078e-14,33829.7,-4.87859], Tmin=(931.97,'K'), Tmax=(5000,'K'))], Tmin=(100,'K'), Tmax=(5000,'K'), comment=\"\"\"Thermo group additivity estimation: group(Cds-CdsHH) + gauche(CsOsCdSs) + other(R) + group(Cds-CdsHH) + gauche(CsOsCdSs) + other(R) + radical(Cds_P)\"\"\"), molecule=[Molecule(SMILES=\"[CH]=C\")])], kinetics=Arrhenius(A=(1.03e+09,'cm^3/(mol*s)'), n=1.64, Ea=(2.11,'kcal/mol'), T0=(1,'K'), comment=\"\"\"Exact match found for rate rule [Ct-H_Ct-H;HJ]\n",
       "Multiplied by reaction path degeneracy 2\"\"\"), pairs=[(Species(index=25, label=\"C#C\", thermo=NASA(polynomials=[NASAPolynomial(coeffs=[3.03575,0.00771231,2.53525e-06,-1.08138e-08,5.50779e-12,25852.6,4.54459], Tmin=(100,'K'), Tmax=(888.62,'K')), NASAPolynomial(coeffs=[5.76203,0.00237162,-1.496e-07,-2.19113e-11,2.21744e-15,25094.5,-9.82599], Tmin=(888.62,'K'), Tmax=(5000,'K'))], Tmin=(100,'K'), Tmax=(5000,'K'), comment=\"\"\"Thermo group additivity estimation: group(Ct-CtH) + other(R) + group(Ct-CtH) + other(R)\"\"\"), molecule=[Molecule(SMILES=\"C#C\")]), Species(index=13, label=\"[CH]=C\", thermo=NASA(polynomials=[NASAPolynomial(coeffs=[3.90668,-0.00406204,3.86766e-05,-4.62957e-08,1.72892e-11,34797.2,6.098], Tmin=(100,'K'), Tmax=(931.97,'K')), NASAPolynomial(coeffs=[5.44806,0.0049834,-1.08811e-06,1.79815e-10,-1.45078e-14,33829.7,-4.87859], Tmin=(931.97,'K'), Tmax=(5000,'K'))], Tmin=(100,'K'), Tmax=(5000,'K'), comment=\"\"\"Thermo group additivity estimation: group(Cds-CdsHH) + gauche(CsOsCdSs) + other(R) + group(Cds-CdsHH) + gauche(CsOsCdSs) + other(R) + radical(Cds_P)\"\"\"), molecule=[Molecule(SMILES=\"[CH]=C\")])), (Species(index=4, label=\"[H]\", thermo=NASA(polynomials=[NASAPolynomial(coeffs=[2.5,-1.91243e-12,2.45329e-15,-1.02377e-18,1.31369e-22,25474.2,-0.444973], Tmin=(100,'K'), Tmax=(4563.27,'K')), NASAPolynomial(coeffs=[2.50167,-1.43051e-06,4.6025e-10,-6.57826e-14,3.52412e-18,25472.7,-0.455578], Tmin=(4563.27,'K'), Tmax=(5000,'K'))], Tmin=(100,'K'), Tmax=(5000,'K'), comment=\"\"\"Thermo library: primaryThermoLibrary\"\"\"), molecule=[Molecule(SMILES=\"[H]\")]), Species(index=13, label=\"[CH]=C\", thermo=NASA(polynomials=[NASAPolynomial(coeffs=[3.90668,-0.00406204,3.86766e-05,-4.62957e-08,1.72892e-11,34797.2,6.098], Tmin=(100,'K'), Tmax=(931.97,'K')), NASAPolynomial(coeffs=[5.44806,0.0049834,-1.08811e-06,1.79815e-10,-1.45078e-14,33829.7,-4.87859], Tmin=(931.97,'K'), Tmax=(5000,'K'))], Tmin=(100,'K'), Tmax=(5000,'K'), comment=\"\"\"Thermo group additivity estimation: group(Cds-CdsHH) + gauche(CsOsCdSs) + other(R) + group(Cds-CdsHH) + gauche(CsOsCdSs) + other(R) + radical(Cds_P)\"\"\"), molecule=[Molecule(SMILES=\"[CH]=C\")]))])"
      ]
     },
     "metadata": {},
     "output_type": "display_data"
    },
    {
     "name": "stdout",
     "output_type": "stream",
     "text": [
      "Example Disproportionation: rxn#22 (1/4 Disp): \n",
      "\n",
      "[CH]=C(13) + [CH]=C(13) <=> C=C(8) + C#C(25)\n"
     ]
    },
    {
     "data": {
      "image/png": "[encoded data removed]",
      "text/plain": [
       "Reaction(index=22, reactants=[Species(index=13, label=\"[CH]=C\", thermo=NASA(polynomials=[NASAPolynomial(coeffs=[3.90668,-0.00406204,3.86766e-05,-4.62957e-08,1.72892e-11,34797.2,6.098], Tmin=(100,'K'), Tmax=(931.97,'K')), NASAPolynomial(coeffs=[5.44806,0.0049834,-1.08811e-06,1.79815e-10,-1.45078e-14,33829.7,-4.87859], Tmin=(931.97,'K'), Tmax=(5000,'K'))], Tmin=(100,'K'), Tmax=(5000,'K'), comment=\"\"\"Thermo group additivity estimation: group(Cds-CdsHH) + gauche(CsOsCdSs) + other(R) + group(Cds-CdsHH) + gauche(CsOsCdSs) + other(R) + radical(Cds_P)\"\"\"), molecule=[Molecule(SMILES=\"[CH]=C\")]), Species(index=13, label=\"[CH]=C\", thermo=NASA(polynomials=[NASAPolynomial(coeffs=[3.90668,-0.00406204,3.86766e-05,-4.62957e-08,1.72892e-11,34797.2,6.098], Tmin=(100,'K'), Tmax=(931.97,'K')), NASAPolynomial(coeffs=[5.44806,0.0049834,-1.08811e-06,1.79815e-10,-1.45078e-14,33829.7,-4.87859], Tmin=(931.97,'K'), Tmax=(5000,'K'))], Tmin=(100,'K'), Tmax=(5000,'K'), comment=\"\"\"Thermo group additivity estimation: group(Cds-CdsHH) + gauche(CsOsCdSs) + other(R) + group(Cds-CdsHH) + gauche(CsOsCdSs) + other(R) + radical(Cds_P)\"\"\"), molecule=[Molecule(SMILES=\"[CH]=C\")])], products=[Species(index=8, label=\"C=C\", thermo=NASA(polynomials=[NASAPolynomial(coeffs=[3.97974,-0.00757559,5.52973e-05,-6.36221e-08,2.31767e-11,5077.46,4.04623], Tmin=(100,'K'), Tmax=(940.45,'K')), NASAPolynomial(coeffs=[5.203,0.00782442,-2.12683e-06,3.7969e-10,-2.9467e-14,3936.28,-6.62412], Tmin=(940.45,'K'), Tmax=(5000,'K'))], Tmin=(100,'K'), Tmax=(5000,'K'), comment=\"\"\"Thermo group additivity estimation: group(Cds-CdsHH) + gauche(CsOsCdSs) + other(R) + group(Cds-CdsHH) + gauche(CsOsCdSs) + other(R)\"\"\"), molecule=[Molecule(SMILES=\"C=C\")]), Species(index=25, label=\"C#C\", thermo=NASA(polynomials=[NASAPolynomial(coeffs=[3.03575,0.00771231,2.53525e-06,-1.08138e-08,5.50779e-12,25852.6,4.54459], Tmin=(100,'K'), Tmax=(888.62,'K')), NASAPolynomial(coeffs=[5.76203,0.00237162,-1.496e-07,-2.19113e-11,2.21744e-15,25094.5,-9.82599], Tmin=(888.62,'K'), Tmax=(5000,'K'))], Tmin=(100,'K'), Tmax=(5000,'K'), comment=\"\"\"Thermo group additivity estimation: group(Ct-CtH) + other(R) + group(Ct-CtH) + other(R)\"\"\"), molecule=[Molecule(SMILES=\"C#C\")])], kinetics=Arrhenius(A=(6.447e+06,'cm^3/(mol*s)'), n=1.902, Ea=(-1.131,'kcal/mol'), T0=(1,'K'), comment=\"\"\"Estimated using template [Y_rad;CH_d_Rrad] for rate rule [Cd_pri_rad;Cd_Cdrad]\n",
       "Multiplied by reaction path degeneracy 2\"\"\"), pairs=[(Species(index=13, label=\"[CH]=C\", thermo=NASA(polynomials=[NASAPolynomial(coeffs=[3.90668,-0.00406204,3.86766e-05,-4.62957e-08,1.72892e-11,34797.2,6.098], Tmin=(100,'K'), Tmax=(931.97,'K')), NASAPolynomial(coeffs=[5.44806,0.0049834,-1.08811e-06,1.79815e-10,-1.45078e-14,33829.7,-4.87859], Tmin=(931.97,'K'), Tmax=(5000,'K'))], Tmin=(100,'K'), Tmax=(5000,'K'), comment=\"\"\"Thermo group additivity estimation: group(Cds-CdsHH) + gauche(CsOsCdSs) + other(R) + group(Cds-CdsHH) + gauche(CsOsCdSs) + other(R) + radical(Cds_P)\"\"\"), molecule=[Molecule(SMILES=\"[CH]=C\")]), Species(index=8, label=\"C=C\", thermo=NASA(polynomials=[NASAPolynomial(coeffs=[3.97974,-0.00757559,5.52973e-05,-6.36221e-08,2.31767e-11,5077.46,4.04623], Tmin=(100,'K'), Tmax=(940.45,'K')), NASAPolynomial(coeffs=[5.203,0.00782442,-2.12683e-06,3.7969e-10,-2.9467e-14,3936.28,-6.62412], Tmin=(940.45,'K'), Tmax=(5000,'K'))], Tmin=(100,'K'), Tmax=(5000,'K'), comment=\"\"\"Thermo group additivity estimation: group(Cds-CdsHH) + gauche(CsOsCdSs) + other(R) + group(Cds-CdsHH) + gauche(CsOsCdSs) + other(R)\"\"\"), molecule=[Molecule(SMILES=\"C=C\")])), (Species(index=13, label=\"[CH]=C\", thermo=NASA(polynomials=[NASAPolynomial(coeffs=[3.90668,-0.00406204,3.86766e-05,-4.62957e-08,1.72892e-11,34797.2,6.098], Tmin=(100,'K'), Tmax=(931.97,'K')), NASAPolynomial(coeffs=[5.44806,0.0049834,-1.08811e-06,1.79815e-10,-1.45078e-14,33829.7,-4.87859], Tmin=(931.97,'K'), Tmax=(5000,'K'))], Tmin=(100,'K'), Tmax=(5000,'K'), comment=\"\"\"Thermo group additivity estimation: group(Cds-CdsHH) + gauche(CsOsCdSs) + other(R) + group(Cds-CdsHH) + gauche(CsOsCdSs) + other(R) + radical(Cds_P)\"\"\"), molecule=[Molecule(SMILES=\"[CH]=C\")]), Species(index=25, label=\"C#C\", thermo=NASA(polynomials=[NASAPolynomial(coeffs=[3.03575,0.00771231,2.53525e-06,-1.08138e-08,5.50779e-12,25852.6,4.54459], Tmin=(100,'K'), Tmax=(888.62,'K')), NASAPolynomial(coeffs=[5.76203,0.00237162,-1.496e-07,-2.19113e-11,2.21744e-15,25094.5,-9.82599], Tmin=(888.62,'K'), Tmax=(5000,'K'))], Tmin=(100,'K'), Tmax=(5000,'K'), comment=\"\"\"Thermo group additivity estimation: group(Ct-CtH) + other(R) + group(Ct-CtH) + other(R)\"\"\"), molecule=[Molecule(SMILES=\"C#C\")]))])"
      ]
     },
     "metadata": {},
     "output_type": "display_data"
    }
   ],
   "source": [
    "path_index_investigate = 0\n",
    "path = paths[path_index_investigate]\n",
    "path_steps = len(path) - 1\n",
    "print ''\n",
    "print '\\t Pathway Report '\n",
    "print '======================================'\n",
    "print 'The pathway you are intested in has {0} steps.'.format(len(path))\n",
    "for step in range(path_steps):\n",
    "    step_pair = (path[step], path[step+1])\n",
    "    h_abs_rxns = []\n",
    "    disp_rxns = []\n",
    "    Pdep_rxns = []\n",
    "    \n",
    "    print \"\"\n",
    "    print \"Step{0} \\t\\t\\t\\t Flux\".format(step+1)\n",
    "    print '******************************************'\n",
    "    \n",
    "    print \"{1} --> {2} \\t\\t {3}\".\\\n",
    "    format(step+1, step_pair[0], step_pair[1], G[step_pair[0]][step_pair[1]]['total_flux'])\n",
    "    \n",
    "    print '******************************************'\n",
    "    if step_pair not in graph_edges_dict_simple:\n",
    "        step_pair = (step_pair[1], step_pair[0])\n",
    "    \n",
    "    print ''\n",
    "    for rxn in graph_edges_dict_simple[step_pair]:\n",
    "        if isinstance(rxn, PDepReaction):\n",
    "            Pdep_rxns.append(rxn)\n",
    "        elif rxn.family == \"H_Abstraction\":\n",
    "            h_abs_rxns.append(rxn)\n",
    "        elif rxn.family == \"Disproportionation\":\n",
    "            disp_rxns.append(rxn)\n",
    "        else:\n",
    "            print \"Example reaction: rxn#{0}\".format(rxn.index)\n",
    "            print ''\n",
    "            print str(rxn)\n",
    "            display(rxn)\n",
    "    if len(h_abs_rxns) > 0: \n",
    "        \n",
    "        print \"Example H_Abstraction: rxn#{0} (1/{1} H_Abs): \".format(h_abs_rxns[0].index, len(h_abs_rxns)) \n",
    "        print ''\n",
    "        print str(h_abs_rxns[0])\n",
    "        display(h_abs_rxns[0])\n",
    "    if len(disp_rxns) > 0: \n",
    "        \n",
    "        print \"Example Disproportionation: rxn#{0} (1/{1} Disp): \".format(disp_rxns[0].index, len(disp_rxns)) \n",
    "        print ''\n",
    "        print str(disp_rxns[0])\n",
    "        display(disp_rxns[0])\n",
    "    if len(Pdep_rxns) > 0: \n",
    "        \n",
    "        print \"Example Pressure-dependent Rxn: rxn#{0} (1/{1} Pdep_rxns): \".format(Pdep_rxns[0].index, len(Pdep_rxns)) \n",
    "        print ''\n",
    "        print str(Pdep_rxns[0])\n",
    "        display(Pdep_rxns[0])"
   ]
  },
  {
   "cell_type": "markdown",
   "metadata": {
    "collapsed": true
   },
   "source": [
    "## [user input] Functionality 2: find paths from a particular species\n",
    "\n",
    "Please specify\n",
    "\n",
    "- source species\n",
    "\n",
    "- depth of pathway you want search, e.g., depth = 2 means search pathways 2 steps down from source species\n",
    "\n",
    "- path_top_list, e.g., [0, 3] means 1st step of the pathway takes the most significant branch and 2nd step would be the third most siginificant branch"
   ]
  },
  {
   "cell_type": "code",
   "execution_count": 19,
   "metadata": {
    "collapsed": true
   },
   "outputs": [],
   "source": [
    "source = \"ethane(1)\"\n",
    "depth = 2\n",
    "path_top_list = [0, 0]"
   ]
  },
  {
   "cell_type": "code",
   "execution_count": 23,
   "metadata": {
    "collapsed": false,
    "scrolled": false
   },
   "outputs": [
    {
     "name": "stdout",
     "output_type": "stream",
     "text": [
      "\n",
      "\t Pathway Report \n",
      "======================================\n",
      "The pathway you are intested in has 2 steps.\n",
      "\n",
      "\n",
      "\n",
      "Step1 \t\t\t\t Flux\n",
      "******************************************\n",
      "ethane(1) --> C2H5(3) \t\t 0.0005349806659\n",
      "******************************************\n",
      "\n",
      "Example reaction: rxn#3\n",
      "\n",
      "C[CH2](3) + [H](4) <=> ethane(1): flux = 2.844234e-05 \n"
     ]
    },
    {
     "data": {
      "image/png": "[encoded data removed]",
      "text/plain": [
       "Reaction(index=3, reactants=[Species(index=3, label=\"C[CH2]\", thermo=NASA(polynomials=[NASAPolynomial(coeffs=[3.8219,-0.00343436,5.09286e-05,-6.20252e-08,2.37092e-11,13066,7.61622], Tmin=(100,'K'), Tmax=(900.3,'K')), NASAPolynomial(coeffs=[5.15605,0.00943151,-1.81963e-06,2.21236e-10,-1.43515e-14,12064.1,-2.9101], Tmin=(900.3,'K'), Tmax=(5000,'K'))], Tmin=(100,'K'), Tmax=(5000,'K'), comment=\"\"\"Thermo group additivity estimation: group(Cs-CsHHH) + gauche(Cs(CsRRR)) + other(R) + group(Cs-CsHHH) + gauche(Cs(CsRRR)) + other(R) + radical(CCJ)\"\"\"), molecule=[Molecule(SMILES=\"C[CH2]\")]), Species(index=4, label=\"[H]\", thermo=NASA(polynomials=[NASAPolynomial(coeffs=[2.5,-1.91243e-12,2.45329e-15,-1.02377e-18,1.31369e-22,25474.2,-0.444973], Tmin=(100,'K'), Tmax=(4563.27,'K')), NASAPolynomial(coeffs=[2.50167,-1.43051e-06,4.6025e-10,-6.57826e-14,3.52412e-18,25472.7,-0.455578], Tmin=(4563.27,'K'), Tmax=(5000,'K'))], Tmin=(100,'K'), Tmax=(5000,'K'), comment=\"\"\"Thermo library: primaryThermoLibrary\"\"\"), molecule=[Molecule(SMILES=\"[H]\")])], products=[Species(index=1, label=\"ethane\", thermo=NASA(polynomials=[NASAPolynomial(coeffs=[3.78033,-0.00324263,5.52381e-05,-6.38581e-08,2.28637e-11,-11620.3,5.21034], Tmin=(100,'K'), Tmax=(954.51,'K')), NASAPolynomial(coeffs=[4.58983,0.0141508,-4.75962e-06,8.60294e-10,-6.21717e-14,-12721.8,-3.61739], Tmin=(954.51,'K'), Tmax=(5000,'K'))], Tmin=(100,'K'), Tmax=(5000,'K'), comment=\"\"\"Thermo group additivity estimation: group(Cs-CsHHH) + gauche(Cs(CsRRR)) + other(R) + group(Cs-CsHHH) + gauche(Cs(CsRRR)) + other(R)\"\"\"), molecule=[Molecule(SMILES=\"CC\")])], kinetics=Arrhenius(A=(1e+14,'cm^3/(mol*s)'), n=0, Ea=(0,'kcal/mol'), T0=(1,'K'), comment=\"\"\"Exact match found for rate rule [C_rad/H2/Cs;H_rad]\"\"\"), pairs=[(Species(index=3, label=\"C[CH2]\", thermo=NASA(polynomials=[NASAPolynomial(coeffs=[3.8219,-0.00343436,5.09286e-05,-6.20252e-08,2.37092e-11,13066,7.61622], Tmin=(100,'K'), Tmax=(900.3,'K')), NASAPolynomial(coeffs=[5.15605,0.00943151,-1.81963e-06,2.21236e-10,-1.43515e-14,12064.1,-2.9101], Tmin=(900.3,'K'), Tmax=(5000,'K'))], Tmin=(100,'K'), Tmax=(5000,'K'), comment=\"\"\"Thermo group additivity estimation: group(Cs-CsHHH) + gauche(Cs(CsRRR)) + other(R) + group(Cs-CsHHH) + gauche(Cs(CsRRR)) + other(R) + radical(CCJ)\"\"\"), molecule=[Molecule(SMILES=\"C[CH2]\")]), Species(index=1, label=\"ethane\", thermo=NASA(polynomials=[NASAPolynomial(coeffs=[3.78033,-0.00324263,5.52381e-05,-6.38581e-08,2.28637e-11,-11620.3,5.21034], Tmin=(100,'K'), Tmax=(954.51,'K')), NASAPolynomial(coeffs=[4.58983,0.0141508,-4.75962e-06,8.60294e-10,-6.21717e-14,-12721.8,-3.61739], Tmin=(954.51,'K'), Tmax=(5000,'K'))], Tmin=(100,'K'), Tmax=(5000,'K'), comment=\"\"\"Thermo group additivity estimation: group(Cs-CsHHH) + gauche(Cs(CsRRR)) + other(R) + group(Cs-CsHHH) + gauche(Cs(CsRRR)) + other(R)\"\"\"), molecule=[Molecule(SMILES=\"CC\")])), (Species(index=4, label=\"[H]\", thermo=NASA(polynomials=[NASAPolynomial(coeffs=[2.5,-1.91243e-12,2.45329e-15,-1.02377e-18,1.31369e-22,25474.2,-0.444973], Tmin=(100,'K'), Tmax=(4563.27,'K')), NASAPolynomial(coeffs=[2.50167,-1.43051e-06,4.6025e-10,-6.57826e-14,3.52412e-18,25472.7,-0.455578], Tmin=(4563.27,'K'), Tmax=(5000,'K'))], Tmin=(100,'K'), Tmax=(5000,'K'), comment=\"\"\"Thermo library: primaryThermoLibrary\"\"\"), molecule=[Molecule(SMILES=\"[H]\")]), Species(index=1, label=\"ethane\", thermo=NASA(polynomials=[NASAPolynomial(coeffs=[3.78033,-0.00324263,5.52381e-05,-6.38581e-08,2.28637e-11,-11620.3,5.21034], Tmin=(100,'K'), Tmax=(954.51,'K')), NASAPolynomial(coeffs=[4.58983,0.0141508,-4.75962e-06,8.60294e-10,-6.21717e-14,-12721.8,-3.61739], Tmin=(954.51,'K'), Tmax=(5000,'K'))], Tmin=(100,'K'), Tmax=(5000,'K'), comment=\"\"\"Thermo group additivity estimation: group(Cs-CsHHH) + gauche(Cs(CsRRR)) + other(R) + group(Cs-CsHHH) + gauche(Cs(CsRRR)) + other(R)\"\"\"), molecule=[Molecule(SMILES=\"CC\")]))])"
      ]
     },
     "metadata": {},
     "output_type": "display_data"
    },
    {
     "name": "stdout",
     "output_type": "stream",
     "text": [
      "\n",
      "Example H_Abstraction: rxn#2(1/3 H_Abs)\n",
      "\n",
      "[CH3](2) + ethane(1) <=> C[CH2](3) + C(6)\n"
     ]
    },
    {
     "data": {
      "image/png": "[encoded data removed]",
      "text/plain": [
       "Reaction(index=2, reactants=[Species(index=2, label=\"[CH3]\", thermo=NASA(polynomials=[NASAPolynomial(coeffs=[3.91547,0.00184154,3.48744e-06,-3.3275e-09,8.49964e-13,16285.6,0.351739], Tmin=(100,'K'), Tmax=(1337.62,'K')), NASAPolynomial(coeffs=[3.54145,0.00476788,-1.82149e-06,3.28878e-10,-2.22547e-14,16224,1.6604], Tmin=(1337.62,'K'), Tmax=(5000,'K'))], Tmin=(100,'K'), Tmax=(5000,'K'), comment=\"\"\"Thermo library: primaryThermoLibrary + radical(CH3)\"\"\"), molecule=[Molecule(SMILES=\"[CH3]\")]), Species(index=1, label=\"ethane\", thermo=NASA(polynomials=[NASAPolynomial(coeffs=[3.78033,-0.00324263,5.52381e-05,-6.38581e-08,2.28637e-11,-11620.3,5.21034], Tmin=(100,'K'), Tmax=(954.51,'K')), NASAPolynomial(coeffs=[4.58983,0.0141508,-4.75962e-06,8.60294e-10,-6.21717e-14,-12721.8,-3.61739], Tmin=(954.51,'K'), Tmax=(5000,'K'))], Tmin=(100,'K'), Tmax=(5000,'K'), comment=\"\"\"Thermo group additivity estimation: group(Cs-CsHHH) + gauche(Cs(CsRRR)) + other(R) + group(Cs-CsHHH) + gauche(Cs(CsRRR)) + other(R)\"\"\"), molecule=[Molecule(SMILES=\"CC\")])], products=[Species(index=3, label=\"C[CH2]\", thermo=NASA(polynomials=[NASAPolynomial(coeffs=[3.8219,-0.00343436,5.09286e-05,-6.20252e-08,2.37092e-11,13066,7.61622], Tmin=(100,'K'), Tmax=(900.3,'K')), NASAPolynomial(coeffs=[5.15605,0.00943151,-1.81963e-06,2.21236e-10,-1.43515e-14,12064.1,-2.9101], Tmin=(900.3,'K'), Tmax=(5000,'K'))], Tmin=(100,'K'), Tmax=(5000,'K'), comment=\"\"\"Thermo group additivity estimation: group(Cs-CsHHH) + gauche(Cs(CsRRR)) + other(R) + group(Cs-CsHHH) + gauche(Cs(CsRRR)) + other(R) + radical(CCJ)\"\"\"), molecule=[Molecule(SMILES=\"C[CH2]\")]), Species(index=6, label=\"C\", thermo=NASA(polynomials=[NASAPolynomial(coeffs=[4.20541,-0.00535556,2.51123e-05,-2.13762e-08,5.97522e-12,-10161.9,-0.921275], Tmin=(100,'K'), Tmax=(1084.12,'K')), NASAPolynomial(coeffs=[0.908272,0.0114541,-4.57173e-06,8.2919e-10,-5.66314e-14,-9719.98,13.9931], Tmin=(1084.12,'K'), Tmax=(5000,'K'))], Tmin=(100,'K'), Tmax=(5000,'K'), comment=\"\"\"Thermo library: primaryThermoLibrary\"\"\"), molecule=[Molecule(SMILES=\"C\")])], kinetics=Arrhenius(A=(2.94e-05,'cm^3/(mol*s)'), n=5.135, Ea=(7.89,'kcal/mol'), T0=(1,'K'), comment=\"\"\"Estimated using average of templates [C/H3/Cs;C_methyl] + [C/H3/Cs\\H3;Cs_rad] for rate rule [C/H3/Cs\\H3;C_methyl]\n",
       "Multiplied by reaction path degeneracy 6\"\"\"), pairs=[(Species(index=1, label=\"ethane\", thermo=NASA(polynomials=[NASAPolynomial(coeffs=[3.78033,-0.00324263,5.52381e-05,-6.38581e-08,2.28637e-11,-11620.3,5.21034], Tmin=(100,'K'), Tmax=(954.51,'K')), NASAPolynomial(coeffs=[4.58983,0.0141508,-4.75962e-06,8.60294e-10,-6.21717e-14,-12721.8,-3.61739], Tmin=(954.51,'K'), Tmax=(5000,'K'))], Tmin=(100,'K'), Tmax=(5000,'K'), comment=\"\"\"Thermo group additivity estimation: group(Cs-CsHHH) + gauche(Cs(CsRRR)) + other(R) + group(Cs-CsHHH) + gauche(Cs(CsRRR)) + other(R)\"\"\"), molecule=[Molecule(SMILES=\"CC\")]), Species(index=3, label=\"C[CH2]\", thermo=NASA(polynomials=[NASAPolynomial(coeffs=[3.8219,-0.00343436,5.09286e-05,-6.20252e-08,2.37092e-11,13066,7.61622], Tmin=(100,'K'), Tmax=(900.3,'K')), NASAPolynomial(coeffs=[5.15605,0.00943151,-1.81963e-06,2.21236e-10,-1.43515e-14,12064.1,-2.9101], Tmin=(900.3,'K'), Tmax=(5000,'K'))], Tmin=(100,'K'), Tmax=(5000,'K'), comment=\"\"\"Thermo group additivity estimation: group(Cs-CsHHH) + gauche(Cs(CsRRR)) + other(R) + group(Cs-CsHHH) + gauche(Cs(CsRRR)) + other(R) + radical(CCJ)\"\"\"), molecule=[Molecule(SMILES=\"C[CH2]\")])), (Species(index=2, label=\"[CH3]\", thermo=NASA(polynomials=[NASAPolynomial(coeffs=[3.91547,0.00184154,3.48744e-06,-3.3275e-09,8.49964e-13,16285.6,0.351739], Tmin=(100,'K'), Tmax=(1337.62,'K')), NASAPolynomial(coeffs=[3.54145,0.00476788,-1.82149e-06,3.28878e-10,-2.22547e-14,16224,1.6604], Tmin=(1337.62,'K'), Tmax=(5000,'K'))], Tmin=(100,'K'), Tmax=(5000,'K'), comment=\"\"\"Thermo library: primaryThermoLibrary + radical(CH3)\"\"\"), molecule=[Molecule(SMILES=\"[CH3]\")]), Species(index=6, label=\"C\", thermo=NASA(polynomials=[NASAPolynomial(coeffs=[4.20541,-0.00535556,2.51123e-05,-2.13762e-08,5.97522e-12,-10161.9,-0.921275], Tmin=(100,'K'), Tmax=(1084.12,'K')), NASAPolynomial(coeffs=[0.908272,0.0114541,-4.57173e-06,8.2919e-10,-5.66314e-14,-9719.98,13.9931], Tmin=(1084.12,'K'), Tmax=(5000,'K'))], Tmin=(100,'K'), Tmax=(5000,'K'), comment=\"\"\"Thermo library: primaryThermoLibrary\"\"\"), molecule=[Molecule(SMILES=\"C\")]))])"
      ]
     },
     "metadata": {},
     "output_type": "display_data"
    },
    {
     "name": "stdout",
     "output_type": "stream",
     "text": [
      "\n",
      "Example Disproportionation: rxn#7(1/2 Disp)\n",
      "\n",
      "C[CH2](3) + C[CH2](3) <=> C=C(8) + ethane(1)\n"
     ]
    },
    {
     "data": {
      "image/png": "[encoded data removed]",
      "text/plain": [
       "Reaction(index=7, reactants=[Species(index=3, label=\"C[CH2]\", thermo=NASA(polynomials=[NASAPolynomial(coeffs=[3.8219,-0.00343436,5.09286e-05,-6.20252e-08,2.37092e-11,13066,7.61622], Tmin=(100,'K'), Tmax=(900.3,'K')), NASAPolynomial(coeffs=[5.15605,0.00943151,-1.81963e-06,2.21236e-10,-1.43515e-14,12064.1,-2.9101], Tmin=(900.3,'K'), Tmax=(5000,'K'))], Tmin=(100,'K'), Tmax=(5000,'K'), comment=\"\"\"Thermo group additivity estimation: group(Cs-CsHHH) + gauche(Cs(CsRRR)) + other(R) + group(Cs-CsHHH) + gauche(Cs(CsRRR)) + other(R) + radical(CCJ)\"\"\"), molecule=[Molecule(SMILES=\"C[CH2]\")]), Species(index=3, label=\"C[CH2]\", thermo=NASA(polynomials=[NASAPolynomial(coeffs=[3.8219,-0.00343436,5.09286e-05,-6.20252e-08,2.37092e-11,13066,7.61622], Tmin=(100,'K'), Tmax=(900.3,'K')), NASAPolynomial(coeffs=[5.15605,0.00943151,-1.81963e-06,2.21236e-10,-1.43515e-14,12064.1,-2.9101], Tmin=(900.3,'K'), Tmax=(5000,'K'))], Tmin=(100,'K'), Tmax=(5000,'K'), comment=\"\"\"Thermo group additivity estimation: group(Cs-CsHHH) + gauche(Cs(CsRRR)) + other(R) + group(Cs-CsHHH) + gauche(Cs(CsRRR)) + other(R) + radical(CCJ)\"\"\"), molecule=[Molecule(SMILES=\"C[CH2]\")])], products=[Species(index=8, label=\"C=C\", thermo=NASA(polynomials=[NASAPolynomial(coeffs=[3.97974,-0.00757559,5.52973e-05,-6.36221e-08,2.31767e-11,5077.46,4.04623], Tmin=(100,'K'), Tmax=(940.45,'K')), NASAPolynomial(coeffs=[5.203,0.00782442,-2.12683e-06,3.7969e-10,-2.9467e-14,3936.28,-6.62412], Tmin=(940.45,'K'), Tmax=(5000,'K'))], Tmin=(100,'K'), Tmax=(5000,'K'), comment=\"\"\"Thermo group additivity estimation: group(Cds-CdsHH) + gauche(CsOsCdSs) + other(R) + group(Cds-CdsHH) + gauche(CsOsCdSs) + other(R)\"\"\"), molecule=[Molecule(SMILES=\"C=C\")]), Species(index=1, label=\"ethane\", thermo=NASA(polynomials=[NASAPolynomial(coeffs=[3.78033,-0.00324263,5.52381e-05,-6.38581e-08,2.28637e-11,-11620.3,5.21034], Tmin=(100,'K'), Tmax=(954.51,'K')), NASAPolynomial(coeffs=[4.58983,0.0141508,-4.75962e-06,8.60294e-10,-6.21717e-14,-12721.8,-3.61739], Tmin=(954.51,'K'), Tmax=(5000,'K'))], Tmin=(100,'K'), Tmax=(5000,'K'), comment=\"\"\"Thermo group additivity estimation: group(Cs-CsHHH) + gauche(Cs(CsRRR)) + other(R) + group(Cs-CsHHH) + gauche(Cs(CsRRR)) + other(R)\"\"\"), molecule=[Molecule(SMILES=\"CC\")])], kinetics=Arrhenius(A=(6.9e+13,'cm^3/(mol*s)'), n=-0.35, Ea=(0,'kcal/mol'), T0=(1,'K'), comment=\"\"\"Exact match found for rate rule [C_rad/H2/Cs;Cmethyl_Csrad]\n",
       "Multiplied by reaction path degeneracy 3\"\"\"), pairs=[(Species(index=3, label=\"C[CH2]\", thermo=NASA(polynomials=[NASAPolynomial(coeffs=[3.8219,-0.00343436,5.09286e-05,-6.20252e-08,2.37092e-11,13066,7.61622], Tmin=(100,'K'), Tmax=(900.3,'K')), NASAPolynomial(coeffs=[5.15605,0.00943151,-1.81963e-06,2.21236e-10,-1.43515e-14,12064.1,-2.9101], Tmin=(900.3,'K'), Tmax=(5000,'K'))], Tmin=(100,'K'), Tmax=(5000,'K'), comment=\"\"\"Thermo group additivity estimation: group(Cs-CsHHH) + gauche(Cs(CsRRR)) + other(R) + group(Cs-CsHHH) + gauche(Cs(CsRRR)) + other(R) + radical(CCJ)\"\"\"), molecule=[Molecule(SMILES=\"C[CH2]\")]), Species(index=1, label=\"ethane\", thermo=NASA(polynomials=[NASAPolynomial(coeffs=[3.78033,-0.00324263,5.52381e-05,-6.38581e-08,2.28637e-11,-11620.3,5.21034], Tmin=(100,'K'), Tmax=(954.51,'K')), NASAPolynomial(coeffs=[4.58983,0.0141508,-4.75962e-06,8.60294e-10,-6.21717e-14,-12721.8,-3.61739], Tmin=(954.51,'K'), Tmax=(5000,'K'))], Tmin=(100,'K'), Tmax=(5000,'K'), comment=\"\"\"Thermo group additivity estimation: group(Cs-CsHHH) + gauche(Cs(CsRRR)) + other(R) + group(Cs-CsHHH) + gauche(Cs(CsRRR)) + other(R)\"\"\"), molecule=[Molecule(SMILES=\"CC\")])), (Species(index=3, label=\"C[CH2]\", thermo=NASA(polynomials=[NASAPolynomial(coeffs=[3.8219,-0.00343436,5.09286e-05,-6.20252e-08,2.37092e-11,13066,7.61622], Tmin=(100,'K'), Tmax=(900.3,'K')), NASAPolynomial(coeffs=[5.15605,0.00943151,-1.81963e-06,2.21236e-10,-1.43515e-14,12064.1,-2.9101], Tmin=(900.3,'K'), Tmax=(5000,'K'))], Tmin=(100,'K'), Tmax=(5000,'K'), comment=\"\"\"Thermo group additivity estimation: group(Cs-CsHHH) + gauche(Cs(CsRRR)) + other(R) + group(Cs-CsHHH) + gauche(Cs(CsRRR)) + other(R) + radical(CCJ)\"\"\"), molecule=[Molecule(SMILES=\"C[CH2]\")]), Species(index=8, label=\"C=C\", thermo=NASA(polynomials=[NASAPolynomial(coeffs=[3.97974,-0.00757559,5.52973e-05,-6.36221e-08,2.31767e-11,5077.46,4.04623], Tmin=(100,'K'), Tmax=(940.45,'K')), NASAPolynomial(coeffs=[5.203,0.00782442,-2.12683e-06,3.7969e-10,-2.9467e-14,3936.28,-6.62412], Tmin=(940.45,'K'), Tmax=(5000,'K'))], Tmin=(100,'K'), Tmax=(5000,'K'), comment=\"\"\"Thermo group additivity estimation: group(Cds-CdsHH) + gauche(CsOsCdSs) + other(R) + group(Cds-CdsHH) + gauche(CsOsCdSs) + other(R)\"\"\"), molecule=[Molecule(SMILES=\"C=C\")]))])"
      ]
     },
     "metadata": {},
     "output_type": "display_data"
    },
    {
     "name": "stdout",
     "output_type": "stream",
     "text": [
      "\n",
      "\n",
      "\n",
      "Step2 \t\t\t\t Flux\n",
      "******************************************\n",
      "C2H5(3) --> C2H4(8) \t\t 0.000536020903\n",
      "******************************************\n",
      "\n",
      "Example reaction: rxn#5\n",
      "\n",
      "C=C(8) + [H](4) <=> C[CH2](3): flux = 0.0005009196 \n"
     ]
    },
    {
     "data": {
      "image/png": "[encoded data removed]",
      "text/plain": [
       "Reaction(index=5, reactants=[Species(index=8, label=\"C=C\", thermo=NASA(polynomials=[NASAPolynomial(coeffs=[3.97974,-0.00757559,5.52973e-05,-6.36221e-08,2.31767e-11,5077.46,4.04623], Tmin=(100,'K'), Tmax=(940.45,'K')), NASAPolynomial(coeffs=[5.203,0.00782442,-2.12683e-06,3.7969e-10,-2.9467e-14,3936.28,-6.62412], Tmin=(940.45,'K'), Tmax=(5000,'K'))], Tmin=(100,'K'), Tmax=(5000,'K'), comment=\"\"\"Thermo group additivity estimation: group(Cds-CdsHH) + gauche(CsOsCdSs) + other(R) + group(Cds-CdsHH) + gauche(CsOsCdSs) + other(R)\"\"\"), molecule=[Molecule(SMILES=\"C=C\")]), Species(index=4, label=\"[H]\", thermo=NASA(polynomials=[NASAPolynomial(coeffs=[2.5,-1.91243e-12,2.45329e-15,-1.02377e-18,1.31369e-22,25474.2,-0.444973], Tmin=(100,'K'), Tmax=(4563.27,'K')), NASAPolynomial(coeffs=[2.50167,-1.43051e-06,4.6025e-10,-6.57826e-14,3.52412e-18,25472.7,-0.455578], Tmin=(4563.27,'K'), Tmax=(5000,'K'))], Tmin=(100,'K'), Tmax=(5000,'K'), comment=\"\"\"Thermo library: primaryThermoLibrary\"\"\"), molecule=[Molecule(SMILES=\"[H]\")])], products=[Species(index=3, label=\"C[CH2]\", thermo=NASA(polynomials=[NASAPolynomial(coeffs=[3.8219,-0.00343436,5.09286e-05,-6.20252e-08,2.37092e-11,13066,7.61622], Tmin=(100,'K'), Tmax=(900.3,'K')), NASAPolynomial(coeffs=[5.15605,0.00943151,-1.81963e-06,2.21236e-10,-1.43515e-14,12064.1,-2.9101], Tmin=(900.3,'K'), Tmax=(5000,'K'))], Tmin=(100,'K'), Tmax=(5000,'K'), comment=\"\"\"Thermo group additivity estimation: group(Cs-CsHHH) + gauche(Cs(CsRRR)) + other(R) + group(Cs-CsHHH) + gauche(Cs(CsRRR)) + other(R) + radical(CCJ)\"\"\"), molecule=[Molecule(SMILES=\"C[CH2]\")])], kinetics=Arrhenius(A=(4.62e+08,'cm^3/(mol*s)'), n=1.64, Ea=(1.01,'kcal/mol'), T0=(1,'K'), comment=\"\"\"Exact match found for rate rule [Cds-HH_Cds-HH;HJ]\n",
       "Multiplied by reaction path degeneracy 2\"\"\"), pairs=[(Species(index=8, label=\"C=C\", thermo=NASA(polynomials=[NASAPolynomial(coeffs=[3.97974,-0.00757559,5.52973e-05,-6.36221e-08,2.31767e-11,5077.46,4.04623], Tmin=(100,'K'), Tmax=(940.45,'K')), NASAPolynomial(coeffs=[5.203,0.00782442,-2.12683e-06,3.7969e-10,-2.9467e-14,3936.28,-6.62412], Tmin=(940.45,'K'), Tmax=(5000,'K'))], Tmin=(100,'K'), Tmax=(5000,'K'), comment=\"\"\"Thermo group additivity estimation: group(Cds-CdsHH) + gauche(CsOsCdSs) + other(R) + group(Cds-CdsHH) + gauche(CsOsCdSs) + other(R)\"\"\"), molecule=[Molecule(SMILES=\"C=C\")]), Species(index=3, label=\"C[CH2]\", thermo=NASA(polynomials=[NASAPolynomial(coeffs=[3.8219,-0.00343436,5.09286e-05,-6.20252e-08,2.37092e-11,13066,7.61622], Tmin=(100,'K'), Tmax=(900.3,'K')), NASAPolynomial(coeffs=[5.15605,0.00943151,-1.81963e-06,2.21236e-10,-1.43515e-14,12064.1,-2.9101], Tmin=(900.3,'K'), Tmax=(5000,'K'))], Tmin=(100,'K'), Tmax=(5000,'K'), comment=\"\"\"Thermo group additivity estimation: group(Cs-CsHHH) + gauche(Cs(CsRRR)) + other(R) + group(Cs-CsHHH) + gauche(Cs(CsRRR)) + other(R) + radical(CCJ)\"\"\"), molecule=[Molecule(SMILES=\"C[CH2]\")])), (Species(index=4, label=\"[H]\", thermo=NASA(polynomials=[NASAPolynomial(coeffs=[2.5,-1.91243e-12,2.45329e-15,-1.02377e-18,1.31369e-22,25474.2,-0.444973], Tmin=(100,'K'), Tmax=(4563.27,'K')), NASAPolynomial(coeffs=[2.50167,-1.43051e-06,4.6025e-10,-6.57826e-14,3.52412e-18,25472.7,-0.455578], Tmin=(4563.27,'K'), Tmax=(5000,'K'))], Tmin=(100,'K'), Tmax=(5000,'K'), comment=\"\"\"Thermo library: primaryThermoLibrary\"\"\"), molecule=[Molecule(SMILES=\"[H]\")]), Species(index=3, label=\"C[CH2]\", thermo=NASA(polynomials=[NASAPolynomial(coeffs=[3.8219,-0.00343436,5.09286e-05,-6.20252e-08,2.37092e-11,13066,7.61622], Tmin=(100,'K'), Tmax=(900.3,'K')), NASAPolynomial(coeffs=[5.15605,0.00943151,-1.81963e-06,2.21236e-10,-1.43515e-14,12064.1,-2.9101], Tmin=(900.3,'K'), Tmax=(5000,'K'))], Tmin=(100,'K'), Tmax=(5000,'K'), comment=\"\"\"Thermo group additivity estimation: group(Cs-CsHHH) + gauche(Cs(CsRRR)) + other(R) + group(Cs-CsHHH) + gauche(Cs(CsRRR)) + other(R) + radical(CCJ)\"\"\"), molecule=[Molecule(SMILES=\"C[CH2]\")]))])"
      ]
     },
     "metadata": {},
     "output_type": "display_data"
    },
    {
     "name": "stdout",
     "output_type": "stream",
     "text": [
      "\n",
      "Example Disproportionation: rxn#17(1/4 Disp)\n",
      "\n",
      "[CH]=C(13) + C[CH2](3) <=> C=C(8) + C=C(8)\n"
     ]
    },
    {
     "data": {
      "image/png": "[encoded data removed]",
      "text/plain": [
       "Reaction(index=17, reactants=[Species(index=13, label=\"[CH]=C\", thermo=NASA(polynomials=[NASAPolynomial(coeffs=[3.90668,-0.00406204,3.86766e-05,-4.62957e-08,1.72892e-11,34797.2,6.098], Tmin=(100,'K'), Tmax=(931.97,'K')), NASAPolynomial(coeffs=[5.44806,0.0049834,-1.08811e-06,1.79815e-10,-1.45078e-14,33829.7,-4.87859], Tmin=(931.97,'K'), Tmax=(5000,'K'))], Tmin=(100,'K'), Tmax=(5000,'K'), comment=\"\"\"Thermo group additivity estimation: group(Cds-CdsHH) + gauche(CsOsCdSs) + other(R) + group(Cds-CdsHH) + gauche(CsOsCdSs) + other(R) + radical(Cds_P)\"\"\"), molecule=[Molecule(SMILES=\"[CH]=C\")]), Species(index=3, label=\"C[CH2]\", thermo=NASA(polynomials=[NASAPolynomial(coeffs=[3.8219,-0.00343436,5.09286e-05,-6.20252e-08,2.37092e-11,13066,7.61622], Tmin=(100,'K'), Tmax=(900.3,'K')), NASAPolynomial(coeffs=[5.15605,0.00943151,-1.81963e-06,2.21236e-10,-1.43515e-14,12064.1,-2.9101], Tmin=(900.3,'K'), Tmax=(5000,'K'))], Tmin=(100,'K'), Tmax=(5000,'K'), comment=\"\"\"Thermo group additivity estimation: group(Cs-CsHHH) + gauche(Cs(CsRRR)) + other(R) + group(Cs-CsHHH) + gauche(Cs(CsRRR)) + other(R) + radical(CCJ)\"\"\"), molecule=[Molecule(SMILES=\"C[CH2]\")])], products=[Species(index=8, label=\"C=C\", thermo=NASA(polynomials=[NASAPolynomial(coeffs=[3.97974,-0.00757559,5.52973e-05,-6.36221e-08,2.31767e-11,5077.46,4.04623], Tmin=(100,'K'), Tmax=(940.45,'K')), NASAPolynomial(coeffs=[5.203,0.00782442,-2.12683e-06,3.7969e-10,-2.9467e-14,3936.28,-6.62412], Tmin=(940.45,'K'), Tmax=(5000,'K'))], Tmin=(100,'K'), Tmax=(5000,'K'), comment=\"\"\"Thermo group additivity estimation: group(Cds-CdsHH) + gauche(CsOsCdSs) + other(R) + group(Cds-CdsHH) + gauche(CsOsCdSs) + other(R)\"\"\"), molecule=[Molecule(SMILES=\"C=C\")]), Species(index=8, label=\"C=C\", thermo=NASA(polynomials=[NASAPolynomial(coeffs=[3.97974,-0.00757559,5.52973e-05,-6.36221e-08,2.31767e-11,5077.46,4.04623], Tmin=(100,'K'), Tmax=(940.45,'K')), NASAPolynomial(coeffs=[5.203,0.00782442,-2.12683e-06,3.7969e-10,-2.9467e-14,3936.28,-6.62412], Tmin=(940.45,'K'), Tmax=(5000,'K'))], Tmin=(100,'K'), Tmax=(5000,'K'), comment=\"\"\"Thermo group additivity estimation: group(Cds-CdsHH) + gauche(CsOsCdSs) + other(R) + group(Cds-CdsHH) + gauche(CsOsCdSs) + other(R)\"\"\"), molecule=[Molecule(SMILES=\"C=C\")])], kinetics=Arrhenius(A=(4.56e+14,'cm^3/(mol*s)'), n=-0.7, Ea=(0,'kcal/mol'), T0=(1,'K'), comment=\"\"\"Exact match found for rate rule [Cd_pri_rad;Cmethyl_Csrad]\n",
       "Multiplied by reaction path degeneracy 3\"\"\"), pairs=[(Species(index=13, label=\"[CH]=C\", thermo=NASA(polynomials=[NASAPolynomial(coeffs=[3.90668,-0.00406204,3.86766e-05,-4.62957e-08,1.72892e-11,34797.2,6.098], Tmin=(100,'K'), Tmax=(931.97,'K')), NASAPolynomial(coeffs=[5.44806,0.0049834,-1.08811e-06,1.79815e-10,-1.45078e-14,33829.7,-4.87859], Tmin=(931.97,'K'), Tmax=(5000,'K'))], Tmin=(100,'K'), Tmax=(5000,'K'), comment=\"\"\"Thermo group additivity estimation: group(Cds-CdsHH) + gauche(CsOsCdSs) + other(R) + group(Cds-CdsHH) + gauche(CsOsCdSs) + other(R) + radical(Cds_P)\"\"\"), molecule=[Molecule(SMILES=\"[CH]=C\")]), Species(index=8, label=\"C=C\", thermo=NASA(polynomials=[NASAPolynomial(coeffs=[3.97974,-0.00757559,5.52973e-05,-6.36221e-08,2.31767e-11,5077.46,4.04623], Tmin=(100,'K'), Tmax=(940.45,'K')), NASAPolynomial(coeffs=[5.203,0.00782442,-2.12683e-06,3.7969e-10,-2.9467e-14,3936.28,-6.62412], Tmin=(940.45,'K'), Tmax=(5000,'K'))], Tmin=(100,'K'), Tmax=(5000,'K'), comment=\"\"\"Thermo group additivity estimation: group(Cds-CdsHH) + gauche(CsOsCdSs) + other(R) + group(Cds-CdsHH) + gauche(CsOsCdSs) + other(R)\"\"\"), molecule=[Molecule(SMILES=\"C=C\")])), (Species(index=3, label=\"C[CH2]\", thermo=NASA(polynomials=[NASAPolynomial(coeffs=[3.8219,-0.00343436,5.09286e-05,-6.20252e-08,2.37092e-11,13066,7.61622], Tmin=(100,'K'), Tmax=(900.3,'K')), NASAPolynomial(coeffs=[5.15605,0.00943151,-1.81963e-06,2.21236e-10,-1.43515e-14,12064.1,-2.9101], Tmin=(900.3,'K'), Tmax=(5000,'K'))], Tmin=(100,'K'), Tmax=(5000,'K'), comment=\"\"\"Thermo group additivity estimation: group(Cs-CsHHH) + gauche(Cs(CsRRR)) + other(R) + group(Cs-CsHHH) + gauche(Cs(CsRRR)) + other(R) + radical(CCJ)\"\"\"), molecule=[Molecule(SMILES=\"C[CH2]\")]), Species(index=8, label=\"C=C\", thermo=NASA(polynomials=[NASAPolynomial(coeffs=[3.97974,-0.00757559,5.52973e-05,-6.36221e-08,2.31767e-11,5077.46,4.04623], Tmin=(100,'K'), Tmax=(940.45,'K')), NASAPolynomial(coeffs=[5.203,0.00782442,-2.12683e-06,3.7969e-10,-2.9467e-14,3936.28,-6.62412], Tmin=(940.45,'K'), Tmax=(5000,'K'))], Tmin=(100,'K'), Tmax=(5000,'K'), comment=\"\"\"Thermo group additivity estimation: group(Cds-CdsHH) + gauche(CsOsCdSs) + other(R) + group(Cds-CdsHH) + gauche(CsOsCdSs) + other(R)\"\"\"), molecule=[Molecule(SMILES=\"C=C\")]))])"
      ]
     },
     "metadata": {},
     "output_type": "display_data"
    }
   ],
   "source": [
    "current_node = source\n",
    "\n",
    "print ''\n",
    "print '\\t Pathway Report '\n",
    "print '======================================'\n",
    "print 'The pathway you are intested in has {0} steps.'.format(depth)\n",
    "for step in range(depth):\n",
    "    print \"\\n\"    \n",
    "    nextNode_flux_list = [(next_node, G[current_node][next_node]['total_flux']) for next_node in G[current_node]]\n",
    "    sorted_nextNode_flux_list = sorted(nextNode_flux_list, key=lambda tup: -tup[1])\n",
    "    \n",
    "    # choose the top one as next node\n",
    "    tup = sorted_nextNode_flux_list[path_top_list[step]]\n",
    "    next_node = tup[0]\n",
    "    step_flux = tup[1]\n",
    "    \n",
    "    print \"\"\n",
    "    print \"Step{0} \\t\\t\\t\\t Flux\".format(step+1)\n",
    "    print '******************************************'\n",
    "    \n",
    "    print \"{0} --> {1} \\t\\t {2}\".\\\n",
    "    format(current_node, next_node, step_flux)\n",
    "    print '******************************************'\n",
    "    \n",
    "    step_pair = (current_node, next_node)\n",
    "    if step_pair not in graph_edges_dict_simple:\n",
    "        step_pair = (next_node, current_node)\n",
    "    \n",
    "    h_abs_rxns = []\n",
    "    disp_rxns = []\n",
    "    Pdep_rxns = []\n",
    "    for rxn in graph_edges_dict_simple[step_pair]:\n",
    "        if isinstance(rxn, PDepReaction):\n",
    "            Pdep_rxns.append(rxn)\n",
    "        elif rxn.family == \"H_Abstraction\":\n",
    "            h_abs_rxns.append(rxn)\n",
    "        elif rxn.family == \"Disproportionation\":\n",
    "            disp_rxns.append(rxn)\n",
    "        else:\n",
    "            print ''\n",
    "            print \"Example reaction: rxn#{0}\".format(rxn.index)\n",
    "            print ''\n",
    "            print \"{0}: flux = {1} \".format(str(rxn), graph_edges_dict_simple[step_pair][rxn][timepoint_index])\n",
    "            display(rxn)\n",
    "    if len(h_abs_rxns) > 0:\n",
    "        print ''\n",
    "        print \"Example H_Abstraction: rxn#{0}(1/{1} H_Abs)\".format(h_abs_rxns[0].index, len(h_abs_rxns))\n",
    "        print ''\n",
    "        print str(h_abs_rxns[0])\n",
    "        display(h_abs_rxns[0])\n",
    "    if len(disp_rxns) > 0: \n",
    "        print ''\n",
    "        print \"Example Disproportionation: rxn#{0}(1/{1} Disp)\".format(disp_rxns[0].index, len(disp_rxns))\n",
    "        print ''\n",
    "        print str(disp_rxns[0])\n",
    "        display(disp_rxns[0])\n",
    "    if len(Pdep_rxns) > 0: \n",
    "        print ''\n",
    "        print \"Example Pressure-dependent Rxn: rxn#{0} (1/{1} Pdep_rxns): \".format(Pdep_rxns[0].index, len(Pdep_rxns)) \n",
    "        print ''\n",
    "        print str(Pdep_rxns[0])\n",
    "        display(Pdep_rxns[0])\n",
    "    \n",
    "    current_node = next_node"
   ]
  },
  {
   "cell_type": "markdown",
   "metadata": {},
   "source": [
    "### More detail for the H_Abstration and Disproportionation in last step of the pathway"
   ]
  },
  {
   "cell_type": "code",
   "execution_count": 24,
   "metadata": {
    "collapsed": false,
    "scrolled": false
   },
   "outputs": [
    {
     "name": "stdout",
     "output_type": "stream",
     "text": [
      "\n",
      "The step you see currently is between the two species ('C2H4(8)', 'C2H5(3)')\n",
      "\n",
      "Positive flux in below means positive production of 1st node of the pair.\n",
      "\n",
      "This step have 4 H_Abstration and Disproportionation in total.\n",
      "\n",
      "TO avoid too much printout, the reactions shown below have fluxes above 1e-09.\n",
      "\n",
      "**********************************************************************************\n",
      "rxn#17: [CH]=C(13) + C[CH2](3) <=> C=C(8) + C=C(8): flux = 1.920494e-06 \n"
     ]
    },
    {
     "data": {
      "image/png": "[encoded data removed]",
      "text/plain": [
       "Reaction(index=17, reactants=[Species(index=13, label=\"[CH]=C\", thermo=NASA(polynomials=[NASAPolynomial(coeffs=[3.90668,-0.00406204,3.86766e-05,-4.62957e-08,1.72892e-11,34797.2,6.098], Tmin=(100,'K'), Tmax=(931.97,'K')), NASAPolynomial(coeffs=[5.44806,0.0049834,-1.08811e-06,1.79815e-10,-1.45078e-14,33829.7,-4.87859], Tmin=(931.97,'K'), Tmax=(5000,'K'))], Tmin=(100,'K'), Tmax=(5000,'K'), comment=\"\"\"Thermo group additivity estimation: group(Cds-CdsHH) + gauche(CsOsCdSs) + other(R) + group(Cds-CdsHH) + gauche(CsOsCdSs) + other(R) + radical(Cds_P)\"\"\"), molecule=[Molecule(SMILES=\"[CH]=C\")]), Species(index=3, label=\"C[CH2]\", thermo=NASA(polynomials=[NASAPolynomial(coeffs=[3.8219,-0.00343436,5.09286e-05,-6.20252e-08,2.37092e-11,13066,7.61622], Tmin=(100,'K'), Tmax=(900.3,'K')), NASAPolynomial(coeffs=[5.15605,0.00943151,-1.81963e-06,2.21236e-10,-1.43515e-14,12064.1,-2.9101], Tmin=(900.3,'K'), Tmax=(5000,'K'))], Tmin=(100,'K'), Tmax=(5000,'K'), comment=\"\"\"Thermo group additivity estimation: group(Cs-CsHHH) + gauche(Cs(CsRRR)) + other(R) + group(Cs-CsHHH) + gauche(Cs(CsRRR)) + other(R) + radical(CCJ)\"\"\"), molecule=[Molecule(SMILES=\"C[CH2]\")])], products=[Species(index=8, label=\"C=C\", thermo=NASA(polynomials=[NASAPolynomial(coeffs=[3.97974,-0.00757559,5.52973e-05,-6.36221e-08,2.31767e-11,5077.46,4.04623], Tmin=(100,'K'), Tmax=(940.45,'K')), NASAPolynomial(coeffs=[5.203,0.00782442,-2.12683e-06,3.7969e-10,-2.9467e-14,3936.28,-6.62412], Tmin=(940.45,'K'), Tmax=(5000,'K'))], Tmin=(100,'K'), Tmax=(5000,'K'), comment=\"\"\"Thermo group additivity estimation: group(Cds-CdsHH) + gauche(CsOsCdSs) + other(R) + group(Cds-CdsHH) + gauche(CsOsCdSs) + other(R)\"\"\"), molecule=[Molecule(SMILES=\"C=C\")]), Species(index=8, label=\"C=C\", thermo=NASA(polynomials=[NASAPolynomial(coeffs=[3.97974,-0.00757559,5.52973e-05,-6.36221e-08,2.31767e-11,5077.46,4.04623], Tmin=(100,'K'), Tmax=(940.45,'K')), NASAPolynomial(coeffs=[5.203,0.00782442,-2.12683e-06,3.7969e-10,-2.9467e-14,3936.28,-6.62412], Tmin=(940.45,'K'), Tmax=(5000,'K'))], Tmin=(100,'K'), Tmax=(5000,'K'), comment=\"\"\"Thermo group additivity estimation: group(Cds-CdsHH) + gauche(CsOsCdSs) + other(R) + group(Cds-CdsHH) + gauche(CsOsCdSs) + other(R)\"\"\"), molecule=[Molecule(SMILES=\"C=C\")])], kinetics=Arrhenius(A=(4.56e+14,'cm^3/(mol*s)'), n=-0.7, Ea=(0,'kcal/mol'), T0=(1,'K'), comment=\"\"\"Exact match found for rate rule [Cd_pri_rad;Cmethyl_Csrad]\n",
       "Multiplied by reaction path degeneracy 3\"\"\"), pairs=[(Species(index=13, label=\"[CH]=C\", thermo=NASA(polynomials=[NASAPolynomial(coeffs=[3.90668,-0.00406204,3.86766e-05,-4.62957e-08,1.72892e-11,34797.2,6.098], Tmin=(100,'K'), Tmax=(931.97,'K')), NASAPolynomial(coeffs=[5.44806,0.0049834,-1.08811e-06,1.79815e-10,-1.45078e-14,33829.7,-4.87859], Tmin=(931.97,'K'), Tmax=(5000,'K'))], Tmin=(100,'K'), Tmax=(5000,'K'), comment=\"\"\"Thermo group additivity estimation: group(Cds-CdsHH) + gauche(CsOsCdSs) + other(R) + group(Cds-CdsHH) + gauche(CsOsCdSs) + other(R) + radical(Cds_P)\"\"\"), molecule=[Molecule(SMILES=\"[CH]=C\")]), Species(index=8, label=\"C=C\", thermo=NASA(polynomials=[NASAPolynomial(coeffs=[3.97974,-0.00757559,5.52973e-05,-6.36221e-08,2.31767e-11,5077.46,4.04623], Tmin=(100,'K'), Tmax=(940.45,'K')), NASAPolynomial(coeffs=[5.203,0.00782442,-2.12683e-06,3.7969e-10,-2.9467e-14,3936.28,-6.62412], Tmin=(940.45,'K'), Tmax=(5000,'K'))], Tmin=(100,'K'), Tmax=(5000,'K'), comment=\"\"\"Thermo group additivity estimation: group(Cds-CdsHH) + gauche(CsOsCdSs) + other(R) + group(Cds-CdsHH) + gauche(CsOsCdSs) + other(R)\"\"\"), molecule=[Molecule(SMILES=\"C=C\")])), (Species(index=3, label=\"C[CH2]\", thermo=NASA(polynomials=[NASAPolynomial(coeffs=[3.8219,-0.00343436,5.09286e-05,-6.20252e-08,2.37092e-11,13066,7.61622], Tmin=(100,'K'), Tmax=(900.3,'K')), NASAPolynomial(coeffs=[5.15605,0.00943151,-1.81963e-06,2.21236e-10,-1.43515e-14,12064.1,-2.9101], Tmin=(900.3,'K'), Tmax=(5000,'K'))], Tmin=(100,'K'), Tmax=(5000,'K'), comment=\"\"\"Thermo group additivity estimation: group(Cs-CsHHH) + gauche(Cs(CsRRR)) + other(R) + group(Cs-CsHHH) + gauche(Cs(CsRRR)) + other(R) + radical(CCJ)\"\"\"), molecule=[Molecule(SMILES=\"C[CH2]\")]), Species(index=8, label=\"C=C\", thermo=NASA(polynomials=[NASAPolynomial(coeffs=[3.97974,-0.00757559,5.52973e-05,-6.36221e-08,2.31767e-11,5077.46,4.04623], Tmin=(100,'K'), Tmax=(940.45,'K')), NASAPolynomial(coeffs=[5.203,0.00782442,-2.12683e-06,3.7969e-10,-2.9467e-14,3936.28,-6.62412], Tmin=(940.45,'K'), Tmax=(5000,'K'))], Tmin=(100,'K'), Tmax=(5000,'K'), comment=\"\"\"Thermo group additivity estimation: group(Cds-CdsHH) + gauche(CsOsCdSs) + other(R) + group(Cds-CdsHH) + gauche(CsOsCdSs) + other(R)\"\"\"), molecule=[Molecule(SMILES=\"C=C\")]))])"
      ]
     },
     "metadata": {},
     "output_type": "display_data"
    },
    {
     "name": "stdout",
     "output_type": "stream",
     "text": [
      "\n",
      "**********************************************************************************\n",
      "rxn#9: C[CH2](3) + [H](4) <=> [H][H](12) + C=C(8): flux = 6.27199e-06 \n"
     ]
    },
    {
     "data": {
      "image/png": "[encoded data removed]",
      "text/plain": [
       "Reaction(index=9, reactants=[Species(index=3, label=\"C[CH2]\", thermo=NASA(polynomials=[NASAPolynomial(coeffs=[3.8219,-0.00343436,5.09286e-05,-6.20252e-08,2.37092e-11,13066,7.61622], Tmin=(100,'K'), Tmax=(900.3,'K')), NASAPolynomial(coeffs=[5.15605,0.00943151,-1.81963e-06,2.21236e-10,-1.43515e-14,12064.1,-2.9101], Tmin=(900.3,'K'), Tmax=(5000,'K'))], Tmin=(100,'K'), Tmax=(5000,'K'), comment=\"\"\"Thermo group additivity estimation: group(Cs-CsHHH) + gauche(Cs(CsRRR)) + other(R) + group(Cs-CsHHH) + gauche(Cs(CsRRR)) + other(R) + radical(CCJ)\"\"\"), molecule=[Molecule(SMILES=\"C[CH2]\")]), Species(index=4, label=\"[H]\", thermo=NASA(polynomials=[NASAPolynomial(coeffs=[2.5,-1.91243e-12,2.45329e-15,-1.02377e-18,1.31369e-22,25474.2,-0.444973], Tmin=(100,'K'), Tmax=(4563.27,'K')), NASAPolynomial(coeffs=[2.50167,-1.43051e-06,4.6025e-10,-6.57826e-14,3.52412e-18,25472.7,-0.455578], Tmin=(4563.27,'K'), Tmax=(5000,'K'))], Tmin=(100,'K'), Tmax=(5000,'K'), comment=\"\"\"Thermo library: primaryThermoLibrary\"\"\"), molecule=[Molecule(SMILES=\"[H]\")])], products=[Species(index=12, label=\"[H][H]\", thermo=NASA(polynomials=[NASAPolynomial(coeffs=[3.43536,0.00021271,-2.78625e-07,3.40267e-10,-7.76031e-14,-1031.36,-3.90842], Tmin=(100,'K'), Tmax=(1959.08,'K')), NASAPolynomial(coeffs=[2.78816,0.000587644,1.59009e-07,-5.52736e-11,4.34309e-15,-596.143,0.112747], Tmin=(1959.08,'K'), Tmax=(5000,'K'))], Tmin=(100,'K'), Tmax=(5000,'K'), comment=\"\"\"Thermo library: primaryThermoLibrary\"\"\"), molecule=[Molecule(SMILES=\"[H][H]\")]), Species(index=8, label=\"C=C\", thermo=NASA(polynomials=[NASAPolynomial(coeffs=[3.97974,-0.00757559,5.52973e-05,-6.36221e-08,2.31767e-11,5077.46,4.04623], Tmin=(100,'K'), Tmax=(940.45,'K')), NASAPolynomial(coeffs=[5.203,0.00782442,-2.12683e-06,3.7969e-10,-2.9467e-14,3936.28,-6.62412], Tmin=(940.45,'K'), Tmax=(5000,'K'))], Tmin=(100,'K'), Tmax=(5000,'K'), comment=\"\"\"Thermo group additivity estimation: group(Cds-CdsHH) + gauche(CsOsCdSs) + other(R) + group(Cds-CdsHH) + gauche(CsOsCdSs) + other(R)\"\"\"), molecule=[Molecule(SMILES=\"C=C\")])], kinetics=Arrhenius(A=(2.166e+13,'cm^3/(mol*s)'), n=0, Ea=(0,'kcal/mol'), T0=(1,'K'), comment=\"\"\"Exact match found for rate rule [H_rad;Cmethyl_Csrad]\n",
       "Multiplied by reaction path degeneracy 6\"\"\"), pairs=[(Species(index=3, label=\"C[CH2]\", thermo=NASA(polynomials=[NASAPolynomial(coeffs=[3.8219,-0.00343436,5.09286e-05,-6.20252e-08,2.37092e-11,13066,7.61622], Tmin=(100,'K'), Tmax=(900.3,'K')), NASAPolynomial(coeffs=[5.15605,0.00943151,-1.81963e-06,2.21236e-10,-1.43515e-14,12064.1,-2.9101], Tmin=(900.3,'K'), Tmax=(5000,'K'))], Tmin=(100,'K'), Tmax=(5000,'K'), comment=\"\"\"Thermo group additivity estimation: group(Cs-CsHHH) + gauche(Cs(CsRRR)) + other(R) + group(Cs-CsHHH) + gauche(Cs(CsRRR)) + other(R) + radical(CCJ)\"\"\"), molecule=[Molecule(SMILES=\"C[CH2]\")]), Species(index=8, label=\"C=C\", thermo=NASA(polynomials=[NASAPolynomial(coeffs=[3.97974,-0.00757559,5.52973e-05,-6.36221e-08,2.31767e-11,5077.46,4.04623], Tmin=(100,'K'), Tmax=(940.45,'K')), NASAPolynomial(coeffs=[5.203,0.00782442,-2.12683e-06,3.7969e-10,-2.9467e-14,3936.28,-6.62412], Tmin=(940.45,'K'), Tmax=(5000,'K'))], Tmin=(100,'K'), Tmax=(5000,'K'), comment=\"\"\"Thermo group additivity estimation: group(Cds-CdsHH) + gauche(CsOsCdSs) + other(R) + group(Cds-CdsHH) + gauche(CsOsCdSs) + other(R)\"\"\"), molecule=[Molecule(SMILES=\"C=C\")])), (Species(index=4, label=\"[H]\", thermo=NASA(polynomials=[NASAPolynomial(coeffs=[2.5,-1.91243e-12,2.45329e-15,-1.02377e-18,1.31369e-22,25474.2,-0.444973], Tmin=(100,'K'), Tmax=(4563.27,'K')), NASAPolynomial(coeffs=[2.50167,-1.43051e-06,4.6025e-10,-6.57826e-14,3.52412e-18,25472.7,-0.455578], Tmin=(4563.27,'K'), Tmax=(5000,'K'))], Tmin=(100,'K'), Tmax=(5000,'K'), comment=\"\"\"Thermo library: primaryThermoLibrary\"\"\"), molecule=[Molecule(SMILES=\"[H]\")]), Species(index=12, label=\"[H][H]\", thermo=NASA(polynomials=[NASAPolynomial(coeffs=[3.43536,0.00021271,-2.78625e-07,3.40267e-10,-7.76031e-14,-1031.36,-3.90842], Tmin=(100,'K'), Tmax=(1959.08,'K')), NASAPolynomial(coeffs=[2.78816,0.000587644,1.59009e-07,-5.52736e-11,4.34309e-15,-596.143,0.112747], Tmin=(1959.08,'K'), Tmax=(5000,'K'))], Tmin=(100,'K'), Tmax=(5000,'K'), comment=\"\"\"Thermo library: primaryThermoLibrary\"\"\"), molecule=[Molecule(SMILES=\"[H][H]\")]))])"
      ]
     },
     "metadata": {},
     "output_type": "display_data"
    },
    {
     "name": "stdout",
     "output_type": "stream",
     "text": [
      "\n",
      "**********************************************************************************\n",
      "rxn#6: [CH3](2) + C[CH2](3) <=> C=C(8) + C(6): flux = 8.960319e-06 \n"
     ]
    },
    {
     "data": {
      "image/png": "[encoded data removed]",
      "text/plain": [
       "Reaction(index=6, reactants=[Species(index=2, label=\"[CH3]\", thermo=NASA(polynomials=[NASAPolynomial(coeffs=[3.91547,0.00184154,3.48744e-06,-3.3275e-09,8.49964e-13,16285.6,0.351739], Tmin=(100,'K'), Tmax=(1337.62,'K')), NASAPolynomial(coeffs=[3.54145,0.00476788,-1.82149e-06,3.28878e-10,-2.22547e-14,16224,1.6604], Tmin=(1337.62,'K'), Tmax=(5000,'K'))], Tmin=(100,'K'), Tmax=(5000,'K'), comment=\"\"\"Thermo library: primaryThermoLibrary + radical(CH3)\"\"\"), molecule=[Molecule(SMILES=\"[CH3]\")]), Species(index=3, label=\"C[CH2]\", thermo=NASA(polynomials=[NASAPolynomial(coeffs=[3.8219,-0.00343436,5.09286e-05,-6.20252e-08,2.37092e-11,13066,7.61622], Tmin=(100,'K'), Tmax=(900.3,'K')), NASAPolynomial(coeffs=[5.15605,0.00943151,-1.81963e-06,2.21236e-10,-1.43515e-14,12064.1,-2.9101], Tmin=(900.3,'K'), Tmax=(5000,'K'))], Tmin=(100,'K'), Tmax=(5000,'K'), comment=\"\"\"Thermo group additivity estimation: group(Cs-CsHHH) + gauche(Cs(CsRRR)) + other(R) + group(Cs-CsHHH) + gauche(Cs(CsRRR)) + other(R) + radical(CCJ)\"\"\"), molecule=[Molecule(SMILES=\"C[CH2]\")])], products=[Species(index=8, label=\"C=C\", thermo=NASA(polynomials=[NASAPolynomial(coeffs=[3.97974,-0.00757559,5.52973e-05,-6.36221e-08,2.31767e-11,5077.46,4.04623], Tmin=(100,'K'), Tmax=(940.45,'K')), NASAPolynomial(coeffs=[5.203,0.00782442,-2.12683e-06,3.7969e-10,-2.9467e-14,3936.28,-6.62412], Tmin=(940.45,'K'), Tmax=(5000,'K'))], Tmin=(100,'K'), Tmax=(5000,'K'), comment=\"\"\"Thermo group additivity estimation: group(Cds-CdsHH) + gauche(CsOsCdSs) + other(R) + group(Cds-CdsHH) + gauche(CsOsCdSs) + other(R)\"\"\"), molecule=[Molecule(SMILES=\"C=C\")]), Species(index=6, label=\"C\", thermo=NASA(polynomials=[NASAPolynomial(coeffs=[4.20541,-0.00535556,2.51123e-05,-2.13762e-08,5.97522e-12,-10161.9,-0.921275], Tmin=(100,'K'), Tmax=(1084.12,'K')), NASAPolynomial(coeffs=[0.908272,0.0114541,-4.57173e-06,8.2919e-10,-5.66314e-14,-9719.98,13.9931], Tmin=(1084.12,'K'), Tmax=(5000,'K'))], Tmin=(100,'K'), Tmax=(5000,'K'), comment=\"\"\"Thermo library: primaryThermoLibrary\"\"\"), molecule=[Molecule(SMILES=\"C\")])], kinetics=Arrhenius(A=(6.57e+14,'cm^3/(mol*s)'), n=-0.68, Ea=(0,'kcal/mol'), T0=(1,'K'), comment=\"\"\"Exact match found for rate rule [C_methyl;Cmethyl_Csrad]\n",
       "Multiplied by reaction path degeneracy 3\"\"\"), pairs=[(Species(index=2, label=\"[CH3]\", thermo=NASA(polynomials=[NASAPolynomial(coeffs=[3.91547,0.00184154,3.48744e-06,-3.3275e-09,8.49964e-13,16285.6,0.351739], Tmin=(100,'K'), Tmax=(1337.62,'K')), NASAPolynomial(coeffs=[3.54145,0.00476788,-1.82149e-06,3.28878e-10,-2.22547e-14,16224,1.6604], Tmin=(1337.62,'K'), Tmax=(5000,'K'))], Tmin=(100,'K'), Tmax=(5000,'K'), comment=\"\"\"Thermo library: primaryThermoLibrary + radical(CH3)\"\"\"), molecule=[Molecule(SMILES=\"[CH3]\")]), Species(index=6, label=\"C\", thermo=NASA(polynomials=[NASAPolynomial(coeffs=[4.20541,-0.00535556,2.51123e-05,-2.13762e-08,5.97522e-12,-10161.9,-0.921275], Tmin=(100,'K'), Tmax=(1084.12,'K')), NASAPolynomial(coeffs=[0.908272,0.0114541,-4.57173e-06,8.2919e-10,-5.66314e-14,-9719.98,13.9931], Tmin=(1084.12,'K'), Tmax=(5000,'K'))], Tmin=(100,'K'), Tmax=(5000,'K'), comment=\"\"\"Thermo library: primaryThermoLibrary\"\"\"), molecule=[Molecule(SMILES=\"C\")])), (Species(index=3, label=\"C[CH2]\", thermo=NASA(polynomials=[NASAPolynomial(coeffs=[3.8219,-0.00343436,5.09286e-05,-6.20252e-08,2.37092e-11,13066,7.61622], Tmin=(100,'K'), Tmax=(900.3,'K')), NASAPolynomial(coeffs=[5.15605,0.00943151,-1.81963e-06,2.21236e-10,-1.43515e-14,12064.1,-2.9101], Tmin=(900.3,'K'), Tmax=(5000,'K'))], Tmin=(100,'K'), Tmax=(5000,'K'), comment=\"\"\"Thermo group additivity estimation: group(Cs-CsHHH) + gauche(Cs(CsRRR)) + other(R) + group(Cs-CsHHH) + gauche(Cs(CsRRR)) + other(R) + radical(CCJ)\"\"\"), molecule=[Molecule(SMILES=\"C[CH2]\")]), Species(index=8, label=\"C=C\", thermo=NASA(polynomials=[NASAPolynomial(coeffs=[3.97974,-0.00757559,5.52973e-05,-6.36221e-08,2.31767e-11,5077.46,4.04623], Tmin=(100,'K'), Tmax=(940.45,'K')), NASAPolynomial(coeffs=[5.203,0.00782442,-2.12683e-06,3.7969e-10,-2.9467e-14,3936.28,-6.62412], Tmin=(940.45,'K'), Tmax=(5000,'K'))], Tmin=(100,'K'), Tmax=(5000,'K'), comment=\"\"\"Thermo group additivity estimation: group(Cds-CdsHH) + gauche(CsOsCdSs) + other(R) + group(Cds-CdsHH) + gauche(CsOsCdSs) + other(R)\"\"\"), molecule=[Molecule(SMILES=\"C=C\")]))])"
      ]
     },
     "metadata": {},
     "output_type": "display_data"
    },
    {
     "name": "stdout",
     "output_type": "stream",
     "text": [
      "\n",
      "**********************************************************************************\n",
      "rxn#7: C[CH2](3) + C[CH2](3) <=> C=C(8) + ethane(1): flux = 1.79485e-05 \n"
     ]
    },
    {
     "data": {
      "image/png": "[encoded data removed]",
      "text/plain": [
       "Reaction(index=7, reactants=[Species(index=3, label=\"C[CH2]\", thermo=NASA(polynomials=[NASAPolynomial(coeffs=[3.8219,-0.00343436,5.09286e-05,-6.20252e-08,2.37092e-11,13066,7.61622], Tmin=(100,'K'), Tmax=(900.3,'K')), NASAPolynomial(coeffs=[5.15605,0.00943151,-1.81963e-06,2.21236e-10,-1.43515e-14,12064.1,-2.9101], Tmin=(900.3,'K'), Tmax=(5000,'K'))], Tmin=(100,'K'), Tmax=(5000,'K'), comment=\"\"\"Thermo group additivity estimation: group(Cs-CsHHH) + gauche(Cs(CsRRR)) + other(R) + group(Cs-CsHHH) + gauche(Cs(CsRRR)) + other(R) + radical(CCJ)\"\"\"), molecule=[Molecule(SMILES=\"C[CH2]\")]), Species(index=3, label=\"C[CH2]\", thermo=NASA(polynomials=[NASAPolynomial(coeffs=[3.8219,-0.00343436,5.09286e-05,-6.20252e-08,2.37092e-11,13066,7.61622], Tmin=(100,'K'), Tmax=(900.3,'K')), NASAPolynomial(coeffs=[5.15605,0.00943151,-1.81963e-06,2.21236e-10,-1.43515e-14,12064.1,-2.9101], Tmin=(900.3,'K'), Tmax=(5000,'K'))], Tmin=(100,'K'), Tmax=(5000,'K'), comment=\"\"\"Thermo group additivity estimation: group(Cs-CsHHH) + gauche(Cs(CsRRR)) + other(R) + group(Cs-CsHHH) + gauche(Cs(CsRRR)) + other(R) + radical(CCJ)\"\"\"), molecule=[Molecule(SMILES=\"C[CH2]\")])], products=[Species(index=8, label=\"C=C\", thermo=NASA(polynomials=[NASAPolynomial(coeffs=[3.97974,-0.00757559,5.52973e-05,-6.36221e-08,2.31767e-11,5077.46,4.04623], Tmin=(100,'K'), Tmax=(940.45,'K')), NASAPolynomial(coeffs=[5.203,0.00782442,-2.12683e-06,3.7969e-10,-2.9467e-14,3936.28,-6.62412], Tmin=(940.45,'K'), Tmax=(5000,'K'))], Tmin=(100,'K'), Tmax=(5000,'K'), comment=\"\"\"Thermo group additivity estimation: group(Cds-CdsHH) + gauche(CsOsCdSs) + other(R) + group(Cds-CdsHH) + gauche(CsOsCdSs) + other(R)\"\"\"), molecule=[Molecule(SMILES=\"C=C\")]), Species(index=1, label=\"ethane\", thermo=NASA(polynomials=[NASAPolynomial(coeffs=[3.78033,-0.00324263,5.52381e-05,-6.38581e-08,2.28637e-11,-11620.3,5.21034], Tmin=(100,'K'), Tmax=(954.51,'K')), NASAPolynomial(coeffs=[4.58983,0.0141508,-4.75962e-06,8.60294e-10,-6.21717e-14,-12721.8,-3.61739], Tmin=(954.51,'K'), Tmax=(5000,'K'))], Tmin=(100,'K'), Tmax=(5000,'K'), comment=\"\"\"Thermo group additivity estimation: group(Cs-CsHHH) + gauche(Cs(CsRRR)) + other(R) + group(Cs-CsHHH) + gauche(Cs(CsRRR)) + other(R)\"\"\"), molecule=[Molecule(SMILES=\"CC\")])], kinetics=Arrhenius(A=(6.9e+13,'cm^3/(mol*s)'), n=-0.35, Ea=(0,'kcal/mol'), T0=(1,'K'), comment=\"\"\"Exact match found for rate rule [C_rad/H2/Cs;Cmethyl_Csrad]\n",
       "Multiplied by reaction path degeneracy 3\"\"\"), pairs=[(Species(index=3, label=\"C[CH2]\", thermo=NASA(polynomials=[NASAPolynomial(coeffs=[3.8219,-0.00343436,5.09286e-05,-6.20252e-08,2.37092e-11,13066,7.61622], Tmin=(100,'K'), Tmax=(900.3,'K')), NASAPolynomial(coeffs=[5.15605,0.00943151,-1.81963e-06,2.21236e-10,-1.43515e-14,12064.1,-2.9101], Tmin=(900.3,'K'), Tmax=(5000,'K'))], Tmin=(100,'K'), Tmax=(5000,'K'), comment=\"\"\"Thermo group additivity estimation: group(Cs-CsHHH) + gauche(Cs(CsRRR)) + other(R) + group(Cs-CsHHH) + gauche(Cs(CsRRR)) + other(R) + radical(CCJ)\"\"\"), molecule=[Molecule(SMILES=\"C[CH2]\")]), Species(index=1, label=\"ethane\", thermo=NASA(polynomials=[NASAPolynomial(coeffs=[3.78033,-0.00324263,5.52381e-05,-6.38581e-08,2.28637e-11,-11620.3,5.21034], Tmin=(100,'K'), Tmax=(954.51,'K')), NASAPolynomial(coeffs=[4.58983,0.0141508,-4.75962e-06,8.60294e-10,-6.21717e-14,-12721.8,-3.61739], Tmin=(954.51,'K'), Tmax=(5000,'K'))], Tmin=(100,'K'), Tmax=(5000,'K'), comment=\"\"\"Thermo group additivity estimation: group(Cs-CsHHH) + gauche(Cs(CsRRR)) + other(R) + group(Cs-CsHHH) + gauche(Cs(CsRRR)) + other(R)\"\"\"), molecule=[Molecule(SMILES=\"CC\")])), (Species(index=3, label=\"C[CH2]\", thermo=NASA(polynomials=[NASAPolynomial(coeffs=[3.8219,-0.00343436,5.09286e-05,-6.20252e-08,2.37092e-11,13066,7.61622], Tmin=(100,'K'), Tmax=(900.3,'K')), NASAPolynomial(coeffs=[5.15605,0.00943151,-1.81963e-06,2.21236e-10,-1.43515e-14,12064.1,-2.9101], Tmin=(900.3,'K'), Tmax=(5000,'K'))], Tmin=(100,'K'), Tmax=(5000,'K'), comment=\"\"\"Thermo group additivity estimation: group(Cs-CsHHH) + gauche(Cs(CsRRR)) + other(R) + group(Cs-CsHHH) + gauche(Cs(CsRRR)) + other(R) + radical(CCJ)\"\"\"), molecule=[Molecule(SMILES=\"C[CH2]\")]), Species(index=8, label=\"C=C\", thermo=NASA(polynomials=[NASAPolynomial(coeffs=[3.97974,-0.00757559,5.52973e-05,-6.36221e-08,2.31767e-11,5077.46,4.04623], Tmin=(100,'K'), Tmax=(940.45,'K')), NASAPolynomial(coeffs=[5.203,0.00782442,-2.12683e-06,3.7969e-10,-2.9467e-14,3936.28,-6.62412], Tmin=(940.45,'K'), Tmax=(5000,'K'))], Tmin=(100,'K'), Tmax=(5000,'K'), comment=\"\"\"Thermo group additivity estimation: group(Cds-CdsHH) + gauche(CsOsCdSs) + other(R) + group(Cds-CdsHH) + gauche(CsOsCdSs) + other(R)\"\"\"), molecule=[Molecule(SMILES=\"C=C\")]))])"
      ]
     },
     "metadata": {},
     "output_type": "display_data"
    },
    {
     "name": "stdout",
     "output_type": "stream",
     "text": [
      "***************************************\n",
      "\n",
      "TOTAL flux from h_abs and disp is 3.5101303e-05.\n"
     ]
    }
   ],
   "source": [
    "print ''\n",
    "print 'The step you see currently is between the two species {0}'.format(step_pair)\n",
    "print ''\n",
    "print 'Positive flux in below means positive production of 1st node of the pair.'\n",
    "print ''\n",
    "print 'This step have {0} H_Abstration and Disproportionation in total.'.format(len(h_abs_rxns + disp_rxns))\n",
    "\n",
    "flux_threshold = 1e-9\n",
    "\n",
    "print ''\n",
    "print 'TO avoid too much printout, the reactions shown below have fluxes above {0}.'.format(flux_threshold)\n",
    "\n",
    "total_flux = 0\n",
    "rxn_flux_tups = []\n",
    "for rxn in h_abs_rxns + disp_rxns:\n",
    "    flux = graph_edges_dict_simple[step_pair][rxn][timepoint_index]\n",
    "    \n",
    "    rxn_flux_tups.append((rxn, flux))\n",
    "\n",
    "rxn_flux_tups = sorted(rxn_flux_tups, key=lambda tup: tup[1], reverse=False)\n",
    "for tup in rxn_flux_tups:\n",
    "    rxn = tup[0]\n",
    "    flux = tup[1]\n",
    "    if flux > flux_threshold:\n",
    "        total_flux += flux\n",
    "        print ''\n",
    "        print \"**********************************************************************************\"\n",
    "        print \"rxn#{0}: {1}: flux = {2} \".format(rxn.index, str(rxn), flux) # \n",
    "        display(rxn) \n",
    "print \"***************************************\"\n",
    "print ''\n",
    "print \"TOTAL flux from h_abs and disp is {0}.\".format(total_flux)\n"
   ]
  },
  {
   "cell_type": "markdown",
   "metadata": {},
   "source": [
    "## [user input] Functionality 3: find paths towards a particular species\n",
    "\n",
    "Similar to functionality 2, please specify\n",
    "\n",
    "Please specify\n",
    "\n",
    "- target species\n",
    "\n",
    "- depth of pathway you want search, e.g., depth = 2 means search pathways 2 steps up beyond target species\n",
    "\n",
    "- path_top_list, e.g., [0, 3] means 1st step of the pathway takes the most significant branch and 2nd step would be the third most siginificant branch"
   ]
  },
  {
   "cell_type": "code",
   "execution_count": 25,
   "metadata": {
    "collapsed": false
   },
   "outputs": [],
   "source": [
    "target = \"C#C(25)\"\n",
    "depth = 2\n",
    "path_top_list = [0, 0]"
   ]
  },
  {
   "cell_type": "code",
   "execution_count": 21,
   "metadata": {
    "collapsed": false
   },
   "outputs": [
    {
     "name": "stdout",
     "output_type": "stream",
     "text": [
      "\n",
      "\t Pathway Report \n",
      "======================================\n",
      "The pathway you are intested in has 2 steps.\n",
      "\n",
      "total product flux for C#C(25) is 0.0001685005.\n",
      "\n",
      "\n",
      "\n",
      "Step1 \t\t\t\t Flux\n",
      "******************************************\n",
      "C#C(25) <-- C2H3(13): \t\t 0.0001685005362\n",
      "******************************************\n",
      "\n",
      "Example reaction: rxn#18\n",
      "\n",
      "C#C(25) + [H](4) <=> [CH]=C(13): flux = 0.0001646951 \n"
     ]
    },
    {
     "data": {
      "image/png": "[encoded data removed]",
      "text/plain": [
       "Reaction(index=18, reactants=[Species(index=25, label=\"C#C\", thermo=NASA(polynomials=[NASAPolynomial(coeffs=[3.03575,0.00771231,2.53525e-06,-1.08138e-08,5.50779e-12,25852.6,4.54459], Tmin=(100,'K'), Tmax=(888.62,'K')), NASAPolynomial(coeffs=[5.76203,0.00237162,-1.496e-07,-2.19113e-11,2.21744e-15,25094.5,-9.82599], Tmin=(888.62,'K'), Tmax=(5000,'K'))], Tmin=(100,'K'), Tmax=(5000,'K'), comment=\"\"\"Thermo group additivity estimation: group(Ct-CtH) + other(R) + group(Ct-CtH) + other(R)\"\"\"), molecule=[Molecule(SMILES=\"C#C\")]), Species(index=4, label=\"[H]\", thermo=NASA(polynomials=[NASAPolynomial(coeffs=[2.5,-1.91243e-12,2.45329e-15,-1.02377e-18,1.31369e-22,25474.2,-0.444973], Tmin=(100,'K'), Tmax=(4563.27,'K')), NASAPolynomial(coeffs=[2.50167,-1.43051e-06,4.6025e-10,-6.57826e-14,3.52412e-18,25472.7,-0.455578], Tmin=(4563.27,'K'), Tmax=(5000,'K'))], Tmin=(100,'K'), Tmax=(5000,'K'), comment=\"\"\"Thermo library: primaryThermoLibrary\"\"\"), molecule=[Molecule(SMILES=\"[H]\")])], products=[Species(index=13, label=\"[CH]=C\", thermo=NASA(polynomials=[NASAPolynomial(coeffs=[3.90668,-0.00406204,3.86766e-05,-4.62957e-08,1.72892e-11,34797.2,6.098], Tmin=(100,'K'), Tmax=(931.97,'K')), NASAPolynomial(coeffs=[5.44806,0.0049834,-1.08811e-06,1.79815e-10,-1.45078e-14,33829.7,-4.87859], Tmin=(931.97,'K'), Tmax=(5000,'K'))], Tmin=(100,'K'), Tmax=(5000,'K'), comment=\"\"\"Thermo group additivity estimation: group(Cds-CdsHH) + gauche(CsOsCdSs) + other(R) + group(Cds-CdsHH) + gauche(CsOsCdSs) + other(R) + radical(Cds_P)\"\"\"), molecule=[Molecule(SMILES=\"[CH]=C\")])], kinetics=Arrhenius(A=(1.03e+09,'cm^3/(mol*s)'), n=1.64, Ea=(2.11,'kcal/mol'), T0=(1,'K'), comment=\"\"\"Exact match found for rate rule [Ct-H_Ct-H;HJ]\n",
       "Multiplied by reaction path degeneracy 2\"\"\"), pairs=[(Species(index=25, label=\"C#C\", thermo=NASA(polynomials=[NASAPolynomial(coeffs=[3.03575,0.00771231,2.53525e-06,-1.08138e-08,5.50779e-12,25852.6,4.54459], Tmin=(100,'K'), Tmax=(888.62,'K')), NASAPolynomial(coeffs=[5.76203,0.00237162,-1.496e-07,-2.19113e-11,2.21744e-15,25094.5,-9.82599], Tmin=(888.62,'K'), Tmax=(5000,'K'))], Tmin=(100,'K'), Tmax=(5000,'K'), comment=\"\"\"Thermo group additivity estimation: group(Ct-CtH) + other(R) + group(Ct-CtH) + other(R)\"\"\"), molecule=[Molecule(SMILES=\"C#C\")]), Species(index=13, label=\"[CH]=C\", thermo=NASA(polynomials=[NASAPolynomial(coeffs=[3.90668,-0.00406204,3.86766e-05,-4.62957e-08,1.72892e-11,34797.2,6.098], Tmin=(100,'K'), Tmax=(931.97,'K')), NASAPolynomial(coeffs=[5.44806,0.0049834,-1.08811e-06,1.79815e-10,-1.45078e-14,33829.7,-4.87859], Tmin=(931.97,'K'), Tmax=(5000,'K'))], Tmin=(100,'K'), Tmax=(5000,'K'), comment=\"\"\"Thermo group additivity estimation: group(Cds-CdsHH) + gauche(CsOsCdSs) + other(R) + group(Cds-CdsHH) + gauche(CsOsCdSs) + other(R) + radical(Cds_P)\"\"\"), molecule=[Molecule(SMILES=\"[CH]=C\")])), (Species(index=4, label=\"[H]\", thermo=NASA(polynomials=[NASAPolynomial(coeffs=[2.5,-1.91243e-12,2.45329e-15,-1.02377e-18,1.31369e-22,25474.2,-0.444973], Tmin=(100,'K'), Tmax=(4563.27,'K')), NASAPolynomial(coeffs=[2.50167,-1.43051e-06,4.6025e-10,-6.57826e-14,3.52412e-18,25472.7,-0.455578], Tmin=(4563.27,'K'), Tmax=(5000,'K'))], Tmin=(100,'K'), Tmax=(5000,'K'), comment=\"\"\"Thermo library: primaryThermoLibrary\"\"\"), molecule=[Molecule(SMILES=\"[H]\")]), Species(index=13, label=\"[CH]=C\", thermo=NASA(polynomials=[NASAPolynomial(coeffs=[3.90668,-0.00406204,3.86766e-05,-4.62957e-08,1.72892e-11,34797.2,6.098], Tmin=(100,'K'), Tmax=(931.97,'K')), NASAPolynomial(coeffs=[5.44806,0.0049834,-1.08811e-06,1.79815e-10,-1.45078e-14,33829.7,-4.87859], Tmin=(931.97,'K'), Tmax=(5000,'K'))], Tmin=(100,'K'), Tmax=(5000,'K'), comment=\"\"\"Thermo group additivity estimation: group(Cds-CdsHH) + gauche(CsOsCdSs) + other(R) + group(Cds-CdsHH) + gauche(CsOsCdSs) + other(R) + radical(Cds_P)\"\"\"), molecule=[Molecule(SMILES=\"[CH]=C\")]))])"
      ]
     },
     "metadata": {},
     "output_type": "display_data"
    },
    {
     "name": "stdout",
     "output_type": "stream",
     "text": [
      "\n",
      "Example Disproportionation: rxn#22(1/4 Disp)\n",
      "\n",
      "[CH]=C(13) + [CH]=C(13) <=> C=C(8) + C#C(25)\n"
     ]
    },
    {
     "data": {
      "image/png": "[encoded data removed]",
      "text/plain": [
       "Reaction(index=22, reactants=[Species(index=13, label=\"[CH]=C\", thermo=NASA(polynomials=[NASAPolynomial(coeffs=[3.90668,-0.00406204,3.86766e-05,-4.62957e-08,1.72892e-11,34797.2,6.098], Tmin=(100,'K'), Tmax=(931.97,'K')), NASAPolynomial(coeffs=[5.44806,0.0049834,-1.08811e-06,1.79815e-10,-1.45078e-14,33829.7,-4.87859], Tmin=(931.97,'K'), Tmax=(5000,'K'))], Tmin=(100,'K'), Tmax=(5000,'K'), comment=\"\"\"Thermo group additivity estimation: group(Cds-CdsHH) + gauche(CsOsCdSs) + other(R) + group(Cds-CdsHH) + gauche(CsOsCdSs) + other(R) + radical(Cds_P)\"\"\"), molecule=[Molecule(SMILES=\"[CH]=C\")]), Species(index=13, label=\"[CH]=C\", thermo=NASA(polynomials=[NASAPolynomial(coeffs=[3.90668,-0.00406204,3.86766e-05,-4.62957e-08,1.72892e-11,34797.2,6.098], Tmin=(100,'K'), Tmax=(931.97,'K')), NASAPolynomial(coeffs=[5.44806,0.0049834,-1.08811e-06,1.79815e-10,-1.45078e-14,33829.7,-4.87859], Tmin=(931.97,'K'), Tmax=(5000,'K'))], Tmin=(100,'K'), Tmax=(5000,'K'), comment=\"\"\"Thermo group additivity estimation: group(Cds-CdsHH) + gauche(CsOsCdSs) + other(R) + group(Cds-CdsHH) + gauche(CsOsCdSs) + other(R) + radical(Cds_P)\"\"\"), molecule=[Molecule(SMILES=\"[CH]=C\")])], products=[Species(index=8, label=\"C=C\", thermo=NASA(polynomials=[NASAPolynomial(coeffs=[3.97974,-0.00757559,5.52973e-05,-6.36221e-08,2.31767e-11,5077.46,4.04623], Tmin=(100,'K'), Tmax=(940.45,'K')), NASAPolynomial(coeffs=[5.203,0.00782442,-2.12683e-06,3.7969e-10,-2.9467e-14,3936.28,-6.62412], Tmin=(940.45,'K'), Tmax=(5000,'K'))], Tmin=(100,'K'), Tmax=(5000,'K'), comment=\"\"\"Thermo group additivity estimation: group(Cds-CdsHH) + gauche(CsOsCdSs) + other(R) + group(Cds-CdsHH) + gauche(CsOsCdSs) + other(R)\"\"\"), molecule=[Molecule(SMILES=\"C=C\")]), Species(index=25, label=\"C#C\", thermo=NASA(polynomials=[NASAPolynomial(coeffs=[3.03575,0.00771231,2.53525e-06,-1.08138e-08,5.50779e-12,25852.6,4.54459], Tmin=(100,'K'), Tmax=(888.62,'K')), NASAPolynomial(coeffs=[5.76203,0.00237162,-1.496e-07,-2.19113e-11,2.21744e-15,25094.5,-9.82599], Tmin=(888.62,'K'), Tmax=(5000,'K'))], Tmin=(100,'K'), Tmax=(5000,'K'), comment=\"\"\"Thermo group additivity estimation: group(Ct-CtH) + other(R) + group(Ct-CtH) + other(R)\"\"\"), molecule=[Molecule(SMILES=\"C#C\")])], kinetics=Arrhenius(A=(6.447e+06,'cm^3/(mol*s)'), n=1.902, Ea=(-1.131,'kcal/mol'), T0=(1,'K'), comment=\"\"\"Estimated using template [Y_rad;CH_d_Rrad] for rate rule [Cd_pri_rad;Cd_Cdrad]\n",
       "Multiplied by reaction path degeneracy 2\"\"\"), pairs=[(Species(index=13, label=\"[CH]=C\", thermo=NASA(polynomials=[NASAPolynomial(coeffs=[3.90668,-0.00406204,3.86766e-05,-4.62957e-08,1.72892e-11,34797.2,6.098], Tmin=(100,'K'), Tmax=(931.97,'K')), NASAPolynomial(coeffs=[5.44806,0.0049834,-1.08811e-06,1.79815e-10,-1.45078e-14,33829.7,-4.87859], Tmin=(931.97,'K'), Tmax=(5000,'K'))], Tmin=(100,'K'), Tmax=(5000,'K'), comment=\"\"\"Thermo group additivity estimation: group(Cds-CdsHH) + gauche(CsOsCdSs) + other(R) + group(Cds-CdsHH) + gauche(CsOsCdSs) + other(R) + radical(Cds_P)\"\"\"), molecule=[Molecule(SMILES=\"[CH]=C\")]), Species(index=8, label=\"C=C\", thermo=NASA(polynomials=[NASAPolynomial(coeffs=[3.97974,-0.00757559,5.52973e-05,-6.36221e-08,2.31767e-11,5077.46,4.04623], Tmin=(100,'K'), Tmax=(940.45,'K')), NASAPolynomial(coeffs=[5.203,0.00782442,-2.12683e-06,3.7969e-10,-2.9467e-14,3936.28,-6.62412], Tmin=(940.45,'K'), Tmax=(5000,'K'))], Tmin=(100,'K'), Tmax=(5000,'K'), comment=\"\"\"Thermo group additivity estimation: group(Cds-CdsHH) + gauche(CsOsCdSs) + other(R) + group(Cds-CdsHH) + gauche(CsOsCdSs) + other(R)\"\"\"), molecule=[Molecule(SMILES=\"C=C\")])), (Species(index=13, label=\"[CH]=C\", thermo=NASA(polynomials=[NASAPolynomial(coeffs=[3.90668,-0.00406204,3.86766e-05,-4.62957e-08,1.72892e-11,34797.2,6.098], Tmin=(100,'K'), Tmax=(931.97,'K')), NASAPolynomial(coeffs=[5.44806,0.0049834,-1.08811e-06,1.79815e-10,-1.45078e-14,33829.7,-4.87859], Tmin=(931.97,'K'), Tmax=(5000,'K'))], Tmin=(100,'K'), Tmax=(5000,'K'), comment=\"\"\"Thermo group additivity estimation: group(Cds-CdsHH) + gauche(CsOsCdSs) + other(R) + group(Cds-CdsHH) + gauche(CsOsCdSs) + other(R) + radical(Cds_P)\"\"\"), molecule=[Molecule(SMILES=\"[CH]=C\")]), Species(index=25, label=\"C#C\", thermo=NASA(polynomials=[NASAPolynomial(coeffs=[3.03575,0.00771231,2.53525e-06,-1.08138e-08,5.50779e-12,25852.6,4.54459], Tmin=(100,'K'), Tmax=(888.62,'K')), NASAPolynomial(coeffs=[5.76203,0.00237162,-1.496e-07,-2.19113e-11,2.21744e-15,25094.5,-9.82599], Tmin=(888.62,'K'), Tmax=(5000,'K'))], Tmin=(100,'K'), Tmax=(5000,'K'), comment=\"\"\"Thermo group additivity estimation: group(Ct-CtH) + other(R) + group(Ct-CtH) + other(R)\"\"\"), molecule=[Molecule(SMILES=\"C#C\")]))])"
      ]
     },
     "metadata": {},
     "output_type": "display_data"
    },
    {
     "name": "stdout",
     "output_type": "stream",
     "text": [
      "\n",
      "\n",
      "\n",
      "Step2 \t\t\t\t Flux\n",
      "******************************************\n",
      "C2H3(13) <-- C2H4(8): \t\t 0.0001682719323\n",
      "******************************************\n",
      "\n",
      "Example reaction: rxn#13\n",
      "\n",
      "[CH]=C(13) + [H](4) <=> C=C(8): flux = -3.402726e-06 \n"
     ]
    },
    {
     "data": {
      "image/png": "[encoded data removed]",
      "text/plain": [
       "Reaction(index=13, reactants=[Species(index=13, label=\"[CH]=C\", thermo=NASA(polynomials=[NASAPolynomial(coeffs=[3.90668,-0.00406204,3.86766e-05,-4.62957e-08,1.72892e-11,34797.2,6.098], Tmin=(100,'K'), Tmax=(931.97,'K')), NASAPolynomial(coeffs=[5.44806,0.0049834,-1.08811e-06,1.79815e-10,-1.45078e-14,33829.7,-4.87859], Tmin=(931.97,'K'), Tmax=(5000,'K'))], Tmin=(100,'K'), Tmax=(5000,'K'), comment=\"\"\"Thermo group additivity estimation: group(Cds-CdsHH) + gauche(CsOsCdSs) + other(R) + group(Cds-CdsHH) + gauche(CsOsCdSs) + other(R) + radical(Cds_P)\"\"\"), molecule=[Molecule(SMILES=\"[CH]=C\")]), Species(index=4, label=\"[H]\", thermo=NASA(polynomials=[NASAPolynomial(coeffs=[2.5,-1.91243e-12,2.45329e-15,-1.02377e-18,1.31369e-22,25474.2,-0.444973], Tmin=(100,'K'), Tmax=(4563.27,'K')), NASAPolynomial(coeffs=[2.50167,-1.43051e-06,4.6025e-10,-6.57826e-14,3.52412e-18,25472.7,-0.455578], Tmin=(4563.27,'K'), Tmax=(5000,'K'))], Tmin=(100,'K'), Tmax=(5000,'K'), comment=\"\"\"Thermo library: primaryThermoLibrary\"\"\"), molecule=[Molecule(SMILES=\"[H]\")])], products=[Species(index=8, label=\"C=C\", thermo=NASA(polynomials=[NASAPolynomial(coeffs=[3.97974,-0.00757559,5.52973e-05,-6.36221e-08,2.31767e-11,5077.46,4.04623], Tmin=(100,'K'), Tmax=(940.45,'K')), NASAPolynomial(coeffs=[5.203,0.00782442,-2.12683e-06,3.7969e-10,-2.9467e-14,3936.28,-6.62412], Tmin=(940.45,'K'), Tmax=(5000,'K'))], Tmin=(100,'K'), Tmax=(5000,'K'), comment=\"\"\"Thermo group additivity estimation: group(Cds-CdsHH) + gauche(CsOsCdSs) + other(R) + group(Cds-CdsHH) + gauche(CsOsCdSs) + other(R)\"\"\"), molecule=[Molecule(SMILES=\"C=C\")])], kinetics=Arrhenius(A=(1.21e+14,'cm^3/(mol*s)'), n=0, Ea=(0,'kcal/mol'), T0=(1,'K'), comment=\"\"\"Exact match found for rate rule [Cd_pri_rad;H_rad]\"\"\"), pairs=[(Species(index=13, label=\"[CH]=C\", thermo=NASA(polynomials=[NASAPolynomial(coeffs=[3.90668,-0.00406204,3.86766e-05,-4.62957e-08,1.72892e-11,34797.2,6.098], Tmin=(100,'K'), Tmax=(931.97,'K')), NASAPolynomial(coeffs=[5.44806,0.0049834,-1.08811e-06,1.79815e-10,-1.45078e-14,33829.7,-4.87859], Tmin=(931.97,'K'), Tmax=(5000,'K'))], Tmin=(100,'K'), Tmax=(5000,'K'), comment=\"\"\"Thermo group additivity estimation: group(Cds-CdsHH) + gauche(CsOsCdSs) + other(R) + group(Cds-CdsHH) + gauche(CsOsCdSs) + other(R) + radical(Cds_P)\"\"\"), molecule=[Molecule(SMILES=\"[CH]=C\")]), Species(index=8, label=\"C=C\", thermo=NASA(polynomials=[NASAPolynomial(coeffs=[3.97974,-0.00757559,5.52973e-05,-6.36221e-08,2.31767e-11,5077.46,4.04623], Tmin=(100,'K'), Tmax=(940.45,'K')), NASAPolynomial(coeffs=[5.203,0.00782442,-2.12683e-06,3.7969e-10,-2.9467e-14,3936.28,-6.62412], Tmin=(940.45,'K'), Tmax=(5000,'K'))], Tmin=(100,'K'), Tmax=(5000,'K'), comment=\"\"\"Thermo group additivity estimation: group(Cds-CdsHH) + gauche(CsOsCdSs) + other(R) + group(Cds-CdsHH) + gauche(CsOsCdSs) + other(R)\"\"\"), molecule=[Molecule(SMILES=\"C=C\")])), (Species(index=4, label=\"[H]\", thermo=NASA(polynomials=[NASAPolynomial(coeffs=[2.5,-1.91243e-12,2.45329e-15,-1.02377e-18,1.31369e-22,25474.2,-0.444973], Tmin=(100,'K'), Tmax=(4563.27,'K')), NASAPolynomial(coeffs=[2.50167,-1.43051e-06,4.6025e-10,-6.57826e-14,3.52412e-18,25472.7,-0.455578], Tmin=(4563.27,'K'), Tmax=(5000,'K'))], Tmin=(100,'K'), Tmax=(5000,'K'), comment=\"\"\"Thermo library: primaryThermoLibrary\"\"\"), molecule=[Molecule(SMILES=\"[H]\")]), Species(index=8, label=\"C=C\", thermo=NASA(polynomials=[NASAPolynomial(coeffs=[3.97974,-0.00757559,5.52973e-05,-6.36221e-08,2.31767e-11,5077.46,4.04623], Tmin=(100,'K'), Tmax=(940.45,'K')), NASAPolynomial(coeffs=[5.203,0.00782442,-2.12683e-06,3.7969e-10,-2.9467e-14,3936.28,-6.62412], Tmin=(940.45,'K'), Tmax=(5000,'K'))], Tmin=(100,'K'), Tmax=(5000,'K'), comment=\"\"\"Thermo group additivity estimation: group(Cds-CdsHH) + gauche(CsOsCdSs) + other(R) + group(Cds-CdsHH) + gauche(CsOsCdSs) + other(R)\"\"\"), molecule=[Molecule(SMILES=\"C=C\")]))])"
      ]
     },
     "metadata": {},
     "output_type": "display_data"
    },
    {
     "name": "stdout",
     "output_type": "stream",
     "text": [
      "\n",
      "Example H_Abstraction: rxn#14(1/3 H_Abs)\n",
      "\n",
      "[CH]=C(13) + C(6) <=> C=C(8) + [CH3](2)\n"
     ]
    },
    {
     "data": {
      "image/png": "[encoded data removed]",
      "text/plain": [
       "Reaction(index=14, reactants=[Species(index=13, label=\"[CH]=C\", thermo=NASA(polynomials=[NASAPolynomial(coeffs=[3.90668,-0.00406204,3.86766e-05,-4.62957e-08,1.72892e-11,34797.2,6.098], Tmin=(100,'K'), Tmax=(931.97,'K')), NASAPolynomial(coeffs=[5.44806,0.0049834,-1.08811e-06,1.79815e-10,-1.45078e-14,33829.7,-4.87859], Tmin=(931.97,'K'), Tmax=(5000,'K'))], Tmin=(100,'K'), Tmax=(5000,'K'), comment=\"\"\"Thermo group additivity estimation: group(Cds-CdsHH) + gauche(CsOsCdSs) + other(R) + group(Cds-CdsHH) + gauche(CsOsCdSs) + other(R) + radical(Cds_P)\"\"\"), molecule=[Molecule(SMILES=\"[CH]=C\")]), Species(index=6, label=\"C\", thermo=NASA(polynomials=[NASAPolynomial(coeffs=[4.20541,-0.00535556,2.51123e-05,-2.13762e-08,5.97522e-12,-10161.9,-0.921275], Tmin=(100,'K'), Tmax=(1084.12,'K')), NASAPolynomial(coeffs=[0.908272,0.0114541,-4.57173e-06,8.2919e-10,-5.66314e-14,-9719.98,13.9931], Tmin=(1084.12,'K'), Tmax=(5000,'K'))], Tmin=(100,'K'), Tmax=(5000,'K'), comment=\"\"\"Thermo library: primaryThermoLibrary\"\"\"), molecule=[Molecule(SMILES=\"C\")])], products=[Species(index=8, label=\"C=C\", thermo=NASA(polynomials=[NASAPolynomial(coeffs=[3.97974,-0.00757559,5.52973e-05,-6.36221e-08,2.31767e-11,5077.46,4.04623], Tmin=(100,'K'), Tmax=(940.45,'K')), NASAPolynomial(coeffs=[5.203,0.00782442,-2.12683e-06,3.7969e-10,-2.9467e-14,3936.28,-6.62412], Tmin=(940.45,'K'), Tmax=(5000,'K'))], Tmin=(100,'K'), Tmax=(5000,'K'), comment=\"\"\"Thermo group additivity estimation: group(Cds-CdsHH) + gauche(CsOsCdSs) + other(R) + group(Cds-CdsHH) + gauche(CsOsCdSs) + other(R)\"\"\"), molecule=[Molecule(SMILES=\"C=C\")]), Species(index=2, label=\"[CH3]\", thermo=NASA(polynomials=[NASAPolynomial(coeffs=[3.91547,0.00184154,3.48744e-06,-3.3275e-09,8.49964e-13,16285.6,0.351739], Tmin=(100,'K'), Tmax=(1337.62,'K')), NASAPolynomial(coeffs=[3.54145,0.00476788,-1.82149e-06,3.28878e-10,-2.22547e-14,16224,1.6604], Tmin=(1337.62,'K'), Tmax=(5000,'K'))], Tmin=(100,'K'), Tmax=(5000,'K'), comment=\"\"\"Thermo library: primaryThermoLibrary + radical(CH3)\"\"\"), molecule=[Molecule(SMILES=\"[CH3]\")])], kinetics=Arrhenius(A=(0.05137,'cm^3/(mol*s)'), n=4.133, Ea=(3.682,'kcal/mol'), T0=(1,'K'), comment=\"\"\"Estimated using average of templates [Cs_H;Cd_Cd\\H2_pri_rad] + [C_methane;Cd_pri_rad] for rate rule [C_methane;Cd_Cd\\H2_pri_rad]\n",
       "Multiplied by reaction path degeneracy 4\"\"\"), pairs=[(Species(index=6, label=\"C\", thermo=NASA(polynomials=[NASAPolynomial(coeffs=[4.20541,-0.00535556,2.51123e-05,-2.13762e-08,5.97522e-12,-10161.9,-0.921275], Tmin=(100,'K'), Tmax=(1084.12,'K')), NASAPolynomial(coeffs=[0.908272,0.0114541,-4.57173e-06,8.2919e-10,-5.66314e-14,-9719.98,13.9931], Tmin=(1084.12,'K'), Tmax=(5000,'K'))], Tmin=(100,'K'), Tmax=(5000,'K'), comment=\"\"\"Thermo library: primaryThermoLibrary\"\"\"), molecule=[Molecule(SMILES=\"C\")]), Species(index=2, label=\"[CH3]\", thermo=NASA(polynomials=[NASAPolynomial(coeffs=[3.91547,0.00184154,3.48744e-06,-3.3275e-09,8.49964e-13,16285.6,0.351739], Tmin=(100,'K'), Tmax=(1337.62,'K')), NASAPolynomial(coeffs=[3.54145,0.00476788,-1.82149e-06,3.28878e-10,-2.22547e-14,16224,1.6604], Tmin=(1337.62,'K'), Tmax=(5000,'K'))], Tmin=(100,'K'), Tmax=(5000,'K'), comment=\"\"\"Thermo library: primaryThermoLibrary + radical(CH3)\"\"\"), molecule=[Molecule(SMILES=\"[CH3]\")])), (Species(index=13, label=\"[CH]=C\", thermo=NASA(polynomials=[NASAPolynomial(coeffs=[3.90668,-0.00406204,3.86766e-05,-4.62957e-08,1.72892e-11,34797.2,6.098], Tmin=(100,'K'), Tmax=(931.97,'K')), NASAPolynomial(coeffs=[5.44806,0.0049834,-1.08811e-06,1.79815e-10,-1.45078e-14,33829.7,-4.87859], Tmin=(931.97,'K'), Tmax=(5000,'K'))], Tmin=(100,'K'), Tmax=(5000,'K'), comment=\"\"\"Thermo group additivity estimation: group(Cds-CdsHH) + gauche(CsOsCdSs) + other(R) + group(Cds-CdsHH) + gauche(CsOsCdSs) + other(R) + radical(Cds_P)\"\"\"), molecule=[Molecule(SMILES=\"[CH]=C\")]), Species(index=8, label=\"C=C\", thermo=NASA(polynomials=[NASAPolynomial(coeffs=[3.97974,-0.00757559,5.52973e-05,-6.36221e-08,2.31767e-11,5077.46,4.04623], Tmin=(100,'K'), Tmax=(940.45,'K')), NASAPolynomial(coeffs=[5.203,0.00782442,-2.12683e-06,3.7969e-10,-2.9467e-14,3936.28,-6.62412], Tmin=(940.45,'K'), Tmax=(5000,'K'))], Tmin=(100,'K'), Tmax=(5000,'K'), comment=\"\"\"Thermo group additivity estimation: group(Cds-CdsHH) + gauche(CsOsCdSs) + other(R) + group(Cds-CdsHH) + gauche(CsOsCdSs) + other(R)\"\"\"), molecule=[Molecule(SMILES=\"C=C\")]))])"
      ]
     },
     "metadata": {},
     "output_type": "display_data"
    },
    {
     "name": "stdout",
     "output_type": "stream",
     "text": [
      "\n",
      "Example Disproportionation: rxn#17(1/2 Disp)\n",
      "\n",
      "[CH]=C(13) + C[CH2](3) <=> C=C(8) + C=C(8)\n"
     ]
    },
    {
     "data": {
      "image/png": "[encoded data removed]",
      "text/plain": [
       "Reaction(index=17, reactants=[Species(index=13, label=\"[CH]=C\", thermo=NASA(polynomials=[NASAPolynomial(coeffs=[3.90668,-0.00406204,3.86766e-05,-4.62957e-08,1.72892e-11,34797.2,6.098], Tmin=(100,'K'), Tmax=(931.97,'K')), NASAPolynomial(coeffs=[5.44806,0.0049834,-1.08811e-06,1.79815e-10,-1.45078e-14,33829.7,-4.87859], Tmin=(931.97,'K'), Tmax=(5000,'K'))], Tmin=(100,'K'), Tmax=(5000,'K'), comment=\"\"\"Thermo group additivity estimation: group(Cds-CdsHH) + gauche(CsOsCdSs) + other(R) + group(Cds-CdsHH) + gauche(CsOsCdSs) + other(R) + radical(Cds_P)\"\"\"), molecule=[Molecule(SMILES=\"[CH]=C\")]), Species(index=3, label=\"C[CH2]\", thermo=NASA(polynomials=[NASAPolynomial(coeffs=[3.8219,-0.00343436,5.09286e-05,-6.20252e-08,2.37092e-11,13066,7.61622], Tmin=(100,'K'), Tmax=(900.3,'K')), NASAPolynomial(coeffs=[5.15605,0.00943151,-1.81963e-06,2.21236e-10,-1.43515e-14,12064.1,-2.9101], Tmin=(900.3,'K'), Tmax=(5000,'K'))], Tmin=(100,'K'), Tmax=(5000,'K'), comment=\"\"\"Thermo group additivity estimation: group(Cs-CsHHH) + gauche(Cs(CsRRR)) + other(R) + group(Cs-CsHHH) + gauche(Cs(CsRRR)) + other(R) + radical(CCJ)\"\"\"), molecule=[Molecule(SMILES=\"C[CH2]\")])], products=[Species(index=8, label=\"C=C\", thermo=NASA(polynomials=[NASAPolynomial(coeffs=[3.97974,-0.00757559,5.52973e-05,-6.36221e-08,2.31767e-11,5077.46,4.04623], Tmin=(100,'K'), Tmax=(940.45,'K')), NASAPolynomial(coeffs=[5.203,0.00782442,-2.12683e-06,3.7969e-10,-2.9467e-14,3936.28,-6.62412], Tmin=(940.45,'K'), Tmax=(5000,'K'))], Tmin=(100,'K'), Tmax=(5000,'K'), comment=\"\"\"Thermo group additivity estimation: group(Cds-CdsHH) + gauche(CsOsCdSs) + other(R) + group(Cds-CdsHH) + gauche(CsOsCdSs) + other(R)\"\"\"), molecule=[Molecule(SMILES=\"C=C\")]), Species(index=8, label=\"C=C\", thermo=NASA(polynomials=[NASAPolynomial(coeffs=[3.97974,-0.00757559,5.52973e-05,-6.36221e-08,2.31767e-11,5077.46,4.04623], Tmin=(100,'K'), Tmax=(940.45,'K')), NASAPolynomial(coeffs=[5.203,0.00782442,-2.12683e-06,3.7969e-10,-2.9467e-14,3936.28,-6.62412], Tmin=(940.45,'K'), Tmax=(5000,'K'))], Tmin=(100,'K'), Tmax=(5000,'K'), comment=\"\"\"Thermo group additivity estimation: group(Cds-CdsHH) + gauche(CsOsCdSs) + other(R) + group(Cds-CdsHH) + gauche(CsOsCdSs) + other(R)\"\"\"), molecule=[Molecule(SMILES=\"C=C\")])], kinetics=Arrhenius(A=(4.56e+14,'cm^3/(mol*s)'), n=-0.7, Ea=(0,'kcal/mol'), T0=(1,'K'), comment=\"\"\"Exact match found for rate rule [Cd_pri_rad;Cmethyl_Csrad]\n",
       "Multiplied by reaction path degeneracy 3\"\"\"), pairs=[(Species(index=13, label=\"[CH]=C\", thermo=NASA(polynomials=[NASAPolynomial(coeffs=[3.90668,-0.00406204,3.86766e-05,-4.62957e-08,1.72892e-11,34797.2,6.098], Tmin=(100,'K'), Tmax=(931.97,'K')), NASAPolynomial(coeffs=[5.44806,0.0049834,-1.08811e-06,1.79815e-10,-1.45078e-14,33829.7,-4.87859], Tmin=(931.97,'K'), Tmax=(5000,'K'))], Tmin=(100,'K'), Tmax=(5000,'K'), comment=\"\"\"Thermo group additivity estimation: group(Cds-CdsHH) + gauche(CsOsCdSs) + other(R) + group(Cds-CdsHH) + gauche(CsOsCdSs) + other(R) + radical(Cds_P)\"\"\"), molecule=[Molecule(SMILES=\"[CH]=C\")]), Species(index=8, label=\"C=C\", thermo=NASA(polynomials=[NASAPolynomial(coeffs=[3.97974,-0.00757559,5.52973e-05,-6.36221e-08,2.31767e-11,5077.46,4.04623], Tmin=(100,'K'), Tmax=(940.45,'K')), NASAPolynomial(coeffs=[5.203,0.00782442,-2.12683e-06,3.7969e-10,-2.9467e-14,3936.28,-6.62412], Tmin=(940.45,'K'), Tmax=(5000,'K'))], Tmin=(100,'K'), Tmax=(5000,'K'), comment=\"\"\"Thermo group additivity estimation: group(Cds-CdsHH) + gauche(CsOsCdSs) + other(R) + group(Cds-CdsHH) + gauche(CsOsCdSs) + other(R)\"\"\"), molecule=[Molecule(SMILES=\"C=C\")])), (Species(index=3, label=\"C[CH2]\", thermo=NASA(polynomials=[NASAPolynomial(coeffs=[3.8219,-0.00343436,5.09286e-05,-6.20252e-08,2.37092e-11,13066,7.61622], Tmin=(100,'K'), Tmax=(900.3,'K')), NASAPolynomial(coeffs=[5.15605,0.00943151,-1.81963e-06,2.21236e-10,-1.43515e-14,12064.1,-2.9101], Tmin=(900.3,'K'), Tmax=(5000,'K'))], Tmin=(100,'K'), Tmax=(5000,'K'), comment=\"\"\"Thermo group additivity estimation: group(Cs-CsHHH) + gauche(Cs(CsRRR)) + other(R) + group(Cs-CsHHH) + gauche(Cs(CsRRR)) + other(R) + radical(CCJ)\"\"\"), molecule=[Molecule(SMILES=\"C[CH2]\")]), Species(index=8, label=\"C=C\", thermo=NASA(polynomials=[NASAPolynomial(coeffs=[3.97974,-0.00757559,5.52973e-05,-6.36221e-08,2.31767e-11,5077.46,4.04623], Tmin=(100,'K'), Tmax=(940.45,'K')), NASAPolynomial(coeffs=[5.203,0.00782442,-2.12683e-06,3.7969e-10,-2.9467e-14,3936.28,-6.62412], Tmin=(940.45,'K'), Tmax=(5000,'K'))], Tmin=(100,'K'), Tmax=(5000,'K'), comment=\"\"\"Thermo group additivity estimation: group(Cds-CdsHH) + gauche(CsOsCdSs) + other(R) + group(Cds-CdsHH) + gauche(CsOsCdSs) + other(R)\"\"\"), molecule=[Molecule(SMILES=\"C=C\")]))])"
      ]
     },
     "metadata": {},
     "output_type": "display_data"
    }
   ],
   "source": [
    "current_node = target\n",
    "print ''\n",
    "print '\\t Pathway Report '\n",
    "print '======================================'\n",
    "print 'The pathway you are intested in has {0} steps.'.format(depth)\n",
    "print ''\n",
    "print \"total product flux for {0} is {1}.\".format(target, spc_total_rop_dict[target][1][timepoint_index])\n",
    "for step in range(depth):\n",
    "    print \"\\n\"\n",
    "    prev_nodes = []\n",
    "    for node1 in G:\n",
    "        if current_node in G[node1]:\n",
    "            prev_nodes.append(node1)\n",
    "    prevNode_flux_list = [(prev_node, G[prev_node][current_node]['total_flux']) for prev_node in prev_nodes]\n",
    "    sorted_prevNode_flux_list = sorted(prevNode_flux_list, key=lambda tup: -tup[1])\n",
    "    \n",
    "    # choose the top one as next node\n",
    "    tup = sorted_prevNode_flux_list[path_top_list[step]]\n",
    "    prev_node = tup[0]\n",
    "    step_flux = tup[1]\n",
    "    \n",
    "    \n",
    "    \n",
    "    print \"\"\n",
    "    print \"Step{0} \\t\\t\\t\\t Flux\".format(step+1)\n",
    "    print '******************************************'\n",
    "    \n",
    "    print \"{0} <-- {1}: \\t\\t {2}\".\\\n",
    "    format(current_node, prev_node, step_flux)\n",
    "    print '******************************************'\n",
    "    \n",
    "    step_pair = (prev_node, current_node)\n",
    "    if step_pair not in graph_edges_dict_simple:\n",
    "        step_pair = (current_node, prev_node)\n",
    "    \n",
    "    h_abs_rxns = []\n",
    "    disp_rxns = []\n",
    "    Pdep_rxns = []\n",
    "    for rxn in graph_edges_dict_simple[step_pair]:\n",
    "        if isinstance(rxn, PDepReaction):\n",
    "            Pdep_rxns.append(rxn)\n",
    "        elif rxn.family == \"H_Abstraction\":\n",
    "            h_abs_rxns.append(rxn)\n",
    "        elif rxn.family == \"Disproportionation\":\n",
    "            disp_rxns.append(rxn)\n",
    "        else:\n",
    "            print ''\n",
    "            print \"Example reaction: rxn#{0}\".format(rxn.index)\n",
    "            print ''\n",
    "            print \"{0}: flux = {1} \".format(str(rxn), graph_edges_dict_simple[step_pair][rxn][timepoint_index])\n",
    "            display(rxn)\n",
    "            \n",
    "    if len(h_abs_rxns) > 0:\n",
    "        print ''\n",
    "        print \"Example H_Abstraction: rxn#{0}(1/{1} H_Abs)\".format(h_abs_rxns[0].index, len(h_abs_rxns))\n",
    "        print ''\n",
    "        print str(h_abs_rxns[0])\n",
    "        display(h_abs_rxns[0])\n",
    "    if len(disp_rxns) > 0: \n",
    "        print ''\n",
    "        print \"Example Disproportionation: rxn#{0}(1/{1} Disp)\".format(disp_rxns[0].index, len(disp_rxns))\n",
    "        print ''\n",
    "        print str(disp_rxns[0])\n",
    "        display(disp_rxns[0])\n",
    "    if len(Pdep_rxns) > 0: \n",
    "        print ''\n",
    "        print \"Example Pressure-dependent Rxn: rxn#{0} (1/{1} Pdep_rxns): \".format(Pdep_rxns[0].index, len(Pdep_rxns)) \n",
    "        print ''\n",
    "        print str(Pdep_rxns[0])\n",
    "        display(Pdep_rxns[0])\n",
    "    \n",
    "    current_node = prev_node"
   ]
  },
  {
   "cell_type": "markdown",
   "metadata": {},
   "source": [
    "### More detail for the H_Abstration and Disproportionation in last step of the pathway"
   ]
  },
  {
   "cell_type": "code",
   "execution_count": 22,
   "metadata": {
    "collapsed": false
   },
   "outputs": [
    {
     "name": "stdout",
     "output_type": "stream",
     "text": [
      "\n",
      "The step you see currently is between the two species ('C2H3(13)', 'C2H4(8)')\n",
      "\n",
      "Positive flux in below means positive production of 1st node of the pair.\n",
      "\n",
      "This step have 5 H_Abstration and Disproportionation in total.\n",
      "\n",
      "TO avoid too much printout, the reactions shown below have fluxes above 1e-09.\n",
      "\n",
      "**********************************************************************************\n",
      "rxn#14: [CH]=C(13) + C(6) <=> C=C(8) + [CH3](2): flux = 4.93783e-05 \n"
     ]
    },
    {
     "data": {
      "image/png": "[encoded data removed]",
      "text/plain": [
       "Reaction(index=14, reactants=[Species(index=13, label=\"[CH]=C\", thermo=NASA(polynomials=[NASAPolynomial(coeffs=[3.90668,-0.00406204,3.86766e-05,-4.62957e-08,1.72892e-11,34797.2,6.098], Tmin=(100,'K'), Tmax=(931.97,'K')), NASAPolynomial(coeffs=[5.44806,0.0049834,-1.08811e-06,1.79815e-10,-1.45078e-14,33829.7,-4.87859], Tmin=(931.97,'K'), Tmax=(5000,'K'))], Tmin=(100,'K'), Tmax=(5000,'K'), comment=\"\"\"Thermo group additivity estimation: group(Cds-CdsHH) + gauche(CsOsCdSs) + other(R) + group(Cds-CdsHH) + gauche(CsOsCdSs) + other(R) + radical(Cds_P)\"\"\"), molecule=[Molecule(SMILES=\"[CH]=C\")]), Species(index=6, label=\"C\", thermo=NASA(polynomials=[NASAPolynomial(coeffs=[4.20541,-0.00535556,2.51123e-05,-2.13762e-08,5.97522e-12,-10161.9,-0.921275], Tmin=(100,'K'), Tmax=(1084.12,'K')), NASAPolynomial(coeffs=[0.908272,0.0114541,-4.57173e-06,8.2919e-10,-5.66314e-14,-9719.98,13.9931], Tmin=(1084.12,'K'), Tmax=(5000,'K'))], Tmin=(100,'K'), Tmax=(5000,'K'), comment=\"\"\"Thermo library: primaryThermoLibrary\"\"\"), molecule=[Molecule(SMILES=\"C\")])], products=[Species(index=8, label=\"C=C\", thermo=NASA(polynomials=[NASAPolynomial(coeffs=[3.97974,-0.00757559,5.52973e-05,-6.36221e-08,2.31767e-11,5077.46,4.04623], Tmin=(100,'K'), Tmax=(940.45,'K')), NASAPolynomial(coeffs=[5.203,0.00782442,-2.12683e-06,3.7969e-10,-2.9467e-14,3936.28,-6.62412], Tmin=(940.45,'K'), Tmax=(5000,'K'))], Tmin=(100,'K'), Tmax=(5000,'K'), comment=\"\"\"Thermo group additivity estimation: group(Cds-CdsHH) + gauche(CsOsCdSs) + other(R) + group(Cds-CdsHH) + gauche(CsOsCdSs) + other(R)\"\"\"), molecule=[Molecule(SMILES=\"C=C\")]), Species(index=2, label=\"[CH3]\", thermo=NASA(polynomials=[NASAPolynomial(coeffs=[3.91547,0.00184154,3.48744e-06,-3.3275e-09,8.49964e-13,16285.6,0.351739], Tmin=(100,'K'), Tmax=(1337.62,'K')), NASAPolynomial(coeffs=[3.54145,0.00476788,-1.82149e-06,3.28878e-10,-2.22547e-14,16224,1.6604], Tmin=(1337.62,'K'), Tmax=(5000,'K'))], Tmin=(100,'K'), Tmax=(5000,'K'), comment=\"\"\"Thermo library: primaryThermoLibrary + radical(CH3)\"\"\"), molecule=[Molecule(SMILES=\"[CH3]\")])], kinetics=Arrhenius(A=(0.05137,'cm^3/(mol*s)'), n=4.133, Ea=(3.682,'kcal/mol'), T0=(1,'K'), comment=\"\"\"Estimated using average of templates [Cs_H;Cd_Cd\\H2_pri_rad] + [C_methane;Cd_pri_rad] for rate rule [C_methane;Cd_Cd\\H2_pri_rad]\n",
       "Multiplied by reaction path degeneracy 4\"\"\"), pairs=[(Species(index=6, label=\"C\", thermo=NASA(polynomials=[NASAPolynomial(coeffs=[4.20541,-0.00535556,2.51123e-05,-2.13762e-08,5.97522e-12,-10161.9,-0.921275], Tmin=(100,'K'), Tmax=(1084.12,'K')), NASAPolynomial(coeffs=[0.908272,0.0114541,-4.57173e-06,8.2919e-10,-5.66314e-14,-9719.98,13.9931], Tmin=(1084.12,'K'), Tmax=(5000,'K'))], Tmin=(100,'K'), Tmax=(5000,'K'), comment=\"\"\"Thermo library: primaryThermoLibrary\"\"\"), molecule=[Molecule(SMILES=\"C\")]), Species(index=2, label=\"[CH3]\", thermo=NASA(polynomials=[NASAPolynomial(coeffs=[3.91547,0.00184154,3.48744e-06,-3.3275e-09,8.49964e-13,16285.6,0.351739], Tmin=(100,'K'), Tmax=(1337.62,'K')), NASAPolynomial(coeffs=[3.54145,0.00476788,-1.82149e-06,3.28878e-10,-2.22547e-14,16224,1.6604], Tmin=(1337.62,'K'), Tmax=(5000,'K'))], Tmin=(100,'K'), Tmax=(5000,'K'), comment=\"\"\"Thermo library: primaryThermoLibrary + radical(CH3)\"\"\"), molecule=[Molecule(SMILES=\"[CH3]\")])), (Species(index=13, label=\"[CH]=C\", thermo=NASA(polynomials=[NASAPolynomial(coeffs=[3.90668,-0.00406204,3.86766e-05,-4.62957e-08,1.72892e-11,34797.2,6.098], Tmin=(100,'K'), Tmax=(931.97,'K')), NASAPolynomial(coeffs=[5.44806,0.0049834,-1.08811e-06,1.79815e-10,-1.45078e-14,33829.7,-4.87859], Tmin=(931.97,'K'), Tmax=(5000,'K'))], Tmin=(100,'K'), Tmax=(5000,'K'), comment=\"\"\"Thermo group additivity estimation: group(Cds-CdsHH) + gauche(CsOsCdSs) + other(R) + group(Cds-CdsHH) + gauche(CsOsCdSs) + other(R) + radical(Cds_P)\"\"\"), molecule=[Molecule(SMILES=\"[CH]=C\")]), Species(index=8, label=\"C=C\", thermo=NASA(polynomials=[NASAPolynomial(coeffs=[3.97974,-0.00757559,5.52973e-05,-6.36221e-08,2.31767e-11,5077.46,4.04623], Tmin=(100,'K'), Tmax=(940.45,'K')), NASAPolynomial(coeffs=[5.203,0.00782442,-2.12683e-06,3.7969e-10,-2.9467e-14,3936.28,-6.62412], Tmin=(940.45,'K'), Tmax=(5000,'K'))], Tmin=(100,'K'), Tmax=(5000,'K'), comment=\"\"\"Thermo group additivity estimation: group(Cds-CdsHH) + gauche(CsOsCdSs) + other(R) + group(Cds-CdsHH) + gauche(CsOsCdSs) + other(R)\"\"\"), molecule=[Molecule(SMILES=\"C=C\")]))])"
      ]
     },
     "metadata": {},
     "output_type": "display_data"
    },
    {
     "name": "stdout",
     "output_type": "stream",
     "text": [
      "\n",
      "**********************************************************************************\n",
      "rxn#16: [CH]=C(13) + [H][H](12) <=> C=C(8) + [H](4): flux = 0.0001448447 \n"
     ]
    },
    {
     "data": {
      "image/png": "[encoded data removed]",
      "text/plain": [
       "Reaction(index=16, reactants=[Species(index=13, label=\"[CH]=C\", thermo=NASA(polynomials=[NASAPolynomial(coeffs=[3.90668,-0.00406204,3.86766e-05,-4.62957e-08,1.72892e-11,34797.2,6.098], Tmin=(100,'K'), Tmax=(931.97,'K')), NASAPolynomial(coeffs=[5.44806,0.0049834,-1.08811e-06,1.79815e-10,-1.45078e-14,33829.7,-4.87859], Tmin=(931.97,'K'), Tmax=(5000,'K'))], Tmin=(100,'K'), Tmax=(5000,'K'), comment=\"\"\"Thermo group additivity estimation: group(Cds-CdsHH) + gauche(CsOsCdSs) + other(R) + group(Cds-CdsHH) + gauche(CsOsCdSs) + other(R) + radical(Cds_P)\"\"\"), molecule=[Molecule(SMILES=\"[CH]=C\")]), Species(index=12, label=\"[H][H]\", thermo=NASA(polynomials=[NASAPolynomial(coeffs=[3.43536,0.00021271,-2.78625e-07,3.40267e-10,-7.76031e-14,-1031.36,-3.90842], Tmin=(100,'K'), Tmax=(1959.08,'K')), NASAPolynomial(coeffs=[2.78816,0.000587644,1.59009e-07,-5.52736e-11,4.34309e-15,-596.143,0.112747], Tmin=(1959.08,'K'), Tmax=(5000,'K'))], Tmin=(100,'K'), Tmax=(5000,'K'), comment=\"\"\"Thermo library: primaryThermoLibrary\"\"\"), molecule=[Molecule(SMILES=\"[H][H]\")])], products=[Species(index=8, label=\"C=C\", thermo=NASA(polynomials=[NASAPolynomial(coeffs=[3.97974,-0.00757559,5.52973e-05,-6.36221e-08,2.31767e-11,5077.46,4.04623], Tmin=(100,'K'), Tmax=(940.45,'K')), NASAPolynomial(coeffs=[5.203,0.00782442,-2.12683e-06,3.7969e-10,-2.9467e-14,3936.28,-6.62412], Tmin=(940.45,'K'), Tmax=(5000,'K'))], Tmin=(100,'K'), Tmax=(5000,'K'), comment=\"\"\"Thermo group additivity estimation: group(Cds-CdsHH) + gauche(CsOsCdSs) + other(R) + group(Cds-CdsHH) + gauche(CsOsCdSs) + other(R)\"\"\"), molecule=[Molecule(SMILES=\"C=C\")]), Species(index=4, label=\"[H]\", thermo=NASA(polynomials=[NASAPolynomial(coeffs=[2.5,-1.91243e-12,2.45329e-15,-1.02377e-18,1.31369e-22,25474.2,-0.444973], Tmin=(100,'K'), Tmax=(4563.27,'K')), NASAPolynomial(coeffs=[2.50167,-1.43051e-06,4.6025e-10,-6.57826e-14,3.52412e-18,25472.7,-0.455578], Tmin=(4563.27,'K'), Tmax=(5000,'K'))], Tmin=(100,'K'), Tmax=(5000,'K'), comment=\"\"\"Thermo library: primaryThermoLibrary\"\"\"), molecule=[Molecule(SMILES=\"[H]\")])], kinetics=Arrhenius(A=(23.63,'cm^3/(mol*s)'), n=3.243, Ea=(3.347,'kcal/mol'), T0=(1,'K'), comment=\"\"\"Estimated using average of templates [X_H;Cd_Cd\\H2_pri_rad] + [H2;Cd_pri_rad] for rate rule [H2;Cd_Cd\\H2_pri_rad]\n",
       "Multiplied by reaction path degeneracy 2\"\"\"), pairs=[(Species(index=12, label=\"[H][H]\", thermo=NASA(polynomials=[NASAPolynomial(coeffs=[3.43536,0.00021271,-2.78625e-07,3.40267e-10,-7.76031e-14,-1031.36,-3.90842], Tmin=(100,'K'), Tmax=(1959.08,'K')), NASAPolynomial(coeffs=[2.78816,0.000587644,1.59009e-07,-5.52736e-11,4.34309e-15,-596.143,0.112747], Tmin=(1959.08,'K'), Tmax=(5000,'K'))], Tmin=(100,'K'), Tmax=(5000,'K'), comment=\"\"\"Thermo library: primaryThermoLibrary\"\"\"), molecule=[Molecule(SMILES=\"[H][H]\")]), Species(index=4, label=\"[H]\", thermo=NASA(polynomials=[NASAPolynomial(coeffs=[2.5,-1.91243e-12,2.45329e-15,-1.02377e-18,1.31369e-22,25474.2,-0.444973], Tmin=(100,'K'), Tmax=(4563.27,'K')), NASAPolynomial(coeffs=[2.50167,-1.43051e-06,4.6025e-10,-6.57826e-14,3.52412e-18,25472.7,-0.455578], Tmin=(4563.27,'K'), Tmax=(5000,'K'))], Tmin=(100,'K'), Tmax=(5000,'K'), comment=\"\"\"Thermo library: primaryThermoLibrary\"\"\"), molecule=[Molecule(SMILES=\"[H]\")])), (Species(index=13, label=\"[CH]=C\", thermo=NASA(polynomials=[NASAPolynomial(coeffs=[3.90668,-0.00406204,3.86766e-05,-4.62957e-08,1.72892e-11,34797.2,6.098], Tmin=(100,'K'), Tmax=(931.97,'K')), NASAPolynomial(coeffs=[5.44806,0.0049834,-1.08811e-06,1.79815e-10,-1.45078e-14,33829.7,-4.87859], Tmin=(931.97,'K'), Tmax=(5000,'K'))], Tmin=(100,'K'), Tmax=(5000,'K'), comment=\"\"\"Thermo group additivity estimation: group(Cds-CdsHH) + gauche(CsOsCdSs) + other(R) + group(Cds-CdsHH) + gauche(CsOsCdSs) + other(R) + radical(Cds_P)\"\"\"), molecule=[Molecule(SMILES=\"[CH]=C\")]), Species(index=8, label=\"C=C\", thermo=NASA(polynomials=[NASAPolynomial(coeffs=[3.97974,-0.00757559,5.52973e-05,-6.36221e-08,2.31767e-11,5077.46,4.04623], Tmin=(100,'K'), Tmax=(940.45,'K')), NASAPolynomial(coeffs=[5.203,0.00782442,-2.12683e-06,3.7969e-10,-2.9467e-14,3936.28,-6.62412], Tmin=(940.45,'K'), Tmax=(5000,'K'))], Tmin=(100,'K'), Tmax=(5000,'K'), comment=\"\"\"Thermo group additivity estimation: group(Cds-CdsHH) + gauche(CsOsCdSs) + other(R) + group(Cds-CdsHH) + gauche(CsOsCdSs) + other(R)\"\"\"), molecule=[Molecule(SMILES=\"C=C\")]))])"
      ]
     },
     "metadata": {},
     "output_type": "display_data"
    },
    {
     "name": "stdout",
     "output_type": "stream",
     "text": [
      "***************************************\n",
      "\n",
      "TOTAL flux from h_abs and disp is 0.000194223.\n"
     ]
    }
   ],
   "source": [
    "print ''\n",
    "print 'The step you see currently is between the two species {0}'.format(step_pair)\n",
    "print ''\n",
    "print 'Positive flux in below means positive production of 1st node of the pair.'\n",
    "print ''\n",
    "print 'This step have {0} H_Abstration and Disproportionation in total.'.format(len(h_abs_rxns + disp_rxns))\n",
    "\n",
    "flux_threshold = 1e-9\n",
    "\n",
    "print ''\n",
    "print 'TO avoid too much printout, the reactions shown below have fluxes above {0}.'.format(flux_threshold)\n",
    "\n",
    "total_flux = 0\n",
    "rxn_flux_tups = []\n",
    "for rxn in h_abs_rxns + disp_rxns:\n",
    "    flux = graph_edges_dict_simple[step_pair][rxn][timepoint_index]\n",
    "    \n",
    "    rxn_flux_tups.append((rxn, flux))\n",
    "\n",
    "rxn_flux_tups = sorted(rxn_flux_tups, key=lambda tup: tup[1], reverse=False)\n",
    "for tup in rxn_flux_tups:\n",
    "    rxn = tup[0]\n",
    "    flux = tup[1]\n",
    "    if flux > flux_threshold:\n",
    "        total_flux += flux\n",
    "        print ''\n",
    "        print \"**********************************************************************************\"\n",
    "        print \"rxn#{0}: {1}: flux = {2} \".format(rxn.index, str(rxn), flux) # \n",
    "        display(rxn) \n",
    "print \"***************************************\"\n",
    "print ''\n",
    "print \"TOTAL flux from h_abs and disp is {0}.\".format(total_flux)"
   ]
  },
  {
   "cell_type": "code",
   "execution_count": null,
   "metadata": {
    "collapsed": true
   },
   "outputs": [],
   "source": []
  }
 ],
 "metadata": {
  "kernelspec": {
   "display_name": "Python 2",
   "language": "python",
   "name": "python2"
  },
  "language_info": {
   "codemirror_mode": {
    "name": "ipython",
    "version": 2
   },
   "file_extension": ".py",
   "mimetype": "text/x-python",
   "name": "python",
   "nbconvert_exporter": "python",
   "pygments_lexer": "ipython2",
   "version": "2.7.12"
  }
 },
 "nbformat": 4,
 "nbformat_minor": 0
}
