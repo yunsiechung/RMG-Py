{
 "cells": [
  {
   "cell_type": "markdown",
   "metadata": {},
   "source": [
    "# Kinetic Mechanism Pathway Analyzer\n",
    "\n",
    "This analyzer is designed to provide a better user experience and improved analyzing capacity (e.g., large mechanisms) compared with Chemkin mechanism analyzer. This analyzer takes reaction ROP file (e.g. Chemkin ckcsv file), builds a reaction network, helps answer\n",
    "\n",
    "- if the mechanism has certain pathway (from start species to end species)\n",
    "\n",
    "- what is the biggest flux from/towards a certain species\n",
    "\n",
    "When using this script, please pay attention to the sections marked with **[user input]** which require user to specify certain input parameters."
   ]
  },
  {
   "cell_type": "code",
   "execution_count": 11,
   "metadata": {
    "collapsed": true
   },
   "outputs": [],
   "source": [
    "from rmgpy.rmg.model import CoreEdgeReactionModel\n",
    "from rmgpy.chemkin import loadChemkinFile\n",
    "import os"
   ]
  },
  {
   "cell_type": "markdown",
   "metadata": {},
   "source": [
    "## [user input] Prepare files\n",
    "\n",
    "Please add \n",
    "\n",
    "- annotated chemkin files (mechanism and species dictionary) and \n",
    "\n",
    "- chemkin simulation ckcsv file \n",
    "\n",
    "to a folder with name stored in `mech` variable in the next cell."
   ]
  },
  {
   "cell_type": "code",
   "execution_count": 12,
   "metadata": {
    "collapsed": true
   },
   "outputs": [],
   "source": [
    "mech = 'minimal'"
   ]
  },
  {
   "cell_type": "code",
   "execution_count": 13,
   "metadata": {
    "collapsed": false
   },
   "outputs": [],
   "source": [
    "mechPath = os.path.join('./', 'data', 'pathway_analysis', mech)\n",
    "chemkinPath= os.path.join(mechPath, 'chem.inp')\n",
    "dictionaryPath = os.path.join(mechPath, 'species_dictionary.txt')\n",
    "ckcsvPath= mechPath + '/CKSoln.ckcsv'\n",
    "\n",
    "model = CoreEdgeReactionModel()\n",
    "model.core.species, model.core.reactions = loadChemkinFile(chemkinPath,dictionaryPath)"
   ]
  },
  {
   "cell_type": "code",
   "execution_count": 14,
   "metadata": {
    "collapsed": false
   },
   "outputs": [],
   "source": [
    "# generate paris for reactions that don't have flux pairs\n",
    "for rxn in model.core.reactions:\n",
    "    if not rxn.pairs: rxn.generatePairs()"
   ]
  },
  {
   "cell_type": "markdown",
   "metadata": {},
   "source": [
    "## Create reaction network"
   ]
  },
  {
   "cell_type": "code",
   "execution_count": 15,
   "metadata": {
    "collapsed": false
   },
   "outputs": [],
   "source": [
    "import networkx as nx\n",
    "import matplotlib.pyplot as plt\n",
    "from rmgpy.tools.extractInfoFromckcsv import getConcentrationDictFromCKCSV, getROPFromCKCSV, getFluxGraphEdgesDict, showTheMostDominantSpecies\n",
    "from rmgpy.chemkin import getSpeciesIdentifier\n",
    "from IPython.display import display\n",
    "import numpy as np\n",
    "from rmgpy.rmg.pdep import PDepReaction\n",
    "%matplotlib inline"
   ]
  },
  {
   "cell_type": "markdown",
   "metadata": {},
   "source": [
    "### step1: prepare a dict for graph edges"
   ]
  },
  {
   "cell_type": "code",
   "execution_count": 16,
   "metadata": {
    "collapsed": false
   },
   "outputs": [],
   "source": [
    "firstColDict, spc_mf_dict = getConcentrationDictFromCKCSV(ckcsvPath)\n",
    "first_col_dict, spc_total_rop_dict, spc_rop_dict = getROPFromCKCSV(ckcsvPath)\n",
    "\n",
    "graph_edges_dict = getFluxGraphEdgesDict(spc_rop_dict, model.core.reactions)\n",
    "\n",
    "graph_edges_dict_simple = {}\n",
    "for pair in graph_edges_dict:\n",
    "    node1 = getSpeciesIdentifier(pair[0])\n",
    "    node2 = getSpeciesIdentifier(pair[1])\n",
    "    graph_edges_dict_simple[(node1, node2)] = graph_edges_dict[pair]"
   ]
  },
  {
   "cell_type": "markdown",
   "metadata": {
    "collapsed": true
   },
   "source": [
    "### [user input] step2: pick a time to analyze pathways\n",
    "\n",
    "Please specify \n",
    "\n",
    "- the time point you want to investigate\n",
    "\n",
    "- the chemkin name of your initial species/reactant\n",
    "\n",
    "- the reaction temperature in K\n",
    "\n",
    "- the reaction pressure in Pa if the mechanism includes pressure-dependent reactions\n",
    "\n",
    "- showIntegratedFlux: True if users want to use time-integrated fluxes (integrated up to the investigated time point) for analysis. Flase if users want to use instantaneous fluxes at the investigated time point for analysis"
   ]
  },
  {
   "cell_type": "code",
   "execution_count": 43,
   "metadata": {
    "collapsed": false
   },
   "outputs": [
    {
     "name": "stdout",
     "output_type": "stream",
     "text": [
      "Investigated time point is 0.003731082 secs\n",
      "At this moment, the reactant's mole fraction is 0.2634996.\n",
      "At this moment, the reactant's total consumption is 5.068E-06 mol/vol.\n"
     ]
    }
   ],
   "source": [
    "# User Input\n",
    "time_investigated = 0.000001 # hour\n",
    "reactant_name = 'ethane(1)'\n",
    "T = 1350 # K\n",
    "P = 100000 # Pa\n",
    "showIntegratedFlux = True # If True, all flux will be the total flux integrated up to the investigated time point. \n",
    "# If False, all flux will be the instantaneous flux at the investigated time point\n",
    "\n",
    "\n",
    "timepoint_index = (np.abs(firstColDict['Time_(sec)']-time_investigated*3600)).argmin()\n",
    "print \"Investigated time point is {0} secs\".format(firstColDict['Time_(sec)'][timepoint_index])\n",
    "print \"At this moment, the reactant's mole fraction is {}.\".format(spc_mf_dict[reactant_name][timepoint_index])\n",
    "\n",
    "# Create moleFraction_dict at the investigated time point\n",
    "moleFraction_dict = {}\n",
    "for i, v in spc_mf_dict.items():\n",
    "    moleFraction_dict.update({i:v[timepoint_index]})\n",
    "\n",
    "# Create species_identifier_didct for the core species    \n",
    "species_identifier_dict = {}\n",
    "for i, s in enumerate(model.core.species):\n",
    "    species_identifier_dict.update({getSpeciesIdentifier(model.core.species[i]): s})\n",
    "\n",
    "# find the total consumption of the reactant in mol/cm^3 (positive value means consumption)\n",
    "total_reactant_consumption = 0 # \n",
    "for timepoint in range(timepoint_index-1):\n",
    "    #integrate the flux using a trapezoidal rule\n",
    "    total_reactant_consumption += 0.5 * (spc_total_rop_dict[reactant_name][1][timepoint+1] + spc_total_rop_dict[reactant_name][1][timepoint]) * (firstColDict['Time_(sec)'][timepoint+1] - firstColDict['Time_(sec)'][timepoint])\n",
    "total_reactant_consumption = total_reactant_consumption * -1.0\n",
    "\n",
    "if showIntegratedFlux:\n",
    "    print \"At this moment, the reactant's total consumption is {0:.3E} mol/vol.\".format(total_reactant_consumption)\n",
    "\n",
    "# create DiGraph for this moment\n",
    "G = nx.DiGraph()\n",
    "for pair in graph_edges_dict:\n",
    "    node1 = getSpeciesIdentifier(pair[0])\n",
    "    node2 = getSpeciesIdentifier(pair[1])\n",
    "    e_rawdata = graph_edges_dict[pair]\n",
    "    total_flux = 0\n",
    "    for rxn in e_rawdata:\n",
    "        if showIntegratedFlux:\n",
    "            #integrate the flux using a trapezoidal rule\n",
    "            for timepoint in range(timepoint_index-1):\n",
    "                total_flux += 0.5 * (e_rawdata[rxn][timepoint+1] + e_rawdata[rxn][timepoint]) * (firstColDict['Time_(sec)'][timepoint+1] - firstColDict['Time_(sec)'][timepoint])\n",
    "        else:\n",
    "            total_flux += e_rawdata[rxn][timepoint_index]\n",
    "    if total_flux >= 0:\n",
    "        G.add_edge(node2, node1, {\"total_flux\":total_flux}) # in G, positive means production of node1\n",
    "    else: \n",
    "        G.add_edge(node1, node2, {\"total_flux\":-total_flux}) # in G, negative means consumption of node1      "
   ]
  },
  {
   "cell_type": "markdown",
   "metadata": {},
   "source": [
    "## [user input] Functionality 1: find most dominant species at the investigated time point\n",
    "\n",
    "Pleae specify\n",
    "\n",
    "- dominant_list: If you want to visualize the first top 10 dominant species, specify the list as [0, 9]. If you want to visualize from the 5th most dominant species to the 10th most dominant species, specify the list as [4, 9].\n",
    "\n",
    "- displayMW: If you want to visualize the species' molecular weight as well, set displayMW as 'True'. If not, set it as 'False'"
   ]
  },
  {
   "cell_type": "code",
   "execution_count": 44,
   "metadata": {
    "collapsed": false
   },
   "outputs": [],
   "source": [
    "dominant_list = [0, 9] \n",
    "displayMW = True"
   ]
  },
  {
   "cell_type": "code",
   "execution_count": 45,
   "metadata": {
    "collapsed": false
   },
   "outputs": [
    {
     "name": "stdout",
     "output_type": "stream",
     "text": [
      "****The most dominant species****\n"
     ]
    },
    {
     "data": {
      "image/png": "[encoded data removed]",
      "text/plain": [
       "Species(index=12, label=\"[H][H]\", thermo=NASA(polynomials=[NASAPolynomial(coeffs=[3.43536,0.00021271,-2.78625e-07,3.40267e-10,-7.76031e-14,-1031.36,-3.90842], Tmin=(100,'K'), Tmax=(1959.08,'K')), NASAPolynomial(coeffs=[2.78816,0.000587644,1.59009e-07,-5.52736e-11,4.34309e-15,-596.143,0.112747], Tmin=(1959.08,'K'), Tmax=(5000,'K'))], Tmin=(100,'K'), Tmax=(5000,'K'), comment=\"\"\"Thermo library: primaryThermoLibrary\"\"\"), molecule=[Molecule(SMILES=\"[H][H]\")])"
      ]
     },
     "metadata": {},
     "output_type": "display_data"
    },
    {
     "name": "stdout",
     "output_type": "stream",
     "text": [
      "H2(12): 0.3409702 (mole fraction)\n",
      "mw = 2\n",
      "\n",
      "****The 2nd most dominant species****\n"
     ]
    },
    {
     "data": {
      "image/png": "[encoded data removed]",
      "text/plain": [
       "Species(index=8, label=\"C=C\", thermo=NASA(polynomials=[NASAPolynomial(coeffs=[3.97974,-0.00757559,5.52973e-05,-6.36221e-08,2.31767e-11,5077.46,4.04623], Tmin=(100,'K'), Tmax=(940.45,'K')), NASAPolynomial(coeffs=[5.203,0.00782442,-2.12683e-06,3.7969e-10,-2.9467e-14,3936.28,-6.62412], Tmin=(940.45,'K'), Tmax=(5000,'K'))], Tmin=(100,'K'), Tmax=(5000,'K'), comment=\"\"\"Thermo group additivity estimation: group(Cds-CdsHH) + gauche(CsOsCdSs) + other(R) + group(Cds-CdsHH) + gauche(CsOsCdSs) + other(R)\"\"\"), molecule=[Molecule(SMILES=\"C=C\")])"
      ]
     },
     "metadata": {},
     "output_type": "display_data"
    },
    {
     "name": "stdout",
     "output_type": "stream",
     "text": [
      "C2H4(8): 0.2822238 (mole fraction)\n",
      "mw = 28\n",
      "\n",
      "****The 3rd most dominant species****\n"
     ]
    },
    {
     "data": {
      "image/png": "[encoded data removed]",
      "text/plain": [
       "Species(index=1, label=\"ethane\", thermo=NASA(polynomials=[NASAPolynomial(coeffs=[3.78033,-0.00324263,5.52381e-05,-6.38581e-08,2.28637e-11,-11620.3,5.21034], Tmin=(100,'K'), Tmax=(954.51,'K')), NASAPolynomial(coeffs=[4.58983,0.0141508,-4.75962e-06,8.60294e-10,-6.21717e-14,-12721.8,-3.61739], Tmin=(954.51,'K'), Tmax=(5000,'K'))], Tmin=(100,'K'), Tmax=(5000,'K'), comment=\"\"\"Thermo group additivity estimation: group(Cs-CsHHH) + gauche(Cs(CsRRR)) + other(R) + group(Cs-CsHHH) + gauche(Cs(CsRRR)) + other(R)\"\"\"), molecule=[Molecule(SMILES=\"CC\")])"
      ]
     },
     "metadata": {},
     "output_type": "display_data"
    },
    {
     "name": "stdout",
     "output_type": "stream",
     "text": [
      "ethane(1): 0.2634996 (mole fraction)\n",
      "mw = 30\n",
      "\n",
      "****The 4th most dominant species****\n"
     ]
    },
    {
     "data": {
      "image/png": "[encoded data removed]",
      "text/plain": [
       "Species(index=6, label=\"C\", thermo=NASA(polynomials=[NASAPolynomial(coeffs=[4.20541,-0.00535556,2.51123e-05,-2.13762e-08,5.97522e-12,-10161.9,-0.921275], Tmin=(100,'K'), Tmax=(1084.12,'K')), NASAPolynomial(coeffs=[0.908272,0.0114541,-4.57173e-06,8.2919e-10,-5.66314e-14,-9719.98,13.9931], Tmin=(1084.12,'K'), Tmax=(5000,'K'))], Tmin=(100,'K'), Tmax=(5000,'K'), comment=\"\"\"Thermo library: primaryThermoLibrary\"\"\"), molecule=[Molecule(SMILES=\"C\")])"
      ]
     },
     "metadata": {},
     "output_type": "display_data"
    },
    {
     "name": "stdout",
     "output_type": "stream",
     "text": [
      "C(6): 0.06701013 (mole fraction)\n",
      "mw = 16\n",
      "\n",
      "****The 5th most dominant species****\n"
     ]
    },
    {
     "data": {
      "image/png": "[encoded data removed]",
      "text/plain": [
       "Species(index=25, label=\"C#C\", thermo=NASA(polynomials=[NASAPolynomial(coeffs=[3.03575,0.00771231,2.53525e-06,-1.08138e-08,5.50779e-12,25852.6,4.54459], Tmin=(100,'K'), Tmax=(888.62,'K')), NASAPolynomial(coeffs=[5.76203,0.00237162,-1.496e-07,-2.19113e-11,2.21744e-15,25094.5,-9.82599], Tmin=(888.62,'K'), Tmax=(5000,'K'))], Tmin=(100,'K'), Tmax=(5000,'K'), comment=\"\"\"Thermo group additivity estimation: group(Ct-CtH) + other(R) + group(Ct-CtH) + other(R)\"\"\"), molecule=[Molecule(SMILES=\"C#C\")])"
      ]
     },
     "metadata": {},
     "output_type": "display_data"
    },
    {
     "name": "stdout",
     "output_type": "stream",
     "text": [
      "C#C(25): 0.04608989 (mole fraction)\n",
      "mw = 26\n",
      "\n",
      "****The 6th most dominant species****\n"
     ]
    },
    {
     "data": {
      "image/png": "[encoded data removed]",
      "text/plain": [
       "Species(index=3, label=\"C[CH2]\", thermo=NASA(polynomials=[NASAPolynomial(coeffs=[3.8219,-0.00343436,5.09286e-05,-6.20252e-08,2.37092e-11,13066,7.61622], Tmin=(100,'K'), Tmax=(900.3,'K')), NASAPolynomial(coeffs=[5.15605,0.00943151,-1.81963e-06,2.21236e-10,-1.43515e-14,12064.1,-2.9101], Tmin=(900.3,'K'), Tmax=(5000,'K'))], Tmin=(100,'K'), Tmax=(5000,'K'), comment=\"\"\"Thermo group additivity estimation: group(Cs-CsHHH) + gauche(Cs(CsRRR)) + other(R) + group(Cs-CsHHH) + gauche(Cs(CsRRR)) + other(R) + radical(CCJ)\"\"\"), molecule=[Molecule(SMILES=\"C[CH2]\")])"
      ]
     },
     "metadata": {},
     "output_type": "display_data"
    },
    {
     "name": "stdout",
     "output_type": "stream",
     "text": [
      "C2H5(3): 0.0001190951 (mole fraction)\n",
      "mw = 29\n",
      "\n",
      "****The 7th most dominant species****\n"
     ]
    },
    {
     "data": {
      "image/png": "[encoded data removed]",
      "text/plain": [
       "Species(index=2, label=\"[CH3]\", thermo=NASA(polynomials=[NASAPolynomial(coeffs=[3.91547,0.00184154,3.48744e-06,-3.3275e-09,8.49964e-13,16285.6,0.351739], Tmin=(100,'K'), Tmax=(1337.62,'K')), NASAPolynomial(coeffs=[3.54145,0.00476788,-1.82149e-06,3.28878e-10,-2.22547e-14,16224,1.6604], Tmin=(1337.62,'K'), Tmax=(5000,'K'))], Tmin=(100,'K'), Tmax=(5000,'K'), comment=\"\"\"Thermo library: primaryThermoLibrary + radical(CH3)\"\"\"), molecule=[Molecule(SMILES=\"[CH3]\")])"
      ]
     },
     "metadata": {},
     "output_type": "display_data"
    },
    {
     "name": "stdout",
     "output_type": "stream",
     "text": [
      "CH3(2): 6.491413e-05 (mole fraction)\n",
      "mw = 15\n",
      "\n",
      "****The 8th most dominant species****\n"
     ]
    },
    {
     "data": {
      "image/png": "[encoded data removed]",
      "text/plain": [
       "Species(index=13, label=\"[CH]=C\", thermo=NASA(polynomials=[NASAPolynomial(coeffs=[3.90668,-0.00406204,3.86766e-05,-4.62957e-08,1.72892e-11,34797.2,6.098], Tmin=(100,'K'), Tmax=(931.97,'K')), NASAPolynomial(coeffs=[5.44806,0.0049834,-1.08811e-06,1.79815e-10,-1.45078e-14,33829.7,-4.87859], Tmin=(931.97,'K'), Tmax=(5000,'K'))], Tmin=(100,'K'), Tmax=(5000,'K'), comment=\"\"\"Thermo group additivity estimation: group(Cds-CdsHH) + gauche(CsOsCdSs) + other(R) + group(Cds-CdsHH) + gauche(CsOsCdSs) + other(R) + radical(Cds_P)\"\"\"), molecule=[Molecule(SMILES=\"[CH]=C\")])"
      ]
     },
     "metadata": {},
     "output_type": "display_data"
    },
    {
     "name": "stdout",
     "output_type": "stream",
     "text": [
      "C2H3(13): 1.159101e-05 (mole fraction)\n",
      "mw = 27\n",
      "\n",
      "****The 9th most dominant species****\n"
     ]
    },
    {
     "data": {
      "image/png": "[encoded data removed]",
      "text/plain": [
       "Species(index=4, label=\"[H]\", thermo=NASA(polynomials=[NASAPolynomial(coeffs=[2.5,-1.91243e-12,2.45329e-15,-1.02377e-18,1.31369e-22,25474.2,-0.444973], Tmin=(100,'K'), Tmax=(4563.27,'K')), NASAPolynomial(coeffs=[2.50167,-1.43051e-06,4.6025e-10,-6.57826e-14,3.52412e-18,25472.7,-0.455578], Tmin=(4563.27,'K'), Tmax=(5000,'K'))], Tmin=(100,'K'), Tmax=(5000,'K'), comment=\"\"\"Thermo library: primaryThermoLibrary\"\"\"), molecule=[Molecule(SMILES=\"[H]\")])"
      ]
     },
     "metadata": {},
     "output_type": "display_data"
    },
    {
     "name": "stdout",
     "output_type": "stream",
     "text": [
      "H(4): 1.066908e-05 (mole fraction)\n",
      "mw = 1\n",
      "\n",
      "****The 10th most dominant species****\n"
     ]
    },
    {
     "data": {
      "image/png": "[encoded data removed]",
      "text/plain": [
       "Species(index=14, label=\"[CH2]CC\", thermo=NASA(polynomials=[NASAPolynomial(coeffs=[3.09192,0.0132171,2.75852e-05,-3.90855e-08,1.43316e-11,10228.4,12.4057], Tmin=(100,'K'), Tmax=(995.41,'K')), NASAPolynomial(coeffs=[5.69426,0.0196034,-7.42054e-06,1.35884e-09,-9.56224e-14,8875.87,-4.32864], Tmin=(995.41,'K'), Tmax=(5000,'K'))], Tmin=(100,'K'), Tmax=(5000,'K'), comment=\"\"\"Thermo group additivity estimation: group(Cs-CsCsHH) + gauche(Cs(CsCsRR)) + other(R) + group(Cs-CsHHH) + gauche(Cs(Cs(CsRR)RRR)) + other(R) + group\n",
       "(Cs-CsHHH) + gauche(Cs(Cs(CsRR)RRR)) + other(R) + radical(RCCJ)\"\"\"), molecule=[Molecule(SMILES=\"[CH2]CC\")])"
      ]
     },
     "metadata": {},
     "output_type": "display_data"
    },
    {
     "name": "stdout",
     "output_type": "stream",
     "text": [
      "C3H7(14): 1.040717e-07 (mole fraction)\n",
      "mw = 43\n",
      "\n"
     ]
    }
   ],
   "source": [
    "showTheMostDominantSpecies(dominant_list, moleFraction_dict, species_identifier_dict, displayMW)"
   ]
  },
  {
   "cell_type": "markdown",
   "metadata": {},
   "source": [
    "## [user input] Functionality 2: find paths between two species\n",
    "\n",
    "Pleae specify\n",
    "\n",
    "- source species\n",
    "\n",
    "- target species"
   ]
  },
  {
   "cell_type": "code",
   "execution_count": 46,
   "metadata": {
    "collapsed": true
   },
   "outputs": [],
   "source": [
    "src_species = 'ethane(1)'\n",
    "tgt_species = 'C#C(25)'"
   ]
  },
  {
   "cell_type": "markdown",
   "metadata": {},
   "source": [
    "## output1: sort out all the paths and most significant one\n",
    "\n",
    "**If IntegratedFlux is chosen, output also displays the relative flux, which is the percent flux relative to the reactant flux integrated up to the investigated time point. "
   ]
  },
  {
   "cell_type": "code",
   "execution_count": 47,
   "metadata": {
    "collapsed": false
   },
   "outputs": [],
   "source": [
    "paths = list(nx.all_simple_paths(G, source=src_species, target=tgt_species, cutoff=5))"
   ]
  },
  {
   "cell_type": "code",
   "execution_count": 48,
   "metadata": {
    "collapsed": false
   },
   "outputs": [
    {
     "name": "stdout",
     "output_type": "stream",
     "text": [
      "========================================================================================================\n",
      "Path index \t Integrated Flux \t Rel. Flux (%) \t\t Path steps\n",
      "\n",
      "Path #0: \t 7.530E-09 \t\t 0.15 \t\t ['ethane(1)', 'C2H5(3)', 'H(4)', 'C2H4(8)', 'C2H3(13)', 'C#C(25)']\n",
      "Path #1: \t 5.869E-07 \t\t 11.58 \t\t ['ethane(1)', 'C2H5(3)', 'C2H4(8)', 'C2H3(13)', 'C#C(25)']\n",
      "\n",
      "=======================================================\n",
      "\t Most Significant Path \n",
      "=======================================================\n",
      "Path index \t Integrated Flux \t Rel. Flux (%)\n",
      "Path #1: \t 5.869E-07 \t\t 11.58\n"
     ]
    }
   ],
   "source": [
    "path_fluxes = []\n",
    "if showIntegratedFlux:\n",
    "    print '========================================================================================================'\n",
    "    print 'Path index \\t Integrated Flux \\t Rel. Flux (%) \\t\\t Path steps'\n",
    "else:\n",
    "    print '================================================'\n",
    "    print 'Path index \\t Flux \\t\\t Path steps'\n",
    "print ''\n",
    "\n",
    "for i, path in enumerate(paths):\n",
    "    \n",
    "    path_steps = len(path) - 1\n",
    "    fluxes = [G[path[step]][path[step+1]]['total_flux'] for step in range(path_steps) ]\n",
    "    path_fluxes.append(min(fluxes))\n",
    "    if showIntegratedFlux:\n",
    "        print 'Path #{0}: \\t {1:.3E} \\t\\t {2:.2f} \\t\\t {3}'.format(i, min(fluxes), min(fluxes)/total_reactant_consumption*100, path)\n",
    "    else:\n",
    "        print 'Path #{0}: \\t {1:.3E} \\t {2}'.format(i, min(fluxes), path)\n",
    "sorted_path_fluxes = sorted(path_fluxes)\n",
    "\n",
    "print ''\n",
    "print '======================================================='\n",
    "print '\\t Most Significant Path '\n",
    "print '======================================================='\n",
    "if showIntegratedFlux:\n",
    "    print 'Path index \\t Integrated Flux \\t Rel. Flux (%)'\n",
    "    print 'Path #{0}: \\t {1:.3E} \\t\\t {2:.2f}'.format(path_fluxes.index(sorted_path_fluxes[-1]), sorted_path_fluxes[-1], sorted_path_fluxes[-1]/total_reactant_consumption*100)\n",
    "else:\n",
    "    print 'Path index \\t Flux'\n",
    "    print 'Path #{0}: \\t {1:.3E} '.format(path_fluxes.index(sorted_path_fluxes[-1]), sorted_path_fluxes[-1])"
   ]
  },
  {
   "cell_type": "markdown",
   "metadata": {},
   "source": [
    "### [user input] output2: visualize the path of interest\n",
    "\n",
    "Please specify\n",
    "\n",
    "- the path index you want to visualize"
   ]
  },
  {
   "cell_type": "code",
   "execution_count": 49,
   "metadata": {
    "collapsed": false
   },
   "outputs": [
    {
     "name": "stdout",
     "output_type": "stream",
     "text": [
      "\n",
      "\t Pathway Report \n",
      "======================================\n",
      "The pathway you are intested in has 6 steps.\n",
      "\n",
      "Step1 \t\t\t\t Integrated Flux \t Rel. Flux (%)\n",
      "***********************************************************************\n",
      "ethane(1) --> C2H5(3) \t\t 4.623E-06 \t\t 91.22\n",
      "***********************************************************************\n",
      "\n",
      "Example reaction: rxn#3\n",
      "\n",
      "C[CH2](3) + [H](4) <=> ethane(1)\n"
     ]
    },
    {
     "data": {
      "image/png": "[encoded data removed]",
      "text/plain": [
       "Reaction(index=3, reactants=[Species(index=3, label=\"C[CH2]\", thermo=NASA(polynomials=[NASAPolynomial(coeffs=[3.8219,-0.00343436,5.09286e-05,-6.20252e-08,2.37092e-11,13066,7.61622], Tmin=(100,'K'), Tmax=(900.3,'K')), NASAPolynomial(coeffs=[5.15605,0.00943151,-1.81963e-06,2.21236e-10,-1.43515e-14,12064.1,-2.9101], Tmin=(900.3,'K'), Tmax=(5000,'K'))], Tmin=(100,'K'), Tmax=(5000,'K'), comment=\"\"\"Thermo group additivity estimation: group(Cs-CsHHH) + gauche(Cs(CsRRR)) + other(R) + group(Cs-CsHHH) + gauche(Cs(CsRRR)) + other(R) + radical(CCJ)\"\"\"), molecule=[Molecule(SMILES=\"C[CH2]\")]), Species(index=4, label=\"[H]\", thermo=NASA(polynomials=[NASAPolynomial(coeffs=[2.5,-1.91243e-12,2.45329e-15,-1.02377e-18,1.31369e-22,25474.2,-0.444973], Tmin=(100,'K'), Tmax=(4563.27,'K')), NASAPolynomial(coeffs=[2.50167,-1.43051e-06,4.6025e-10,-6.57826e-14,3.52412e-18,25472.7,-0.455578], Tmin=(4563.27,'K'), Tmax=(5000,'K'))], Tmin=(100,'K'), Tmax=(5000,'K'), comment=\"\"\"Thermo library: primaryThermoLibrary\"\"\"), molecule=[Molecule(SMILES=\"[H]\")])], products=[Species(index=1, label=\"ethane\", thermo=NASA(polynomials=[NASAPolynomial(coeffs=[3.78033,-0.00324263,5.52381e-05,-6.38581e-08,2.28637e-11,-11620.3,5.21034], Tmin=(100,'K'), Tmax=(954.51,'K')), NASAPolynomial(coeffs=[4.58983,0.0141508,-4.75962e-06,8.60294e-10,-6.21717e-14,-12721.8,-3.61739], Tmin=(954.51,'K'), Tmax=(5000,'K'))], Tmin=(100,'K'), Tmax=(5000,'K'), comment=\"\"\"Thermo group additivity estimation: group(Cs-CsHHH) + gauche(Cs(CsRRR)) + other(R) + group(Cs-CsHHH) + gauche(Cs(CsRRR)) + other(R)\"\"\"), molecule=[Molecule(SMILES=\"CC\")])], kinetics=Arrhenius(A=(1e+14,'cm^3/(mol*s)'), n=0, Ea=(0,'kcal/mol'), T0=(1,'K'), comment=\"\"\"Exact match found for rate rule [C_rad/H2/Cs;H_rad]\"\"\"), pairs=[(Species(index=3, label=\"C[CH2]\", thermo=NASA(polynomials=[NASAPolynomial(coeffs=[3.8219,-0.00343436,5.09286e-05,-6.20252e-08,2.37092e-11,13066,7.61622], Tmin=(100,'K'), Tmax=(900.3,'K')), NASAPolynomial(coeffs=[5.15605,0.00943151,-1.81963e-06,2.21236e-10,-1.43515e-14,12064.1,-2.9101], Tmin=(900.3,'K'), Tmax=(5000,'K'))], Tmin=(100,'K'), Tmax=(5000,'K'), comment=\"\"\"Thermo group additivity estimation: group(Cs-CsHHH) + gauche(Cs(CsRRR)) + other(R) + group(Cs-CsHHH) + gauche(Cs(CsRRR)) + other(R) + radical(CCJ)\"\"\"), molecule=[Molecule(SMILES=\"C[CH2]\")]), Species(index=1, label=\"ethane\", thermo=NASA(polynomials=[NASAPolynomial(coeffs=[3.78033,-0.00324263,5.52381e-05,-6.38581e-08,2.28637e-11,-11620.3,5.21034], Tmin=(100,'K'), Tmax=(954.51,'K')), NASAPolynomial(coeffs=[4.58983,0.0141508,-4.75962e-06,8.60294e-10,-6.21717e-14,-12721.8,-3.61739], Tmin=(954.51,'K'), Tmax=(5000,'K'))], Tmin=(100,'K'), Tmax=(5000,'K'), comment=\"\"\"Thermo group additivity estimation: group(Cs-CsHHH) + gauche(Cs(CsRRR)) + other(R) + group(Cs-CsHHH) + gauche(Cs(CsRRR)) + other(R)\"\"\"), molecule=[Molecule(SMILES=\"CC\")])), (Species(index=4, label=\"[H]\", thermo=NASA(polynomials=[NASAPolynomial(coeffs=[2.5,-1.91243e-12,2.45329e-15,-1.02377e-18,1.31369e-22,25474.2,-0.444973], Tmin=(100,'K'), Tmax=(4563.27,'K')), NASAPolynomial(coeffs=[2.50167,-1.43051e-06,4.6025e-10,-6.57826e-14,3.52412e-18,25472.7,-0.455578], Tmin=(4563.27,'K'), Tmax=(5000,'K'))], Tmin=(100,'K'), Tmax=(5000,'K'), comment=\"\"\"Thermo library: primaryThermoLibrary\"\"\"), molecule=[Molecule(SMILES=\"[H]\")]), Species(index=1, label=\"ethane\", thermo=NASA(polynomials=[NASAPolynomial(coeffs=[3.78033,-0.00324263,5.52381e-05,-6.38581e-08,2.28637e-11,-11620.3,5.21034], Tmin=(100,'K'), Tmax=(954.51,'K')), NASAPolynomial(coeffs=[4.58983,0.0141508,-4.75962e-06,8.60294e-10,-6.21717e-14,-12721.8,-3.61739], Tmin=(954.51,'K'), Tmax=(5000,'K'))], Tmin=(100,'K'), Tmax=(5000,'K'), comment=\"\"\"Thermo group additivity estimation: group(Cs-CsHHH) + gauche(Cs(CsRRR)) + other(R) + group(Cs-CsHHH) + gauche(Cs(CsRRR)) + other(R)\"\"\"), molecule=[Molecule(SMILES=\"CC\")]))])"
      ]
     },
     "metadata": {},
     "output_type": "display_data"
    },
    {
     "name": "stdout",
     "output_type": "stream",
     "text": [
      "Forward rate coefficient at 1350 K: 1.00E+08\n",
      "Reverse rate coefficient at 1350 K: 1.28E+00\n",
      "\n",
      "Example H_Abstraction: rxn#2 (1/3 H_Abs): \n",
      "\n",
      "[CH3](2) + ethane(1) <=> C[CH2](3) + C(6)\n"
     ]
    },
    {
     "data": {
      "image/png": "[encoded data removed]",
      "text/plain": [
       "Reaction(index=2, reactants=[Species(index=2, label=\"[CH3]\", thermo=NASA(polynomials=[NASAPolynomial(coeffs=[3.91547,0.00184154,3.48744e-06,-3.3275e-09,8.49964e-13,16285.6,0.351739], Tmin=(100,'K'), Tmax=(1337.62,'K')), NASAPolynomial(coeffs=[3.54145,0.00476788,-1.82149e-06,3.28878e-10,-2.22547e-14,16224,1.6604], Tmin=(1337.62,'K'), Tmax=(5000,'K'))], Tmin=(100,'K'), Tmax=(5000,'K'), comment=\"\"\"Thermo library: primaryThermoLibrary + radical(CH3)\"\"\"), molecule=[Molecule(SMILES=\"[CH3]\")]), Species(index=1, label=\"ethane\", thermo=NASA(polynomials=[NASAPolynomial(coeffs=[3.78033,-0.00324263,5.52381e-05,-6.38581e-08,2.28637e-11,-11620.3,5.21034], Tmin=(100,'K'), Tmax=(954.51,'K')), NASAPolynomial(coeffs=[4.58983,0.0141508,-4.75962e-06,8.60294e-10,-6.21717e-14,-12721.8,-3.61739], Tmin=(954.51,'K'), Tmax=(5000,'K'))], Tmin=(100,'K'), Tmax=(5000,'K'), comment=\"\"\"Thermo group additivity estimation: group(Cs-CsHHH) + gauche(Cs(CsRRR)) + other(R) + group(Cs-CsHHH) + gauche(Cs(CsRRR)) + other(R)\"\"\"), molecule=[Molecule(SMILES=\"CC\")])], products=[Species(index=3, label=\"C[CH2]\", thermo=NASA(polynomials=[NASAPolynomial(coeffs=[3.8219,-0.00343436,5.09286e-05,-6.20252e-08,2.37092e-11,13066,7.61622], Tmin=(100,'K'), Tmax=(900.3,'K')), NASAPolynomial(coeffs=[5.15605,0.00943151,-1.81963e-06,2.21236e-10,-1.43515e-14,12064.1,-2.9101], Tmin=(900.3,'K'), Tmax=(5000,'K'))], Tmin=(100,'K'), Tmax=(5000,'K'), comment=\"\"\"Thermo group additivity estimation: group(Cs-CsHHH) + gauche(Cs(CsRRR)) + other(R) + group(Cs-CsHHH) + gauche(Cs(CsRRR)) + other(R) + radical(CCJ)\"\"\"), molecule=[Molecule(SMILES=\"C[CH2]\")]), Species(index=6, label=\"C\", thermo=NASA(polynomials=[NASAPolynomial(coeffs=[4.20541,-0.00535556,2.51123e-05,-2.13762e-08,5.97522e-12,-10161.9,-0.921275], Tmin=(100,'K'), Tmax=(1084.12,'K')), NASAPolynomial(coeffs=[0.908272,0.0114541,-4.57173e-06,8.2919e-10,-5.66314e-14,-9719.98,13.9931], Tmin=(1084.12,'K'), Tmax=(5000,'K'))], Tmin=(100,'K'), Tmax=(5000,'K'), comment=\"\"\"Thermo library: primaryThermoLibrary\"\"\"), molecule=[Molecule(SMILES=\"C\")])], kinetics=Arrhenius(A=(2.94e-05,'cm^3/(mol*s)'), n=5.135, Ea=(7.89,'kcal/mol'), T0=(1,'K'), comment=\"\"\"Estimated using average of templates [C/H3/Cs;C_methyl] + [C/H3/Cs\\H3;Cs_rad] for rate rule [C/H3/Cs\\H3;C_methyl]\n",
       "Multiplied by reaction path degeneracy 6\"\"\"), pairs=[(Species(index=1, label=\"ethane\", thermo=NASA(polynomials=[NASAPolynomial(coeffs=[3.78033,-0.00324263,5.52381e-05,-6.38581e-08,2.28637e-11,-11620.3,5.21034], Tmin=(100,'K'), Tmax=(954.51,'K')), NASAPolynomial(coeffs=[4.58983,0.0141508,-4.75962e-06,8.60294e-10,-6.21717e-14,-12721.8,-3.61739], Tmin=(954.51,'K'), Tmax=(5000,'K'))], Tmin=(100,'K'), Tmax=(5000,'K'), comment=\"\"\"Thermo group additivity estimation: group(Cs-CsHHH) + gauche(Cs(CsRRR)) + other(R) + group(Cs-CsHHH) + gauche(Cs(CsRRR)) + other(R)\"\"\"), molecule=[Molecule(SMILES=\"CC\")]), Species(index=3, label=\"C[CH2]\", thermo=NASA(polynomials=[NASAPolynomial(coeffs=[3.8219,-0.00343436,5.09286e-05,-6.20252e-08,2.37092e-11,13066,7.61622], Tmin=(100,'K'), Tmax=(900.3,'K')), NASAPolynomial(coeffs=[5.15605,0.00943151,-1.81963e-06,2.21236e-10,-1.43515e-14,12064.1,-2.9101], Tmin=(900.3,'K'), Tmax=(5000,'K'))], Tmin=(100,'K'), Tmax=(5000,'K'), comment=\"\"\"Thermo group additivity estimation: group(Cs-CsHHH) + gauche(Cs(CsRRR)) + other(R) + group(Cs-CsHHH) + gauche(Cs(CsRRR)) + other(R) + radical(CCJ)\"\"\"), molecule=[Molecule(SMILES=\"C[CH2]\")])), (Species(index=2, label=\"[CH3]\", thermo=NASA(polynomials=[NASAPolynomial(coeffs=[3.91547,0.00184154,3.48744e-06,-3.3275e-09,8.49964e-13,16285.6,0.351739], Tmin=(100,'K'), Tmax=(1337.62,'K')), NASAPolynomial(coeffs=[3.54145,0.00476788,-1.82149e-06,3.28878e-10,-2.22547e-14,16224,1.6604], Tmin=(1337.62,'K'), Tmax=(5000,'K'))], Tmin=(100,'K'), Tmax=(5000,'K'), comment=\"\"\"Thermo library: primaryThermoLibrary + radical(CH3)\"\"\"), molecule=[Molecule(SMILES=\"[CH3]\")]), Species(index=6, label=\"C\", thermo=NASA(polynomials=[NASAPolynomial(coeffs=[4.20541,-0.00535556,2.51123e-05,-2.13762e-08,5.97522e-12,-10161.9,-0.921275], Tmin=(100,'K'), Tmax=(1084.12,'K')), NASAPolynomial(coeffs=[0.908272,0.0114541,-4.57173e-06,8.2919e-10,-5.66314e-14,-9719.98,13.9931], Tmin=(1084.12,'K'), Tmax=(5000,'K'))], Tmin=(100,'K'), Tmax=(5000,'K'), comment=\"\"\"Thermo library: primaryThermoLibrary\"\"\"), molecule=[Molecule(SMILES=\"C\")]))])"
      ]
     },
     "metadata": {},
     "output_type": "display_data"
    },
    {
     "name": "stdout",
     "output_type": "stream",
     "text": [
      "Forward rate coefficient at 1350 K: 1.84E+04\n",
      "Reverse rate coefficient at 1350 K: 1.57E+03\n",
      "\n",
      "Example Disproportionation: rxn#20 (1/2 Disp): \n",
      "\n",
      "[CH]=C(13) + C[CH2](3) <=> C#C(25) + ethane(1)\n"
     ]
    },
    {
     "data": {
      "image/png": "[encoded data removed]",
      "text/plain": [
       "Reaction(index=20, reactants=[Species(index=13, label=\"[CH]=C\", thermo=NASA(polynomials=[NASAPolynomial(coeffs=[3.90668,-0.00406204,3.86766e-05,-4.62957e-08,1.72892e-11,34797.2,6.098], Tmin=(100,'K'), Tmax=(931.97,'K')), NASAPolynomial(coeffs=[5.44806,0.0049834,-1.08811e-06,1.79815e-10,-1.45078e-14,33829.7,-4.87859], Tmin=(931.97,'K'), Tmax=(5000,'K'))], Tmin=(100,'K'), Tmax=(5000,'K'), comment=\"\"\"Thermo group additivity estimation: group(Cds-CdsHH) + gauche(CsOsCdSs) + other(R) + group(Cds-CdsHH) + gauche(CsOsCdSs) + other(R) + radical(Cds_P)\"\"\"), molecule=[Molecule(SMILES=\"[CH]=C\")]), Species(index=3, label=\"C[CH2]\", thermo=NASA(polynomials=[NASAPolynomial(coeffs=[3.8219,-0.00343436,5.09286e-05,-6.20252e-08,2.37092e-11,13066,7.61622], Tmin=(100,'K'), Tmax=(900.3,'K')), NASAPolynomial(coeffs=[5.15605,0.00943151,-1.81963e-06,2.21236e-10,-1.43515e-14,12064.1,-2.9101], Tmin=(900.3,'K'), Tmax=(5000,'K'))], Tmin=(100,'K'), Tmax=(5000,'K'), comment=\"\"\"Thermo group additivity estimation: group(Cs-CsHHH) + gauche(Cs(CsRRR)) + other(R) + group(Cs-CsHHH) + gauche(Cs(CsRRR)) + other(R) + radical(CCJ)\"\"\"), molecule=[Molecule(SMILES=\"C[CH2]\")])], products=[Species(index=25, label=\"C#C\", thermo=NASA(polynomials=[NASAPolynomial(coeffs=[3.03575,0.00771231,2.53525e-06,-1.08138e-08,5.50779e-12,25852.6,4.54459], Tmin=(100,'K'), Tmax=(888.62,'K')), NASAPolynomial(coeffs=[5.76203,0.00237162,-1.496e-07,-2.19113e-11,2.21744e-15,25094.5,-9.82599], Tmin=(888.62,'K'), Tmax=(5000,'K'))], Tmin=(100,'K'), Tmax=(5000,'K'), comment=\"\"\"Thermo group additivity estimation: group(Ct-CtH) + other(R) + group(Ct-CtH) + other(R)\"\"\"), molecule=[Molecule(SMILES=\"C#C\")]), Species(index=1, label=\"ethane\", thermo=NASA(polynomials=[NASAPolynomial(coeffs=[3.78033,-0.00324263,5.52381e-05,-6.38581e-08,2.28637e-11,-11620.3,5.21034], Tmin=(100,'K'), Tmax=(954.51,'K')), NASAPolynomial(coeffs=[4.58983,0.0141508,-4.75962e-06,8.60294e-10,-6.21717e-14,-12721.8,-3.61739], Tmin=(954.51,'K'), Tmax=(5000,'K'))], Tmin=(100,'K'), Tmax=(5000,'K'), comment=\"\"\"Thermo group additivity estimation: group(Cs-CsHHH) + gauche(Cs(CsRRR)) + other(R) + group(Cs-CsHHH) + gauche(Cs(CsRRR)) + other(R)\"\"\"), molecule=[Molecule(SMILES=\"CC\")])], kinetics=Arrhenius(A=(2.277e+06,'cm^3/(mol*s)'), n=1.87, Ea=(-1.11,'kcal/mol'), T0=(1,'K'), comment=\"\"\"Estimated using template [Cs_rad;CH_d_Rrad] for rate rule [C_rad/H2/Cs;Cd_Cdrad]\n",
       "Multiplied by reaction path degeneracy 2\"\"\"), pairs=[(Species(index=3, label=\"C[CH2]\", thermo=NASA(polynomials=[NASAPolynomial(coeffs=[3.8219,-0.00343436,5.09286e-05,-6.20252e-08,2.37092e-11,13066,7.61622], Tmin=(100,'K'), Tmax=(900.3,'K')), NASAPolynomial(coeffs=[5.15605,0.00943151,-1.81963e-06,2.21236e-10,-1.43515e-14,12064.1,-2.9101], Tmin=(900.3,'K'), Tmax=(5000,'K'))], Tmin=(100,'K'), Tmax=(5000,'K'), comment=\"\"\"Thermo group additivity estimation: group(Cs-CsHHH) + gauche(Cs(CsRRR)) + other(R) + group(Cs-CsHHH) + gauche(Cs(CsRRR)) + other(R) + radical(CCJ)\"\"\"), molecule=[Molecule(SMILES=\"C[CH2]\")]), Species(index=1, label=\"ethane\", thermo=NASA(polynomials=[NASAPolynomial(coeffs=[3.78033,-0.00324263,5.52381e-05,-6.38581e-08,2.28637e-11,-11620.3,5.21034], Tmin=(100,'K'), Tmax=(954.51,'K')), NASAPolynomial(coeffs=[4.58983,0.0141508,-4.75962e-06,8.60294e-10,-6.21717e-14,-12721.8,-3.61739], Tmin=(954.51,'K'), Tmax=(5000,'K'))], Tmin=(100,'K'), Tmax=(5000,'K'), comment=\"\"\"Thermo group additivity estimation: group(Cs-CsHHH) + gauche(Cs(CsRRR)) + other(R) + group(Cs-CsHHH) + gauche(Cs(CsRRR)) + other(R)\"\"\"), molecule=[Molecule(SMILES=\"CC\")])), (Species(index=13, label=\"[CH]=C\", thermo=NASA(polynomials=[NASAPolynomial(coeffs=[3.90668,-0.00406204,3.86766e-05,-4.62957e-08,1.72892e-11,34797.2,6.098], Tmin=(100,'K'), Tmax=(931.97,'K')), NASAPolynomial(coeffs=[5.44806,0.0049834,-1.08811e-06,1.79815e-10,-1.45078e-14,33829.7,-4.87859], Tmin=(931.97,'K'), Tmax=(5000,'K'))], Tmin=(100,'K'), Tmax=(5000,'K'), comment=\"\"\"Thermo group additivity estimation: group(Cds-CdsHH) + gauche(CsOsCdSs) + other(R) + group(Cds-CdsHH) + gauche(CsOsCdSs) + other(R) + radical(Cds_P)\"\"\"), molecule=[Molecule(SMILES=\"[CH]=C\")]), Species(index=25, label=\"C#C\", thermo=NASA(polynomials=[NASAPolynomial(coeffs=[3.03575,0.00771231,2.53525e-06,-1.08138e-08,5.50779e-12,25852.6,4.54459], Tmin=(100,'K'), Tmax=(888.62,'K')), NASAPolynomial(coeffs=[5.76203,0.00237162,-1.496e-07,-2.19113e-11,2.21744e-15,25094.5,-9.82599], Tmin=(888.62,'K'), Tmax=(5000,'K'))], Tmin=(100,'K'), Tmax=(5000,'K'), comment=\"\"\"Thermo group additivity estimation: group(Ct-CtH) + other(R) + group(Ct-CtH) + other(R)\"\"\"), molecule=[Molecule(SMILES=\"C#C\")]))])"
      ]
     },
     "metadata": {},
     "output_type": "display_data"
    },
    {
     "name": "stdout",
     "output_type": "stream",
     "text": [
      "Forward rate coefficient at 1350 K: 2.46E+06\n",
      "Reverse rate coefficient at 1350 K: 2.29E-02\n",
      "\n",
      "\n",
      "Step2 \t\t\t\t Integrated Flux \t Rel. Flux (%)\n",
      "***********************************************************************\n",
      "C2H5(3) --> H(4) \t\t 4.509E-06 \t\t 88.98\n",
      "***********************************************************************\n",
      "\n",
      "Example reaction: rxn#5\n",
      "\n",
      "C=C(8) + [H](4) <=> C[CH2](3)\n"
     ]
    },
    {
     "data": {
      "image/png": "[encoded data removed]",
      "text/plain": [
       "Reaction(index=5, reactants=[Species(index=8, label=\"C=C\", thermo=NASA(polynomials=[NASAPolynomial(coeffs=[3.97974,-0.00757559,5.52973e-05,-6.36221e-08,2.31767e-11,5077.46,4.04623], Tmin=(100,'K'), Tmax=(940.45,'K')), NASAPolynomial(coeffs=[5.203,0.00782442,-2.12683e-06,3.7969e-10,-2.9467e-14,3936.28,-6.62412], Tmin=(940.45,'K'), Tmax=(5000,'K'))], Tmin=(100,'K'), Tmax=(5000,'K'), comment=\"\"\"Thermo group additivity estimation: group(Cds-CdsHH) + gauche(CsOsCdSs) + other(R) + group(Cds-CdsHH) + gauche(CsOsCdSs) + other(R)\"\"\"), molecule=[Molecule(SMILES=\"C=C\")]), Species(index=4, label=\"[H]\", thermo=NASA(polynomials=[NASAPolynomial(coeffs=[2.5,-1.91243e-12,2.45329e-15,-1.02377e-18,1.31369e-22,25474.2,-0.444973], Tmin=(100,'K'), Tmax=(4563.27,'K')), NASAPolynomial(coeffs=[2.50167,-1.43051e-06,4.6025e-10,-6.57826e-14,3.52412e-18,25472.7,-0.455578], Tmin=(4563.27,'K'), Tmax=(5000,'K'))], Tmin=(100,'K'), Tmax=(5000,'K'), comment=\"\"\"Thermo library: primaryThermoLibrary\"\"\"), molecule=[Molecule(SMILES=\"[H]\")])], products=[Species(index=3, label=\"C[CH2]\", thermo=NASA(polynomials=[NASAPolynomial(coeffs=[3.8219,-0.00343436,5.09286e-05,-6.20252e-08,2.37092e-11,13066,7.61622], Tmin=(100,'K'), Tmax=(900.3,'K')), NASAPolynomial(coeffs=[5.15605,0.00943151,-1.81963e-06,2.21236e-10,-1.43515e-14,12064.1,-2.9101], Tmin=(900.3,'K'), Tmax=(5000,'K'))], Tmin=(100,'K'), Tmax=(5000,'K'), comment=\"\"\"Thermo group additivity estimation: group(Cs-CsHHH) + gauche(Cs(CsRRR)) + other(R) + group(Cs-CsHHH) + gauche(Cs(CsRRR)) + other(R) + radical(CCJ)\"\"\"), molecule=[Molecule(SMILES=\"C[CH2]\")])], kinetics=Arrhenius(A=(4.62e+08,'cm^3/(mol*s)'), n=1.64, Ea=(1.01,'kcal/mol'), T0=(1,'K'), comment=\"\"\"Exact match found for rate rule [Cds-HH_Cds-HH;HJ]\n",
       "Multiplied by reaction path degeneracy 2\"\"\"), pairs=[(Species(index=8, label=\"C=C\", thermo=NASA(polynomials=[NASAPolynomial(coeffs=[3.97974,-0.00757559,5.52973e-05,-6.36221e-08,2.31767e-11,5077.46,4.04623], Tmin=(100,'K'), Tmax=(940.45,'K')), NASAPolynomial(coeffs=[5.203,0.00782442,-2.12683e-06,3.7969e-10,-2.9467e-14,3936.28,-6.62412], Tmin=(940.45,'K'), Tmax=(5000,'K'))], Tmin=(100,'K'), Tmax=(5000,'K'), comment=\"\"\"Thermo group additivity estimation: group(Cds-CdsHH) + gauche(CsOsCdSs) + other(R) + group(Cds-CdsHH) + gauche(CsOsCdSs) + other(R)\"\"\"), molecule=[Molecule(SMILES=\"C=C\")]), Species(index=3, label=\"C[CH2]\", thermo=NASA(polynomials=[NASAPolynomial(coeffs=[3.8219,-0.00343436,5.09286e-05,-6.20252e-08,2.37092e-11,13066,7.61622], Tmin=(100,'K'), Tmax=(900.3,'K')), NASAPolynomial(coeffs=[5.15605,0.00943151,-1.81963e-06,2.21236e-10,-1.43515e-14,12064.1,-2.9101], Tmin=(900.3,'K'), Tmax=(5000,'K'))], Tmin=(100,'K'), Tmax=(5000,'K'), comment=\"\"\"Thermo group additivity estimation: group(Cs-CsHHH) + gauche(Cs(CsRRR)) + other(R) + group(Cs-CsHHH) + gauche(Cs(CsRRR)) + other(R) + radical(CCJ)\"\"\"), molecule=[Molecule(SMILES=\"C[CH2]\")])), (Species(index=4, label=\"[H]\", thermo=NASA(polynomials=[NASAPolynomial(coeffs=[2.5,-1.91243e-12,2.45329e-15,-1.02377e-18,1.31369e-22,25474.2,-0.444973], Tmin=(100,'K'), Tmax=(4563.27,'K')), NASAPolynomial(coeffs=[2.50167,-1.43051e-06,4.6025e-10,-6.57826e-14,3.52412e-18,25472.7,-0.455578], Tmin=(4563.27,'K'), Tmax=(5000,'K'))], Tmin=(100,'K'), Tmax=(5000,'K'), comment=\"\"\"Thermo library: primaryThermoLibrary\"\"\"), molecule=[Molecule(SMILES=\"[H]\")]), Species(index=3, label=\"C[CH2]\", thermo=NASA(polynomials=[NASAPolynomial(coeffs=[3.8219,-0.00343436,5.09286e-05,-6.20252e-08,2.37092e-11,13066,7.61622], Tmin=(100,'K'), Tmax=(900.3,'K')), NASAPolynomial(coeffs=[5.15605,0.00943151,-1.81963e-06,2.21236e-10,-1.43515e-14,12064.1,-2.9101], Tmin=(900.3,'K'), Tmax=(5000,'K'))], Tmin=(100,'K'), Tmax=(5000,'K'), comment=\"\"\"Thermo group additivity estimation: group(Cs-CsHHH) + gauche(Cs(CsRRR)) + other(R) + group(Cs-CsHHH) + gauche(Cs(CsRRR)) + other(R) + radical(CCJ)\"\"\"), molecule=[Molecule(SMILES=\"C[CH2]\")]))])"
      ]
     },
     "metadata": {},
     "output_type": "display_data"
    },
    {
     "name": "stdout",
     "output_type": "stream",
     "text": [
      "Forward rate coefficient at 1350 K: 4.31E+07\n",
      "Reverse rate coefficient at 1350 K: 3.56E+07\n",
      "\n",
      "\n",
      "Step3 \t\t\t\t Integrated Flux \t Rel. Flux (%)\n",
      "***********************************************************************\n",
      "H(4) --> C2H4(8) \t\t 7.530E-09 \t\t 0.15\n",
      "***********************************************************************\n",
      "\n",
      "Example reaction: rxn#13\n",
      "\n",
      "[CH]=C(13) + [H](4) <=> C=C(8)\n"
     ]
    },
    {
     "data": {
      "image/png": "[encoded data removed]",
      "text/plain": [
       "Reaction(index=13, reactants=[Species(index=13, label=\"[CH]=C\", thermo=NASA(polynomials=[NASAPolynomial(coeffs=[3.90668,-0.00406204,3.86766e-05,-4.62957e-08,1.72892e-11,34797.2,6.098], Tmin=(100,'K'), Tmax=(931.97,'K')), NASAPolynomial(coeffs=[5.44806,0.0049834,-1.08811e-06,1.79815e-10,-1.45078e-14,33829.7,-4.87859], Tmin=(931.97,'K'), Tmax=(5000,'K'))], Tmin=(100,'K'), Tmax=(5000,'K'), comment=\"\"\"Thermo group additivity estimation: group(Cds-CdsHH) + gauche(CsOsCdSs) + other(R) + group(Cds-CdsHH) + gauche(CsOsCdSs) + other(R) + radical(Cds_P)\"\"\"), molecule=[Molecule(SMILES=\"[CH]=C\")]), Species(index=4, label=\"[H]\", thermo=NASA(polynomials=[NASAPolynomial(coeffs=[2.5,-1.91243e-12,2.45329e-15,-1.02377e-18,1.31369e-22,25474.2,-0.444973], Tmin=(100,'K'), Tmax=(4563.27,'K')), NASAPolynomial(coeffs=[2.50167,-1.43051e-06,4.6025e-10,-6.57826e-14,3.52412e-18,25472.7,-0.455578], Tmin=(4563.27,'K'), Tmax=(5000,'K'))], Tmin=(100,'K'), Tmax=(5000,'K'), comment=\"\"\"Thermo library: primaryThermoLibrary\"\"\"), molecule=[Molecule(SMILES=\"[H]\")])], products=[Species(index=8, label=\"C=C\", thermo=NASA(polynomials=[NASAPolynomial(coeffs=[3.97974,-0.00757559,5.52973e-05,-6.36221e-08,2.31767e-11,5077.46,4.04623], Tmin=(100,'K'), Tmax=(940.45,'K')), NASAPolynomial(coeffs=[5.203,0.00782442,-2.12683e-06,3.7969e-10,-2.9467e-14,3936.28,-6.62412], Tmin=(940.45,'K'), Tmax=(5000,'K'))], Tmin=(100,'K'), Tmax=(5000,'K'), comment=\"\"\"Thermo group additivity estimation: group(Cds-CdsHH) + gauche(CsOsCdSs) + other(R) + group(Cds-CdsHH) + gauche(CsOsCdSs) + other(R)\"\"\"), molecule=[Molecule(SMILES=\"C=C\")])], kinetics=Arrhenius(A=(1.21e+14,'cm^3/(mol*s)'), n=0, Ea=(0,'kcal/mol'), T0=(1,'K'), comment=\"\"\"Exact match found for rate rule [Cd_pri_rad;H_rad]\"\"\"), pairs=[(Species(index=13, label=\"[CH]=C\", thermo=NASA(polynomials=[NASAPolynomial(coeffs=[3.90668,-0.00406204,3.86766e-05,-4.62957e-08,1.72892e-11,34797.2,6.098], Tmin=(100,'K'), Tmax=(931.97,'K')), NASAPolynomial(coeffs=[5.44806,0.0049834,-1.08811e-06,1.79815e-10,-1.45078e-14,33829.7,-4.87859], Tmin=(931.97,'K'), Tmax=(5000,'K'))], Tmin=(100,'K'), Tmax=(5000,'K'), comment=\"\"\"Thermo group additivity estimation: group(Cds-CdsHH) + gauche(CsOsCdSs) + other(R) + group(Cds-CdsHH) + gauche(CsOsCdSs) + other(R) + radical(Cds_P)\"\"\"), molecule=[Molecule(SMILES=\"[CH]=C\")]), Species(index=8, label=\"C=C\", thermo=NASA(polynomials=[NASAPolynomial(coeffs=[3.97974,-0.00757559,5.52973e-05,-6.36221e-08,2.31767e-11,5077.46,4.04623], Tmin=(100,'K'), Tmax=(940.45,'K')), NASAPolynomial(coeffs=[5.203,0.00782442,-2.12683e-06,3.7969e-10,-2.9467e-14,3936.28,-6.62412], Tmin=(940.45,'K'), Tmax=(5000,'K'))], Tmin=(100,'K'), Tmax=(5000,'K'), comment=\"\"\"Thermo group additivity estimation: group(Cds-CdsHH) + gauche(CsOsCdSs) + other(R) + group(Cds-CdsHH) + gauche(CsOsCdSs) + other(R)\"\"\"), molecule=[Molecule(SMILES=\"C=C\")])), (Species(index=4, label=\"[H]\", thermo=NASA(polynomials=[NASAPolynomial(coeffs=[2.5,-1.91243e-12,2.45329e-15,-1.02377e-18,1.31369e-22,25474.2,-0.444973], Tmin=(100,'K'), Tmax=(4563.27,'K')), NASAPolynomial(coeffs=[2.50167,-1.43051e-06,4.6025e-10,-6.57826e-14,3.52412e-18,25472.7,-0.455578], Tmin=(4563.27,'K'), Tmax=(5000,'K'))], Tmin=(100,'K'), Tmax=(5000,'K'), comment=\"\"\"Thermo library: primaryThermoLibrary\"\"\"), molecule=[Molecule(SMILES=\"[H]\")]), Species(index=8, label=\"C=C\", thermo=NASA(polynomials=[NASAPolynomial(coeffs=[3.97974,-0.00757559,5.52973e-05,-6.36221e-08,2.31767e-11,5077.46,4.04623], Tmin=(100,'K'), Tmax=(940.45,'K')), NASAPolynomial(coeffs=[5.203,0.00782442,-2.12683e-06,3.7969e-10,-2.9467e-14,3936.28,-6.62412], Tmin=(940.45,'K'), Tmax=(5000,'K'))], Tmin=(100,'K'), Tmax=(5000,'K'), comment=\"\"\"Thermo group additivity estimation: group(Cds-CdsHH) + gauche(CsOsCdSs) + other(R) + group(Cds-CdsHH) + gauche(CsOsCdSs) + other(R)\"\"\"), molecule=[Molecule(SMILES=\"C=C\")]))])"
      ]
     },
     "metadata": {},
     "output_type": "display_data"
    },
    {
     "name": "stdout",
     "output_type": "stream",
     "text": [
      "Forward rate coefficient at 1350 K: 1.21E+08\n",
      "Reverse rate coefficient at 1350 K: 2.89E-02\n",
      "\n",
      "\n",
      "Step4 \t\t\t\t Integrated Flux \t Rel. Flux (%)\n",
      "***********************************************************************\n",
      "C2H4(8) --> C2H3(13) \t\t 5.869E-07 \t\t 11.58\n",
      "***********************************************************************\n",
      "\n",
      "Example reaction: rxn#13\n",
      "\n",
      "[CH]=C(13) + [H](4) <=> C=C(8)\n"
     ]
    },
    {
     "data": {
      "image/png": "[encoded data removed]",
      "text/plain": [
       "Reaction(index=13, reactants=[Species(index=13, label=\"[CH]=C\", thermo=NASA(polynomials=[NASAPolynomial(coeffs=[3.90668,-0.00406204,3.86766e-05,-4.62957e-08,1.72892e-11,34797.2,6.098], Tmin=(100,'K'), Tmax=(931.97,'K')), NASAPolynomial(coeffs=[5.44806,0.0049834,-1.08811e-06,1.79815e-10,-1.45078e-14,33829.7,-4.87859], Tmin=(931.97,'K'), Tmax=(5000,'K'))], Tmin=(100,'K'), Tmax=(5000,'K'), comment=\"\"\"Thermo group additivity estimation: group(Cds-CdsHH) + gauche(CsOsCdSs) + other(R) + group(Cds-CdsHH) + gauche(CsOsCdSs) + other(R) + radical(Cds_P)\"\"\"), molecule=[Molecule(SMILES=\"[CH]=C\")]), Species(index=4, label=\"[H]\", thermo=NASA(polynomials=[NASAPolynomial(coeffs=[2.5,-1.91243e-12,2.45329e-15,-1.02377e-18,1.31369e-22,25474.2,-0.444973], Tmin=(100,'K'), Tmax=(4563.27,'K')), NASAPolynomial(coeffs=[2.50167,-1.43051e-06,4.6025e-10,-6.57826e-14,3.52412e-18,25472.7,-0.455578], Tmin=(4563.27,'K'), Tmax=(5000,'K'))], Tmin=(100,'K'), Tmax=(5000,'K'), comment=\"\"\"Thermo library: primaryThermoLibrary\"\"\"), molecule=[Molecule(SMILES=\"[H]\")])], products=[Species(index=8, label=\"C=C\", thermo=NASA(polynomials=[NASAPolynomial(coeffs=[3.97974,-0.00757559,5.52973e-05,-6.36221e-08,2.31767e-11,5077.46,4.04623], Tmin=(100,'K'), Tmax=(940.45,'K')), NASAPolynomial(coeffs=[5.203,0.00782442,-2.12683e-06,3.7969e-10,-2.9467e-14,3936.28,-6.62412], Tmin=(940.45,'K'), Tmax=(5000,'K'))], Tmin=(100,'K'), Tmax=(5000,'K'), comment=\"\"\"Thermo group additivity estimation: group(Cds-CdsHH) + gauche(CsOsCdSs) + other(R) + group(Cds-CdsHH) + gauche(CsOsCdSs) + other(R)\"\"\"), molecule=[Molecule(SMILES=\"C=C\")])], kinetics=Arrhenius(A=(1.21e+14,'cm^3/(mol*s)'), n=0, Ea=(0,'kcal/mol'), T0=(1,'K'), comment=\"\"\"Exact match found for rate rule [Cd_pri_rad;H_rad]\"\"\"), pairs=[(Species(index=13, label=\"[CH]=C\", thermo=NASA(polynomials=[NASAPolynomial(coeffs=[3.90668,-0.00406204,3.86766e-05,-4.62957e-08,1.72892e-11,34797.2,6.098], Tmin=(100,'K'), Tmax=(931.97,'K')), NASAPolynomial(coeffs=[5.44806,0.0049834,-1.08811e-06,1.79815e-10,-1.45078e-14,33829.7,-4.87859], Tmin=(931.97,'K'), Tmax=(5000,'K'))], Tmin=(100,'K'), Tmax=(5000,'K'), comment=\"\"\"Thermo group additivity estimation: group(Cds-CdsHH) + gauche(CsOsCdSs) + other(R) + group(Cds-CdsHH) + gauche(CsOsCdSs) + other(R) + radical(Cds_P)\"\"\"), molecule=[Molecule(SMILES=\"[CH]=C\")]), Species(index=8, label=\"C=C\", thermo=NASA(polynomials=[NASAPolynomial(coeffs=[3.97974,-0.00757559,5.52973e-05,-6.36221e-08,2.31767e-11,5077.46,4.04623], Tmin=(100,'K'), Tmax=(940.45,'K')), NASAPolynomial(coeffs=[5.203,0.00782442,-2.12683e-06,3.7969e-10,-2.9467e-14,3936.28,-6.62412], Tmin=(940.45,'K'), Tmax=(5000,'K'))], Tmin=(100,'K'), Tmax=(5000,'K'), comment=\"\"\"Thermo group additivity estimation: group(Cds-CdsHH) + gauche(CsOsCdSs) + other(R) + group(Cds-CdsHH) + gauche(CsOsCdSs) + other(R)\"\"\"), molecule=[Molecule(SMILES=\"C=C\")])), (Species(index=4, label=\"[H]\", thermo=NASA(polynomials=[NASAPolynomial(coeffs=[2.5,-1.91243e-12,2.45329e-15,-1.02377e-18,1.31369e-22,25474.2,-0.444973], Tmin=(100,'K'), Tmax=(4563.27,'K')), NASAPolynomial(coeffs=[2.50167,-1.43051e-06,4.6025e-10,-6.57826e-14,3.52412e-18,25472.7,-0.455578], Tmin=(4563.27,'K'), Tmax=(5000,'K'))], Tmin=(100,'K'), Tmax=(5000,'K'), comment=\"\"\"Thermo library: primaryThermoLibrary\"\"\"), molecule=[Molecule(SMILES=\"[H]\")]), Species(index=8, label=\"C=C\", thermo=NASA(polynomials=[NASAPolynomial(coeffs=[3.97974,-0.00757559,5.52973e-05,-6.36221e-08,2.31767e-11,5077.46,4.04623], Tmin=(100,'K'), Tmax=(940.45,'K')), NASAPolynomial(coeffs=[5.203,0.00782442,-2.12683e-06,3.7969e-10,-2.9467e-14,3936.28,-6.62412], Tmin=(940.45,'K'), Tmax=(5000,'K'))], Tmin=(100,'K'), Tmax=(5000,'K'), comment=\"\"\"Thermo group additivity estimation: group(Cds-CdsHH) + gauche(CsOsCdSs) + other(R) + group(Cds-CdsHH) + gauche(CsOsCdSs) + other(R)\"\"\"), molecule=[Molecule(SMILES=\"C=C\")]))])"
      ]
     },
     "metadata": {},
     "output_type": "display_data"
    },
    {
     "name": "stdout",
     "output_type": "stream",
     "text": [
      "Forward rate coefficient at 1350 K: 1.21E+08\n",
      "Reverse rate coefficient at 1350 K: 2.89E-02\n",
      "\n",
      "Example H_Abstraction: rxn#14 (1/3 H_Abs): \n",
      "\n",
      "[CH]=C(13) + C(6) <=> C=C(8) + [CH3](2)\n"
     ]
    },
    {
     "data": {
      "image/png": "[encoded data removed]",
      "text/plain": [
       "Reaction(index=14, reactants=[Species(index=13, label=\"[CH]=C\", thermo=NASA(polynomials=[NASAPolynomial(coeffs=[3.90668,-0.00406204,3.86766e-05,-4.62957e-08,1.72892e-11,34797.2,6.098], Tmin=(100,'K'), Tmax=(931.97,'K')), NASAPolynomial(coeffs=[5.44806,0.0049834,-1.08811e-06,1.79815e-10,-1.45078e-14,33829.7,-4.87859], Tmin=(931.97,'K'), Tmax=(5000,'K'))], Tmin=(100,'K'), Tmax=(5000,'K'), comment=\"\"\"Thermo group additivity estimation: group(Cds-CdsHH) + gauche(CsOsCdSs) + other(R) + group(Cds-CdsHH) + gauche(CsOsCdSs) + other(R) + radical(Cds_P)\"\"\"), molecule=[Molecule(SMILES=\"[CH]=C\")]), Species(index=6, label=\"C\", thermo=NASA(polynomials=[NASAPolynomial(coeffs=[4.20541,-0.00535556,2.51123e-05,-2.13762e-08,5.97522e-12,-10161.9,-0.921275], Tmin=(100,'K'), Tmax=(1084.12,'K')), NASAPolynomial(coeffs=[0.908272,0.0114541,-4.57173e-06,8.2919e-10,-5.66314e-14,-9719.98,13.9931], Tmin=(1084.12,'K'), Tmax=(5000,'K'))], Tmin=(100,'K'), Tmax=(5000,'K'), comment=\"\"\"Thermo library: primaryThermoLibrary\"\"\"), molecule=[Molecule(SMILES=\"C\")])], products=[Species(index=8, label=\"C=C\", thermo=NASA(polynomials=[NASAPolynomial(coeffs=[3.97974,-0.00757559,5.52973e-05,-6.36221e-08,2.31767e-11,5077.46,4.04623], Tmin=(100,'K'), Tmax=(940.45,'K')), NASAPolynomial(coeffs=[5.203,0.00782442,-2.12683e-06,3.7969e-10,-2.9467e-14,3936.28,-6.62412], Tmin=(940.45,'K'), Tmax=(5000,'K'))], Tmin=(100,'K'), Tmax=(5000,'K'), comment=\"\"\"Thermo group additivity estimation: group(Cds-CdsHH) + gauche(CsOsCdSs) + other(R) + group(Cds-CdsHH) + gauche(CsOsCdSs) + other(R)\"\"\"), molecule=[Molecule(SMILES=\"C=C\")]), Species(index=2, label=\"[CH3]\", thermo=NASA(polynomials=[NASAPolynomial(coeffs=[3.91547,0.00184154,3.48744e-06,-3.3275e-09,8.49964e-13,16285.6,0.351739], Tmin=(100,'K'), Tmax=(1337.62,'K')), NASAPolynomial(coeffs=[3.54145,0.00476788,-1.82149e-06,3.28878e-10,-2.22547e-14,16224,1.6604], Tmin=(1337.62,'K'), Tmax=(5000,'K'))], Tmin=(100,'K'), Tmax=(5000,'K'), comment=\"\"\"Thermo library: primaryThermoLibrary + radical(CH3)\"\"\"), molecule=[Molecule(SMILES=\"[CH3]\")])], kinetics=Arrhenius(A=(0.05137,'cm^3/(mol*s)'), n=4.133, Ea=(3.682,'kcal/mol'), T0=(1,'K'), comment=\"\"\"Estimated using average of templates [Cs_H;Cd_Cd\\H2_pri_rad] + [C_methane;Cd_pri_rad] for rate rule [C_methane;Cd_Cd\\H2_pri_rad]\n",
       "Multiplied by reaction path degeneracy 4\"\"\"), pairs=[(Species(index=6, label=\"C\", thermo=NASA(polynomials=[NASAPolynomial(coeffs=[4.20541,-0.00535556,2.51123e-05,-2.13762e-08,5.97522e-12,-10161.9,-0.921275], Tmin=(100,'K'), Tmax=(1084.12,'K')), NASAPolynomial(coeffs=[0.908272,0.0114541,-4.57173e-06,8.2919e-10,-5.66314e-14,-9719.98,13.9931], Tmin=(1084.12,'K'), Tmax=(5000,'K'))], Tmin=(100,'K'), Tmax=(5000,'K'), comment=\"\"\"Thermo library: primaryThermoLibrary\"\"\"), molecule=[Molecule(SMILES=\"C\")]), Species(index=2, label=\"[CH3]\", thermo=NASA(polynomials=[NASAPolynomial(coeffs=[3.91547,0.00184154,3.48744e-06,-3.3275e-09,8.49964e-13,16285.6,0.351739], Tmin=(100,'K'), Tmax=(1337.62,'K')), NASAPolynomial(coeffs=[3.54145,0.00476788,-1.82149e-06,3.28878e-10,-2.22547e-14,16224,1.6604], Tmin=(1337.62,'K'), Tmax=(5000,'K'))], Tmin=(100,'K'), Tmax=(5000,'K'), comment=\"\"\"Thermo library: primaryThermoLibrary + radical(CH3)\"\"\"), molecule=[Molecule(SMILES=\"[CH3]\")])), (Species(index=13, label=\"[CH]=C\", thermo=NASA(polynomials=[NASAPolynomial(coeffs=[3.90668,-0.00406204,3.86766e-05,-4.62957e-08,1.72892e-11,34797.2,6.098], Tmin=(100,'K'), Tmax=(931.97,'K')), NASAPolynomial(coeffs=[5.44806,0.0049834,-1.08811e-06,1.79815e-10,-1.45078e-14,33829.7,-4.87859], Tmin=(931.97,'K'), Tmax=(5000,'K'))], Tmin=(100,'K'), Tmax=(5000,'K'), comment=\"\"\"Thermo group additivity estimation: group(Cds-CdsHH) + gauche(CsOsCdSs) + other(R) + group(Cds-CdsHH) + gauche(CsOsCdSs) + other(R) + radical(Cds_P)\"\"\"), molecule=[Molecule(SMILES=\"[CH]=C\")]), Species(index=8, label=\"C=C\", thermo=NASA(polynomials=[NASAPolynomial(coeffs=[3.97974,-0.00757559,5.52973e-05,-6.36221e-08,2.31767e-11,5077.46,4.04623], Tmin=(100,'K'), Tmax=(940.45,'K')), NASAPolynomial(coeffs=[5.203,0.00782442,-2.12683e-06,3.7969e-10,-2.9467e-14,3936.28,-6.62412], Tmin=(940.45,'K'), Tmax=(5000,'K'))], Tmin=(100,'K'), Tmax=(5000,'K'), comment=\"\"\"Thermo group additivity estimation: group(Cds-CdsHH) + gauche(CsOsCdSs) + other(R) + group(Cds-CdsHH) + gauche(CsOsCdSs) + other(R)\"\"\"), molecule=[Molecule(SMILES=\"C=C\")]))])"
      ]
     },
     "metadata": {},
     "output_type": "display_data"
    },
    {
     "name": "stdout",
     "output_type": "stream",
     "text": [
      "Forward rate coefficient at 1350 K: 1.13E+05\n",
      "Reverse rate coefficient at 1350 K: 2.47E+04\n",
      "\n",
      "Example Disproportionation: rxn#17 (1/2 Disp): \n",
      "\n",
      "[CH]=C(13) + C[CH2](3) <=> C=C(8) + C=C(8)\n"
     ]
    },
    {
     "data": {
      "image/png": "[encoded data removed]",
      "text/plain": [
       "Reaction(index=17, reactants=[Species(index=13, label=\"[CH]=C\", thermo=NASA(polynomials=[NASAPolynomial(coeffs=[3.90668,-0.00406204,3.86766e-05,-4.62957e-08,1.72892e-11,34797.2,6.098], Tmin=(100,'K'), Tmax=(931.97,'K')), NASAPolynomial(coeffs=[5.44806,0.0049834,-1.08811e-06,1.79815e-10,-1.45078e-14,33829.7,-4.87859], Tmin=(931.97,'K'), Tmax=(5000,'K'))], Tmin=(100,'K'), Tmax=(5000,'K'), comment=\"\"\"Thermo group additivity estimation: group(Cds-CdsHH) + gauche(CsOsCdSs) + other(R) + group(Cds-CdsHH) + gauche(CsOsCdSs) + other(R) + radical(Cds_P)\"\"\"), molecule=[Molecule(SMILES=\"[CH]=C\")]), Species(index=3, label=\"C[CH2]\", thermo=NASA(polynomials=[NASAPolynomial(coeffs=[3.8219,-0.00343436,5.09286e-05,-6.20252e-08,2.37092e-11,13066,7.61622], Tmin=(100,'K'), Tmax=(900.3,'K')), NASAPolynomial(coeffs=[5.15605,0.00943151,-1.81963e-06,2.21236e-10,-1.43515e-14,12064.1,-2.9101], Tmin=(900.3,'K'), Tmax=(5000,'K'))], Tmin=(100,'K'), Tmax=(5000,'K'), comment=\"\"\"Thermo group additivity estimation: group(Cs-CsHHH) + gauche(Cs(CsRRR)) + other(R) + group(Cs-CsHHH) + gauche(Cs(CsRRR)) + other(R) + radical(CCJ)\"\"\"), molecule=[Molecule(SMILES=\"C[CH2]\")])], products=[Species(index=8, label=\"C=C\", thermo=NASA(polynomials=[NASAPolynomial(coeffs=[3.97974,-0.00757559,5.52973e-05,-6.36221e-08,2.31767e-11,5077.46,4.04623], Tmin=(100,'K'), Tmax=(940.45,'K')), NASAPolynomial(coeffs=[5.203,0.00782442,-2.12683e-06,3.7969e-10,-2.9467e-14,3936.28,-6.62412], Tmin=(940.45,'K'), Tmax=(5000,'K'))], Tmin=(100,'K'), Tmax=(5000,'K'), comment=\"\"\"Thermo group additivity estimation: group(Cds-CdsHH) + gauche(CsOsCdSs) + other(R) + group(Cds-CdsHH) + gauche(CsOsCdSs) + other(R)\"\"\"), molecule=[Molecule(SMILES=\"C=C\")]), Species(index=8, label=\"C=C\", thermo=NASA(polynomials=[NASAPolynomial(coeffs=[3.97974,-0.00757559,5.52973e-05,-6.36221e-08,2.31767e-11,5077.46,4.04623], Tmin=(100,'K'), Tmax=(940.45,'K')), NASAPolynomial(coeffs=[5.203,0.00782442,-2.12683e-06,3.7969e-10,-2.9467e-14,3936.28,-6.62412], Tmin=(940.45,'K'), Tmax=(5000,'K'))], Tmin=(100,'K'), Tmax=(5000,'K'), comment=\"\"\"Thermo group additivity estimation: group(Cds-CdsHH) + gauche(CsOsCdSs) + other(R) + group(Cds-CdsHH) + gauche(CsOsCdSs) + other(R)\"\"\"), molecule=[Molecule(SMILES=\"C=C\")])], kinetics=Arrhenius(A=(4.56e+14,'cm^3/(mol*s)'), n=-0.7, Ea=(0,'kcal/mol'), T0=(1,'K'), comment=\"\"\"Exact match found for rate rule [Cd_pri_rad;Cmethyl_Csrad]\n",
       "Multiplied by reaction path degeneracy 3\"\"\"), pairs=[(Species(index=13, label=\"[CH]=C\", thermo=NASA(polynomials=[NASAPolynomial(coeffs=[3.90668,-0.00406204,3.86766e-05,-4.62957e-08,1.72892e-11,34797.2,6.098], Tmin=(100,'K'), Tmax=(931.97,'K')), NASAPolynomial(coeffs=[5.44806,0.0049834,-1.08811e-06,1.79815e-10,-1.45078e-14,33829.7,-4.87859], Tmin=(931.97,'K'), Tmax=(5000,'K'))], Tmin=(100,'K'), Tmax=(5000,'K'), comment=\"\"\"Thermo group additivity estimation: group(Cds-CdsHH) + gauche(CsOsCdSs) + other(R) + group(Cds-CdsHH) + gauche(CsOsCdSs) + other(R) + radical(Cds_P)\"\"\"), molecule=[Molecule(SMILES=\"[CH]=C\")]), Species(index=8, label=\"C=C\", thermo=NASA(polynomials=[NASAPolynomial(coeffs=[3.97974,-0.00757559,5.52973e-05,-6.36221e-08,2.31767e-11,5077.46,4.04623], Tmin=(100,'K'), Tmax=(940.45,'K')), NASAPolynomial(coeffs=[5.203,0.00782442,-2.12683e-06,3.7969e-10,-2.9467e-14,3936.28,-6.62412], Tmin=(940.45,'K'), Tmax=(5000,'K'))], Tmin=(100,'K'), Tmax=(5000,'K'), comment=\"\"\"Thermo group additivity estimation: group(Cds-CdsHH) + gauche(CsOsCdSs) + other(R) + group(Cds-CdsHH) + gauche(CsOsCdSs) + other(R)\"\"\"), molecule=[Molecule(SMILES=\"C=C\")])), (Species(index=3, label=\"C[CH2]\", thermo=NASA(polynomials=[NASAPolynomial(coeffs=[3.8219,-0.00343436,5.09286e-05,-6.20252e-08,2.37092e-11,13066,7.61622], Tmin=(100,'K'), Tmax=(900.3,'K')), NASAPolynomial(coeffs=[5.15605,0.00943151,-1.81963e-06,2.21236e-10,-1.43515e-14,12064.1,-2.9101], Tmin=(900.3,'K'), Tmax=(5000,'K'))], Tmin=(100,'K'), Tmax=(5000,'K'), comment=\"\"\"Thermo group additivity estimation: group(Cs-CsHHH) + gauche(Cs(CsRRR)) + other(R) + group(Cs-CsHHH) + gauche(Cs(CsRRR)) + other(R) + radical(CCJ)\"\"\"), molecule=[Molecule(SMILES=\"C[CH2]\")]), Species(index=8, label=\"C=C\", thermo=NASA(polynomials=[NASAPolynomial(coeffs=[3.97974,-0.00757559,5.52973e-05,-6.36221e-08,2.31767e-11,5077.46,4.04623], Tmin=(100,'K'), Tmax=(940.45,'K')), NASAPolynomial(coeffs=[5.203,0.00782442,-2.12683e-06,3.7969e-10,-2.9467e-14,3936.28,-6.62412], Tmin=(940.45,'K'), Tmax=(5000,'K'))], Tmin=(100,'K'), Tmax=(5000,'K'), comment=\"\"\"Thermo group additivity estimation: group(Cds-CdsHH) + gauche(CsOsCdSs) + other(R) + group(Cds-CdsHH) + gauche(CsOsCdSs) + other(R)\"\"\"), molecule=[Molecule(SMILES=\"C=C\")]))])"
      ]
     },
     "metadata": {},
     "output_type": "display_data"
    },
    {
     "name": "stdout",
     "output_type": "stream",
     "text": [
      "Forward rate coefficient at 1350 K: 2.94E+06\n",
      "Reverse rate coefficient at 1350 K: 8.50E-04\n",
      "\n",
      "\n",
      "Step5 \t\t\t\t Integrated Flux \t Rel. Flux (%)\n",
      "***********************************************************************\n",
      "C2H3(13) --> C#C(25) \t\t 5.870E-07 \t\t 11.58\n",
      "***********************************************************************\n",
      "\n",
      "Example reaction: rxn#18\n",
      "\n",
      "C#C(25) + [H](4) <=> [CH]=C(13)\n"
     ]
    },
    {
     "data": {
      "image/png": "[encoded data removed]",
      "text/plain": [
       "Reaction(index=18, reactants=[Species(index=25, label=\"C#C\", thermo=NASA(polynomials=[NASAPolynomial(coeffs=[3.03575,0.00771231,2.53525e-06,-1.08138e-08,5.50779e-12,25852.6,4.54459], Tmin=(100,'K'), Tmax=(888.62,'K')), NASAPolynomial(coeffs=[5.76203,0.00237162,-1.496e-07,-2.19113e-11,2.21744e-15,25094.5,-9.82599], Tmin=(888.62,'K'), Tmax=(5000,'K'))], Tmin=(100,'K'), Tmax=(5000,'K'), comment=\"\"\"Thermo group additivity estimation: group(Ct-CtH) + other(R) + group(Ct-CtH) + other(R)\"\"\"), molecule=[Molecule(SMILES=\"C#C\")]), Species(index=4, label=\"[H]\", thermo=NASA(polynomials=[NASAPolynomial(coeffs=[2.5,-1.91243e-12,2.45329e-15,-1.02377e-18,1.31369e-22,25474.2,-0.444973], Tmin=(100,'K'), Tmax=(4563.27,'K')), NASAPolynomial(coeffs=[2.50167,-1.43051e-06,4.6025e-10,-6.57826e-14,3.52412e-18,25472.7,-0.455578], Tmin=(4563.27,'K'), Tmax=(5000,'K'))], Tmin=(100,'K'), Tmax=(5000,'K'), comment=\"\"\"Thermo library: primaryThermoLibrary\"\"\"), molecule=[Molecule(SMILES=\"[H]\")])], products=[Species(index=13, label=\"[CH]=C\", thermo=NASA(polynomials=[NASAPolynomial(coeffs=[3.90668,-0.00406204,3.86766e-05,-4.62957e-08,1.72892e-11,34797.2,6.098], Tmin=(100,'K'), Tmax=(931.97,'K')), NASAPolynomial(coeffs=[5.44806,0.0049834,-1.08811e-06,1.79815e-10,-1.45078e-14,33829.7,-4.87859], Tmin=(931.97,'K'), Tmax=(5000,'K'))], Tmin=(100,'K'), Tmax=(5000,'K'), comment=\"\"\"Thermo group additivity estimation: group(Cds-CdsHH) + gauche(CsOsCdSs) + other(R) + group(Cds-CdsHH) + gauche(CsOsCdSs) + other(R) + radical(Cds_P)\"\"\"), molecule=[Molecule(SMILES=\"[CH]=C\")])], kinetics=Arrhenius(A=(1.03e+09,'cm^3/(mol*s)'), n=1.64, Ea=(2.11,'kcal/mol'), T0=(1,'K'), comment=\"\"\"Exact match found for rate rule [Ct-H_Ct-H;HJ]\n",
       "Multiplied by reaction path degeneracy 2\"\"\"), pairs=[(Species(index=25, label=\"C#C\", thermo=NASA(polynomials=[NASAPolynomial(coeffs=[3.03575,0.00771231,2.53525e-06,-1.08138e-08,5.50779e-12,25852.6,4.54459], Tmin=(100,'K'), Tmax=(888.62,'K')), NASAPolynomial(coeffs=[5.76203,0.00237162,-1.496e-07,-2.19113e-11,2.21744e-15,25094.5,-9.82599], Tmin=(888.62,'K'), Tmax=(5000,'K'))], Tmin=(100,'K'), Tmax=(5000,'K'), comment=\"\"\"Thermo group additivity estimation: group(Ct-CtH) + other(R) + group(Ct-CtH) + other(R)\"\"\"), molecule=[Molecule(SMILES=\"C#C\")]), Species(index=13, label=\"[CH]=C\", thermo=NASA(polynomials=[NASAPolynomial(coeffs=[3.90668,-0.00406204,3.86766e-05,-4.62957e-08,1.72892e-11,34797.2,6.098], Tmin=(100,'K'), Tmax=(931.97,'K')), NASAPolynomial(coeffs=[5.44806,0.0049834,-1.08811e-06,1.79815e-10,-1.45078e-14,33829.7,-4.87859], Tmin=(931.97,'K'), Tmax=(5000,'K'))], Tmin=(100,'K'), Tmax=(5000,'K'), comment=\"\"\"Thermo group additivity estimation: group(Cds-CdsHH) + gauche(CsOsCdSs) + other(R) + group(Cds-CdsHH) + gauche(CsOsCdSs) + other(R) + radical(Cds_P)\"\"\"), molecule=[Molecule(SMILES=\"[CH]=C\")])), (Species(index=4, label=\"[H]\", thermo=NASA(polynomials=[NASAPolynomial(coeffs=[2.5,-1.91243e-12,2.45329e-15,-1.02377e-18,1.31369e-22,25474.2,-0.444973], Tmin=(100,'K'), Tmax=(4563.27,'K')), NASAPolynomial(coeffs=[2.50167,-1.43051e-06,4.6025e-10,-6.57826e-14,3.52412e-18,25472.7,-0.455578], Tmin=(4563.27,'K'), Tmax=(5000,'K'))], Tmin=(100,'K'), Tmax=(5000,'K'), comment=\"\"\"Thermo library: primaryThermoLibrary\"\"\"), molecule=[Molecule(SMILES=\"[H]\")]), Species(index=13, label=\"[CH]=C\", thermo=NASA(polynomials=[NASAPolynomial(coeffs=[3.90668,-0.00406204,3.86766e-05,-4.62957e-08,1.72892e-11,34797.2,6.098], Tmin=(100,'K'), Tmax=(931.97,'K')), NASAPolynomial(coeffs=[5.44806,0.0049834,-1.08811e-06,1.79815e-10,-1.45078e-14,33829.7,-4.87859], Tmin=(931.97,'K'), Tmax=(5000,'K'))], Tmin=(100,'K'), Tmax=(5000,'K'), comment=\"\"\"Thermo group additivity estimation: group(Cds-CdsHH) + gauche(CsOsCdSs) + other(R) + group(Cds-CdsHH) + gauche(CsOsCdSs) + other(R) + radical(Cds_P)\"\"\"), molecule=[Molecule(SMILES=\"[CH]=C\")]))])"
      ]
     },
     "metadata": {},
     "output_type": "display_data"
    },
    {
     "name": "stdout",
     "output_type": "stream",
     "text": [
      "Forward rate coefficient at 1350 K: 6.38E+07\n",
      "Reverse rate coefficient at 1350 K: 8.76E+07\n",
      "\n",
      "Example Disproportionation: rxn#19 (1/4 Disp): \n",
      "\n",
      "[CH]=C(13) + [CH3](2) <=> C#C(25) + C(6)\n"
     ]
    },
    {
     "data": {
      "image/png": "[encoded data removed]",
      "text/plain": [
       "Reaction(index=19, reactants=[Species(index=13, label=\"[CH]=C\", thermo=NASA(polynomials=[NASAPolynomial(coeffs=[3.90668,-0.00406204,3.86766e-05,-4.62957e-08,1.72892e-11,34797.2,6.098], Tmin=(100,'K'), Tmax=(931.97,'K')), NASAPolynomial(coeffs=[5.44806,0.0049834,-1.08811e-06,1.79815e-10,-1.45078e-14,33829.7,-4.87859], Tmin=(931.97,'K'), Tmax=(5000,'K'))], Tmin=(100,'K'), Tmax=(5000,'K'), comment=\"\"\"Thermo group additivity estimation: group(Cds-CdsHH) + gauche(CsOsCdSs) + other(R) + group(Cds-CdsHH) + gauche(CsOsCdSs) + other(R) + radical(Cds_P)\"\"\"), molecule=[Molecule(SMILES=\"[CH]=C\")]), Species(index=2, label=\"[CH3]\", thermo=NASA(polynomials=[NASAPolynomial(coeffs=[3.91547,0.00184154,3.48744e-06,-3.3275e-09,8.49964e-13,16285.6,0.351739], Tmin=(100,'K'), Tmax=(1337.62,'K')), NASAPolynomial(coeffs=[3.54145,0.00476788,-1.82149e-06,3.28878e-10,-2.22547e-14,16224,1.6604], Tmin=(1337.62,'K'), Tmax=(5000,'K'))], Tmin=(100,'K'), Tmax=(5000,'K'), comment=\"\"\"Thermo library: primaryThermoLibrary + radical(CH3)\"\"\"), molecule=[Molecule(SMILES=\"[CH3]\")])], products=[Species(index=25, label=\"C#C\", thermo=NASA(polynomials=[NASAPolynomial(coeffs=[3.03575,0.00771231,2.53525e-06,-1.08138e-08,5.50779e-12,25852.6,4.54459], Tmin=(100,'K'), Tmax=(888.62,'K')), NASAPolynomial(coeffs=[5.76203,0.00237162,-1.496e-07,-2.19113e-11,2.21744e-15,25094.5,-9.82599], Tmin=(888.62,'K'), Tmax=(5000,'K'))], Tmin=(100,'K'), Tmax=(5000,'K'), comment=\"\"\"Thermo group additivity estimation: group(Ct-CtH) + other(R) + group(Ct-CtH) + other(R)\"\"\"), molecule=[Molecule(SMILES=\"C#C\")]), Species(index=6, label=\"C\", thermo=NASA(polynomials=[NASAPolynomial(coeffs=[4.20541,-0.00535556,2.51123e-05,-2.13762e-08,5.97522e-12,-10161.9,-0.921275], Tmin=(100,'K'), Tmax=(1084.12,'K')), NASAPolynomial(coeffs=[0.908272,0.0114541,-4.57173e-06,8.2919e-10,-5.66314e-14,-9719.98,13.9931], Tmin=(1084.12,'K'), Tmax=(5000,'K'))], Tmin=(100,'K'), Tmax=(5000,'K'), comment=\"\"\"Thermo library: primaryThermoLibrary\"\"\"), molecule=[Molecule(SMILES=\"C\")])], kinetics=Arrhenius(A=(2.277e+06,'cm^3/(mol*s)'), n=1.87, Ea=(-1.11,'kcal/mol'), T0=(1,'K'), comment=\"\"\"Estimated using template [C_methyl;CH_d_Rrad] for rate rule [C_methyl;Cd_Cdrad]\n",
       "Multiplied by reaction path degeneracy 2\"\"\"), pairs=[(Species(index=2, label=\"[CH3]\", thermo=NASA(polynomials=[NASAPolynomial(coeffs=[3.91547,0.00184154,3.48744e-06,-3.3275e-09,8.49964e-13,16285.6,0.351739], Tmin=(100,'K'), Tmax=(1337.62,'K')), NASAPolynomial(coeffs=[3.54145,0.00476788,-1.82149e-06,3.28878e-10,-2.22547e-14,16224,1.6604], Tmin=(1337.62,'K'), Tmax=(5000,'K'))], Tmin=(100,'K'), Tmax=(5000,'K'), comment=\"\"\"Thermo library: primaryThermoLibrary + radical(CH3)\"\"\"), molecule=[Molecule(SMILES=\"[CH3]\")]), Species(index=6, label=\"C\", thermo=NASA(polynomials=[NASAPolynomial(coeffs=[4.20541,-0.00535556,2.51123e-05,-2.13762e-08,5.97522e-12,-10161.9,-0.921275], Tmin=(100,'K'), Tmax=(1084.12,'K')), NASAPolynomial(coeffs=[0.908272,0.0114541,-4.57173e-06,8.2919e-10,-5.66314e-14,-9719.98,13.9931], Tmin=(1084.12,'K'), Tmax=(5000,'K'))], Tmin=(100,'K'), Tmax=(5000,'K'), comment=\"\"\"Thermo library: primaryThermoLibrary\"\"\"), molecule=[Molecule(SMILES=\"C\")])), (Species(index=13, label=\"[CH]=C\", thermo=NASA(polynomials=[NASAPolynomial(coeffs=[3.90668,-0.00406204,3.86766e-05,-4.62957e-08,1.72892e-11,34797.2,6.098], Tmin=(100,'K'), Tmax=(931.97,'K')), NASAPolynomial(coeffs=[5.44806,0.0049834,-1.08811e-06,1.79815e-10,-1.45078e-14,33829.7,-4.87859], Tmin=(931.97,'K'), Tmax=(5000,'K'))], Tmin=(100,'K'), Tmax=(5000,'K'), comment=\"\"\"Thermo group additivity estimation: group(Cds-CdsHH) + gauche(CsOsCdSs) + other(R) + group(Cds-CdsHH) + gauche(CsOsCdSs) + other(R) + radical(Cds_P)\"\"\"), molecule=[Molecule(SMILES=\"[CH]=C\")]), Species(index=25, label=\"C#C\", thermo=NASA(polynomials=[NASAPolynomial(coeffs=[3.03575,0.00771231,2.53525e-06,-1.08138e-08,5.50779e-12,25852.6,4.54459], Tmin=(100,'K'), Tmax=(888.62,'K')), NASAPolynomial(coeffs=[5.76203,0.00237162,-1.496e-07,-2.19113e-11,2.21744e-15,25094.5,-9.82599], Tmin=(888.62,'K'), Tmax=(5000,'K'))], Tmin=(100,'K'), Tmax=(5000,'K'), comment=\"\"\"Thermo group additivity estimation: group(Ct-CtH) + other(R) + group(Ct-CtH) + other(R)\"\"\"), molecule=[Molecule(SMILES=\"C#C\")]))])"
      ]
     },
     "metadata": {},
     "output_type": "display_data"
    },
    {
     "name": "stdout",
     "output_type": "stream",
     "text": [
      "Forward rate coefficient at 1350 K: 2.46E+06\n",
      "Reverse rate coefficient at 1350 K: 1.96E-03\n",
      "\n"
     ]
    }
   ],
   "source": [
    "path_index_investigate = 0\n",
    "path = paths[path_index_investigate]\n",
    "path_steps = len(path) - 1\n",
    "print ''\n",
    "print '\\t Pathway Report '\n",
    "print '======================================'\n",
    "print 'The pathway you are intested in has {0} steps.'.format(len(path))\n",
    "for step in range(path_steps):\n",
    "    step_pair = (path[step], path[step+1])\n",
    "    h_abs_rxns = []\n",
    "    disp_rxns = []\n",
    "    Pdep_rxns = []\n",
    "    \n",
    "    print \"\"\n",
    "    if showIntegratedFlux:\n",
    "        print \"Step{0} \\t\\t\\t\\t Integrated Flux \\t Rel. Flux (%)\".format(step+1)\n",
    "        print '***********************************************************************'\n",
    "        print \"{1} --> {2} \\t\\t {3:.3E} \\t\\t {4:.2f}\".\\\n",
    "        format(step+1, step_pair[0], step_pair[1], G[step_pair[0]][step_pair[1]]['total_flux'], \n",
    "               G[step_pair[0]][step_pair[1]]['total_flux']/total_reactant_consumption*100)\n",
    "        print '***********************************************************************'\n",
    "    else:\n",
    "        print \"Step{0} \\t\\t\\t\\t Flux\".format(step+1)\n",
    "        print '******************************************'\n",
    "        print \"{1} --> {2} \\t\\t {3:.3E}\".\\\n",
    "        format(step+1, step_pair[0], step_pair[1], G[step_pair[0]][step_pair[1]]['total_flux'])\n",
    "        print '******************************************'\n",
    "    \n",
    "    if step_pair not in graph_edges_dict_simple:\n",
    "        step_pair = (step_pair[1], step_pair[0])\n",
    "    \n",
    "    print ''\n",
    "    for rxn in graph_edges_dict_simple[step_pair]:\n",
    "        if isinstance(rxn, PDepReaction):\n",
    "            Pdep_rxns.append(rxn)\n",
    "        elif rxn.family == \"H_Abstraction\":\n",
    "            h_abs_rxns.append(rxn)\n",
    "        elif rxn.family == \"Disproportionation\":\n",
    "            disp_rxns.append(rxn)\n",
    "        else:\n",
    "            print \"Example reaction: rxn#{0}\".format(rxn.index)\n",
    "            print ''\n",
    "            print str(rxn)\n",
    "            display(rxn)\n",
    "            print 'Forward rate coefficient at {0} K: {1:.2E}'.format(T, rxn.getRateCoefficient(T))\n",
    "            reverseRate = rxn.generateReverseRateCoefficient()\n",
    "            print 'Reverse rate coefficient at {0} K: {1:.2E}'.format(T, reverseRate.getRateCoefficient(T))\n",
    "            print ''\n",
    "    if len(h_abs_rxns) > 0: \n",
    "        \n",
    "        print \"Example H_Abstraction: rxn#{0} (1/{1} H_Abs): \".format(h_abs_rxns[0].index, len(h_abs_rxns)) \n",
    "        print ''\n",
    "        print str(h_abs_rxns[0])\n",
    "        display(h_abs_rxns[0])\n",
    "        print 'Forward rate coefficient at {0} K: {1:.2E}'.format(T, h_abs_rxns[0].getRateCoefficient(T))\n",
    "        reverseRate = h_abs_rxns[0].generateReverseRateCoefficient()\n",
    "        print 'Reverse rate coefficient at {0} K: {1:.2E}'.format(T, reverseRate.getRateCoefficient(T))\n",
    "        print ''\n",
    "    if len(disp_rxns) > 0: \n",
    "        \n",
    "        print \"Example Disproportionation: rxn#{0} (1/{1} Disp): \".format(disp_rxns[0].index, len(disp_rxns)) \n",
    "        print ''\n",
    "        print str(disp_rxns[0])\n",
    "        display(disp_rxns[0])\n",
    "        print 'Forward rate coefficient at {0} K: {1:.2E}'.format(T, disp_rxns[0].getRateCoefficient(T))\n",
    "        reverseRate = disp_rxns[0].generateReverseRateCoefficient()\n",
    "        print 'Reverse rate coefficient at {0} K: {1:.2E}'.format(T, reverseRate.getRateCoefficient(T))\n",
    "        print ''\n",
    "    if len(Pdep_rxns) > 0: \n",
    "        \n",
    "        print \"Example Pressure-dependent Rxn: rxn#{0} (1/{1} Pdep_rxns): \".format(Pdep_rxns[0].index, len(Pdep_rxns)) \n",
    "        print ''\n",
    "        print str(Pdep_rxns[0])\n",
    "        display(Pdep_rxns[0])\n",
    "        print 'Forward rate coefficient at {0} K and {1} Pa: {2:.2E}'.format(T, P, Pdep_rxns[0].getRateCoefficient(T, P))\n",
    "        reverseRate = Pdep_rxns[0].generateReverseRateCoefficient()\n",
    "        print 'Reverse rate coefficient at {0} K and {1} Pa: {2:.2E}'.format(T, P, reverseRate.getRateCoefficient(T, P))\n",
    "        print ''"
   ]
  },
  {
   "cell_type": "markdown",
   "metadata": {
    "collapsed": true
   },
   "source": [
    "## [user input] Functionality 3: find paths from a particular species\n",
    "\n",
    "Please specify\n",
    "\n",
    "- source species\n",
    "\n",
    "- depth of pathway you want search, e.g., depth = 2 means search pathways 2 steps down from source species\n",
    "\n",
    "- path_top_list, e.g., [0, 3] means 1st step of the pathway takes the most significant branch and 2nd step would be the third most siginificant branch"
   ]
  },
  {
   "cell_type": "code",
   "execution_count": 50,
   "metadata": {
    "collapsed": true
   },
   "outputs": [],
   "source": [
    "source = \"ethane(1)\"\n",
    "depth = 2\n",
    "path_top_list = [0, 0]"
   ]
  },
  {
   "cell_type": "code",
   "execution_count": 51,
   "metadata": {
    "collapsed": false,
    "scrolled": false
   },
   "outputs": [
    {
     "name": "stdout",
     "output_type": "stream",
     "text": [
      "\n",
      "\t Pathway Report \n",
      "======================================\n",
      "The pathway you are intested in has 2 steps.\n",
      "\n",
      "\n",
      "\n",
      "Step1 \t\t\t\t Integrated Flux \t Rel. Flux (%)\n",
      "************************************************************************\n",
      "ethane(1) --> C2H5(3) \t\t 4.623E-06 \t\t 91.22\n",
      "************************************************************************\n",
      "\n",
      "Example reaction: rxn#3\n",
      "\n",
      "C[CH2](3) + [H](4) <=> ethane(1): integrated flux = 1.200E-07 \n"
     ]
    },
    {
     "data": {
      "image/png": "[encoded data removed]",
      "text/plain": [
       "Reaction(index=3, reactants=[Species(index=3, label=\"C[CH2]\", thermo=NASA(polynomials=[NASAPolynomial(coeffs=[3.8219,-0.00343436,5.09286e-05,-6.20252e-08,2.37092e-11,13066,7.61622], Tmin=(100,'K'), Tmax=(900.3,'K')), NASAPolynomial(coeffs=[5.15605,0.00943151,-1.81963e-06,2.21236e-10,-1.43515e-14,12064.1,-2.9101], Tmin=(900.3,'K'), Tmax=(5000,'K'))], Tmin=(100,'K'), Tmax=(5000,'K'), comment=\"\"\"Thermo group additivity estimation: group(Cs-CsHHH) + gauche(Cs(CsRRR)) + other(R) + group(Cs-CsHHH) + gauche(Cs(CsRRR)) + other(R) + radical(CCJ)\"\"\"), molecule=[Molecule(SMILES=\"C[CH2]\")]), Species(index=4, label=\"[H]\", thermo=NASA(polynomials=[NASAPolynomial(coeffs=[2.5,-1.91243e-12,2.45329e-15,-1.02377e-18,1.31369e-22,25474.2,-0.444973], Tmin=(100,'K'), Tmax=(4563.27,'K')), NASAPolynomial(coeffs=[2.50167,-1.43051e-06,4.6025e-10,-6.57826e-14,3.52412e-18,25472.7,-0.455578], Tmin=(4563.27,'K'), Tmax=(5000,'K'))], Tmin=(100,'K'), Tmax=(5000,'K'), comment=\"\"\"Thermo library: primaryThermoLibrary\"\"\"), molecule=[Molecule(SMILES=\"[H]\")])], products=[Species(index=1, label=\"ethane\", thermo=NASA(polynomials=[NASAPolynomial(coeffs=[3.78033,-0.00324263,5.52381e-05,-6.38581e-08,2.28637e-11,-11620.3,5.21034], Tmin=(100,'K'), Tmax=(954.51,'K')), NASAPolynomial(coeffs=[4.58983,0.0141508,-4.75962e-06,8.60294e-10,-6.21717e-14,-12721.8,-3.61739], Tmin=(954.51,'K'), Tmax=(5000,'K'))], Tmin=(100,'K'), Tmax=(5000,'K'), comment=\"\"\"Thermo group additivity estimation: group(Cs-CsHHH) + gauche(Cs(CsRRR)) + other(R) + group(Cs-CsHHH) + gauche(Cs(CsRRR)) + other(R)\"\"\"), molecule=[Molecule(SMILES=\"CC\")])], kinetics=Arrhenius(A=(1e+14,'cm^3/(mol*s)'), n=0, Ea=(0,'kcal/mol'), T0=(1,'K'), comment=\"\"\"Exact match found for rate rule [C_rad/H2/Cs;H_rad]\"\"\"), pairs=[(Species(index=3, label=\"C[CH2]\", thermo=NASA(polynomials=[NASAPolynomial(coeffs=[3.8219,-0.00343436,5.09286e-05,-6.20252e-08,2.37092e-11,13066,7.61622], Tmin=(100,'K'), Tmax=(900.3,'K')), NASAPolynomial(coeffs=[5.15605,0.00943151,-1.81963e-06,2.21236e-10,-1.43515e-14,12064.1,-2.9101], Tmin=(900.3,'K'), Tmax=(5000,'K'))], Tmin=(100,'K'), Tmax=(5000,'K'), comment=\"\"\"Thermo group additivity estimation: group(Cs-CsHHH) + gauche(Cs(CsRRR)) + other(R) + group(Cs-CsHHH) + gauche(Cs(CsRRR)) + other(R) + radical(CCJ)\"\"\"), molecule=[Molecule(SMILES=\"C[CH2]\")]), Species(index=1, label=\"ethane\", thermo=NASA(polynomials=[NASAPolynomial(coeffs=[3.78033,-0.00324263,5.52381e-05,-6.38581e-08,2.28637e-11,-11620.3,5.21034], Tmin=(100,'K'), Tmax=(954.51,'K')), NASAPolynomial(coeffs=[4.58983,0.0141508,-4.75962e-06,8.60294e-10,-6.21717e-14,-12721.8,-3.61739], Tmin=(954.51,'K'), Tmax=(5000,'K'))], Tmin=(100,'K'), Tmax=(5000,'K'), comment=\"\"\"Thermo group additivity estimation: group(Cs-CsHHH) + gauche(Cs(CsRRR)) + other(R) + group(Cs-CsHHH) + gauche(Cs(CsRRR)) + other(R)\"\"\"), molecule=[Molecule(SMILES=\"CC\")])), (Species(index=4, label=\"[H]\", thermo=NASA(polynomials=[NASAPolynomial(coeffs=[2.5,-1.91243e-12,2.45329e-15,-1.02377e-18,1.31369e-22,25474.2,-0.444973], Tmin=(100,'K'), Tmax=(4563.27,'K')), NASAPolynomial(coeffs=[2.50167,-1.43051e-06,4.6025e-10,-6.57826e-14,3.52412e-18,25472.7,-0.455578], Tmin=(4563.27,'K'), Tmax=(5000,'K'))], Tmin=(100,'K'), Tmax=(5000,'K'), comment=\"\"\"Thermo library: primaryThermoLibrary\"\"\"), molecule=[Molecule(SMILES=\"[H]\")]), Species(index=1, label=\"ethane\", thermo=NASA(polynomials=[NASAPolynomial(coeffs=[3.78033,-0.00324263,5.52381e-05,-6.38581e-08,2.28637e-11,-11620.3,5.21034], Tmin=(100,'K'), Tmax=(954.51,'K')), NASAPolynomial(coeffs=[4.58983,0.0141508,-4.75962e-06,8.60294e-10,-6.21717e-14,-12721.8,-3.61739], Tmin=(954.51,'K'), Tmax=(5000,'K'))], Tmin=(100,'K'), Tmax=(5000,'K'), comment=\"\"\"Thermo group additivity estimation: group(Cs-CsHHH) + gauche(Cs(CsRRR)) + other(R) + group(Cs-CsHHH) + gauche(Cs(CsRRR)) + other(R)\"\"\"), molecule=[Molecule(SMILES=\"CC\")]))])"
      ]
     },
     "metadata": {},
     "output_type": "display_data"
    },
    {
     "name": "stdout",
     "output_type": "stream",
     "text": [
      "Forward rate coefficient at 1350 K: 1.00E+08\n",
      "Reverse rate coefficient at 1350 K: 1.28E+00\n",
      "\n",
      "\n",
      "Example H_Abstraction: rxn#2(1/3 H_Abs)\n",
      "\n",
      "[CH3](2) + ethane(1) <=> C[CH2](3) + C(6)\n"
     ]
    },
    {
     "data": {
      "image/png": "[encoded data removed]",
      "text/plain": [
       "Reaction(index=2, reactants=[Species(index=2, label=\"[CH3]\", thermo=NASA(polynomials=[NASAPolynomial(coeffs=[3.91547,0.00184154,3.48744e-06,-3.3275e-09,8.49964e-13,16285.6,0.351739], Tmin=(100,'K'), Tmax=(1337.62,'K')), NASAPolynomial(coeffs=[3.54145,0.00476788,-1.82149e-06,3.28878e-10,-2.22547e-14,16224,1.6604], Tmin=(1337.62,'K'), Tmax=(5000,'K'))], Tmin=(100,'K'), Tmax=(5000,'K'), comment=\"\"\"Thermo library: primaryThermoLibrary + radical(CH3)\"\"\"), molecule=[Molecule(SMILES=\"[CH3]\")]), Species(index=1, label=\"ethane\", thermo=NASA(polynomials=[NASAPolynomial(coeffs=[3.78033,-0.00324263,5.52381e-05,-6.38581e-08,2.28637e-11,-11620.3,5.21034], Tmin=(100,'K'), Tmax=(954.51,'K')), NASAPolynomial(coeffs=[4.58983,0.0141508,-4.75962e-06,8.60294e-10,-6.21717e-14,-12721.8,-3.61739], Tmin=(954.51,'K'), Tmax=(5000,'K'))], Tmin=(100,'K'), Tmax=(5000,'K'), comment=\"\"\"Thermo group additivity estimation: group(Cs-CsHHH) + gauche(Cs(CsRRR)) + other(R) + group(Cs-CsHHH) + gauche(Cs(CsRRR)) + other(R)\"\"\"), molecule=[Molecule(SMILES=\"CC\")])], products=[Species(index=3, label=\"C[CH2]\", thermo=NASA(polynomials=[NASAPolynomial(coeffs=[3.8219,-0.00343436,5.09286e-05,-6.20252e-08,2.37092e-11,13066,7.61622], Tmin=(100,'K'), Tmax=(900.3,'K')), NASAPolynomial(coeffs=[5.15605,0.00943151,-1.81963e-06,2.21236e-10,-1.43515e-14,12064.1,-2.9101], Tmin=(900.3,'K'), Tmax=(5000,'K'))], Tmin=(100,'K'), Tmax=(5000,'K'), comment=\"\"\"Thermo group additivity estimation: group(Cs-CsHHH) + gauche(Cs(CsRRR)) + other(R) + group(Cs-CsHHH) + gauche(Cs(CsRRR)) + other(R) + radical(CCJ)\"\"\"), molecule=[Molecule(SMILES=\"C[CH2]\")]), Species(index=6, label=\"C\", thermo=NASA(polynomials=[NASAPolynomial(coeffs=[4.20541,-0.00535556,2.51123e-05,-2.13762e-08,5.97522e-12,-10161.9,-0.921275], Tmin=(100,'K'), Tmax=(1084.12,'K')), NASAPolynomial(coeffs=[0.908272,0.0114541,-4.57173e-06,8.2919e-10,-5.66314e-14,-9719.98,13.9931], Tmin=(1084.12,'K'), Tmax=(5000,'K'))], Tmin=(100,'K'), Tmax=(5000,'K'), comment=\"\"\"Thermo library: primaryThermoLibrary\"\"\"), molecule=[Molecule(SMILES=\"C\")])], kinetics=Arrhenius(A=(2.94e-05,'cm^3/(mol*s)'), n=5.135, Ea=(7.89,'kcal/mol'), T0=(1,'K'), comment=\"\"\"Estimated using average of templates [C/H3/Cs;C_methyl] + [C/H3/Cs\\H3;Cs_rad] for rate rule [C/H3/Cs\\H3;C_methyl]\n",
       "Multiplied by reaction path degeneracy 6\"\"\"), pairs=[(Species(index=1, label=\"ethane\", thermo=NASA(polynomials=[NASAPolynomial(coeffs=[3.78033,-0.00324263,5.52381e-05,-6.38581e-08,2.28637e-11,-11620.3,5.21034], Tmin=(100,'K'), Tmax=(954.51,'K')), NASAPolynomial(coeffs=[4.58983,0.0141508,-4.75962e-06,8.60294e-10,-6.21717e-14,-12721.8,-3.61739], Tmin=(954.51,'K'), Tmax=(5000,'K'))], Tmin=(100,'K'), Tmax=(5000,'K'), comment=\"\"\"Thermo group additivity estimation: group(Cs-CsHHH) + gauche(Cs(CsRRR)) + other(R) + group(Cs-CsHHH) + gauche(Cs(CsRRR)) + other(R)\"\"\"), molecule=[Molecule(SMILES=\"CC\")]), Species(index=3, label=\"C[CH2]\", thermo=NASA(polynomials=[NASAPolynomial(coeffs=[3.8219,-0.00343436,5.09286e-05,-6.20252e-08,2.37092e-11,13066,7.61622], Tmin=(100,'K'), Tmax=(900.3,'K')), NASAPolynomial(coeffs=[5.15605,0.00943151,-1.81963e-06,2.21236e-10,-1.43515e-14,12064.1,-2.9101], Tmin=(900.3,'K'), Tmax=(5000,'K'))], Tmin=(100,'K'), Tmax=(5000,'K'), comment=\"\"\"Thermo group additivity estimation: group(Cs-CsHHH) + gauche(Cs(CsRRR)) + other(R) + group(Cs-CsHHH) + gauche(Cs(CsRRR)) + other(R) + radical(CCJ)\"\"\"), molecule=[Molecule(SMILES=\"C[CH2]\")])), (Species(index=2, label=\"[CH3]\", thermo=NASA(polynomials=[NASAPolynomial(coeffs=[3.91547,0.00184154,3.48744e-06,-3.3275e-09,8.49964e-13,16285.6,0.351739], Tmin=(100,'K'), Tmax=(1337.62,'K')), NASAPolynomial(coeffs=[3.54145,0.00476788,-1.82149e-06,3.28878e-10,-2.22547e-14,16224,1.6604], Tmin=(1337.62,'K'), Tmax=(5000,'K'))], Tmin=(100,'K'), Tmax=(5000,'K'), comment=\"\"\"Thermo library: primaryThermoLibrary + radical(CH3)\"\"\"), molecule=[Molecule(SMILES=\"[CH3]\")]), Species(index=6, label=\"C\", thermo=NASA(polynomials=[NASAPolynomial(coeffs=[4.20541,-0.00535556,2.51123e-05,-2.13762e-08,5.97522e-12,-10161.9,-0.921275], Tmin=(100,'K'), Tmax=(1084.12,'K')), NASAPolynomial(coeffs=[0.908272,0.0114541,-4.57173e-06,8.2919e-10,-5.66314e-14,-9719.98,13.9931], Tmin=(1084.12,'K'), Tmax=(5000,'K'))], Tmin=(100,'K'), Tmax=(5000,'K'), comment=\"\"\"Thermo library: primaryThermoLibrary\"\"\"), molecule=[Molecule(SMILES=\"C\")]))])"
      ]
     },
     "metadata": {},
     "output_type": "display_data"
    },
    {
     "name": "stdout",
     "output_type": "stream",
     "text": [
      "Forward rate coefficient at 1350 K: 1.84E+04\n",
      "Reverse rate coefficient at 1350 K: 1.57E+03\n",
      "\n",
      "\n",
      "Example Disproportionation: rxn#20(1/2 Disp)\n",
      "\n",
      "[CH]=C(13) + C[CH2](3) <=> C#C(25) + ethane(1)\n"
     ]
    },
    {
     "data": {
      "image/png": "[encoded data removed]",
      "text/plain": [
       "Reaction(index=20, reactants=[Species(index=13, label=\"[CH]=C\", thermo=NASA(polynomials=[NASAPolynomial(coeffs=[3.90668,-0.00406204,3.86766e-05,-4.62957e-08,1.72892e-11,34797.2,6.098], Tmin=(100,'K'), Tmax=(931.97,'K')), NASAPolynomial(coeffs=[5.44806,0.0049834,-1.08811e-06,1.79815e-10,-1.45078e-14,33829.7,-4.87859], Tmin=(931.97,'K'), Tmax=(5000,'K'))], Tmin=(100,'K'), Tmax=(5000,'K'), comment=\"\"\"Thermo group additivity estimation: group(Cds-CdsHH) + gauche(CsOsCdSs) + other(R) + group(Cds-CdsHH) + gauche(CsOsCdSs) + other(R) + radical(Cds_P)\"\"\"), molecule=[Molecule(SMILES=\"[CH]=C\")]), Species(index=3, label=\"C[CH2]\", thermo=NASA(polynomials=[NASAPolynomial(coeffs=[3.8219,-0.00343436,5.09286e-05,-6.20252e-08,2.37092e-11,13066,7.61622], Tmin=(100,'K'), Tmax=(900.3,'K')), NASAPolynomial(coeffs=[5.15605,0.00943151,-1.81963e-06,2.21236e-10,-1.43515e-14,12064.1,-2.9101], Tmin=(900.3,'K'), Tmax=(5000,'K'))], Tmin=(100,'K'), Tmax=(5000,'K'), comment=\"\"\"Thermo group additivity estimation: group(Cs-CsHHH) + gauche(Cs(CsRRR)) + other(R) + group(Cs-CsHHH) + gauche(Cs(CsRRR)) + other(R) + radical(CCJ)\"\"\"), molecule=[Molecule(SMILES=\"C[CH2]\")])], products=[Species(index=25, label=\"C#C\", thermo=NASA(polynomials=[NASAPolynomial(coeffs=[3.03575,0.00771231,2.53525e-06,-1.08138e-08,5.50779e-12,25852.6,4.54459], Tmin=(100,'K'), Tmax=(888.62,'K')), NASAPolynomial(coeffs=[5.76203,0.00237162,-1.496e-07,-2.19113e-11,2.21744e-15,25094.5,-9.82599], Tmin=(888.62,'K'), Tmax=(5000,'K'))], Tmin=(100,'K'), Tmax=(5000,'K'), comment=\"\"\"Thermo group additivity estimation: group(Ct-CtH) + other(R) + group(Ct-CtH) + other(R)\"\"\"), molecule=[Molecule(SMILES=\"C#C\")]), Species(index=1, label=\"ethane\", thermo=NASA(polynomials=[NASAPolynomial(coeffs=[3.78033,-0.00324263,5.52381e-05,-6.38581e-08,2.28637e-11,-11620.3,5.21034], Tmin=(100,'K'), Tmax=(954.51,'K')), NASAPolynomial(coeffs=[4.58983,0.0141508,-4.75962e-06,8.60294e-10,-6.21717e-14,-12721.8,-3.61739], Tmin=(954.51,'K'), Tmax=(5000,'K'))], Tmin=(100,'K'), Tmax=(5000,'K'), comment=\"\"\"Thermo group additivity estimation: group(Cs-CsHHH) + gauche(Cs(CsRRR)) + other(R) + group(Cs-CsHHH) + gauche(Cs(CsRRR)) + other(R)\"\"\"), molecule=[Molecule(SMILES=\"CC\")])], kinetics=Arrhenius(A=(2.277e+06,'cm^3/(mol*s)'), n=1.87, Ea=(-1.11,'kcal/mol'), T0=(1,'K'), comment=\"\"\"Estimated using template [Cs_rad;CH_d_Rrad] for rate rule [C_rad/H2/Cs;Cd_Cdrad]\n",
       "Multiplied by reaction path degeneracy 2\"\"\"), pairs=[(Species(index=3, label=\"C[CH2]\", thermo=NASA(polynomials=[NASAPolynomial(coeffs=[3.8219,-0.00343436,5.09286e-05,-6.20252e-08,2.37092e-11,13066,7.61622], Tmin=(100,'K'), Tmax=(900.3,'K')), NASAPolynomial(coeffs=[5.15605,0.00943151,-1.81963e-06,2.21236e-10,-1.43515e-14,12064.1,-2.9101], Tmin=(900.3,'K'), Tmax=(5000,'K'))], Tmin=(100,'K'), Tmax=(5000,'K'), comment=\"\"\"Thermo group additivity estimation: group(Cs-CsHHH) + gauche(Cs(CsRRR)) + other(R) + group(Cs-CsHHH) + gauche(Cs(CsRRR)) + other(R) + radical(CCJ)\"\"\"), molecule=[Molecule(SMILES=\"C[CH2]\")]), Species(index=1, label=\"ethane\", thermo=NASA(polynomials=[NASAPolynomial(coeffs=[3.78033,-0.00324263,5.52381e-05,-6.38581e-08,2.28637e-11,-11620.3,5.21034], Tmin=(100,'K'), Tmax=(954.51,'K')), NASAPolynomial(coeffs=[4.58983,0.0141508,-4.75962e-06,8.60294e-10,-6.21717e-14,-12721.8,-3.61739], Tmin=(954.51,'K'), Tmax=(5000,'K'))], Tmin=(100,'K'), Tmax=(5000,'K'), comment=\"\"\"Thermo group additivity estimation: group(Cs-CsHHH) + gauche(Cs(CsRRR)) + other(R) + group(Cs-CsHHH) + gauche(Cs(CsRRR)) + other(R)\"\"\"), molecule=[Molecule(SMILES=\"CC\")])), (Species(index=13, label=\"[CH]=C\", thermo=NASA(polynomials=[NASAPolynomial(coeffs=[3.90668,-0.00406204,3.86766e-05,-4.62957e-08,1.72892e-11,34797.2,6.098], Tmin=(100,'K'), Tmax=(931.97,'K')), NASAPolynomial(coeffs=[5.44806,0.0049834,-1.08811e-06,1.79815e-10,-1.45078e-14,33829.7,-4.87859], Tmin=(931.97,'K'), Tmax=(5000,'K'))], Tmin=(100,'K'), Tmax=(5000,'K'), comment=\"\"\"Thermo group additivity estimation: group(Cds-CdsHH) + gauche(CsOsCdSs) + other(R) + group(Cds-CdsHH) + gauche(CsOsCdSs) + other(R) + radical(Cds_P)\"\"\"), molecule=[Molecule(SMILES=\"[CH]=C\")]), Species(index=25, label=\"C#C\", thermo=NASA(polynomials=[NASAPolynomial(coeffs=[3.03575,0.00771231,2.53525e-06,-1.08138e-08,5.50779e-12,25852.6,4.54459], Tmin=(100,'K'), Tmax=(888.62,'K')), NASAPolynomial(coeffs=[5.76203,0.00237162,-1.496e-07,-2.19113e-11,2.21744e-15,25094.5,-9.82599], Tmin=(888.62,'K'), Tmax=(5000,'K'))], Tmin=(100,'K'), Tmax=(5000,'K'), comment=\"\"\"Thermo group additivity estimation: group(Ct-CtH) + other(R) + group(Ct-CtH) + other(R)\"\"\"), molecule=[Molecule(SMILES=\"C#C\")]))])"
      ]
     },
     "metadata": {},
     "output_type": "display_data"
    },
    {
     "name": "stdout",
     "output_type": "stream",
     "text": [
      "Forward rate coefficient at 1350 K: 2.46E+06\n",
      "Reverse rate coefficient at 1350 K: 2.29E-02\n",
      "\n",
      "\n",
      "\n",
      "\n",
      "Step2 \t\t\t\t Integrated Flux \t Rel. Flux (%)\n",
      "************************************************************************\n",
      "C2H5(3) --> C2H4(8) \t\t 4.622E-06 \t\t 91.21\n",
      "************************************************************************\n",
      "\n",
      "Example reaction: rxn#5\n",
      "\n",
      "C=C(8) + [H](4) <=> C[CH2](3): integrated flux = 4.509E-06 \n"
     ]
    },
    {
     "data": {
      "image/png": "[encoded data removed]",
      "text/plain": [
       "Reaction(index=5, reactants=[Species(index=8, label=\"C=C\", thermo=NASA(polynomials=[NASAPolynomial(coeffs=[3.97974,-0.00757559,5.52973e-05,-6.36221e-08,2.31767e-11,5077.46,4.04623], Tmin=(100,'K'), Tmax=(940.45,'K')), NASAPolynomial(coeffs=[5.203,0.00782442,-2.12683e-06,3.7969e-10,-2.9467e-14,3936.28,-6.62412], Tmin=(940.45,'K'), Tmax=(5000,'K'))], Tmin=(100,'K'), Tmax=(5000,'K'), comment=\"\"\"Thermo group additivity estimation: group(Cds-CdsHH) + gauche(CsOsCdSs) + other(R) + group(Cds-CdsHH) + gauche(CsOsCdSs) + other(R)\"\"\"), molecule=[Molecule(SMILES=\"C=C\")]), Species(index=4, label=\"[H]\", thermo=NASA(polynomials=[NASAPolynomial(coeffs=[2.5,-1.91243e-12,2.45329e-15,-1.02377e-18,1.31369e-22,25474.2,-0.444973], Tmin=(100,'K'), Tmax=(4563.27,'K')), NASAPolynomial(coeffs=[2.50167,-1.43051e-06,4.6025e-10,-6.57826e-14,3.52412e-18,25472.7,-0.455578], Tmin=(4563.27,'K'), Tmax=(5000,'K'))], Tmin=(100,'K'), Tmax=(5000,'K'), comment=\"\"\"Thermo library: primaryThermoLibrary\"\"\"), molecule=[Molecule(SMILES=\"[H]\")])], products=[Species(index=3, label=\"C[CH2]\", thermo=NASA(polynomials=[NASAPolynomial(coeffs=[3.8219,-0.00343436,5.09286e-05,-6.20252e-08,2.37092e-11,13066,7.61622], Tmin=(100,'K'), Tmax=(900.3,'K')), NASAPolynomial(coeffs=[5.15605,0.00943151,-1.81963e-06,2.21236e-10,-1.43515e-14,12064.1,-2.9101], Tmin=(900.3,'K'), Tmax=(5000,'K'))], Tmin=(100,'K'), Tmax=(5000,'K'), comment=\"\"\"Thermo group additivity estimation: group(Cs-CsHHH) + gauche(Cs(CsRRR)) + other(R) + group(Cs-CsHHH) + gauche(Cs(CsRRR)) + other(R) + radical(CCJ)\"\"\"), molecule=[Molecule(SMILES=\"C[CH2]\")])], kinetics=Arrhenius(A=(4.62e+08,'cm^3/(mol*s)'), n=1.64, Ea=(1.01,'kcal/mol'), T0=(1,'K'), comment=\"\"\"Exact match found for rate rule [Cds-HH_Cds-HH;HJ]\n",
       "Multiplied by reaction path degeneracy 2\"\"\"), pairs=[(Species(index=8, label=\"C=C\", thermo=NASA(polynomials=[NASAPolynomial(coeffs=[3.97974,-0.00757559,5.52973e-05,-6.36221e-08,2.31767e-11,5077.46,4.04623], Tmin=(100,'K'), Tmax=(940.45,'K')), NASAPolynomial(coeffs=[5.203,0.00782442,-2.12683e-06,3.7969e-10,-2.9467e-14,3936.28,-6.62412], Tmin=(940.45,'K'), Tmax=(5000,'K'))], Tmin=(100,'K'), Tmax=(5000,'K'), comment=\"\"\"Thermo group additivity estimation: group(Cds-CdsHH) + gauche(CsOsCdSs) + other(R) + group(Cds-CdsHH) + gauche(CsOsCdSs) + other(R)\"\"\"), molecule=[Molecule(SMILES=\"C=C\")]), Species(index=3, label=\"C[CH2]\", thermo=NASA(polynomials=[NASAPolynomial(coeffs=[3.8219,-0.00343436,5.09286e-05,-6.20252e-08,2.37092e-11,13066,7.61622], Tmin=(100,'K'), Tmax=(900.3,'K')), NASAPolynomial(coeffs=[5.15605,0.00943151,-1.81963e-06,2.21236e-10,-1.43515e-14,12064.1,-2.9101], Tmin=(900.3,'K'), Tmax=(5000,'K'))], Tmin=(100,'K'), Tmax=(5000,'K'), comment=\"\"\"Thermo group additivity estimation: group(Cs-CsHHH) + gauche(Cs(CsRRR)) + other(R) + group(Cs-CsHHH) + gauche(Cs(CsRRR)) + other(R) + radical(CCJ)\"\"\"), molecule=[Molecule(SMILES=\"C[CH2]\")])), (Species(index=4, label=\"[H]\", thermo=NASA(polynomials=[NASAPolynomial(coeffs=[2.5,-1.91243e-12,2.45329e-15,-1.02377e-18,1.31369e-22,25474.2,-0.444973], Tmin=(100,'K'), Tmax=(4563.27,'K')), NASAPolynomial(coeffs=[2.50167,-1.43051e-06,4.6025e-10,-6.57826e-14,3.52412e-18,25472.7,-0.455578], Tmin=(4563.27,'K'), Tmax=(5000,'K'))], Tmin=(100,'K'), Tmax=(5000,'K'), comment=\"\"\"Thermo library: primaryThermoLibrary\"\"\"), molecule=[Molecule(SMILES=\"[H]\")]), Species(index=3, label=\"C[CH2]\", thermo=NASA(polynomials=[NASAPolynomial(coeffs=[3.8219,-0.00343436,5.09286e-05,-6.20252e-08,2.37092e-11,13066,7.61622], Tmin=(100,'K'), Tmax=(900.3,'K')), NASAPolynomial(coeffs=[5.15605,0.00943151,-1.81963e-06,2.21236e-10,-1.43515e-14,12064.1,-2.9101], Tmin=(900.3,'K'), Tmax=(5000,'K'))], Tmin=(100,'K'), Tmax=(5000,'K'), comment=\"\"\"Thermo group additivity estimation: group(Cs-CsHHH) + gauche(Cs(CsRRR)) + other(R) + group(Cs-CsHHH) + gauche(Cs(CsRRR)) + other(R) + radical(CCJ)\"\"\"), molecule=[Molecule(SMILES=\"C[CH2]\")]))])"
      ]
     },
     "metadata": {},
     "output_type": "display_data"
    },
    {
     "name": "stdout",
     "output_type": "stream",
     "text": [
      "Forward rate coefficient at 1350 K: 4.31E+07\n",
      "Reverse rate coefficient at 1350 K: 3.56E+07\n",
      "\n",
      "\n",
      "Example Disproportionation: rxn#6(1/4 Disp)\n",
      "\n",
      "[CH3](2) + C[CH2](3) <=> C=C(8) + C(6)\n"
     ]
    },
    {
     "data": {
      "image/png": "[encoded data removed]",
      "text/plain": [
       "Reaction(index=6, reactants=[Species(index=2, label=\"[CH3]\", thermo=NASA(polynomials=[NASAPolynomial(coeffs=[3.91547,0.00184154,3.48744e-06,-3.3275e-09,8.49964e-13,16285.6,0.351739], Tmin=(100,'K'), Tmax=(1337.62,'K')), NASAPolynomial(coeffs=[3.54145,0.00476788,-1.82149e-06,3.28878e-10,-2.22547e-14,16224,1.6604], Tmin=(1337.62,'K'), Tmax=(5000,'K'))], Tmin=(100,'K'), Tmax=(5000,'K'), comment=\"\"\"Thermo library: primaryThermoLibrary + radical(CH3)\"\"\"), molecule=[Molecule(SMILES=\"[CH3]\")]), Species(index=3, label=\"C[CH2]\", thermo=NASA(polynomials=[NASAPolynomial(coeffs=[3.8219,-0.00343436,5.09286e-05,-6.20252e-08,2.37092e-11,13066,7.61622], Tmin=(100,'K'), Tmax=(900.3,'K')), NASAPolynomial(coeffs=[5.15605,0.00943151,-1.81963e-06,2.21236e-10,-1.43515e-14,12064.1,-2.9101], Tmin=(900.3,'K'), Tmax=(5000,'K'))], Tmin=(100,'K'), Tmax=(5000,'K'), comment=\"\"\"Thermo group additivity estimation: group(Cs-CsHHH) + gauche(Cs(CsRRR)) + other(R) + group(Cs-CsHHH) + gauche(Cs(CsRRR)) + other(R) + radical(CCJ)\"\"\"), molecule=[Molecule(SMILES=\"C[CH2]\")])], products=[Species(index=8, label=\"C=C\", thermo=NASA(polynomials=[NASAPolynomial(coeffs=[3.97974,-0.00757559,5.52973e-05,-6.36221e-08,2.31767e-11,5077.46,4.04623], Tmin=(100,'K'), Tmax=(940.45,'K')), NASAPolynomial(coeffs=[5.203,0.00782442,-2.12683e-06,3.7969e-10,-2.9467e-14,3936.28,-6.62412], Tmin=(940.45,'K'), Tmax=(5000,'K'))], Tmin=(100,'K'), Tmax=(5000,'K'), comment=\"\"\"Thermo group additivity estimation: group(Cds-CdsHH) + gauche(CsOsCdSs) + other(R) + group(Cds-CdsHH) + gauche(CsOsCdSs) + other(R)\"\"\"), molecule=[Molecule(SMILES=\"C=C\")]), Species(index=6, label=\"C\", thermo=NASA(polynomials=[NASAPolynomial(coeffs=[4.20541,-0.00535556,2.51123e-05,-2.13762e-08,5.97522e-12,-10161.9,-0.921275], Tmin=(100,'K'), Tmax=(1084.12,'K')), NASAPolynomial(coeffs=[0.908272,0.0114541,-4.57173e-06,8.2919e-10,-5.66314e-14,-9719.98,13.9931], Tmin=(1084.12,'K'), Tmax=(5000,'K'))], Tmin=(100,'K'), Tmax=(5000,'K'), comment=\"\"\"Thermo library: primaryThermoLibrary\"\"\"), molecule=[Molecule(SMILES=\"C\")])], kinetics=Arrhenius(A=(6.57e+14,'cm^3/(mol*s)'), n=-0.68, Ea=(0,'kcal/mol'), T0=(1,'K'), comment=\"\"\"Exact match found for rate rule [C_methyl;Cmethyl_Csrad]\n",
       "Multiplied by reaction path degeneracy 3\"\"\"), pairs=[(Species(index=2, label=\"[CH3]\", thermo=NASA(polynomials=[NASAPolynomial(coeffs=[3.91547,0.00184154,3.48744e-06,-3.3275e-09,8.49964e-13,16285.6,0.351739], Tmin=(100,'K'), Tmax=(1337.62,'K')), NASAPolynomial(coeffs=[3.54145,0.00476788,-1.82149e-06,3.28878e-10,-2.22547e-14,16224,1.6604], Tmin=(1337.62,'K'), Tmax=(5000,'K'))], Tmin=(100,'K'), Tmax=(5000,'K'), comment=\"\"\"Thermo library: primaryThermoLibrary + radical(CH3)\"\"\"), molecule=[Molecule(SMILES=\"[CH3]\")]), Species(index=6, label=\"C\", thermo=NASA(polynomials=[NASAPolynomial(coeffs=[4.20541,-0.00535556,2.51123e-05,-2.13762e-08,5.97522e-12,-10161.9,-0.921275], Tmin=(100,'K'), Tmax=(1084.12,'K')), NASAPolynomial(coeffs=[0.908272,0.0114541,-4.57173e-06,8.2919e-10,-5.66314e-14,-9719.98,13.9931], Tmin=(1084.12,'K'), Tmax=(5000,'K'))], Tmin=(100,'K'), Tmax=(5000,'K'), comment=\"\"\"Thermo library: primaryThermoLibrary\"\"\"), molecule=[Molecule(SMILES=\"C\")])), (Species(index=3, label=\"C[CH2]\", thermo=NASA(polynomials=[NASAPolynomial(coeffs=[3.8219,-0.00343436,5.09286e-05,-6.20252e-08,2.37092e-11,13066,7.61622], Tmin=(100,'K'), Tmax=(900.3,'K')), NASAPolynomial(coeffs=[5.15605,0.00943151,-1.81963e-06,2.21236e-10,-1.43515e-14,12064.1,-2.9101], Tmin=(900.3,'K'), Tmax=(5000,'K'))], Tmin=(100,'K'), Tmax=(5000,'K'), comment=\"\"\"Thermo group additivity estimation: group(Cs-CsHHH) + gauche(Cs(CsRRR)) + other(R) + group(Cs-CsHHH) + gauche(Cs(CsRRR)) + other(R) + radical(CCJ)\"\"\"), molecule=[Molecule(SMILES=\"C[CH2]\")]), Species(index=8, label=\"C=C\", thermo=NASA(polynomials=[NASAPolynomial(coeffs=[3.97974,-0.00757559,5.52973e-05,-6.36221e-08,2.31767e-11,5077.46,4.04623], Tmin=(100,'K'), Tmax=(940.45,'K')), NASAPolynomial(coeffs=[5.203,0.00782442,-2.12683e-06,3.7969e-10,-2.9467e-14,3936.28,-6.62412], Tmin=(940.45,'K'), Tmax=(5000,'K'))], Tmin=(100,'K'), Tmax=(5000,'K'), comment=\"\"\"Thermo group additivity estimation: group(Cds-CdsHH) + gauche(CsOsCdSs) + other(R) + group(Cds-CdsHH) + gauche(CsOsCdSs) + other(R)\"\"\"), molecule=[Molecule(SMILES=\"C=C\")]))])"
      ]
     },
     "metadata": {},
     "output_type": "display_data"
    },
    {
     "name": "stdout",
     "output_type": "stream",
     "text": [
      "Forward rate coefficient at 1350 K: 4.89E+06\n",
      "Reverse rate coefficient at 1350 K: 6.46E-03\n",
      "\n"
     ]
    }
   ],
   "source": [
    "current_node = source\n",
    "\n",
    "print ''\n",
    "print '\\t Pathway Report '\n",
    "print '======================================'\n",
    "print 'The pathway you are intested in has {0} steps.'.format(depth)\n",
    "for step in range(depth):\n",
    "    print \"\\n\"    \n",
    "    nextNode_flux_list = [(next_node, G[current_node][next_node]['total_flux']) for next_node in G[current_node]]\n",
    "    sorted_nextNode_flux_list = sorted(nextNode_flux_list, key=lambda tup: -tup[1])\n",
    "    \n",
    "    # choose the top one as next node\n",
    "    tup = sorted_nextNode_flux_list[path_top_list[step]]\n",
    "    next_node = tup[0]\n",
    "    step_flux = tup[1]\n",
    "    \n",
    "    print \"\"\n",
    "    if showIntegratedFlux:\n",
    "        print \"Step{0} \\t\\t\\t\\t Integrated Flux \\t Rel. Flux (%)\".format(step+1)\n",
    "        print '************************************************************************'\n",
    "        print \"{0} --> {1} \\t\\t {2:.3E} \\t\\t {3:.2f}\".\\\n",
    "        format(current_node, next_node, step_flux, step_flux/total_reactant_consumption*100)\n",
    "        print '************************************************************************'\n",
    "    else:\n",
    "        print \"Step{0} \\t\\t\\t\\t Flux\".format(step+1)\n",
    "        print '******************************************'\n",
    "        print \"{0} --> {1} \\t\\t {2:.3E}\".\\\n",
    "        format(current_node, next_node, step_flux)\n",
    "        print '******************************************'\n",
    "\n",
    "    \n",
    "    step_pair = (current_node, next_node)\n",
    "    if step_pair not in graph_edges_dict_simple:\n",
    "        step_pair = (next_node, current_node)\n",
    "    \n",
    "    h_abs_rxns = []\n",
    "    disp_rxns = []\n",
    "    Pdep_rxns = []\n",
    "    for rxn in graph_edges_dict_simple[step_pair]:\n",
    "        if isinstance(rxn, PDepReaction):\n",
    "            Pdep_rxns.append(rxn)\n",
    "        elif rxn.family == \"H_Abstraction\":\n",
    "            h_abs_rxns.append(rxn)\n",
    "        elif rxn.family == \"Disproportionation\":\n",
    "            disp_rxns.append(rxn)\n",
    "        else:\n",
    "            print ''\n",
    "            print \"Example reaction: rxn#{0}\".format(rxn.index)\n",
    "            print ''\n",
    "            if showIntegratedFlux:\n",
    "            #integrate the flux using a trapezoidal rule\n",
    "                integrated_flux = 0\n",
    "                for timepoint in range(timepoint_index-1):\n",
    "                    integrated_flux += 0.5 * (graph_edges_dict_simple[step_pair][rxn][timepoint+1] \n",
    "                                              + graph_edges_dict_simple[step_pair][rxn][timepoint]) \\\n",
    "                    * (firstColDict['Time_(sec)'][timepoint+1] - firstColDict['Time_(sec)'][timepoint])\n",
    "                print \"{0}: integrated flux = {1:.3E} \".format(str(rxn), integrated_flux)\n",
    "            else:\n",
    "                print \"{0}: flux = {1:.3E} \".format(str(rxn), graph_edges_dict_simple[step_pair][rxn][timepoint_index])\n",
    "            display(rxn)\n",
    "            print 'Forward rate coefficient at {0} K: {1:.2E}'.format(T, rxn.getRateCoefficient(T))\n",
    "            reverseRate = rxn.generateReverseRateCoefficient()\n",
    "            print 'Reverse rate coefficient at {0} K: {1:.2E}'.format(T, reverseRate.getRateCoefficient(T))\n",
    "            print ''\n",
    "    if len(h_abs_rxns) > 0:\n",
    "        print ''\n",
    "        print \"Example H_Abstraction: rxn#{0}(1/{1} H_Abs)\".format(h_abs_rxns[0].index, len(h_abs_rxns))\n",
    "        print ''\n",
    "        print str(h_abs_rxns[0])\n",
    "        display(h_abs_rxns[0])\n",
    "        print 'Forward rate coefficient at {0} K: {1:.2E}'.format(T, h_abs_rxns[0].getRateCoefficient(T))\n",
    "        reverseRate = h_abs_rxns[0].generateReverseRateCoefficient()\n",
    "        print 'Reverse rate coefficient at {0} K: {1:.2E}'.format(T, reverseRate.getRateCoefficient(T))\n",
    "        print ''\n",
    "    if len(disp_rxns) > 0: \n",
    "        print ''\n",
    "        print \"Example Disproportionation: rxn#{0}(1/{1} Disp)\".format(disp_rxns[0].index, len(disp_rxns))\n",
    "        print ''\n",
    "        print str(disp_rxns[0])\n",
    "        display(disp_rxns[0])\n",
    "        print 'Forward rate coefficient at {0} K: {1:.2E}'.format(T, disp_rxns[0].getRateCoefficient(T))\n",
    "        reverseRate = disp_rxns[0].generateReverseRateCoefficient()\n",
    "        print 'Reverse rate coefficient at {0} K: {1:.2E}'.format(T, reverseRate.getRateCoefficient(T))\n",
    "        print ''\n",
    "    if len(Pdep_rxns) > 0: \n",
    "        print ''\n",
    "        print \"Example Pressure-dependent Rxn: rxn#{0} (1/{1} Pdep_rxns): \".format(Pdep_rxns[0].index, len(Pdep_rxns)) \n",
    "        print ''\n",
    "        print str(Pdep_rxns[0])\n",
    "        display(Pdep_rxns[0])\n",
    "        print 'Forward rate coefficient at {0} K and {1} Pa: {2:.2E}'.format(T, P, Pdep_rxns[0].getRateCoefficient(T, P))\n",
    "        reverseRate = Pdep_rxns[0].generateReverseRateCoefficient()\n",
    "        print 'Reverse rate coefficient at {0} K and {1} Pa: {2:.2E}'.format(T, P, reverseRate.getRateCoefficient(T, P))\n",
    "        print ''\n",
    "    \n",
    "    current_node = next_node"
   ]
  },
  {
   "cell_type": "markdown",
   "metadata": {},
   "source": [
    "### More detail for the H_Abstration and Disproportionation in last step of the pathway"
   ]
  },
  {
   "cell_type": "code",
   "execution_count": 52,
   "metadata": {
    "collapsed": false,
    "scrolled": false
   },
   "outputs": [
    {
     "name": "stdout",
     "output_type": "stream",
     "text": [
      "\n",
      "The step you see currently is between the two species ('C2H4(8)', 'C2H5(3)')\n",
      "\n",
      "Positive flux in below means positive production of 1st node of the pair.\n",
      "\n",
      "This step have 4 H_Abstration and Disproportionation in total.\n",
      "\n",
      "TO avoid too much printout, the reactions shown below have fluxes above 1e-09.\n",
      "\n",
      "**********************************************************************************\n",
      "rxn#17: [CH]=C(13) + C[CH2](3) <=> C=C(8) + C=C(8): integrated flux = 3.171E-09 \n"
     ]
    },
    {
     "data": {
      "image/png": "[encoded data removed]",
      "text/plain": [
       "Reaction(index=17, reactants=[Species(index=13, label=\"[CH]=C\", thermo=NASA(polynomials=[NASAPolynomial(coeffs=[3.90668,-0.00406204,3.86766e-05,-4.62957e-08,1.72892e-11,34797.2,6.098], Tmin=(100,'K'), Tmax=(931.97,'K')), NASAPolynomial(coeffs=[5.44806,0.0049834,-1.08811e-06,1.79815e-10,-1.45078e-14,33829.7,-4.87859], Tmin=(931.97,'K'), Tmax=(5000,'K'))], Tmin=(100,'K'), Tmax=(5000,'K'), comment=\"\"\"Thermo group additivity estimation: group(Cds-CdsHH) + gauche(CsOsCdSs) + other(R) + group(Cds-CdsHH) + gauche(CsOsCdSs) + other(R) + radical(Cds_P)\"\"\"), molecule=[Molecule(SMILES=\"[CH]=C\")]), Species(index=3, label=\"C[CH2]\", thermo=NASA(polynomials=[NASAPolynomial(coeffs=[3.8219,-0.00343436,5.09286e-05,-6.20252e-08,2.37092e-11,13066,7.61622], Tmin=(100,'K'), Tmax=(900.3,'K')), NASAPolynomial(coeffs=[5.15605,0.00943151,-1.81963e-06,2.21236e-10,-1.43515e-14,12064.1,-2.9101], Tmin=(900.3,'K'), Tmax=(5000,'K'))], Tmin=(100,'K'), Tmax=(5000,'K'), comment=\"\"\"Thermo group additivity estimation: group(Cs-CsHHH) + gauche(Cs(CsRRR)) + other(R) + group(Cs-CsHHH) + gauche(Cs(CsRRR)) + other(R) + radical(CCJ)\"\"\"), molecule=[Molecule(SMILES=\"C[CH2]\")])], products=[Species(index=8, label=\"C=C\", thermo=NASA(polynomials=[NASAPolynomial(coeffs=[3.97974,-0.00757559,5.52973e-05,-6.36221e-08,2.31767e-11,5077.46,4.04623], Tmin=(100,'K'), Tmax=(940.45,'K')), NASAPolynomial(coeffs=[5.203,0.00782442,-2.12683e-06,3.7969e-10,-2.9467e-14,3936.28,-6.62412], Tmin=(940.45,'K'), Tmax=(5000,'K'))], Tmin=(100,'K'), Tmax=(5000,'K'), comment=\"\"\"Thermo group additivity estimation: group(Cds-CdsHH) + gauche(CsOsCdSs) + other(R) + group(Cds-CdsHH) + gauche(CsOsCdSs) + other(R)\"\"\"), molecule=[Molecule(SMILES=\"C=C\")]), Species(index=8, label=\"C=C\", thermo=NASA(polynomials=[NASAPolynomial(coeffs=[3.97974,-0.00757559,5.52973e-05,-6.36221e-08,2.31767e-11,5077.46,4.04623], Tmin=(100,'K'), Tmax=(940.45,'K')), NASAPolynomial(coeffs=[5.203,0.00782442,-2.12683e-06,3.7969e-10,-2.9467e-14,3936.28,-6.62412], Tmin=(940.45,'K'), Tmax=(5000,'K'))], Tmin=(100,'K'), Tmax=(5000,'K'), comment=\"\"\"Thermo group additivity estimation: group(Cds-CdsHH) + gauche(CsOsCdSs) + other(R) + group(Cds-CdsHH) + gauche(CsOsCdSs) + other(R)\"\"\"), molecule=[Molecule(SMILES=\"C=C\")])], kinetics=Arrhenius(A=(4.56e+14,'cm^3/(mol*s)'), n=-0.7, Ea=(0,'kcal/mol'), T0=(1,'K'), comment=\"\"\"Exact match found for rate rule [Cd_pri_rad;Cmethyl_Csrad]\n",
       "Multiplied by reaction path degeneracy 3\"\"\"), pairs=[(Species(index=13, label=\"[CH]=C\", thermo=NASA(polynomials=[NASAPolynomial(coeffs=[3.90668,-0.00406204,3.86766e-05,-4.62957e-08,1.72892e-11,34797.2,6.098], Tmin=(100,'K'), Tmax=(931.97,'K')), NASAPolynomial(coeffs=[5.44806,0.0049834,-1.08811e-06,1.79815e-10,-1.45078e-14,33829.7,-4.87859], Tmin=(931.97,'K'), Tmax=(5000,'K'))], Tmin=(100,'K'), Tmax=(5000,'K'), comment=\"\"\"Thermo group additivity estimation: group(Cds-CdsHH) + gauche(CsOsCdSs) + other(R) + group(Cds-CdsHH) + gauche(CsOsCdSs) + other(R) + radical(Cds_P)\"\"\"), molecule=[Molecule(SMILES=\"[CH]=C\")]), Species(index=8, label=\"C=C\", thermo=NASA(polynomials=[NASAPolynomial(coeffs=[3.97974,-0.00757559,5.52973e-05,-6.36221e-08,2.31767e-11,5077.46,4.04623], Tmin=(100,'K'), Tmax=(940.45,'K')), NASAPolynomial(coeffs=[5.203,0.00782442,-2.12683e-06,3.7969e-10,-2.9467e-14,3936.28,-6.62412], Tmin=(940.45,'K'), Tmax=(5000,'K'))], Tmin=(100,'K'), Tmax=(5000,'K'), comment=\"\"\"Thermo group additivity estimation: group(Cds-CdsHH) + gauche(CsOsCdSs) + other(R) + group(Cds-CdsHH) + gauche(CsOsCdSs) + other(R)\"\"\"), molecule=[Molecule(SMILES=\"C=C\")])), (Species(index=3, label=\"C[CH2]\", thermo=NASA(polynomials=[NASAPolynomial(coeffs=[3.8219,-0.00343436,5.09286e-05,-6.20252e-08,2.37092e-11,13066,7.61622], Tmin=(100,'K'), Tmax=(900.3,'K')), NASAPolynomial(coeffs=[5.15605,0.00943151,-1.81963e-06,2.21236e-10,-1.43515e-14,12064.1,-2.9101], Tmin=(900.3,'K'), Tmax=(5000,'K'))], Tmin=(100,'K'), Tmax=(5000,'K'), comment=\"\"\"Thermo group additivity estimation: group(Cs-CsHHH) + gauche(Cs(CsRRR)) + other(R) + group(Cs-CsHHH) + gauche(Cs(CsRRR)) + other(R) + radical(CCJ)\"\"\"), molecule=[Molecule(SMILES=\"C[CH2]\")]), Species(index=8, label=\"C=C\", thermo=NASA(polynomials=[NASAPolynomial(coeffs=[3.97974,-0.00757559,5.52973e-05,-6.36221e-08,2.31767e-11,5077.46,4.04623], Tmin=(100,'K'), Tmax=(940.45,'K')), NASAPolynomial(coeffs=[5.203,0.00782442,-2.12683e-06,3.7969e-10,-2.9467e-14,3936.28,-6.62412], Tmin=(940.45,'K'), Tmax=(5000,'K'))], Tmin=(100,'K'), Tmax=(5000,'K'), comment=\"\"\"Thermo group additivity estimation: group(Cds-CdsHH) + gauche(CsOsCdSs) + other(R) + group(Cds-CdsHH) + gauche(CsOsCdSs) + other(R)\"\"\"), molecule=[Molecule(SMILES=\"C=C\")]))])"
      ]
     },
     "metadata": {},
     "output_type": "display_data"
    },
    {
     "name": "stdout",
     "output_type": "stream",
     "text": [
      "\n",
      "**********************************************************************************\n",
      "rxn#9: C[CH2](3) + [H](4) <=> [H][H](12) + C=C(8): integrated flux = 2.655E-08 \n"
     ]
    },
    {
     "data": {
      "image/png": "[encoded data removed]",
      "text/plain": [
       "Reaction(index=9, reactants=[Species(index=3, label=\"C[CH2]\", thermo=NASA(polynomials=[NASAPolynomial(coeffs=[3.8219,-0.00343436,5.09286e-05,-6.20252e-08,2.37092e-11,13066,7.61622], Tmin=(100,'K'), Tmax=(900.3,'K')), NASAPolynomial(coeffs=[5.15605,0.00943151,-1.81963e-06,2.21236e-10,-1.43515e-14,12064.1,-2.9101], Tmin=(900.3,'K'), Tmax=(5000,'K'))], Tmin=(100,'K'), Tmax=(5000,'K'), comment=\"\"\"Thermo group additivity estimation: group(Cs-CsHHH) + gauche(Cs(CsRRR)) + other(R) + group(Cs-CsHHH) + gauche(Cs(CsRRR)) + other(R) + radical(CCJ)\"\"\"), molecule=[Molecule(SMILES=\"C[CH2]\")]), Species(index=4, label=\"[H]\", thermo=NASA(polynomials=[NASAPolynomial(coeffs=[2.5,-1.91243e-12,2.45329e-15,-1.02377e-18,1.31369e-22,25474.2,-0.444973], Tmin=(100,'K'), Tmax=(4563.27,'K')), NASAPolynomial(coeffs=[2.50167,-1.43051e-06,4.6025e-10,-6.57826e-14,3.52412e-18,25472.7,-0.455578], Tmin=(4563.27,'K'), Tmax=(5000,'K'))], Tmin=(100,'K'), Tmax=(5000,'K'), comment=\"\"\"Thermo library: primaryThermoLibrary\"\"\"), molecule=[Molecule(SMILES=\"[H]\")])], products=[Species(index=12, label=\"[H][H]\", thermo=NASA(polynomials=[NASAPolynomial(coeffs=[3.43536,0.00021271,-2.78625e-07,3.40267e-10,-7.76031e-14,-1031.36,-3.90842], Tmin=(100,'K'), Tmax=(1959.08,'K')), NASAPolynomial(coeffs=[2.78816,0.000587644,1.59009e-07,-5.52736e-11,4.34309e-15,-596.143,0.112747], Tmin=(1959.08,'K'), Tmax=(5000,'K'))], Tmin=(100,'K'), Tmax=(5000,'K'), comment=\"\"\"Thermo library: primaryThermoLibrary\"\"\"), molecule=[Molecule(SMILES=\"[H][H]\")]), Species(index=8, label=\"C=C\", thermo=NASA(polynomials=[NASAPolynomial(coeffs=[3.97974,-0.00757559,5.52973e-05,-6.36221e-08,2.31767e-11,5077.46,4.04623], Tmin=(100,'K'), Tmax=(940.45,'K')), NASAPolynomial(coeffs=[5.203,0.00782442,-2.12683e-06,3.7969e-10,-2.9467e-14,3936.28,-6.62412], Tmin=(940.45,'K'), Tmax=(5000,'K'))], Tmin=(100,'K'), Tmax=(5000,'K'), comment=\"\"\"Thermo group additivity estimation: group(Cds-CdsHH) + gauche(CsOsCdSs) + other(R) + group(Cds-CdsHH) + gauche(CsOsCdSs) + other(R)\"\"\"), molecule=[Molecule(SMILES=\"C=C\")])], kinetics=Arrhenius(A=(2.166e+13,'cm^3/(mol*s)'), n=0, Ea=(0,'kcal/mol'), T0=(1,'K'), comment=\"\"\"Exact match found for rate rule [H_rad;Cmethyl_Csrad]\n",
       "Multiplied by reaction path degeneracy 6\"\"\"), pairs=[(Species(index=3, label=\"C[CH2]\", thermo=NASA(polynomials=[NASAPolynomial(coeffs=[3.8219,-0.00343436,5.09286e-05,-6.20252e-08,2.37092e-11,13066,7.61622], Tmin=(100,'K'), Tmax=(900.3,'K')), NASAPolynomial(coeffs=[5.15605,0.00943151,-1.81963e-06,2.21236e-10,-1.43515e-14,12064.1,-2.9101], Tmin=(900.3,'K'), Tmax=(5000,'K'))], Tmin=(100,'K'), Tmax=(5000,'K'), comment=\"\"\"Thermo group additivity estimation: group(Cs-CsHHH) + gauche(Cs(CsRRR)) + other(R) + group(Cs-CsHHH) + gauche(Cs(CsRRR)) + other(R) + radical(CCJ)\"\"\"), molecule=[Molecule(SMILES=\"C[CH2]\")]), Species(index=8, label=\"C=C\", thermo=NASA(polynomials=[NASAPolynomial(coeffs=[3.97974,-0.00757559,5.52973e-05,-6.36221e-08,2.31767e-11,5077.46,4.04623], Tmin=(100,'K'), Tmax=(940.45,'K')), NASAPolynomial(coeffs=[5.203,0.00782442,-2.12683e-06,3.7969e-10,-2.9467e-14,3936.28,-6.62412], Tmin=(940.45,'K'), Tmax=(5000,'K'))], Tmin=(100,'K'), Tmax=(5000,'K'), comment=\"\"\"Thermo group additivity estimation: group(Cds-CdsHH) + gauche(CsOsCdSs) + other(R) + group(Cds-CdsHH) + gauche(CsOsCdSs) + other(R)\"\"\"), molecule=[Molecule(SMILES=\"C=C\")])), (Species(index=4, label=\"[H]\", thermo=NASA(polynomials=[NASAPolynomial(coeffs=[2.5,-1.91243e-12,2.45329e-15,-1.02377e-18,1.31369e-22,25474.2,-0.444973], Tmin=(100,'K'), Tmax=(4563.27,'K')), NASAPolynomial(coeffs=[2.50167,-1.43051e-06,4.6025e-10,-6.57826e-14,3.52412e-18,25472.7,-0.455578], Tmin=(4563.27,'K'), Tmax=(5000,'K'))], Tmin=(100,'K'), Tmax=(5000,'K'), comment=\"\"\"Thermo library: primaryThermoLibrary\"\"\"), molecule=[Molecule(SMILES=\"[H]\")]), Species(index=12, label=\"[H][H]\", thermo=NASA(polynomials=[NASAPolynomial(coeffs=[3.43536,0.00021271,-2.78625e-07,3.40267e-10,-7.76031e-14,-1031.36,-3.90842], Tmin=(100,'K'), Tmax=(1959.08,'K')), NASAPolynomial(coeffs=[2.78816,0.000587644,1.59009e-07,-5.52736e-11,4.34309e-15,-596.143,0.112747], Tmin=(1959.08,'K'), Tmax=(5000,'K'))], Tmin=(100,'K'), Tmax=(5000,'K'), comment=\"\"\"Thermo library: primaryThermoLibrary\"\"\"), molecule=[Molecule(SMILES=\"[H][H]\")]))])"
      ]
     },
     "metadata": {},
     "output_type": "display_data"
    },
    {
     "name": "stdout",
     "output_type": "stream",
     "text": [
      "\n",
      "**********************************************************************************\n",
      "rxn#6: [CH3](2) + C[CH2](3) <=> C=C(8) + C(6): integrated flux = 3.425E-08 \n"
     ]
    },
    {
     "data": {
      "image/png": "[encoded data removed]",
      "text/plain": [
       "Reaction(index=6, reactants=[Species(index=2, label=\"[CH3]\", thermo=NASA(polynomials=[NASAPolynomial(coeffs=[3.91547,0.00184154,3.48744e-06,-3.3275e-09,8.49964e-13,16285.6,0.351739], Tmin=(100,'K'), Tmax=(1337.62,'K')), NASAPolynomial(coeffs=[3.54145,0.00476788,-1.82149e-06,3.28878e-10,-2.22547e-14,16224,1.6604], Tmin=(1337.62,'K'), Tmax=(5000,'K'))], Tmin=(100,'K'), Tmax=(5000,'K'), comment=\"\"\"Thermo library: primaryThermoLibrary + radical(CH3)\"\"\"), molecule=[Molecule(SMILES=\"[CH3]\")]), Species(index=3, label=\"C[CH2]\", thermo=NASA(polynomials=[NASAPolynomial(coeffs=[3.8219,-0.00343436,5.09286e-05,-6.20252e-08,2.37092e-11,13066,7.61622], Tmin=(100,'K'), Tmax=(900.3,'K')), NASAPolynomial(coeffs=[5.15605,0.00943151,-1.81963e-06,2.21236e-10,-1.43515e-14,12064.1,-2.9101], Tmin=(900.3,'K'), Tmax=(5000,'K'))], Tmin=(100,'K'), Tmax=(5000,'K'), comment=\"\"\"Thermo group additivity estimation: group(Cs-CsHHH) + gauche(Cs(CsRRR)) + other(R) + group(Cs-CsHHH) + gauche(Cs(CsRRR)) + other(R) + radical(CCJ)\"\"\"), molecule=[Molecule(SMILES=\"C[CH2]\")])], products=[Species(index=8, label=\"C=C\", thermo=NASA(polynomials=[NASAPolynomial(coeffs=[3.97974,-0.00757559,5.52973e-05,-6.36221e-08,2.31767e-11,5077.46,4.04623], Tmin=(100,'K'), Tmax=(940.45,'K')), NASAPolynomial(coeffs=[5.203,0.00782442,-2.12683e-06,3.7969e-10,-2.9467e-14,3936.28,-6.62412], Tmin=(940.45,'K'), Tmax=(5000,'K'))], Tmin=(100,'K'), Tmax=(5000,'K'), comment=\"\"\"Thermo group additivity estimation: group(Cds-CdsHH) + gauche(CsOsCdSs) + other(R) + group(Cds-CdsHH) + gauche(CsOsCdSs) + other(R)\"\"\"), molecule=[Molecule(SMILES=\"C=C\")]), Species(index=6, label=\"C\", thermo=NASA(polynomials=[NASAPolynomial(coeffs=[4.20541,-0.00535556,2.51123e-05,-2.13762e-08,5.97522e-12,-10161.9,-0.921275], Tmin=(100,'K'), Tmax=(1084.12,'K')), NASAPolynomial(coeffs=[0.908272,0.0114541,-4.57173e-06,8.2919e-10,-5.66314e-14,-9719.98,13.9931], Tmin=(1084.12,'K'), Tmax=(5000,'K'))], Tmin=(100,'K'), Tmax=(5000,'K'), comment=\"\"\"Thermo library: primaryThermoLibrary\"\"\"), molecule=[Molecule(SMILES=\"C\")])], kinetics=Arrhenius(A=(6.57e+14,'cm^3/(mol*s)'), n=-0.68, Ea=(0,'kcal/mol'), T0=(1,'K'), comment=\"\"\"Exact match found for rate rule [C_methyl;Cmethyl_Csrad]\n",
       "Multiplied by reaction path degeneracy 3\"\"\"), pairs=[(Species(index=2, label=\"[CH3]\", thermo=NASA(polynomials=[NASAPolynomial(coeffs=[3.91547,0.00184154,3.48744e-06,-3.3275e-09,8.49964e-13,16285.6,0.351739], Tmin=(100,'K'), Tmax=(1337.62,'K')), NASAPolynomial(coeffs=[3.54145,0.00476788,-1.82149e-06,3.28878e-10,-2.22547e-14,16224,1.6604], Tmin=(1337.62,'K'), Tmax=(5000,'K'))], Tmin=(100,'K'), Tmax=(5000,'K'), comment=\"\"\"Thermo library: primaryThermoLibrary + radical(CH3)\"\"\"), molecule=[Molecule(SMILES=\"[CH3]\")]), Species(index=6, label=\"C\", thermo=NASA(polynomials=[NASAPolynomial(coeffs=[4.20541,-0.00535556,2.51123e-05,-2.13762e-08,5.97522e-12,-10161.9,-0.921275], Tmin=(100,'K'), Tmax=(1084.12,'K')), NASAPolynomial(coeffs=[0.908272,0.0114541,-4.57173e-06,8.2919e-10,-5.66314e-14,-9719.98,13.9931], Tmin=(1084.12,'K'), Tmax=(5000,'K'))], Tmin=(100,'K'), Tmax=(5000,'K'), comment=\"\"\"Thermo library: primaryThermoLibrary\"\"\"), molecule=[Molecule(SMILES=\"C\")])), (Species(index=3, label=\"C[CH2]\", thermo=NASA(polynomials=[NASAPolynomial(coeffs=[3.8219,-0.00343436,5.09286e-05,-6.20252e-08,2.37092e-11,13066,7.61622], Tmin=(100,'K'), Tmax=(900.3,'K')), NASAPolynomial(coeffs=[5.15605,0.00943151,-1.81963e-06,2.21236e-10,-1.43515e-14,12064.1,-2.9101], Tmin=(900.3,'K'), Tmax=(5000,'K'))], Tmin=(100,'K'), Tmax=(5000,'K'), comment=\"\"\"Thermo group additivity estimation: group(Cs-CsHHH) + gauche(Cs(CsRRR)) + other(R) + group(Cs-CsHHH) + gauche(Cs(CsRRR)) + other(R) + radical(CCJ)\"\"\"), molecule=[Molecule(SMILES=\"C[CH2]\")]), Species(index=8, label=\"C=C\", thermo=NASA(polynomials=[NASAPolynomial(coeffs=[3.97974,-0.00757559,5.52973e-05,-6.36221e-08,2.31767e-11,5077.46,4.04623], Tmin=(100,'K'), Tmax=(940.45,'K')), NASAPolynomial(coeffs=[5.203,0.00782442,-2.12683e-06,3.7969e-10,-2.9467e-14,3936.28,-6.62412], Tmin=(940.45,'K'), Tmax=(5000,'K'))], Tmin=(100,'K'), Tmax=(5000,'K'), comment=\"\"\"Thermo group additivity estimation: group(Cds-CdsHH) + gauche(CsOsCdSs) + other(R) + group(Cds-CdsHH) + gauche(CsOsCdSs) + other(R)\"\"\"), molecule=[Molecule(SMILES=\"C=C\")]))])"
      ]
     },
     "metadata": {},
     "output_type": "display_data"
    },
    {
     "name": "stdout",
     "output_type": "stream",
     "text": [
      "\n",
      "**********************************************************************************\n",
      "rxn#7: C[CH2](3) + C[CH2](3) <=> C=C(8) + ethane(1): integrated flux = 4.895E-08 \n"
     ]
    },
    {
     "data": {
      "image/png": "[encoded data removed]",
      "text/plain": [
       "Reaction(index=7, reactants=[Species(index=3, label=\"C[CH2]\", thermo=NASA(polynomials=[NASAPolynomial(coeffs=[3.8219,-0.00343436,5.09286e-05,-6.20252e-08,2.37092e-11,13066,7.61622], Tmin=(100,'K'), Tmax=(900.3,'K')), NASAPolynomial(coeffs=[5.15605,0.00943151,-1.81963e-06,2.21236e-10,-1.43515e-14,12064.1,-2.9101], Tmin=(900.3,'K'), Tmax=(5000,'K'))], Tmin=(100,'K'), Tmax=(5000,'K'), comment=\"\"\"Thermo group additivity estimation: group(Cs-CsHHH) + gauche(Cs(CsRRR)) + other(R) + group(Cs-CsHHH) + gauche(Cs(CsRRR)) + other(R) + radical(CCJ)\"\"\"), molecule=[Molecule(SMILES=\"C[CH2]\")]), Species(index=3, label=\"C[CH2]\", thermo=NASA(polynomials=[NASAPolynomial(coeffs=[3.8219,-0.00343436,5.09286e-05,-6.20252e-08,2.37092e-11,13066,7.61622], Tmin=(100,'K'), Tmax=(900.3,'K')), NASAPolynomial(coeffs=[5.15605,0.00943151,-1.81963e-06,2.21236e-10,-1.43515e-14,12064.1,-2.9101], Tmin=(900.3,'K'), Tmax=(5000,'K'))], Tmin=(100,'K'), Tmax=(5000,'K'), comment=\"\"\"Thermo group additivity estimation: group(Cs-CsHHH) + gauche(Cs(CsRRR)) + other(R) + group(Cs-CsHHH) + gauche(Cs(CsRRR)) + other(R) + radical(CCJ)\"\"\"), molecule=[Molecule(SMILES=\"C[CH2]\")])], products=[Species(index=8, label=\"C=C\", thermo=NASA(polynomials=[NASAPolynomial(coeffs=[3.97974,-0.00757559,5.52973e-05,-6.36221e-08,2.31767e-11,5077.46,4.04623], Tmin=(100,'K'), Tmax=(940.45,'K')), NASAPolynomial(coeffs=[5.203,0.00782442,-2.12683e-06,3.7969e-10,-2.9467e-14,3936.28,-6.62412], Tmin=(940.45,'K'), Tmax=(5000,'K'))], Tmin=(100,'K'), Tmax=(5000,'K'), comment=\"\"\"Thermo group additivity estimation: group(Cds-CdsHH) + gauche(CsOsCdSs) + other(R) + group(Cds-CdsHH) + gauche(CsOsCdSs) + other(R)\"\"\"), molecule=[Molecule(SMILES=\"C=C\")]), Species(index=1, label=\"ethane\", thermo=NASA(polynomials=[NASAPolynomial(coeffs=[3.78033,-0.00324263,5.52381e-05,-6.38581e-08,2.28637e-11,-11620.3,5.21034], Tmin=(100,'K'), Tmax=(954.51,'K')), NASAPolynomial(coeffs=[4.58983,0.0141508,-4.75962e-06,8.60294e-10,-6.21717e-14,-12721.8,-3.61739], Tmin=(954.51,'K'), Tmax=(5000,'K'))], Tmin=(100,'K'), Tmax=(5000,'K'), comment=\"\"\"Thermo group additivity estimation: group(Cs-CsHHH) + gauche(Cs(CsRRR)) + other(R) + group(Cs-CsHHH) + gauche(Cs(CsRRR)) + other(R)\"\"\"), molecule=[Molecule(SMILES=\"CC\")])], kinetics=Arrhenius(A=(6.9e+13,'cm^3/(mol*s)'), n=-0.35, Ea=(0,'kcal/mol'), T0=(1,'K'), comment=\"\"\"Exact match found for rate rule [C_rad/H2/Cs;Cmethyl_Csrad]\n",
       "Multiplied by reaction path degeneracy 3\"\"\"), pairs=[(Species(index=3, label=\"C[CH2]\", thermo=NASA(polynomials=[NASAPolynomial(coeffs=[3.8219,-0.00343436,5.09286e-05,-6.20252e-08,2.37092e-11,13066,7.61622], Tmin=(100,'K'), Tmax=(900.3,'K')), NASAPolynomial(coeffs=[5.15605,0.00943151,-1.81963e-06,2.21236e-10,-1.43515e-14,12064.1,-2.9101], Tmin=(900.3,'K'), Tmax=(5000,'K'))], Tmin=(100,'K'), Tmax=(5000,'K'), comment=\"\"\"Thermo group additivity estimation: group(Cs-CsHHH) + gauche(Cs(CsRRR)) + other(R) + group(Cs-CsHHH) + gauche(Cs(CsRRR)) + other(R) + radical(CCJ)\"\"\"), molecule=[Molecule(SMILES=\"C[CH2]\")]), Species(index=1, label=\"ethane\", thermo=NASA(polynomials=[NASAPolynomial(coeffs=[3.78033,-0.00324263,5.52381e-05,-6.38581e-08,2.28637e-11,-11620.3,5.21034], Tmin=(100,'K'), Tmax=(954.51,'K')), NASAPolynomial(coeffs=[4.58983,0.0141508,-4.75962e-06,8.60294e-10,-6.21717e-14,-12721.8,-3.61739], Tmin=(954.51,'K'), Tmax=(5000,'K'))], Tmin=(100,'K'), Tmax=(5000,'K'), comment=\"\"\"Thermo group additivity estimation: group(Cs-CsHHH) + gauche(Cs(CsRRR)) + other(R) + group(Cs-CsHHH) + gauche(Cs(CsRRR)) + other(R)\"\"\"), molecule=[Molecule(SMILES=\"CC\")])), (Species(index=3, label=\"C[CH2]\", thermo=NASA(polynomials=[NASAPolynomial(coeffs=[3.8219,-0.00343436,5.09286e-05,-6.20252e-08,2.37092e-11,13066,7.61622], Tmin=(100,'K'), Tmax=(900.3,'K')), NASAPolynomial(coeffs=[5.15605,0.00943151,-1.81963e-06,2.21236e-10,-1.43515e-14,12064.1,-2.9101], Tmin=(900.3,'K'), Tmax=(5000,'K'))], Tmin=(100,'K'), Tmax=(5000,'K'), comment=\"\"\"Thermo group additivity estimation: group(Cs-CsHHH) + gauche(Cs(CsRRR)) + other(R) + group(Cs-CsHHH) + gauche(Cs(CsRRR)) + other(R) + radical(CCJ)\"\"\"), molecule=[Molecule(SMILES=\"C[CH2]\")]), Species(index=8, label=\"C=C\", thermo=NASA(polynomials=[NASAPolynomial(coeffs=[3.97974,-0.00757559,5.52973e-05,-6.36221e-08,2.31767e-11,5077.46,4.04623], Tmin=(100,'K'), Tmax=(940.45,'K')), NASAPolynomial(coeffs=[5.203,0.00782442,-2.12683e-06,3.7969e-10,-2.9467e-14,3936.28,-6.62412], Tmin=(940.45,'K'), Tmax=(5000,'K'))], Tmin=(100,'K'), Tmax=(5000,'K'), comment=\"\"\"Thermo group additivity estimation: group(Cds-CdsHH) + gauche(CsOsCdSs) + other(R) + group(Cds-CdsHH) + gauche(CsOsCdSs) + other(R)\"\"\"), molecule=[Molecule(SMILES=\"C=C\")]))])"
      ]
     },
     "metadata": {},
     "output_type": "display_data"
    },
    {
     "name": "stdout",
     "output_type": "stream",
     "text": [
      "***************************************\n",
      "\n",
      "TOTAL integrated flux from h_abs and disp is 1.129E-07.\n"
     ]
    }
   ],
   "source": [
    "print ''\n",
    "print 'The step you see currently is between the two species {0}'.format(step_pair)\n",
    "print ''\n",
    "print 'Positive flux in below means positive production of 1st node of the pair.'\n",
    "print ''\n",
    "print 'This step have {0} H_Abstration and Disproportionation in total.'.format(len(h_abs_rxns + disp_rxns))\n",
    "\n",
    "flux_threshold = 1e-9\n",
    "\n",
    "print ''\n",
    "print 'TO avoid too much printout, the reactions shown below have fluxes above {0}.'.format(flux_threshold)\n",
    "\n",
    "total_flux = 0\n",
    "rxn_flux_tups = []\n",
    "for rxn in h_abs_rxns + disp_rxns:\n",
    "    if showIntegratedFlux:\n",
    "    #integrate the flux using a trapezoidal rule\n",
    "        integrated_flux = 0\n",
    "        for timepoint in range(timepoint_index-1):\n",
    "                integrated_flux += 0.5 * (graph_edges_dict_simple[step_pair][rxn][timepoint+1] \\\n",
    "                    + graph_edges_dict_simple[step_pair][rxn][timepoint]) \\\n",
    "                    * (firstColDict['Time_(sec)'][timepoint+1] - firstColDict['Time_(sec)'][timepoint])\n",
    "        rxn_flux_tups.append((rxn, integrated_flux))\n",
    "    else:\n",
    "        flux = graph_edges_dict_simple[step_pair][rxn][timepoint_index]\n",
    "        rxn_flux_tups.append((rxn, flux))\n",
    "    \n",
    "\n",
    "rxn_flux_tups = sorted(rxn_flux_tups, key=lambda tup: tup[1], reverse=False)\n",
    "for tup in rxn_flux_tups:\n",
    "    rxn = tup[0]\n",
    "    flux = tup[1]\n",
    "    if flux > flux_threshold:\n",
    "        total_flux += flux\n",
    "        print ''\n",
    "        print \"**********************************************************************************\"\n",
    "        if showIntegratedFlux:\n",
    "            print \"rxn#{0}: {1}: integrated flux = {2:.3E} \".format(rxn.index, str(rxn), flux) \n",
    "        else:\n",
    "            print \"rxn#{0}: {1}: flux = {2:.3E} \".format(rxn.index, str(rxn), flux)\n",
    "        display(rxn) \n",
    "print \"***************************************\"\n",
    "print ''\n",
    "if showIntegratedFlux:\n",
    "    print \"TOTAL integrated flux from h_abs and disp is {0:.3E}.\".format(total_flux)\n",
    "else:\n",
    "    print \"TOTAL flux from h_abs and disp is {0:.3E}.\".format(total_flux)\n"
   ]
  },
  {
   "cell_type": "markdown",
   "metadata": {},
   "source": [
    "## [user input] Functionality 4: find paths towards a particular species\n",
    "\n",
    "Similar to functionality 2, please specify\n",
    "\n",
    "Please specify\n",
    "\n",
    "- target species\n",
    "\n",
    "- depth of pathway you want search, e.g., depth = 2 means search pathways 2 steps up beyond target species\n",
    "\n",
    "- path_top_list, e.g., [0, 3] means 1st step of the pathway takes the most significant branch and 2nd step would be the third most siginificant branch"
   ]
  },
  {
   "cell_type": "code",
   "execution_count": 53,
   "metadata": {
    "collapsed": false
   },
   "outputs": [],
   "source": [
    "target = \"C#C(25)\"\n",
    "depth = 2\n",
    "path_top_list = [0, 0]"
   ]
  },
  {
   "cell_type": "code",
   "execution_count": 54,
   "metadata": {
    "collapsed": false
   },
   "outputs": [
    {
     "name": "stdout",
     "output_type": "stream",
     "text": [
      "\n",
      "\t Pathway Report \n",
      "======================================\n",
      "The pathway you are intested in has 2 steps.\n",
      "\n",
      "total product flux for C#C(25) is 1.685E-04.\n",
      "\n",
      "\n",
      "\n",
      "Step1 \t\t\t\t Integrated Flux \t Rel. Flux (%)\n",
      "************************************************************************\n",
      "C#C(25) --> C2H4(8) \t\t 5.870E-07 \t\t 11.58\n",
      "************************************************************************\n",
      "\n",
      "Example reaction: rxn#18\n",
      "\n",
      "C#C(25) + [H](4) <=> [CH]=C(13): integrated flux = 5.793E-07 \n"
     ]
    },
    {
     "data": {
      "image/png": "[encoded data removed]",
      "text/plain": [
       "Reaction(index=18, reactants=[Species(index=25, label=\"C#C\", thermo=NASA(polynomials=[NASAPolynomial(coeffs=[3.03575,0.00771231,2.53525e-06,-1.08138e-08,5.50779e-12,25852.6,4.54459], Tmin=(100,'K'), Tmax=(888.62,'K')), NASAPolynomial(coeffs=[5.76203,0.00237162,-1.496e-07,-2.19113e-11,2.21744e-15,25094.5,-9.82599], Tmin=(888.62,'K'), Tmax=(5000,'K'))], Tmin=(100,'K'), Tmax=(5000,'K'), comment=\"\"\"Thermo group additivity estimation: group(Ct-CtH) + other(R) + group(Ct-CtH) + other(R)\"\"\"), molecule=[Molecule(SMILES=\"C#C\")]), Species(index=4, label=\"[H]\", thermo=NASA(polynomials=[NASAPolynomial(coeffs=[2.5,-1.91243e-12,2.45329e-15,-1.02377e-18,1.31369e-22,25474.2,-0.444973], Tmin=(100,'K'), Tmax=(4563.27,'K')), NASAPolynomial(coeffs=[2.50167,-1.43051e-06,4.6025e-10,-6.57826e-14,3.52412e-18,25472.7,-0.455578], Tmin=(4563.27,'K'), Tmax=(5000,'K'))], Tmin=(100,'K'), Tmax=(5000,'K'), comment=\"\"\"Thermo library: primaryThermoLibrary\"\"\"), molecule=[Molecule(SMILES=\"[H]\")])], products=[Species(index=13, label=\"[CH]=C\", thermo=NASA(polynomials=[NASAPolynomial(coeffs=[3.90668,-0.00406204,3.86766e-05,-4.62957e-08,1.72892e-11,34797.2,6.098], Tmin=(100,'K'), Tmax=(931.97,'K')), NASAPolynomial(coeffs=[5.44806,0.0049834,-1.08811e-06,1.79815e-10,-1.45078e-14,33829.7,-4.87859], Tmin=(931.97,'K'), Tmax=(5000,'K'))], Tmin=(100,'K'), Tmax=(5000,'K'), comment=\"\"\"Thermo group additivity estimation: group(Cds-CdsHH) + gauche(CsOsCdSs) + other(R) + group(Cds-CdsHH) + gauche(CsOsCdSs) + other(R) + radical(Cds_P)\"\"\"), molecule=[Molecule(SMILES=\"[CH]=C\")])], kinetics=Arrhenius(A=(1.03e+09,'cm^3/(mol*s)'), n=1.64, Ea=(2.11,'kcal/mol'), T0=(1,'K'), comment=\"\"\"Exact match found for rate rule [Ct-H_Ct-H;HJ]\n",
       "Multiplied by reaction path degeneracy 2\"\"\"), pairs=[(Species(index=25, label=\"C#C\", thermo=NASA(polynomials=[NASAPolynomial(coeffs=[3.03575,0.00771231,2.53525e-06,-1.08138e-08,5.50779e-12,25852.6,4.54459], Tmin=(100,'K'), Tmax=(888.62,'K')), NASAPolynomial(coeffs=[5.76203,0.00237162,-1.496e-07,-2.19113e-11,2.21744e-15,25094.5,-9.82599], Tmin=(888.62,'K'), Tmax=(5000,'K'))], Tmin=(100,'K'), Tmax=(5000,'K'), comment=\"\"\"Thermo group additivity estimation: group(Ct-CtH) + other(R) + group(Ct-CtH) + other(R)\"\"\"), molecule=[Molecule(SMILES=\"C#C\")]), Species(index=13, label=\"[CH]=C\", thermo=NASA(polynomials=[NASAPolynomial(coeffs=[3.90668,-0.00406204,3.86766e-05,-4.62957e-08,1.72892e-11,34797.2,6.098], Tmin=(100,'K'), Tmax=(931.97,'K')), NASAPolynomial(coeffs=[5.44806,0.0049834,-1.08811e-06,1.79815e-10,-1.45078e-14,33829.7,-4.87859], Tmin=(931.97,'K'), Tmax=(5000,'K'))], Tmin=(100,'K'), Tmax=(5000,'K'), comment=\"\"\"Thermo group additivity estimation: group(Cds-CdsHH) + gauche(CsOsCdSs) + other(R) + group(Cds-CdsHH) + gauche(CsOsCdSs) + other(R) + radical(Cds_P)\"\"\"), molecule=[Molecule(SMILES=\"[CH]=C\")])), (Species(index=4, label=\"[H]\", thermo=NASA(polynomials=[NASAPolynomial(coeffs=[2.5,-1.91243e-12,2.45329e-15,-1.02377e-18,1.31369e-22,25474.2,-0.444973], Tmin=(100,'K'), Tmax=(4563.27,'K')), NASAPolynomial(coeffs=[2.50167,-1.43051e-06,4.6025e-10,-6.57826e-14,3.52412e-18,25472.7,-0.455578], Tmin=(4563.27,'K'), Tmax=(5000,'K'))], Tmin=(100,'K'), Tmax=(5000,'K'), comment=\"\"\"Thermo library: primaryThermoLibrary\"\"\"), molecule=[Molecule(SMILES=\"[H]\")]), Species(index=13, label=\"[CH]=C\", thermo=NASA(polynomials=[NASAPolynomial(coeffs=[3.90668,-0.00406204,3.86766e-05,-4.62957e-08,1.72892e-11,34797.2,6.098], Tmin=(100,'K'), Tmax=(931.97,'K')), NASAPolynomial(coeffs=[5.44806,0.0049834,-1.08811e-06,1.79815e-10,-1.45078e-14,33829.7,-4.87859], Tmin=(931.97,'K'), Tmax=(5000,'K'))], Tmin=(100,'K'), Tmax=(5000,'K'), comment=\"\"\"Thermo group additivity estimation: group(Cds-CdsHH) + gauche(CsOsCdSs) + other(R) + group(Cds-CdsHH) + gauche(CsOsCdSs) + other(R) + radical(Cds_P)\"\"\"), molecule=[Molecule(SMILES=\"[CH]=C\")]))])"
      ]
     },
     "metadata": {},
     "output_type": "display_data"
    },
    {
     "name": "stdout",
     "output_type": "stream",
     "text": [
      "Forward rate coefficient at 1350 K: 6.38E+07\n",
      "Reverse rate coefficient at 1350 K: 8.76E+07\n",
      "\n",
      "Example Disproportionation: rxn#19(1/4 Disp)\n",
      "\n",
      "[CH]=C(13) + [CH3](2) <=> C#C(25) + C(6)\n"
     ]
    },
    {
     "data": {
      "image/png": "[encoded data removed]",
      "text/plain": [
       "Reaction(index=19, reactants=[Species(index=13, label=\"[CH]=C\", thermo=NASA(polynomials=[NASAPolynomial(coeffs=[3.90668,-0.00406204,3.86766e-05,-4.62957e-08,1.72892e-11,34797.2,6.098], Tmin=(100,'K'), Tmax=(931.97,'K')), NASAPolynomial(coeffs=[5.44806,0.0049834,-1.08811e-06,1.79815e-10,-1.45078e-14,33829.7,-4.87859], Tmin=(931.97,'K'), Tmax=(5000,'K'))], Tmin=(100,'K'), Tmax=(5000,'K'), comment=\"\"\"Thermo group additivity estimation: group(Cds-CdsHH) + gauche(CsOsCdSs) + other(R) + group(Cds-CdsHH) + gauche(CsOsCdSs) + other(R) + radical(Cds_P)\"\"\"), molecule=[Molecule(SMILES=\"[CH]=C\")]), Species(index=2, label=\"[CH3]\", thermo=NASA(polynomials=[NASAPolynomial(coeffs=[3.91547,0.00184154,3.48744e-06,-3.3275e-09,8.49964e-13,16285.6,0.351739], Tmin=(100,'K'), Tmax=(1337.62,'K')), NASAPolynomial(coeffs=[3.54145,0.00476788,-1.82149e-06,3.28878e-10,-2.22547e-14,16224,1.6604], Tmin=(1337.62,'K'), Tmax=(5000,'K'))], Tmin=(100,'K'), Tmax=(5000,'K'), comment=\"\"\"Thermo library: primaryThermoLibrary + radical(CH3)\"\"\"), molecule=[Molecule(SMILES=\"[CH3]\")])], products=[Species(index=25, label=\"C#C\", thermo=NASA(polynomials=[NASAPolynomial(coeffs=[3.03575,0.00771231,2.53525e-06,-1.08138e-08,5.50779e-12,25852.6,4.54459], Tmin=(100,'K'), Tmax=(888.62,'K')), NASAPolynomial(coeffs=[5.76203,0.00237162,-1.496e-07,-2.19113e-11,2.21744e-15,25094.5,-9.82599], Tmin=(888.62,'K'), Tmax=(5000,'K'))], Tmin=(100,'K'), Tmax=(5000,'K'), comment=\"\"\"Thermo group additivity estimation: group(Ct-CtH) + other(R) + group(Ct-CtH) + other(R)\"\"\"), molecule=[Molecule(SMILES=\"C#C\")]), Species(index=6, label=\"C\", thermo=NASA(polynomials=[NASAPolynomial(coeffs=[4.20541,-0.00535556,2.51123e-05,-2.13762e-08,5.97522e-12,-10161.9,-0.921275], Tmin=(100,'K'), Tmax=(1084.12,'K')), NASAPolynomial(coeffs=[0.908272,0.0114541,-4.57173e-06,8.2919e-10,-5.66314e-14,-9719.98,13.9931], Tmin=(1084.12,'K'), Tmax=(5000,'K'))], Tmin=(100,'K'), Tmax=(5000,'K'), comment=\"\"\"Thermo library: primaryThermoLibrary\"\"\"), molecule=[Molecule(SMILES=\"C\")])], kinetics=Arrhenius(A=(2.277e+06,'cm^3/(mol*s)'), n=1.87, Ea=(-1.11,'kcal/mol'), T0=(1,'K'), comment=\"\"\"Estimated using template [C_methyl;CH_d_Rrad] for rate rule [C_methyl;Cd_Cdrad]\n",
       "Multiplied by reaction path degeneracy 2\"\"\"), pairs=[(Species(index=2, label=\"[CH3]\", thermo=NASA(polynomials=[NASAPolynomial(coeffs=[3.91547,0.00184154,3.48744e-06,-3.3275e-09,8.49964e-13,16285.6,0.351739], Tmin=(100,'K'), Tmax=(1337.62,'K')), NASAPolynomial(coeffs=[3.54145,0.00476788,-1.82149e-06,3.28878e-10,-2.22547e-14,16224,1.6604], Tmin=(1337.62,'K'), Tmax=(5000,'K'))], Tmin=(100,'K'), Tmax=(5000,'K'), comment=\"\"\"Thermo library: primaryThermoLibrary + radical(CH3)\"\"\"), molecule=[Molecule(SMILES=\"[CH3]\")]), Species(index=6, label=\"C\", thermo=NASA(polynomials=[NASAPolynomial(coeffs=[4.20541,-0.00535556,2.51123e-05,-2.13762e-08,5.97522e-12,-10161.9,-0.921275], Tmin=(100,'K'), Tmax=(1084.12,'K')), NASAPolynomial(coeffs=[0.908272,0.0114541,-4.57173e-06,8.2919e-10,-5.66314e-14,-9719.98,13.9931], Tmin=(1084.12,'K'), Tmax=(5000,'K'))], Tmin=(100,'K'), Tmax=(5000,'K'), comment=\"\"\"Thermo library: primaryThermoLibrary\"\"\"), molecule=[Molecule(SMILES=\"C\")])), (Species(index=13, label=\"[CH]=C\", thermo=NASA(polynomials=[NASAPolynomial(coeffs=[3.90668,-0.00406204,3.86766e-05,-4.62957e-08,1.72892e-11,34797.2,6.098], Tmin=(100,'K'), Tmax=(931.97,'K')), NASAPolynomial(coeffs=[5.44806,0.0049834,-1.08811e-06,1.79815e-10,-1.45078e-14,33829.7,-4.87859], Tmin=(931.97,'K'), Tmax=(5000,'K'))], Tmin=(100,'K'), Tmax=(5000,'K'), comment=\"\"\"Thermo group additivity estimation: group(Cds-CdsHH) + gauche(CsOsCdSs) + other(R) + group(Cds-CdsHH) + gauche(CsOsCdSs) + other(R) + radical(Cds_P)\"\"\"), molecule=[Molecule(SMILES=\"[CH]=C\")]), Species(index=25, label=\"C#C\", thermo=NASA(polynomials=[NASAPolynomial(coeffs=[3.03575,0.00771231,2.53525e-06,-1.08138e-08,5.50779e-12,25852.6,4.54459], Tmin=(100,'K'), Tmax=(888.62,'K')), NASAPolynomial(coeffs=[5.76203,0.00237162,-1.496e-07,-2.19113e-11,2.21744e-15,25094.5,-9.82599], Tmin=(888.62,'K'), Tmax=(5000,'K'))], Tmin=(100,'K'), Tmax=(5000,'K'), comment=\"\"\"Thermo group additivity estimation: group(Ct-CtH) + other(R) + group(Ct-CtH) + other(R)\"\"\"), molecule=[Molecule(SMILES=\"C#C\")]))])"
      ]
     },
     "metadata": {},
     "output_type": "display_data"
    },
    {
     "name": "stdout",
     "output_type": "stream",
     "text": [
      "Forward rate coefficient at 1350 K: 2.46E+06\n",
      "Reverse rate coefficient at 1350 K: 1.96E-03\n",
      "\n",
      "\n",
      "\n",
      "\n",
      "Step2 \t\t\t\t Integrated Flux \t Rel. Flux (%)\n",
      "************************************************************************\n",
      "C2H3(13) --> C2H4(8) \t\t 5.869E-07 \t\t 11.58\n",
      "************************************************************************\n",
      "\n",
      "Example reaction: rxn#13\n",
      "\n",
      "[CH]=C(13) + [H](4) <=> C=C(8): integrated flux = -7.530E-09 \n"
     ]
    },
    {
     "data": {
      "image/png": "[encoded data removed]",
      "text/plain": [
       "Reaction(index=13, reactants=[Species(index=13, label=\"[CH]=C\", thermo=NASA(polynomials=[NASAPolynomial(coeffs=[3.90668,-0.00406204,3.86766e-05,-4.62957e-08,1.72892e-11,34797.2,6.098], Tmin=(100,'K'), Tmax=(931.97,'K')), NASAPolynomial(coeffs=[5.44806,0.0049834,-1.08811e-06,1.79815e-10,-1.45078e-14,33829.7,-4.87859], Tmin=(931.97,'K'), Tmax=(5000,'K'))], Tmin=(100,'K'), Tmax=(5000,'K'), comment=\"\"\"Thermo group additivity estimation: group(Cds-CdsHH) + gauche(CsOsCdSs) + other(R) + group(Cds-CdsHH) + gauche(CsOsCdSs) + other(R) + radical(Cds_P)\"\"\"), molecule=[Molecule(SMILES=\"[CH]=C\")]), Species(index=4, label=\"[H]\", thermo=NASA(polynomials=[NASAPolynomial(coeffs=[2.5,-1.91243e-12,2.45329e-15,-1.02377e-18,1.31369e-22,25474.2,-0.444973], Tmin=(100,'K'), Tmax=(4563.27,'K')), NASAPolynomial(coeffs=[2.50167,-1.43051e-06,4.6025e-10,-6.57826e-14,3.52412e-18,25472.7,-0.455578], Tmin=(4563.27,'K'), Tmax=(5000,'K'))], Tmin=(100,'K'), Tmax=(5000,'K'), comment=\"\"\"Thermo library: primaryThermoLibrary\"\"\"), molecule=[Molecule(SMILES=\"[H]\")])], products=[Species(index=8, label=\"C=C\", thermo=NASA(polynomials=[NASAPolynomial(coeffs=[3.97974,-0.00757559,5.52973e-05,-6.36221e-08,2.31767e-11,5077.46,4.04623], Tmin=(100,'K'), Tmax=(940.45,'K')), NASAPolynomial(coeffs=[5.203,0.00782442,-2.12683e-06,3.7969e-10,-2.9467e-14,3936.28,-6.62412], Tmin=(940.45,'K'), Tmax=(5000,'K'))], Tmin=(100,'K'), Tmax=(5000,'K'), comment=\"\"\"Thermo group additivity estimation: group(Cds-CdsHH) + gauche(CsOsCdSs) + other(R) + group(Cds-CdsHH) + gauche(CsOsCdSs) + other(R)\"\"\"), molecule=[Molecule(SMILES=\"C=C\")])], kinetics=Arrhenius(A=(1.21e+14,'cm^3/(mol*s)'), n=0, Ea=(0,'kcal/mol'), T0=(1,'K'), comment=\"\"\"Exact match found for rate rule [Cd_pri_rad;H_rad]\"\"\"), pairs=[(Species(index=13, label=\"[CH]=C\", thermo=NASA(polynomials=[NASAPolynomial(coeffs=[3.90668,-0.00406204,3.86766e-05,-4.62957e-08,1.72892e-11,34797.2,6.098], Tmin=(100,'K'), Tmax=(931.97,'K')), NASAPolynomial(coeffs=[5.44806,0.0049834,-1.08811e-06,1.79815e-10,-1.45078e-14,33829.7,-4.87859], Tmin=(931.97,'K'), Tmax=(5000,'K'))], Tmin=(100,'K'), Tmax=(5000,'K'), comment=\"\"\"Thermo group additivity estimation: group(Cds-CdsHH) + gauche(CsOsCdSs) + other(R) + group(Cds-CdsHH) + gauche(CsOsCdSs) + other(R) + radical(Cds_P)\"\"\"), molecule=[Molecule(SMILES=\"[CH]=C\")]), Species(index=8, label=\"C=C\", thermo=NASA(polynomials=[NASAPolynomial(coeffs=[3.97974,-0.00757559,5.52973e-05,-6.36221e-08,2.31767e-11,5077.46,4.04623], Tmin=(100,'K'), Tmax=(940.45,'K')), NASAPolynomial(coeffs=[5.203,0.00782442,-2.12683e-06,3.7969e-10,-2.9467e-14,3936.28,-6.62412], Tmin=(940.45,'K'), Tmax=(5000,'K'))], Tmin=(100,'K'), Tmax=(5000,'K'), comment=\"\"\"Thermo group additivity estimation: group(Cds-CdsHH) + gauche(CsOsCdSs) + other(R) + group(Cds-CdsHH) + gauche(CsOsCdSs) + other(R)\"\"\"), molecule=[Molecule(SMILES=\"C=C\")])), (Species(index=4, label=\"[H]\", thermo=NASA(polynomials=[NASAPolynomial(coeffs=[2.5,-1.91243e-12,2.45329e-15,-1.02377e-18,1.31369e-22,25474.2,-0.444973], Tmin=(100,'K'), Tmax=(4563.27,'K')), NASAPolynomial(coeffs=[2.50167,-1.43051e-06,4.6025e-10,-6.57826e-14,3.52412e-18,25472.7,-0.455578], Tmin=(4563.27,'K'), Tmax=(5000,'K'))], Tmin=(100,'K'), Tmax=(5000,'K'), comment=\"\"\"Thermo library: primaryThermoLibrary\"\"\"), molecule=[Molecule(SMILES=\"[H]\")]), Species(index=8, label=\"C=C\", thermo=NASA(polynomials=[NASAPolynomial(coeffs=[3.97974,-0.00757559,5.52973e-05,-6.36221e-08,2.31767e-11,5077.46,4.04623], Tmin=(100,'K'), Tmax=(940.45,'K')), NASAPolynomial(coeffs=[5.203,0.00782442,-2.12683e-06,3.7969e-10,-2.9467e-14,3936.28,-6.62412], Tmin=(940.45,'K'), Tmax=(5000,'K'))], Tmin=(100,'K'), Tmax=(5000,'K'), comment=\"\"\"Thermo group additivity estimation: group(Cds-CdsHH) + gauche(CsOsCdSs) + other(R) + group(Cds-CdsHH) + gauche(CsOsCdSs) + other(R)\"\"\"), molecule=[Molecule(SMILES=\"C=C\")]))])"
      ]
     },
     "metadata": {},
     "output_type": "display_data"
    },
    {
     "name": "stdout",
     "output_type": "stream",
     "text": [
      "Forward rate coefficient at 1350 K: 1.21E+08\n",
      "Reverse rate coefficient at 1350 K: 2.89E-02\n",
      "\n",
      "Example H_Abstraction: rxn#14(1/3 H_Abs)\n",
      "\n",
      "[CH]=C(13) + C(6) <=> C=C(8) + [CH3](2)\n"
     ]
    },
    {
     "data": {
      "image/png": "[encoded data removed]",
      "text/plain": [
       "Reaction(index=14, reactants=[Species(index=13, label=\"[CH]=C\", thermo=NASA(polynomials=[NASAPolynomial(coeffs=[3.90668,-0.00406204,3.86766e-05,-4.62957e-08,1.72892e-11,34797.2,6.098], Tmin=(100,'K'), Tmax=(931.97,'K')), NASAPolynomial(coeffs=[5.44806,0.0049834,-1.08811e-06,1.79815e-10,-1.45078e-14,33829.7,-4.87859], Tmin=(931.97,'K'), Tmax=(5000,'K'))], Tmin=(100,'K'), Tmax=(5000,'K'), comment=\"\"\"Thermo group additivity estimation: group(Cds-CdsHH) + gauche(CsOsCdSs) + other(R) + group(Cds-CdsHH) + gauche(CsOsCdSs) + other(R) + radical(Cds_P)\"\"\"), molecule=[Molecule(SMILES=\"[CH]=C\")]), Species(index=6, label=\"C\", thermo=NASA(polynomials=[NASAPolynomial(coeffs=[4.20541,-0.00535556,2.51123e-05,-2.13762e-08,5.97522e-12,-10161.9,-0.921275], Tmin=(100,'K'), Tmax=(1084.12,'K')), NASAPolynomial(coeffs=[0.908272,0.0114541,-4.57173e-06,8.2919e-10,-5.66314e-14,-9719.98,13.9931], Tmin=(1084.12,'K'), Tmax=(5000,'K'))], Tmin=(100,'K'), Tmax=(5000,'K'), comment=\"\"\"Thermo library: primaryThermoLibrary\"\"\"), molecule=[Molecule(SMILES=\"C\")])], products=[Species(index=8, label=\"C=C\", thermo=NASA(polynomials=[NASAPolynomial(coeffs=[3.97974,-0.00757559,5.52973e-05,-6.36221e-08,2.31767e-11,5077.46,4.04623], Tmin=(100,'K'), Tmax=(940.45,'K')), NASAPolynomial(coeffs=[5.203,0.00782442,-2.12683e-06,3.7969e-10,-2.9467e-14,3936.28,-6.62412], Tmin=(940.45,'K'), Tmax=(5000,'K'))], Tmin=(100,'K'), Tmax=(5000,'K'), comment=\"\"\"Thermo group additivity estimation: group(Cds-CdsHH) + gauche(CsOsCdSs) + other(R) + group(Cds-CdsHH) + gauche(CsOsCdSs) + other(R)\"\"\"), molecule=[Molecule(SMILES=\"C=C\")]), Species(index=2, label=\"[CH3]\", thermo=NASA(polynomials=[NASAPolynomial(coeffs=[3.91547,0.00184154,3.48744e-06,-3.3275e-09,8.49964e-13,16285.6,0.351739], Tmin=(100,'K'), Tmax=(1337.62,'K')), NASAPolynomial(coeffs=[3.54145,0.00476788,-1.82149e-06,3.28878e-10,-2.22547e-14,16224,1.6604], Tmin=(1337.62,'K'), Tmax=(5000,'K'))], Tmin=(100,'K'), Tmax=(5000,'K'), comment=\"\"\"Thermo library: primaryThermoLibrary + radical(CH3)\"\"\"), molecule=[Molecule(SMILES=\"[CH3]\")])], kinetics=Arrhenius(A=(0.05137,'cm^3/(mol*s)'), n=4.133, Ea=(3.682,'kcal/mol'), T0=(1,'K'), comment=\"\"\"Estimated using average of templates [Cs_H;Cd_Cd\\H2_pri_rad] + [C_methane;Cd_pri_rad] for rate rule [C_methane;Cd_Cd\\H2_pri_rad]\n",
       "Multiplied by reaction path degeneracy 4\"\"\"), pairs=[(Species(index=6, label=\"C\", thermo=NASA(polynomials=[NASAPolynomial(coeffs=[4.20541,-0.00535556,2.51123e-05,-2.13762e-08,5.97522e-12,-10161.9,-0.921275], Tmin=(100,'K'), Tmax=(1084.12,'K')), NASAPolynomial(coeffs=[0.908272,0.0114541,-4.57173e-06,8.2919e-10,-5.66314e-14,-9719.98,13.9931], Tmin=(1084.12,'K'), Tmax=(5000,'K'))], Tmin=(100,'K'), Tmax=(5000,'K'), comment=\"\"\"Thermo library: primaryThermoLibrary\"\"\"), molecule=[Molecule(SMILES=\"C\")]), Species(index=2, label=\"[CH3]\", thermo=NASA(polynomials=[NASAPolynomial(coeffs=[3.91547,0.00184154,3.48744e-06,-3.3275e-09,8.49964e-13,16285.6,0.351739], Tmin=(100,'K'), Tmax=(1337.62,'K')), NASAPolynomial(coeffs=[3.54145,0.00476788,-1.82149e-06,3.28878e-10,-2.22547e-14,16224,1.6604], Tmin=(1337.62,'K'), Tmax=(5000,'K'))], Tmin=(100,'K'), Tmax=(5000,'K'), comment=\"\"\"Thermo library: primaryThermoLibrary + radical(CH3)\"\"\"), molecule=[Molecule(SMILES=\"[CH3]\")])), (Species(index=13, label=\"[CH]=C\", thermo=NASA(polynomials=[NASAPolynomial(coeffs=[3.90668,-0.00406204,3.86766e-05,-4.62957e-08,1.72892e-11,34797.2,6.098], Tmin=(100,'K'), Tmax=(931.97,'K')), NASAPolynomial(coeffs=[5.44806,0.0049834,-1.08811e-06,1.79815e-10,-1.45078e-14,33829.7,-4.87859], Tmin=(931.97,'K'), Tmax=(5000,'K'))], Tmin=(100,'K'), Tmax=(5000,'K'), comment=\"\"\"Thermo group additivity estimation: group(Cds-CdsHH) + gauche(CsOsCdSs) + other(R) + group(Cds-CdsHH) + gauche(CsOsCdSs) + other(R) + radical(Cds_P)\"\"\"), molecule=[Molecule(SMILES=\"[CH]=C\")]), Species(index=8, label=\"C=C\", thermo=NASA(polynomials=[NASAPolynomial(coeffs=[3.97974,-0.00757559,5.52973e-05,-6.36221e-08,2.31767e-11,5077.46,4.04623], Tmin=(100,'K'), Tmax=(940.45,'K')), NASAPolynomial(coeffs=[5.203,0.00782442,-2.12683e-06,3.7969e-10,-2.9467e-14,3936.28,-6.62412], Tmin=(940.45,'K'), Tmax=(5000,'K'))], Tmin=(100,'K'), Tmax=(5000,'K'), comment=\"\"\"Thermo group additivity estimation: group(Cds-CdsHH) + gauche(CsOsCdSs) + other(R) + group(Cds-CdsHH) + gauche(CsOsCdSs) + other(R)\"\"\"), molecule=[Molecule(SMILES=\"C=C\")]))])"
      ]
     },
     "metadata": {},
     "output_type": "display_data"
    },
    {
     "name": "stdout",
     "output_type": "stream",
     "text": [
      "Forward rate coefficient at 1350 K: 1.13E+05\n",
      "Reverse rate coefficient at 1350 K: 2.47E+04\n",
      "\n",
      "\n",
      "Example Disproportionation: rxn#17(1/2 Disp)\n",
      "\n",
      "[CH]=C(13) + C[CH2](3) <=> C=C(8) + C=C(8)\n"
     ]
    },
    {
     "data": {
      "image/png": "[encoded data removed]",
      "text/plain": [
       "Reaction(index=17, reactants=[Species(index=13, label=\"[CH]=C\", thermo=NASA(polynomials=[NASAPolynomial(coeffs=[3.90668,-0.00406204,3.86766e-05,-4.62957e-08,1.72892e-11,34797.2,6.098], Tmin=(100,'K'), Tmax=(931.97,'K')), NASAPolynomial(coeffs=[5.44806,0.0049834,-1.08811e-06,1.79815e-10,-1.45078e-14,33829.7,-4.87859], Tmin=(931.97,'K'), Tmax=(5000,'K'))], Tmin=(100,'K'), Tmax=(5000,'K'), comment=\"\"\"Thermo group additivity estimation: group(Cds-CdsHH) + gauche(CsOsCdSs) + other(R) + group(Cds-CdsHH) + gauche(CsOsCdSs) + other(R) + radical(Cds_P)\"\"\"), molecule=[Molecule(SMILES=\"[CH]=C\")]), Species(index=3, label=\"C[CH2]\", thermo=NASA(polynomials=[NASAPolynomial(coeffs=[3.8219,-0.00343436,5.09286e-05,-6.20252e-08,2.37092e-11,13066,7.61622], Tmin=(100,'K'), Tmax=(900.3,'K')), NASAPolynomial(coeffs=[5.15605,0.00943151,-1.81963e-06,2.21236e-10,-1.43515e-14,12064.1,-2.9101], Tmin=(900.3,'K'), Tmax=(5000,'K'))], Tmin=(100,'K'), Tmax=(5000,'K'), comment=\"\"\"Thermo group additivity estimation: group(Cs-CsHHH) + gauche(Cs(CsRRR)) + other(R) + group(Cs-CsHHH) + gauche(Cs(CsRRR)) + other(R) + radical(CCJ)\"\"\"), molecule=[Molecule(SMILES=\"C[CH2]\")])], products=[Species(index=8, label=\"C=C\", thermo=NASA(polynomials=[NASAPolynomial(coeffs=[3.97974,-0.00757559,5.52973e-05,-6.36221e-08,2.31767e-11,5077.46,4.04623], Tmin=(100,'K'), Tmax=(940.45,'K')), NASAPolynomial(coeffs=[5.203,0.00782442,-2.12683e-06,3.7969e-10,-2.9467e-14,3936.28,-6.62412], Tmin=(940.45,'K'), Tmax=(5000,'K'))], Tmin=(100,'K'), Tmax=(5000,'K'), comment=\"\"\"Thermo group additivity estimation: group(Cds-CdsHH) + gauche(CsOsCdSs) + other(R) + group(Cds-CdsHH) + gauche(CsOsCdSs) + other(R)\"\"\"), molecule=[Molecule(SMILES=\"C=C\")]), Species(index=8, label=\"C=C\", thermo=NASA(polynomials=[NASAPolynomial(coeffs=[3.97974,-0.00757559,5.52973e-05,-6.36221e-08,2.31767e-11,5077.46,4.04623], Tmin=(100,'K'), Tmax=(940.45,'K')), NASAPolynomial(coeffs=[5.203,0.00782442,-2.12683e-06,3.7969e-10,-2.9467e-14,3936.28,-6.62412], Tmin=(940.45,'K'), Tmax=(5000,'K'))], Tmin=(100,'K'), Tmax=(5000,'K'), comment=\"\"\"Thermo group additivity estimation: group(Cds-CdsHH) + gauche(CsOsCdSs) + other(R) + group(Cds-CdsHH) + gauche(CsOsCdSs) + other(R)\"\"\"), molecule=[Molecule(SMILES=\"C=C\")])], kinetics=Arrhenius(A=(4.56e+14,'cm^3/(mol*s)'), n=-0.7, Ea=(0,'kcal/mol'), T0=(1,'K'), comment=\"\"\"Exact match found for rate rule [Cd_pri_rad;Cmethyl_Csrad]\n",
       "Multiplied by reaction path degeneracy 3\"\"\"), pairs=[(Species(index=13, label=\"[CH]=C\", thermo=NASA(polynomials=[NASAPolynomial(coeffs=[3.90668,-0.00406204,3.86766e-05,-4.62957e-08,1.72892e-11,34797.2,6.098], Tmin=(100,'K'), Tmax=(931.97,'K')), NASAPolynomial(coeffs=[5.44806,0.0049834,-1.08811e-06,1.79815e-10,-1.45078e-14,33829.7,-4.87859], Tmin=(931.97,'K'), Tmax=(5000,'K'))], Tmin=(100,'K'), Tmax=(5000,'K'), comment=\"\"\"Thermo group additivity estimation: group(Cds-CdsHH) + gauche(CsOsCdSs) + other(R) + group(Cds-CdsHH) + gauche(CsOsCdSs) + other(R) + radical(Cds_P)\"\"\"), molecule=[Molecule(SMILES=\"[CH]=C\")]), Species(index=8, label=\"C=C\", thermo=NASA(polynomials=[NASAPolynomial(coeffs=[3.97974,-0.00757559,5.52973e-05,-6.36221e-08,2.31767e-11,5077.46,4.04623], Tmin=(100,'K'), Tmax=(940.45,'K')), NASAPolynomial(coeffs=[5.203,0.00782442,-2.12683e-06,3.7969e-10,-2.9467e-14,3936.28,-6.62412], Tmin=(940.45,'K'), Tmax=(5000,'K'))], Tmin=(100,'K'), Tmax=(5000,'K'), comment=\"\"\"Thermo group additivity estimation: group(Cds-CdsHH) + gauche(CsOsCdSs) + other(R) + group(Cds-CdsHH) + gauche(CsOsCdSs) + other(R)\"\"\"), molecule=[Molecule(SMILES=\"C=C\")])), (Species(index=3, label=\"C[CH2]\", thermo=NASA(polynomials=[NASAPolynomial(coeffs=[3.8219,-0.00343436,5.09286e-05,-6.20252e-08,2.37092e-11,13066,7.61622], Tmin=(100,'K'), Tmax=(900.3,'K')), NASAPolynomial(coeffs=[5.15605,0.00943151,-1.81963e-06,2.21236e-10,-1.43515e-14,12064.1,-2.9101], Tmin=(900.3,'K'), Tmax=(5000,'K'))], Tmin=(100,'K'), Tmax=(5000,'K'), comment=\"\"\"Thermo group additivity estimation: group(Cs-CsHHH) + gauche(Cs(CsRRR)) + other(R) + group(Cs-CsHHH) + gauche(Cs(CsRRR)) + other(R) + radical(CCJ)\"\"\"), molecule=[Molecule(SMILES=\"C[CH2]\")]), Species(index=8, label=\"C=C\", thermo=NASA(polynomials=[NASAPolynomial(coeffs=[3.97974,-0.00757559,5.52973e-05,-6.36221e-08,2.31767e-11,5077.46,4.04623], Tmin=(100,'K'), Tmax=(940.45,'K')), NASAPolynomial(coeffs=[5.203,0.00782442,-2.12683e-06,3.7969e-10,-2.9467e-14,3936.28,-6.62412], Tmin=(940.45,'K'), Tmax=(5000,'K'))], Tmin=(100,'K'), Tmax=(5000,'K'), comment=\"\"\"Thermo group additivity estimation: group(Cds-CdsHH) + gauche(CsOsCdSs) + other(R) + group(Cds-CdsHH) + gauche(CsOsCdSs) + other(R)\"\"\"), molecule=[Molecule(SMILES=\"C=C\")]))])"
      ]
     },
     "metadata": {},
     "output_type": "display_data"
    },
    {
     "name": "stdout",
     "output_type": "stream",
     "text": [
      "Forward rate coefficient at 1350 K: 2.94E+06\n",
      "Reverse rate coefficient at 1350 K: 8.50E-04\n",
      "\n"
     ]
    }
   ],
   "source": [
    "current_node = target\n",
    "print ''\n",
    "print '\\t Pathway Report '\n",
    "print '======================================'\n",
    "print 'The pathway you are intested in has {0} steps.'.format(depth)\n",
    "print ''\n",
    "print \"total product flux for {0} is {1:.3E}.\".format(target, spc_total_rop_dict[target][1][timepoint_index])\n",
    "for step in range(depth):\n",
    "    print \"\\n\"\n",
    "    prev_nodes = []\n",
    "    for node1 in G:\n",
    "        if current_node in G[node1]:\n",
    "            prev_nodes.append(node1)\n",
    "    prevNode_flux_list = [(prev_node, G[prev_node][current_node]['total_flux']) for prev_node in prev_nodes]\n",
    "    sorted_prevNode_flux_list = sorted(prevNode_flux_list, key=lambda tup: -tup[1])\n",
    "    \n",
    "    # choose the top one as next node\n",
    "    tup = sorted_prevNode_flux_list[path_top_list[step]]\n",
    "    prev_node = tup[0]\n",
    "    step_flux = tup[1]\n",
    "    \n",
    "    \n",
    "    \n",
    "    print \"\"\n",
    "    if showIntegratedFlux:\n",
    "        print \"Step{0} \\t\\t\\t\\t Integrated Flux \\t Rel. Flux (%)\".format(step+1)\n",
    "        print '************************************************************************'\n",
    "        print \"{0} --> {1} \\t\\t {2:.3E} \\t\\t {3:.2f}\".\\\n",
    "        format(current_node, next_node, step_flux, step_flux/total_reactant_consumption*100)\n",
    "        print '************************************************************************'\n",
    "    else:\n",
    "        print \"Step{0} \\t\\t\\t\\t Flux\".format(step+1)\n",
    "        print '******************************************'\n",
    "        print \"{0} --> {1} \\t\\t {2:.3E}\".\\\n",
    "        format(current_node, next_node, step_flux)\n",
    "        print '******************************************'\n",
    "    \n",
    "    step_pair = (prev_node, current_node)\n",
    "    if step_pair not in graph_edges_dict_simple:\n",
    "        step_pair = (current_node, prev_node)\n",
    "    \n",
    "    h_abs_rxns = []\n",
    "    disp_rxns = []\n",
    "    Pdep_rxns = []\n",
    "    for rxn in graph_edges_dict_simple[step_pair]:\n",
    "        if isinstance(rxn, PDepReaction):\n",
    "            Pdep_rxns.append(rxn)\n",
    "        elif rxn.family == \"H_Abstraction\":\n",
    "            h_abs_rxns.append(rxn)\n",
    "        elif rxn.family == \"Disproportionation\":\n",
    "            disp_rxns.append(rxn)\n",
    "        else:\n",
    "            print ''\n",
    "            print \"Example reaction: rxn#{0}\".format(rxn.index)\n",
    "            print ''\n",
    "            if showIntegratedFlux:\n",
    "            #integrate the flux using a trapezoidal rule\n",
    "                integrated_flux = 0\n",
    "                for timepoint in range(timepoint_index-1):\n",
    "                    integrated_flux += 0.5 * (graph_edges_dict_simple[step_pair][rxn][timepoint+1] \n",
    "                                              + graph_edges_dict_simple[step_pair][rxn][timepoint]) \\\n",
    "                    * (firstColDict['Time_(sec)'][timepoint+1] - firstColDict['Time_(sec)'][timepoint])\n",
    "                print \"{0}: integrated flux = {1:.3E} \".format(str(rxn), integrated_flux)\n",
    "            else:\n",
    "                print \"{0}: flux = {1:.3E} \".format(str(rxn), graph_edges_dict_simple[step_pair][rxn][timepoint_index])\n",
    "            display(rxn)\n",
    "            print 'Forward rate coefficient at {0} K: {1:.2E}'.format(T, rxn.getRateCoefficient(T))\n",
    "            reverseRate = rxn.generateReverseRateCoefficient()\n",
    "            print 'Reverse rate coefficient at {0} K: {1:.2E}'.format(T, reverseRate.getRateCoefficient(T))\n",
    "            \n",
    "    if len(h_abs_rxns) > 0:\n",
    "        print ''\n",
    "        print \"Example H_Abstraction: rxn#{0}(1/{1} H_Abs)\".format(h_abs_rxns[0].index, len(h_abs_rxns))\n",
    "        print ''\n",
    "        print str(h_abs_rxns[0])\n",
    "        display(h_abs_rxns[0])\n",
    "        print 'Forward rate coefficient at {0} K: {1:.2E}'.format(T, h_abs_rxns[0].getRateCoefficient(T))\n",
    "        reverseRate = h_abs_rxns[0].generateReverseRateCoefficient()\n",
    "        print 'Reverse rate coefficient at {0} K: {1:.2E}'.format(T, reverseRate.getRateCoefficient(T))\n",
    "        print ''\n",
    "    if len(disp_rxns) > 0: \n",
    "        print ''\n",
    "        print \"Example Disproportionation: rxn#{0}(1/{1} Disp)\".format(disp_rxns[0].index, len(disp_rxns))\n",
    "        print ''\n",
    "        print str(disp_rxns[0])\n",
    "        display(disp_rxns[0])\n",
    "        print 'Forward rate coefficient at {0} K: {1:.2E}'.format(T, disp_rxns[0].getRateCoefficient(T))\n",
    "        reverseRate = disp_rxns[0].generateReverseRateCoefficient()\n",
    "        print 'Reverse rate coefficient at {0} K: {1:.2E}'.format(T, reverseRate.getRateCoefficient(T))\n",
    "        print ''\n",
    "    if len(Pdep_rxns) > 0: \n",
    "        print ''\n",
    "        print \"Example Pressure-dependent Rxn: rxn#{0} (1/{1} Pdep_rxns): \".format(Pdep_rxns[0].index, len(Pdep_rxns)) \n",
    "        print ''\n",
    "        print str(Pdep_rxns[0])\n",
    "        display(Pdep_rxns[0])\n",
    "        print 'Forward rate coefficient at {0} K and {1} Pa: {2:.2E}'.format(T, P, Pdep_rxns[0].getRateCoefficient(T, P))\n",
    "        reverseRate = Pdep_rxns[0].generateReverseRateCoefficient()\n",
    "        print 'Reverse rate coefficient at {0} K and {1} Pa: {2:.2E}'.format(T, P, reverseRate.getRateCoefficient(T, P))\n",
    "        print ''\n",
    "    \n",
    "    current_node = prev_node"
   ]
  },
  {
   "cell_type": "markdown",
   "metadata": {},
   "source": [
    "### More detail for the H_Abstration and Disproportionation in last step of the pathway"
   ]
  },
  {
   "cell_type": "code",
   "execution_count": 55,
   "metadata": {
    "collapsed": false
   },
   "outputs": [
    {
     "name": "stdout",
     "output_type": "stream",
     "text": [
      "\n",
      "The step you see currently is between the two species ('C2H3(13)', 'C2H4(8)')\n",
      "\n",
      "Positive flux in below means positive production of 1st node of the pair.\n",
      "\n",
      "This step have 5 H_Abstration and Disproportionation in total.\n",
      "\n",
      "TO avoid too much printout, the reactions shown below have fluxes above 1e-09.\n",
      "\n",
      "**********************************************************************************\n",
      "rxn#14: [CH]=C(13) + C(6) <=> C=C(8) + [CH3](2): integrated flux = 1.459E-07 \n"
     ]
    },
    {
     "data": {
      "image/png": "[encoded data removed]",
      "text/plain": [
       "Reaction(index=14, reactants=[Species(index=13, label=\"[CH]=C\", thermo=NASA(polynomials=[NASAPolynomial(coeffs=[3.90668,-0.00406204,3.86766e-05,-4.62957e-08,1.72892e-11,34797.2,6.098], Tmin=(100,'K'), Tmax=(931.97,'K')), NASAPolynomial(coeffs=[5.44806,0.0049834,-1.08811e-06,1.79815e-10,-1.45078e-14,33829.7,-4.87859], Tmin=(931.97,'K'), Tmax=(5000,'K'))], Tmin=(100,'K'), Tmax=(5000,'K'), comment=\"\"\"Thermo group additivity estimation: group(Cds-CdsHH) + gauche(CsOsCdSs) + other(R) + group(Cds-CdsHH) + gauche(CsOsCdSs) + other(R) + radical(Cds_P)\"\"\"), molecule=[Molecule(SMILES=\"[CH]=C\")]), Species(index=6, label=\"C\", thermo=NASA(polynomials=[NASAPolynomial(coeffs=[4.20541,-0.00535556,2.51123e-05,-2.13762e-08,5.97522e-12,-10161.9,-0.921275], Tmin=(100,'K'), Tmax=(1084.12,'K')), NASAPolynomial(coeffs=[0.908272,0.0114541,-4.57173e-06,8.2919e-10,-5.66314e-14,-9719.98,13.9931], Tmin=(1084.12,'K'), Tmax=(5000,'K'))], Tmin=(100,'K'), Tmax=(5000,'K'), comment=\"\"\"Thermo library: primaryThermoLibrary\"\"\"), molecule=[Molecule(SMILES=\"C\")])], products=[Species(index=8, label=\"C=C\", thermo=NASA(polynomials=[NASAPolynomial(coeffs=[3.97974,-0.00757559,5.52973e-05,-6.36221e-08,2.31767e-11,5077.46,4.04623], Tmin=(100,'K'), Tmax=(940.45,'K')), NASAPolynomial(coeffs=[5.203,0.00782442,-2.12683e-06,3.7969e-10,-2.9467e-14,3936.28,-6.62412], Tmin=(940.45,'K'), Tmax=(5000,'K'))], Tmin=(100,'K'), Tmax=(5000,'K'), comment=\"\"\"Thermo group additivity estimation: group(Cds-CdsHH) + gauche(CsOsCdSs) + other(R) + group(Cds-CdsHH) + gauche(CsOsCdSs) + other(R)\"\"\"), molecule=[Molecule(SMILES=\"C=C\")]), Species(index=2, label=\"[CH3]\", thermo=NASA(polynomials=[NASAPolynomial(coeffs=[3.91547,0.00184154,3.48744e-06,-3.3275e-09,8.49964e-13,16285.6,0.351739], Tmin=(100,'K'), Tmax=(1337.62,'K')), NASAPolynomial(coeffs=[3.54145,0.00476788,-1.82149e-06,3.28878e-10,-2.22547e-14,16224,1.6604], Tmin=(1337.62,'K'), Tmax=(5000,'K'))], Tmin=(100,'K'), Tmax=(5000,'K'), comment=\"\"\"Thermo library: primaryThermoLibrary + radical(CH3)\"\"\"), molecule=[Molecule(SMILES=\"[CH3]\")])], kinetics=Arrhenius(A=(0.05137,'cm^3/(mol*s)'), n=4.133, Ea=(3.682,'kcal/mol'), T0=(1,'K'), comment=\"\"\"Estimated using average of templates [Cs_H;Cd_Cd\\H2_pri_rad] + [C_methane;Cd_pri_rad] for rate rule [C_methane;Cd_Cd\\H2_pri_rad]\n",
       "Multiplied by reaction path degeneracy 4\"\"\"), pairs=[(Species(index=6, label=\"C\", thermo=NASA(polynomials=[NASAPolynomial(coeffs=[4.20541,-0.00535556,2.51123e-05,-2.13762e-08,5.97522e-12,-10161.9,-0.921275], Tmin=(100,'K'), Tmax=(1084.12,'K')), NASAPolynomial(coeffs=[0.908272,0.0114541,-4.57173e-06,8.2919e-10,-5.66314e-14,-9719.98,13.9931], Tmin=(1084.12,'K'), Tmax=(5000,'K'))], Tmin=(100,'K'), Tmax=(5000,'K'), comment=\"\"\"Thermo library: primaryThermoLibrary\"\"\"), molecule=[Molecule(SMILES=\"C\")]), Species(index=2, label=\"[CH3]\", thermo=NASA(polynomials=[NASAPolynomial(coeffs=[3.91547,0.00184154,3.48744e-06,-3.3275e-09,8.49964e-13,16285.6,0.351739], Tmin=(100,'K'), Tmax=(1337.62,'K')), NASAPolynomial(coeffs=[3.54145,0.00476788,-1.82149e-06,3.28878e-10,-2.22547e-14,16224,1.6604], Tmin=(1337.62,'K'), Tmax=(5000,'K'))], Tmin=(100,'K'), Tmax=(5000,'K'), comment=\"\"\"Thermo library: primaryThermoLibrary + radical(CH3)\"\"\"), molecule=[Molecule(SMILES=\"[CH3]\")])), (Species(index=13, label=\"[CH]=C\", thermo=NASA(polynomials=[NASAPolynomial(coeffs=[3.90668,-0.00406204,3.86766e-05,-4.62957e-08,1.72892e-11,34797.2,6.098], Tmin=(100,'K'), Tmax=(931.97,'K')), NASAPolynomial(coeffs=[5.44806,0.0049834,-1.08811e-06,1.79815e-10,-1.45078e-14,33829.7,-4.87859], Tmin=(931.97,'K'), Tmax=(5000,'K'))], Tmin=(100,'K'), Tmax=(5000,'K'), comment=\"\"\"Thermo group additivity estimation: group(Cds-CdsHH) + gauche(CsOsCdSs) + other(R) + group(Cds-CdsHH) + gauche(CsOsCdSs) + other(R) + radical(Cds_P)\"\"\"), molecule=[Molecule(SMILES=\"[CH]=C\")]), Species(index=8, label=\"C=C\", thermo=NASA(polynomials=[NASAPolynomial(coeffs=[3.97974,-0.00757559,5.52973e-05,-6.36221e-08,2.31767e-11,5077.46,4.04623], Tmin=(100,'K'), Tmax=(940.45,'K')), NASAPolynomial(coeffs=[5.203,0.00782442,-2.12683e-06,3.7969e-10,-2.9467e-14,3936.28,-6.62412], Tmin=(940.45,'K'), Tmax=(5000,'K'))], Tmin=(100,'K'), Tmax=(5000,'K'), comment=\"\"\"Thermo group additivity estimation: group(Cds-CdsHH) + gauche(CsOsCdSs) + other(R) + group(Cds-CdsHH) + gauche(CsOsCdSs) + other(R)\"\"\"), molecule=[Molecule(SMILES=\"C=C\")]))])"
      ]
     },
     "metadata": {},
     "output_type": "display_data"
    },
    {
     "name": "stdout",
     "output_type": "stream",
     "text": [
      "\n",
      "**********************************************************************************\n",
      "rxn#16: [CH]=C(13) + [H][H](12) <=> C=C(8) + [H](4): integrated flux = 5.001E-07 \n"
     ]
    },
    {
     "data": {
      "image/png": "[encoded data removed]",
      "text/plain": [
       "Reaction(index=16, reactants=[Species(index=13, label=\"[CH]=C\", thermo=NASA(polynomials=[NASAPolynomial(coeffs=[3.90668,-0.00406204,3.86766e-05,-4.62957e-08,1.72892e-11,34797.2,6.098], Tmin=(100,'K'), Tmax=(931.97,'K')), NASAPolynomial(coeffs=[5.44806,0.0049834,-1.08811e-06,1.79815e-10,-1.45078e-14,33829.7,-4.87859], Tmin=(931.97,'K'), Tmax=(5000,'K'))], Tmin=(100,'K'), Tmax=(5000,'K'), comment=\"\"\"Thermo group additivity estimation: group(Cds-CdsHH) + gauche(CsOsCdSs) + other(R) + group(Cds-CdsHH) + gauche(CsOsCdSs) + other(R) + radical(Cds_P)\"\"\"), molecule=[Molecule(SMILES=\"[CH]=C\")]), Species(index=12, label=\"[H][H]\", thermo=NASA(polynomials=[NASAPolynomial(coeffs=[3.43536,0.00021271,-2.78625e-07,3.40267e-10,-7.76031e-14,-1031.36,-3.90842], Tmin=(100,'K'), Tmax=(1959.08,'K')), NASAPolynomial(coeffs=[2.78816,0.000587644,1.59009e-07,-5.52736e-11,4.34309e-15,-596.143,0.112747], Tmin=(1959.08,'K'), Tmax=(5000,'K'))], Tmin=(100,'K'), Tmax=(5000,'K'), comment=\"\"\"Thermo library: primaryThermoLibrary\"\"\"), molecule=[Molecule(SMILES=\"[H][H]\")])], products=[Species(index=8, label=\"C=C\", thermo=NASA(polynomials=[NASAPolynomial(coeffs=[3.97974,-0.00757559,5.52973e-05,-6.36221e-08,2.31767e-11,5077.46,4.04623], Tmin=(100,'K'), Tmax=(940.45,'K')), NASAPolynomial(coeffs=[5.203,0.00782442,-2.12683e-06,3.7969e-10,-2.9467e-14,3936.28,-6.62412], Tmin=(940.45,'K'), Tmax=(5000,'K'))], Tmin=(100,'K'), Tmax=(5000,'K'), comment=\"\"\"Thermo group additivity estimation: group(Cds-CdsHH) + gauche(CsOsCdSs) + other(R) + group(Cds-CdsHH) + gauche(CsOsCdSs) + other(R)\"\"\"), molecule=[Molecule(SMILES=\"C=C\")]), Species(index=4, label=\"[H]\", thermo=NASA(polynomials=[NASAPolynomial(coeffs=[2.5,-1.91243e-12,2.45329e-15,-1.02377e-18,1.31369e-22,25474.2,-0.444973], Tmin=(100,'K'), Tmax=(4563.27,'K')), NASAPolynomial(coeffs=[2.50167,-1.43051e-06,4.6025e-10,-6.57826e-14,3.52412e-18,25472.7,-0.455578], Tmin=(4563.27,'K'), Tmax=(5000,'K'))], Tmin=(100,'K'), Tmax=(5000,'K'), comment=\"\"\"Thermo library: primaryThermoLibrary\"\"\"), molecule=[Molecule(SMILES=\"[H]\")])], kinetics=Arrhenius(A=(23.63,'cm^3/(mol*s)'), n=3.243, Ea=(3.347,'kcal/mol'), T0=(1,'K'), comment=\"\"\"Estimated using average of templates [X_H;Cd_Cd\\H2_pri_rad] + [H2;Cd_pri_rad] for rate rule [H2;Cd_Cd\\H2_pri_rad]\n",
       "Multiplied by reaction path degeneracy 2\"\"\"), pairs=[(Species(index=12, label=\"[H][H]\", thermo=NASA(polynomials=[NASAPolynomial(coeffs=[3.43536,0.00021271,-2.78625e-07,3.40267e-10,-7.76031e-14,-1031.36,-3.90842], Tmin=(100,'K'), Tmax=(1959.08,'K')), NASAPolynomial(coeffs=[2.78816,0.000587644,1.59009e-07,-5.52736e-11,4.34309e-15,-596.143,0.112747], Tmin=(1959.08,'K'), Tmax=(5000,'K'))], Tmin=(100,'K'), Tmax=(5000,'K'), comment=\"\"\"Thermo library: primaryThermoLibrary\"\"\"), molecule=[Molecule(SMILES=\"[H][H]\")]), Species(index=4, label=\"[H]\", thermo=NASA(polynomials=[NASAPolynomial(coeffs=[2.5,-1.91243e-12,2.45329e-15,-1.02377e-18,1.31369e-22,25474.2,-0.444973], Tmin=(100,'K'), Tmax=(4563.27,'K')), NASAPolynomial(coeffs=[2.50167,-1.43051e-06,4.6025e-10,-6.57826e-14,3.52412e-18,25472.7,-0.455578], Tmin=(4563.27,'K'), Tmax=(5000,'K'))], Tmin=(100,'K'), Tmax=(5000,'K'), comment=\"\"\"Thermo library: primaryThermoLibrary\"\"\"), molecule=[Molecule(SMILES=\"[H]\")])), (Species(index=13, label=\"[CH]=C\", thermo=NASA(polynomials=[NASAPolynomial(coeffs=[3.90668,-0.00406204,3.86766e-05,-4.62957e-08,1.72892e-11,34797.2,6.098], Tmin=(100,'K'), Tmax=(931.97,'K')), NASAPolynomial(coeffs=[5.44806,0.0049834,-1.08811e-06,1.79815e-10,-1.45078e-14,33829.7,-4.87859], Tmin=(931.97,'K'), Tmax=(5000,'K'))], Tmin=(100,'K'), Tmax=(5000,'K'), comment=\"\"\"Thermo group additivity estimation: group(Cds-CdsHH) + gauche(CsOsCdSs) + other(R) + group(Cds-CdsHH) + gauche(CsOsCdSs) + other(R) + radical(Cds_P)\"\"\"), molecule=[Molecule(SMILES=\"[CH]=C\")]), Species(index=8, label=\"C=C\", thermo=NASA(polynomials=[NASAPolynomial(coeffs=[3.97974,-0.00757559,5.52973e-05,-6.36221e-08,2.31767e-11,5077.46,4.04623], Tmin=(100,'K'), Tmax=(940.45,'K')), NASAPolynomial(coeffs=[5.203,0.00782442,-2.12683e-06,3.7969e-10,-2.9467e-14,3936.28,-6.62412], Tmin=(940.45,'K'), Tmax=(5000,'K'))], Tmin=(100,'K'), Tmax=(5000,'K'), comment=\"\"\"Thermo group additivity estimation: group(Cds-CdsHH) + gauche(CsOsCdSs) + other(R) + group(Cds-CdsHH) + gauche(CsOsCdSs) + other(R)\"\"\"), molecule=[Molecule(SMILES=\"C=C\")]))])"
      ]
     },
     "metadata": {},
     "output_type": "display_data"
    },
    {
     "name": "stdout",
     "output_type": "stream",
     "text": [
      "***************************************\n",
      "\n",
      "TOTAL integrated flux from h_abs and disp is 6.461E-07.\n"
     ]
    }
   ],
   "source": [
    "print ''\n",
    "print 'The step you see currently is between the two species {0}'.format(step_pair)\n",
    "print ''\n",
    "print 'Positive flux in below means positive production of 1st node of the pair.'\n",
    "print ''\n",
    "print 'This step have {0} H_Abstration and Disproportionation in total.'.format(len(h_abs_rxns + disp_rxns))\n",
    "\n",
    "flux_threshold = 1e-9\n",
    "\n",
    "print ''\n",
    "print 'TO avoid too much printout, the reactions shown below have fluxes above {0}.'.format(flux_threshold)\n",
    "\n",
    "total_flux = 0\n",
    "rxn_flux_tups = []\n",
    "for rxn in h_abs_rxns + disp_rxns:\n",
    "    if showIntegratedFlux:\n",
    "    #integrate the flux using a trapezoidal rule\n",
    "        integrated_flux = 0\n",
    "        for timepoint in range(timepoint_index-1):\n",
    "                integrated_flux += 0.5 * (graph_edges_dict_simple[step_pair][rxn][timepoint+1] \\\n",
    "                    + graph_edges_dict_simple[step_pair][rxn][timepoint]) \\\n",
    "                    * (firstColDict['Time_(sec)'][timepoint+1] - firstColDict['Time_(sec)'][timepoint])\n",
    "        rxn_flux_tups.append((rxn, integrated_flux))\n",
    "    else:\n",
    "        flux = graph_edges_dict_simple[step_pair][rxn][timepoint_index]\n",
    "        rxn_flux_tups.append((rxn, flux))\n",
    "\n",
    "rxn_flux_tups = sorted(rxn_flux_tups, key=lambda tup: tup[1], reverse=False)\n",
    "for tup in rxn_flux_tups:\n",
    "    rxn = tup[0]\n",
    "    flux = tup[1]\n",
    "    if flux > flux_threshold:\n",
    "        total_flux += flux\n",
    "        print ''\n",
    "        print \"**********************************************************************************\"\n",
    "        if showIntegratedFlux:\n",
    "            print \"rxn#{0}: {1}: integrated flux = {2:.3E} \".format(rxn.index, str(rxn), flux) \n",
    "        else:\n",
    "            print \"rxn#{0}: {1}: flux = {2:.3E} \".format(rxn.index, str(rxn), flux)\n",
    "        display(rxn) \n",
    "print \"***************************************\"\n",
    "print ''\n",
    "if showIntegratedFlux:\n",
    "    print \"TOTAL integrated flux from h_abs and disp is {0:.3E}.\".format(total_flux)\n",
    "else:\n",
    "    print \"TOTAL flux from h_abs and disp is {0:.3E}.\".format(total_flux)"
   ]
  },
  {
   "cell_type": "code",
   "execution_count": null,
   "metadata": {
    "collapsed": false
   },
   "outputs": [],
   "source": []
  },
  {
   "cell_type": "code",
   "execution_count": null,
   "metadata": {
    "collapsed": true
   },
   "outputs": [],
   "source": []
  },
  {
   "cell_type": "code",
   "execution_count": null,
   "metadata": {
    "collapsed": true
   },
   "outputs": [],
   "source": []
  },
  {
   "cell_type": "code",
   "execution_count": null,
   "metadata": {
    "collapsed": true
   },
   "outputs": [],
   "source": []
  }
 ],
 "metadata": {
  "kernelspec": {
   "display_name": "Python 2",
   "language": "python",
   "name": "python2"
  },
  "language_info": {
   "codemirror_mode": {
    "name": "ipython",
    "version": 2
   },
   "file_extension": ".py",
   "mimetype": "text/x-python",
   "name": "python",
   "nbconvert_exporter": "python",
   "pygments_lexer": "ipython2",
   "version": "2.7.12"
  }
 },
 "nbformat": 4,
 "nbformat_minor": 0
}
